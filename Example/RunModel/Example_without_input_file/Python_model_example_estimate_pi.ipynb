{
 "cells": [
  {
   "cell_type": "markdown",
   "metadata": {},
   "source": [
    "## Description"
   ]
  },
  {
   "cell_type": "markdown",
   "metadata": {},
   "source": [
    "This example file propagates uncertainty through a model, using UQpy's RunModel module."
   ]
  },
  {
   "cell_type": "markdown",
   "metadata": {},
   "source": [
    "## Required files"
   ]
  },
  {
   "cell_type": "markdown",
   "metadata": {},
   "source": [
    "To run this example, the following files must be present in the same directory as this Jupyter script:\n",
    "\n",
    "1) python_model_function.py     \n",
    "2) python_model.py"
   ]
  },
  {
   "cell_type": "code",
   "execution_count": null,
   "metadata": {},
   "outputs": [],
   "source": [
    "from UQpy.SampleMethods import STS\n",
    "from UQpy.RunModel import RunModel"
   ]
  },
  {
   "cell_type": "markdown",
   "metadata": {},
   "source": [
    "## Sample generation"
   ]
  },
  {
   "cell_type": "code",
   "execution_count": null,
   "metadata": {},
   "outputs": [],
   "source": [
    "# Inputs to STS\n",
    "sts_criterion = \"centered\"  # Samples are the center of the strata\n",
    "# sts_criterion = \"random\"  # Samples are randomly drawn from within the strata\n",
    "dist_name = \"Uniform\"  # Strata are uniformly distributed (i.e., of equal size) in a dimension. Can differ between\n",
    "# dimensions\n",
    "\n",
    "# These inputs are used to define range of the variables in the two directions\n",
    "vmin1 = 0\n",
    "vmax1 = 1\n",
    "vmin2 = 0\n",
    "vmax2 = 1\n",
    "\n",
    "# Define the number of strata\n",
    "ns1 = 200\n",
    "ns2 = 200\n",
    "\n",
    "# Used to build inputs to STS\n",
    "dist_params = [[vmin1, vmax1], [vmin2, vmax2]]\n",
    "dimension = len(dist_params)\n",
    "sts_design = [ns1, ns2]\n",
    "var_names = ['var1', 'var2']\n",
    "\n",
    "# Call STS to generate samples\n",
    "x_sts = STS(dimension=dimension, dist_name=dist_name, dist_params=dist_params, sts_design=sts_design,\n",
    "            sts_criterion=sts_criterion)  # This creates the sample points.\n",
    "print(x_sts.samples)"
   ]
  },
  {
   "cell_type": "markdown",
   "metadata": {},
   "source": [
    "## Call to RunModel - class example"
   ]
  },
  {
   "cell_type": "markdown",
   "metadata": {},
   "source": [
    "This example uses a Python model where the model is defined as a class. The model is in the Python script 'python_model.py'"
   ]
  },
  {
   "cell_type": "code",
   "execution_count": null,
   "metadata": {},
   "outputs": [],
   "source": [
    "m = RunModel(samples=x_sts.samples, model_script='python_model.py', model_object_name=\"CalculatePi\")\n",
    "\n",
    "pi_estimate = 4*(sum(m.qoi_list))/len(m.qoi_list)\n",
    "print(\"Pi estimate: %f\" % pi_estimate)"
   ]
  },
  {
   "cell_type": "markdown",
   "metadata": {},
   "source": [
    "## Call to RunModel - function example"
   ]
  },
  {
   "cell_type": "markdown",
   "metadata": {},
   "source": [
    "This example uses a Python model where the model is defined as a function. The model is in the Python script 'python_model_function.py'"
   ]
  },
  {
   "cell_type": "code",
   "execution_count": null,
   "metadata": {},
   "outputs": [],
   "source": [
    "m = RunModel(samples=x_sts.samples, model_script='python_model_function.py', model_object_name=\"model\")\n",
    "\n",
    "pi_estimate = 4*(sum(m.qoi_list))/len(m.qoi_list)\n",
    "print(\"Pi estimate: %f\" % pi_estimate)"
   ]
  },
  {
   "cell_type": "code",
   "execution_count": null,
   "metadata": {},
   "outputs": [],
   "source": []
  }
 ],
 "metadata": {
  "kernelspec": {
   "display_name": "Python 3",
   "language": "python",
   "name": "python3"
  },
  "language_info": {
   "codemirror_mode": {
    "name": "ipython",
    "version": 3
   },
   "file_extension": ".py",
   "mimetype": "text/x-python",
   "name": "python",
   "nbconvert_exporter": "python",
   "pygments_lexer": "ipython3",
   "version": "3.6.5"
  }
 },
 "nbformat": 4,
 "nbformat_minor": 2
}
