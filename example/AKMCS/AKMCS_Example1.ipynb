{
 "cells": [
  {
   "cell_type": "markdown",
   "metadata": {},
   "source": [
    "# Active Kriging-Monte Carlo Simulation Example 1\n",
    "Author: Mohit S. Chauhan Date: Aug 04, 2019"
   ]
  },
  {
   "cell_type": "markdown",
   "metadata": {},
   "source": [
    "In this example, Stratified sampling is used to generate samples from Uniform distribution and new samples are generated adaptively, using U-function as the learning criteria ."
   ]
  },
  {
   "cell_type": "markdown",
   "metadata": {},
   "source": [
    "Import the necessary libraries. Here we import standard libraries such as numpy, matplotlib and other necessary library for plots, but also need to import the MCS, STS and AKMCS class from UQpy."
   ]
  },
  {
   "cell_type": "code",
   "execution_count": 1,
   "metadata": {},
   "outputs": [],
   "source": [
    "from UQpy.SampleMethods import MCS\n",
    "from UQpy.SampleMethods import STS\n",
    "from UQpy.SampleMethods import AKMCS\n",
    "from UQpy.Surrogates import Krig\n",
    "from UQpy.RunModel import RunModel\n",
    "from series_system import series\n",
    "import matplotlib.pyplot as plt\n",
    "from sklearn.gaussian_process.kernels import Matern\n",
    "import numpy as np\n",
    "import scipy.stats as sp\n",
    "import time"
   ]
  },
  {
   "cell_type": "markdown",
   "metadata": {},
   "source": [
    "Using UQpy STS class to generate samples for two random variables, which are normally distributed with mean 0 and variance 1."
   ]
  },
  {
   "cell_type": "code",
   "execution_count": 2,
   "metadata": {},
   "outputs": [],
   "source": [
    "np.random.seed(2)\n",
    "x = STS(dist_name=['normal']*2, dist_params=[[0, 3], [0, 3]], sts_design=[4, 4], dimension=2)\n"
   ]
  },
  {
   "cell_type": "markdown",
   "metadata": {},
   "source": [
    "RunModel class is used to define an object to evaluate the model at sample points."
   ]
  },
  {
   "cell_type": "code",
   "execution_count": 3,
   "metadata": {},
   "outputs": [],
   "source": [
    "rmodel = RunModel(model_script='series_system.py')\n"
   ]
  },
  {
   "cell_type": "markdown",
   "metadata": {},
   "source": [
    "Krig class defines an object to generate an surrogate model for a given set of data."
   ]
  },
  {
   "cell_type": "code",
   "execution_count": 4,
   "metadata": {},
   "outputs": [],
   "source": [
    "K = Krig(reg_model='Linear', corr_model='Exponential', n_opt=5, dimension=2)"
   ]
  },
  {
   "cell_type": "markdown",
   "metadata": {},
   "source": [
    "AKMCS class is used to generate new sample using 'U-function' as active learning function."
   ]
  },
  {
   "cell_type": "code",
   "execution_count": 5,
   "metadata": {},
   "outputs": [],
   "source": [
    "# OPTIONS: 'U', 'EFF', 'Weighted-U'\n",
    "learning_function = 'U'"
   ]
  },
  {
   "cell_type": "code",
   "execution_count": 6,
   "metadata": {},
   "outputs": [],
   "source": [
    "%%capture\n",
    "start_time = time.time()\n",
    "a = AKMCS(run_model_object=rmodel, samples=x.samples, krig_object=K, nlearn=10**3, n_add=1, lf=learning_function, min_cov=0.05, max_p=sp.norm.pdf(0, 0, 4)**2, dist_name=['normal']*2, dist_params=[[0, 3], [0, 3]])\n",
    "a.sample(nsamples=60)\n",
    "elapsed_time = time.time() - start_time"
   ]
  },
  {
   "cell_type": "code",
   "execution_count": 7,
   "metadata": {
    "scrolled": true
   },
   "outputs": [
    {
     "name": "stdout",
     "output_type": "stream",
     "text": [
      "Time:  1.2793660163879395\n",
      "Function evaluation:  60\n",
      "Probability of failure:  [0.3913471]    Covariance:  [0.03910599]\n"
     ]
    }
   ],
   "source": [
    "time.strftime(\"%H:%M:%S\", time.gmtime(elapsed_time))\n",
    "print('Time: ', elapsed_time)\n",
    "print('Function evaluation: ', len(a.run_model_object.qoi_list))\n",
    "print('Probability of failure: ', a.pf[-1], '  ', 'Covariance: ', a.cov_pf[-1])"
   ]
  },
  {
   "cell_type": "markdown",
   "metadata": {},
   "source": [
    "This figure shows the location of new samples generated using active learning function."
   ]
  },
  {
   "cell_type": "code",
   "execution_count": 8,
   "metadata": {},
   "outputs": [
    {
     "name": "stderr",
     "output_type": "stream",
     "text": [
      "/usr/local/lib/python3.6/site-packages/matplotlib/contour.py:1243: UserWarning: No contour levels were found within the data range.\n",
      "  warnings.warn(\"No contour levels were found\"\n"
     ]
    },
    {
     "data": {
      "image/png": "[encoded data removed]",
      "text/plain": [
       "<Figure size 432x288 with 1 Axes>"
      ]
     },
     "metadata": {
      "needs_background": "light"
     },
     "output_type": "display_data"
    }
   ],
   "source": [
    "num = 50\n",
    "x1 = np.linspace(-7, 7, num)\n",
    "x2 = np.linspace(-7, 7, num)\n",
    "x1v, x2v = np.meshgrid(x1, x2)\n",
    "y = np.zeros([num, num])\n",
    "y_act = np.zeros([num, num])\n",
    "mse = np.zeros([num, num])\n",
    "for i in range(num):\n",
    "    for j in range(num):\n",
    "        xa = x.distribution[0].cdf(np.atleast_2d(x1v[i, j]), x.dist_params[0])\n",
    "        ya = x.distribution[1].cdf(np.atleast_2d(x2v[i, j]), x.dist_params[1])\n",
    "        y[i, j] = a.krig_model(np.hstack([xa, ya]))\n",
    "        y_act[i, j] = series(np.array([[x1v[i, j], x2v[i, j]]]))\n",
    "\n",
    "fig, ax = plt.subplots()\n",
    "# ax = plt.axes(projection='3d')\n",
    "# Plot for estimated values\n",
    "kr = ax.contour(x1v, x2v, y, levels=[0], colors='Green')\n",
    "# kr.cmap.set_over('green')\n",
    "kr_a = ax.contour(x1v, x2v, y_act, levels=[0], colors='Black')\n",
    "\n",
    "\n",
    "# Plot for scattered data\n",
    "nd = np.prod(x.sts_design)\n",
    "ID1 = ax.scatter(a.samples[nd:, 0], a.samples[nd:, 1], color='Grey', label='New samples')\n",
    "ID = ax.scatter(x.samples[:nd, 0], x.samples[:nd, 1], color='Red', label='Initial samples')\n",
    "plt.legend(handles=[ID1, ID])\n",
    "plt.show()"
   ]
  },
  {
   "cell_type": "markdown",
   "metadata": {},
   "source": [
    "Probability of failure and covariance is estimated using Monte Carlo Simulation."
   ]
  },
  {
   "cell_type": "code",
   "execution_count": 9,
   "metadata": {},
   "outputs": [
    {
     "data": {
      "text/plain": [
       "'00:00:04'"
      ]
     },
     "execution_count": 9,
     "metadata": {},
     "output_type": "execute_result"
    }
   ],
   "source": [
    "start_time = time.time()\n",
    "\n",
    "# Code\n",
    "b = MCS(dist_name=x.dist_name, dist_params=x.dist_params, nsamples=10**5)\n",
    "r1model = RunModel(model_script='series_system.py')\n",
    "r1model.run(samples=b.samples)\n",
    "gx = np.array(r1model.qoi_list)\n",
    "pf_mcs = np.sum(np.array(gx) < 0)/b.nsamples\n",
    "cov_pf_mcs = np.sqrt((1 - pf_mcs)/(pf_mcs * b.nsamples))\n",
    "\n",
    "elapsed_time = time.time() - start_time\n",
    "time.strftime(\"%H:%M:%S\", time.gmtime(elapsed_time))"
   ]
  },
  {
   "cell_type": "markdown",
   "metadata": {},
   "source": [
    "Results from Monte Carlo Simulation."
   ]
  },
  {
   "cell_type": "code",
   "execution_count": 10,
   "metadata": {},
   "outputs": [
    {
     "name": "stdout",
     "output_type": "stream",
     "text": [
      "Time:  4.412189960479736\n",
      "Function evaluation:  100000\n",
      "Probability of failure:  0.41706    Covariance:  0.0037386314831891984\n"
     ]
    }
   ],
   "source": [
    "print('Time: ', elapsed_time)\n",
    "print('Function evaluation: ', b.nsamples)\n",
    "print('Probability of failure: ', pf_mcs, '  ', 'Covariance: ', cov_pf_mcs)"
   ]
  },
  {
   "cell_type": "code",
   "execution_count": null,
   "metadata": {},
   "outputs": [],
   "source": []
  }
 ],
 "metadata": {
  "kernelspec": {
   "display_name": "Python 3",
   "language": "python",
   "name": "python3"
  },
  "language_info": {
   "codemirror_mode": {
    "name": "ipython",
    "version": 3
   },
   "file_extension": ".py",
   "mimetype": "text/x-python",
   "name": "python",
   "nbconvert_exporter": "python",
   "pygments_lexer": "ipython3",
   "version": "3.6.5"
  }
 },
 "nbformat": 4,
 "nbformat_minor": 2
}
