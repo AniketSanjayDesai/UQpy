{
 "cells": [
  {
   "cell_type": "markdown",
   "metadata": {},
   "source": [
    "# Active Kriging-Monte Carlo Simulation Example 2\n",
    "Author: Mohit S. Chauhan Date: Oct 14, 2019"
   ]
  },
  {
   "cell_type": "markdown",
   "metadata": {},
   "source": [
    "In this example, Stratified sampling is used to generate samples from Uniform distribution and new samples are generated adaptively, using 'EFF'(Expected Feasibilty Function) as the learning criteria ."
   ]
  },
  {
   "cell_type": "markdown",
   "metadata": {},
   "source": [
    "Import the necessary libraries. Here we import standard libraries such as numpy, matplotlib and other necessary library for plots, but also need to import the MCS, STS and AKMCS class from UQpy."
   ]
  },
  {
   "cell_type": "code",
   "execution_count": 1,
   "metadata": {},
   "outputs": [],
   "source": [
    "from UQpy.SampleMethods import MCS\n",
    "from UQpy.SampleMethods import STS\n",
    "from UQpy.SampleMethods import AKMCS\n",
    "from UQpy.Surrogates import Krig\n",
    "from UQpy.RunModel import RunModel\n",
    "from Mod_Rastrigin import rastrigin\n",
    "import matplotlib.pyplot as plt\n",
    "from sklearn.gaussian_process.kernels import Matern\n",
    "import numpy as np\n",
    "import scipy.stats as sp\n",
    "import time"
   ]
  },
  {
   "cell_type": "markdown",
   "metadata": {},
   "source": [
    "Using UQpy STS class to generate samples for two random variables, which are normally distributed with mean 0 and variance 1."
   ]
  },
  {
   "cell_type": "code",
   "execution_count": 2,
   "metadata": {},
   "outputs": [
    {
     "name": "stdout",
     "output_type": "stream",
     "text": [
      "UQpy: Successful execution of STS design..\n"
     ]
    }
   ],
   "source": [
    "np.random.seed(2)\n",
    "x = STS(dist_name=['Normal']*2, dist_params=[[0, 1.5], [0, 1.5]], sts_design=[10, 10])"
   ]
  },
  {
   "cell_type": "markdown",
   "metadata": {},
   "source": [
    "RunModel class is used to define an object to evaluate the model at sample points."
   ]
  },
  {
   "cell_type": "code",
   "execution_count": 3,
   "metadata": {},
   "outputs": [],
   "source": [
    "rmodel = RunModel(model_script='Mod_Rastrigin.py')"
   ]
  },
  {
   "cell_type": "markdown",
   "metadata": {},
   "source": [
    "A regression model is defined, this function return the basis function and its jacobian."
   ]
  },
  {
   "cell_type": "code",
   "execution_count": null,
   "metadata": {},
   "outputs": [],
   "source": [
    "def quadratic_sin(s):\n",
    "    s = np.atleast_2d(s)\n",
    "    fx = np.concatenate((np.ones([np.size(s, 0), 1]), s**2, np.sin(s)), 1)\n",
    "    jfb1 = np.zeros([np.size(s, 0), np.size(s, 1), np.size(s, 1)])\n",
    "    np.einsum('jii->ji', jfb1)[:] = np.cos(s)\n",
    "    jfb2 = np.zeros([np.size(s, 0), np.size(s, 1), np.size(s, 1)])\n",
    "    np.einsum('jii->ji', jfb2)[:] = 2*s\n",
    "    jf = np.concatenate((np.zeros([np.size(s, 0), np.size(s, 1), 1]), jfb2, jfb1), 2)\n",
    "    return fx, jf"
   ]
  },
  {
   "cell_type": "markdown",
   "metadata": {},
   "source": [
    "Krig class defines an object to generate an surrogate model for a given set of data."
   ]
  },
  {
   "cell_type": "code",
   "execution_count": null,
   "metadata": {},
   "outputs": [],
   "source": [
    "K = Krig(reg_model=quadratic_sin, corr_model='Gaussian', n_opt=15, dimension=2)"
   ]
  },
  {
   "cell_type": "code",
   "execution_count": null,
   "metadata": {},
   "outputs": [],
   "source": [
    "k = Matern(10*np.ones([2, 1]), [[1e-2, 1e5]]*2, nu=0.5)"
   ]
  },
  {
   "cell_type": "markdown",
   "metadata": {},
   "source": [
    "AKMCS class is used to generate new sample using 'EFF'(Expected Feasibilty Function) as active learning function."
   ]
  },
  {
   "cell_type": "code",
   "execution_count": null,
   "metadata": {},
   "outputs": [],
   "source": [
    "%%capture\n",
    "start_time = time.time()\n",
    "a = AKMCS(run_model_object=rmodel, sample_object=x, krig_object=K, nlearn=10**4, nsamples=200, n_add=1, \n",
    "          lf='EFF', min_cov=0.05, kriging='UQpy')\n",
    "elapsed_time = time.time() - start_time"
   ]
  },
  {
   "cell_type": "code",
   "execution_count": null,
   "metadata": {},
   "outputs": [],
   "source": [
    "time.strftime(\"%H:%M:%S\", time.gmtime(elapsed_time))\n",
    "print('Time: ', elapsed_time)\n",
    "print('Function evaluation: ', a.sample_object.samples.shape[0])\n",
    "print('Probability of failure: ', a.pf, '  ', 'Covariance: ', a.cov_pf)"
   ]
  },
  {
   "cell_type": "markdown",
   "metadata": {},
   "source": [
    "This figure shows the location of new samples generated using active learning function."
   ]
  },
  {
   "cell_type": "code",
   "execution_count": null,
   "metadata": {},
   "outputs": [],
   "source": [
    "num = 50\n",
    "x1 = np.linspace(-7, 7, num)\n",
    "x2 = np.linspace(-7, 7, num)\n",
    "x1v, x2v = np.meshgrid(x1, x2)\n",
    "y = np.zeros([num, num])\n",
    "y_act = np.zeros([num, num])\n",
    "mse = np.zeros([num, num])\n",
    "for i in range(num):\n",
    "    for j in range(num):\n",
    "        xa = x.distribution[0].cdf(np.atleast_2d(x1v[i, j]), x.dist_params[0])\n",
    "        ya = x.distribution[1].cdf(np.atleast_2d(x2v[i, j]), x.dist_params[1])\n",
    "        y[i, j] = a.krig_model(np.hstack([xa, ya]))\n",
    "        y_act[i, j] = rastrigin(np.array([x1v[i, j], x2v[i, j]]))\n",
    "\n",
    "fig, ax = plt.subplots()\n",
    "# ax = plt.axes(projection='3d')\n",
    "# Plot for estimated values\n",
    "kr = ax.contour(x1v, x2v, y, levels=[0], colors='Green')\n",
    "# kr.cmap.set_over('green')\n",
    "kr_a = ax.contour(x1v, x2v, y_act, levels=[0], colors='Black')\n",
    "\n",
    "\n",
    "# Plot for scattered data\n",
    "nd = np.prod(x.sts_design)\n",
    "ID1 = ax.scatter(a.sample_object.samples[nd:, 0], a.sample_object.samples[nd:, 1], color='Grey', label='New samples')\n",
    "ID = ax.scatter(x.samples[:nd, 0], x.samples[:nd, 1], color='Red', label='Initial samples')\n",
    "plt.legend(handles=[ID1, ID])\n",
    "plt.show()"
   ]
  },
  {
   "cell_type": "markdown",
   "metadata": {},
   "source": [
    "Probability of failure and covariance is estimated using Monte Carlo Simulation."
   ]
  },
  {
   "cell_type": "code",
   "execution_count": null,
   "metadata": {},
   "outputs": [],
   "source": [
    "start_time = time.time()\n",
    "\n",
    "# Code\n",
    "b = MCS(dist_name=x.dist_name, dist_params=x.dist_params, nsamples=10**5)\n",
    "r1model = RunModel(model_script='Mod_Rastrigin.py')\n",
    "r1model.run(samples=b.samples)\n",
    "gx = np.array(r1model.qoi_list)\n",
    "pf_mcs = np.sum(np.array(gx) < 0)/b.nsamples\n",
    "cov_pf_mcs = np.sqrt((1 - pf_mcs)/(pf_mcs * b.nsamples))\n",
    "\n",
    "elapsed_time = time.time() - start_time\n",
    "time.strftime(\"%H:%M:%S\", time.gmtime(elapsed_time))"
   ]
  },
  {
   "cell_type": "markdown",
   "metadata": {},
   "source": [
    "Results from Monte Carlo Simulation."
   ]
  },
  {
   "cell_type": "code",
   "execution_count": null,
   "metadata": {},
   "outputs": [],
   "source": [
    "print('Time: ', elapsed_time)\n",
    "print('Function evaluation: ', b.nsamples)\n",
    "print('Probability of failure: ', pf_mcs, '  ', 'Covariance: ', cov_pf_mcs)"
   ]
  },
  {
   "cell_type": "code",
   "execution_count": null,
   "metadata": {},
   "outputs": [],
   "source": []
  }
 ],
 "metadata": {
  "kernelspec": {
   "display_name": "Python 3",
   "language": "python",
   "name": "python3"
  },
  "language_info": {
   "codemirror_mode": {
    "name": "ipython",
    "version": 3
   },
   "file_extension": ".py",
   "mimetype": "text/x-python",
   "name": "python",
   "nbconvert_exporter": "python",
   "pygments_lexer": "ipython3",
   "version": "3.6.5"
  }
 },
 "nbformat": 4,
 "nbformat_minor": 2
}
