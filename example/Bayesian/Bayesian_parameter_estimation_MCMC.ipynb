{
 "cells": [
  {
   "cell_type": "markdown",
   "metadata": {},
   "source": [
    "## Bayesian parameter estimation using MCMC"
   ]
  },
  {
   "cell_type": "code",
   "execution_count": 1,
   "metadata": {},
   "outputs": [],
   "source": [
    "import numpy as np\n",
    "import matplotlib.pyplot as plt\n",
    "from UQpy.Inference import *\n",
    "from UQpy.RunModel import RunModel # required to run the quadratic model\n",
    "from sklearn.neighbors import KernelDensity # for the plots\n",
    "from statsmodels.nonparametric.kde import KDEUnivariate"
   ]
  },
  {
   "cell_type": "markdown",
   "metadata": {},
   "source": [
    "## Probability model"
   ]
  },
  {
   "cell_type": "code",
   "execution_count": 2,
   "metadata": {},
   "outputs": [
    {
     "data": {
      "image/png": "[encoded data removed]",
      "text/plain": [
       "<Figure size 432x288 with 1 Axes>"
      ]
     },
     "metadata": {},
     "output_type": "display_data"
    }
   ],
   "source": [
    "# Generate data from a probability model, here a Gaussian pdf, then learn its parameters, \n",
    "# mean and covariance, from this data\n",
    "\n",
    "np.random.seed(100)\n",
    "mu, sigma = 10, 1 # true mean and standard deviation\n",
    "data = np.random.normal(mu, sigma, 100)\n",
    "np.random.seed()\n",
    "\n",
    "# plot the data and true distribution\n",
    "count, bins, ignored = plt.hist(data, 30, density=True)\n",
    "plt.plot(bins, 1/(sigma * np.sqrt(2 * np.pi)) * np.exp( - (bins - mu)**2 / (2 * sigma**2) ),\n",
    "         linewidth=2, color='r')\n",
    "plt.title('data as histogram and true distribution to be estimated')\n",
    "plt.show()"
   ]
  },
  {
   "cell_type": "code",
   "execution_count": 3,
   "metadata": {},
   "outputs": [
    {
     "ename": "AttributeError",
     "evalue": "'Distribution' object has no attribute 'n_params'",
     "output_type": "error",
     "traceback": [
      "\u001b[0;31m---------------------------------------------------------------------------\u001b[0m",
      "\u001b[0;31mAttributeError\u001b[0m                            Traceback (most recent call last)",
      "\u001b[0;32m<ipython-input-3-7147b0d73488>\u001b[0m in \u001b[0;36m<module>\u001b[0;34m()\u001b[0m\n\u001b[1;32m      1\u001b[0m \u001b[0;31m# create an instance of class Model\u001b[0m\u001b[0;34m\u001b[0m\u001b[0;34m\u001b[0m\u001b[0m\n\u001b[1;32m      2\u001b[0m candidate_model = Model(model_type = 'pdf', model_name='normal', \n\u001b[0;32m----> 3\u001b[0;31m                         prior_name = ['uniform','lognormal'], prior_params = [[0, 15], [1, 0, 1]])\n\u001b[0m",
      "\u001b[0;32m~/Documents/JHU_Research/UQpy/src/UQpy/Inference.py\u001b[0m in \u001b[0;36m__init__\u001b[0;34m(self, model_type, model_script, model_name, n_params, error_covariance, verbose, prior_name, prior_params, prior_copula, model_object_name, input_template, var_names, output_script, output_object_name, ntasks, cores_per_task, nodes, resume, model_dir, cluster)\u001b[0m\n\u001b[1;32m    123\u001b[0m         \u001b[0;32melif\u001b[0m \u001b[0mself\u001b[0m\u001b[0;34m.\u001b[0m\u001b[0mtype\u001b[0m \u001b[0;34m==\u001b[0m \u001b[0;34m'pdf'\u001b[0m\u001b[0;34m:\u001b[0m\u001b[0;34m\u001b[0m\u001b[0m\n\u001b[1;32m    124\u001b[0m             \u001b[0mself\u001b[0m\u001b[0;34m.\u001b[0m\u001b[0mpdf\u001b[0m \u001b[0;34m=\u001b[0m \u001b[0mDistribution\u001b[0m\u001b[0;34m(\u001b[0m\u001b[0mself\u001b[0m\u001b[0;34m.\u001b[0m\u001b[0mname\u001b[0m\u001b[0;34m)\u001b[0m\u001b[0;34m\u001b[0m\u001b[0m\n\u001b[0;32m--> 125\u001b[0;31m             \u001b[0mself\u001b[0m\u001b[0;34m.\u001b[0m\u001b[0mn_params\u001b[0m \u001b[0;34m=\u001b[0m \u001b[0mself\u001b[0m\u001b[0;34m.\u001b[0m\u001b[0mpdf\u001b[0m\u001b[0;34m.\u001b[0m\u001b[0mn_params\u001b[0m\u001b[0;34m\u001b[0m\u001b[0m\n\u001b[0m\u001b[1;32m    126\u001b[0m \u001b[0;34m\u001b[0m\u001b[0m\n\u001b[1;32m    127\u001b[0m         \u001b[0;32melse\u001b[0m\u001b[0;34m:\u001b[0m\u001b[0;34m\u001b[0m\u001b[0m\n",
      "\u001b[0;31mAttributeError\u001b[0m: 'Distribution' object has no attribute 'n_params'"
     ]
    }
   ],
   "source": [
    "# create an instance of class Model\n",
    "candidate_model = Model(model_type = 'pdf', model_name='normal', \n",
    "                        prior_name = ['uniform','lognormal'], prior_params = [[0, 15], [1, 0, 1]])"
   ]
  },
  {
   "cell_type": "code",
   "execution_count": null,
   "metadata": {},
   "outputs": [],
   "source": [
    "# Learn the unknown parameters using MCMC\n",
    "bayes_estimator = BayesParameterEstimation(data=data, sampling_method = 'MCMC', nsamples=500, \n",
    "                                           pdf_proposal = 'Normal', pdf_proposal_scale=[1, 1], model=candidate_model, \n",
    "                                           algorithm = 'MH', jump=10, nburn=10, \n",
    "                                           seed=np.array([1.0, 0.2]))"
   ]
  },
  {
   "cell_type": "code",
   "execution_count": null,
   "metadata": {
    "scrolled": true
   },
   "outputs": [],
   "source": [
    "# print results\n",
    "s = bayes_estimator.samples\n",
    "plt.scatter(s[:,0],s[:,1])\n",
    "plt.scatter(10, 1, marker = '+', label='true parameter')\n",
    "plt.title('MCMC samples')\n",
    "plt.legend()\n",
    "plt.show()\n",
    "\n",
    "fig, ax = plt.subplots(1,2)\n",
    "\n",
    "domain = np.linspace(0, 15, 200)[:, np.newaxis]\n",
    "bandwidth = 1.06*np.std(s[:,0])*s[:,0].shape[0]**(-1/5)\n",
    "kde = KernelDensity(bandwidth=bandwidth).fit(s[:,0].reshape((-1,1)))\n",
    "log_dens = kde.score_samples(domain)\n",
    "ax[0].plot(domain, np.exp(log_dens))\n",
    "ax[0].set_title('posterior pdf of \\theta=\\mu')\n",
    "\n",
    "domain = np.linspace(0, 2, 200)[:, np.newaxis]\n",
    "bandwidth = 1.06*np.std(s[:,0])*s[:,0].shape[0]**(-1/5)\n",
    "kde = KernelDensity(bandwidth=bandwidth).fit(s[:,1].reshape((-1,1)))\n",
    "log_dens = kde.score_samples(domain)\n",
    "ax[1].plot(domain, np.exp(log_dens))\n",
    "ax[1].set_title('posterior pdf of \\theta=\\sigma')\n",
    "\n",
    "plt.show()"
   ]
  },
  {
   "cell_type": "markdown",
   "metadata": {},
   "source": [
    "## Regression model"
   ]
  },
  {
   "cell_type": "code",
   "execution_count": 4,
   "metadata": {},
   "outputs": [
    {
     "name": "stdout",
     "output_type": "stream",
     "text": [
      "(1, 2)\n",
      "[ -2.20501341   0.34173956   0.27870117   0.74676964   2.4925227\n",
      "   2.57137294   3.76359656   6.43268541   8.85390616   8.03105948\n",
      "   9.53639311  12.04884941  14.60413421  16.16485449  19.58274136\n",
      "  20.87533422  23.25361351  30.09360291  30.25159786  34.44589979\n",
      "  36.8800238   39.88236919  46.26741868  48.43037055  53.37759434\n",
      "  57.31738313  62.40792722  67.56293256  71.645436    76.10385802\n",
      "  79.65128193  85.80178227  92.08374715  99.25981211 103.77374736\n",
      " 109.4488853  113.50174493 123.73406638 128.60802127 134.16890913\n",
      " 139.7569583  149.64335152 156.57659321 162.82208901 169.74272883\n",
      " 176.7008832  185.02177658 192.51919094 202.37143152 210.85828345]\n"
     ]
    }
   ],
   "source": [
    "# Generate data from a quadratic function\n",
    "from scipy.stats import multivariate_normal\n",
    "\n",
    "param_true = np.array([1.0, 2.0]).reshape(1, -1)\n",
    "error_covariance = np.eye(50)\n",
    "\n",
    "print(param_true.shape)\n",
    "z = RunModel(samples=param_true, model_script='pfn_models.py', model_object_name = 'model_quadratic', \n",
    "             var_names = ['theta_1', 'theta_2'])\n",
    "data = z.qoi_list[0].reshape((-1,))+multivariate_normal.rvs(mean=None, cov=error_covariance, size=1)\n",
    "print(data)"
   ]
  },
  {
   "cell_type": "code",
   "execution_count": 5,
   "metadata": {},
   "outputs": [],
   "source": [
    "candidate_model = Model(n_params=2, model_type='python', \n",
    "                        model_script='pfn_models.py', model_object_name = 'model_quadratic',\n",
    "                        error_covariance=error_covariance)"
   ]
  },
  {
   "cell_type": "code",
   "execution_count": 6,
   "metadata": {},
   "outputs": [
    {
     "name": "stdout",
     "output_type": "stream",
     "text": [
      "Successful execution of the MCMC design\n"
     ]
    }
   ],
   "source": [
    "bayes_estimator = BayesParameterEstimation(data=data, model=candidate_model, sampling_method = 'MCMC', nsamples=500,\n",
    "                                           algorithm = 'MH', jump=10, nburn=0, pdf_proposal = 'Normal',\n",
    "                                           pdf_proposal_scale = [0.1, 0.05], seed = [0.5, 2.5])"
   ]
  },
  {
   "cell_type": "code",
   "execution_count": 7,
   "metadata": {},
   "outputs": [
    {
     "data": {
      "image/png": "[encoded data removed]",
      "text/plain": [
       "<Figure size 432x288 with 1 Axes>"
      ]
     },
     "metadata": {},
     "output_type": "display_data"
    },
    {
     "data": {
      "image/png": "[encoded data removed]",
      "text/plain": [
       "<Figure size 432x288 with 2 Axes>"
      ]
     },
     "metadata": {},
     "output_type": "display_data"
    }
   ],
   "source": [
    "s = bayes_estimator.samples\n",
    "plt.scatter(s[:,0],s[:,1])\n",
    "plt.scatter(1.0, 2.0, label='true value')\n",
    "plt.title('MCMC samples')\n",
    "plt.show()\n",
    "\n",
    "fig, ax = plt.subplots(1,2)\n",
    "\n",
    "domain = np.linspace(-4, 4, 200)[:, np.newaxis]\n",
    "kde = KDEUnivariate(s[:,0])\n",
    "kde.fit(kernel='gau', bw='normal_reference', fft=False, weights=None)\n",
    "pdf_ = []\n",
    "for d in domain:\n",
    "    pdf_.append(kde.evaluate(d))\n",
    "ax[0].plot(domain, pdf_, label='prior')\n",
    "ax[0].set_title('posterior pdf of theta_{1}')\n",
    "\n",
    "domain = np.linspace(-4, 4, 200)[:, np.newaxis]\n",
    "kde = KDEUnivariate(s[:,1])\n",
    "kde.fit(kernel='gau', bw='normal_reference', fft=False, weights=None)\n",
    "pdf_ = []\n",
    "for d in domain:\n",
    "    pdf_.append(kde.evaluate(d))\n",
    "ax[1].plot(domain, pdf_, label='prior')\n",
    "ax[1].set_title('posterior pdf of theta_{2}')\n",
    "\n",
    "plt.show()"
   ]
  },
  {
   "cell_type": "code",
   "execution_count": 8,
   "metadata": {},
   "outputs": [
    {
     "ename": "NameError",
     "evalue": "name 'Diagnostics' is not defined",
     "output_type": "error",
     "traceback": [
      "\u001b[0;31m---------------------------------------------------------------------------\u001b[0m",
      "\u001b[0;31mNameError\u001b[0m                                 Traceback (most recent call last)",
      "\u001b[0;32m<ipython-input-8-651cf51be075>\u001b[0m in \u001b[0;36m<module>\u001b[0;34m()\u001b[0m\n\u001b[0;32m----> 1\u001b[0;31m \u001b[0mDiagnostics\u001b[0m\u001b[0;34m(\u001b[0m\u001b[0msampling_method\u001b[0m\u001b[0;34m=\u001b[0m\u001b[0;34m'MCMC'\u001b[0m\u001b[0;34m,\u001b[0m \u001b[0msampling_outputs\u001b[0m \u001b[0;34m=\u001b[0m \u001b[0mbayes_estimator\u001b[0m\u001b[0;34m)\u001b[0m\u001b[0;34m\u001b[0m\u001b[0m\n\u001b[0m",
      "\u001b[0;31mNameError\u001b[0m: name 'Diagnostics' is not defined"
     ]
    }
   ],
   "source": [
    "Diagnostics(sampling_method='MCMC', sampling_outputs = bayes_estimator)"
   ]
  },
  {
   "cell_type": "code",
   "execution_count": null,
   "metadata": {},
   "outputs": [],
   "source": []
  }
 ],
 "metadata": {
  "kernelspec": {
   "display_name": "Python 3",
   "language": "python",
   "name": "python3"
  },
  "language_info": {
   "codemirror_mode": {
    "name": "ipython",
    "version": 3
   },
   "file_extension": ".py",
   "mimetype": "text/x-python",
   "name": "python",
   "nbconvert_exporter": "python",
   "pygments_lexer": "ipython3",
   "version": "3.6.5"
  }
 },
 "nbformat": 4,
 "nbformat_minor": 2
}
