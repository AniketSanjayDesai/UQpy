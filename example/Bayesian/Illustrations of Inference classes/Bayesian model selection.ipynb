{
 "cells": [
  {
   "cell_type": "markdown",
   "metadata": {},
   "source": [
    "# Bayesian Model Selection\n",
    "\n",
    "Authors: Yuchen Zhou and Audrey Olivier - 12/10/2018 <br>\n",
    "Last modified by Audrey Olivier on 12/13/2018"
   ]
  },
  {
   "cell_type": "markdown",
   "metadata": {},
   "source": [
    "## Quick review of Bayesian model selection\n",
    "\n",
    "The problem of model selection consists in determining which model(s) best explain the available data $D$, given a set of candidate models $m_{1:M}$. Each model $m_{j}$ is parameterized by a set of parameters $\\theta_{m_{j}} \\in \\Theta_{m_{j}}$, to be estimated based on data. In the Bayesian framework, model selection is perfomed by computing the posterior probability of each model $m_{j}$ using Bayes' theorem:\n",
    "\n",
    "$$P(m_{j} \\vert D) = \\frac{p(D \\vert m_{j})P(m_{j})}{\\sum_{j=1}^{M} P(D \\vert m_{j})P(m_{j})}$$\n",
    "\n",
    "where $P(m_{j})$ is the prior assigned to model $m_{j}$ and $P(D \\vert m_{j})$ is the model evidence, also called marginal likelihood.\n",
    "\n",
    "$$ p(D \\vert m_{j}) = \\int_{\\Theta_{m_{j}}} p(D \\vert m_{j}, \\theta_{m_{j}}) p(\\theta_{m_{j}} \\vert m_{j}) d\\theta_{m_{j}} $$\n",
    "\n",
    "where $p(\\theta_{m_{j}} \\vert m_{j})$ is the prior assigned to the parameter vector of model $m_{j}$."
   ]
  },
  {
   "cell_type": "markdown",
   "metadata": {},
   "source": [
    "## Numerical example\n",
    "\n",
    "In the following we present an example for which the posterior pdf of the parameters, evidences and model probabilities can be computed analytically. We drop the $m_{j}$ subscript when referring to model parameters for simplicity. Three models are considered (the domain $x$ is fixed and consists in 50 equally spaced points):\n",
    "\\begin{align*}\n",
    "m_{linear}:& \\quad y = \\theta_{0} x + \\epsilon \\\\\n",
    "m_{quadratic}:& \\quad y = \\theta_{0} x + \\theta_{1} x^2 + \\epsilon \\\\\n",
    "m_{cubic}:& \\quad y = \\theta_{0} x + \\theta_{1} x^2+ \\theta_{2} x^3 + \\epsilon \\\\\n",
    "\\end{align*}\n",
    "\n",
    "All three models can be written in a compact form as $y=X \\theta + \\epsilon$, where $X$ contains the necessary powers of $x$. For all three models, the prior is chosen to be Gaussian, $p(\\theta) = N(\\cdot, \\theta_{prior}, \\Sigma_{prior})  $, and so is the noise $\\epsilon \\sim N(\\cdot; 0, \\sigma_{n}^{2} I)$. Then the posterior of the parameters can be computed analytically as:\n",
    "\n",
    "\\begin{align*}\n",
    "& p(\\theta \\vert D={x,y}) =  N(\\cdot; \\theta_{post}(D), \\Sigma_{post}(D)) \\\\\n",
    "& \\theta_{post}(D) = \\left( \\frac{1}{\\sigma_{n}^{2}}X^{T}X + \\Sigma_{prior}^{-1} \\right)^{-1} \\left(\\frac{1}{\\sigma_{n}^{2}}X^{T}y+\\Sigma^{-1}\\theta_{prior} \\right) \\\\\n",
    "& \\Sigma_{post}(D) = \\left( \\frac{1}{\\sigma_{n}^{2}}X^{T}X + \\Sigma_{prior}^{-1} \\right)^{-1}\n",
    "\\end{align*}\n",
    "\n",
    "Then the evidence of each model can be computed as \n",
    "\n",
    "$$ p(D) = \\frac{p(D \\vert \\theta)p(\\theta)}{p(\\theta \\vert D)} $$\n",
    "where $p(D \\vert \\theta) = N(\\cdot; X\\theta, \\sigma_{n}^{2} I)$, $p(\\theta) = N(\\cdot, \\theta_{prior}, \\Sigma_{prior}) $ and $p(\\theta \\vert D) = N(\\cdot, \\theta_{post}(D), \\Sigma_{post}(D))$. This formula can be computed at any point $\\theta$.\n",
    "\n",
    "### Generate data from the quadratic model"
   ]
  },
  {
   "cell_type": "code",
   "execution_count": 1,
   "metadata": {
    "collapsed": true
   },
   "outputs": [],
   "source": [
    "# import necessary packages\n",
    "import numpy as np\n",
    "import matplotlib.pyplot as plt\n",
    "from UQpy.Inference import *\n",
    "from UQpy.RunModel import RunModel # required to run the quadratic model\n",
    "from sklearn.neighbors import KernelDensity # for the plots\n",
    "from statsmodels.nonparametric.kde import KDEUnivariate"
   ]
  },
  {
   "cell_type": "code",
   "execution_count": 2,
   "metadata": {
    "scrolled": true
   },
   "outputs": [
    {
     "name": "stdout",
     "output_type": "stream",
     "text": [
      "(1, 2)\n",
      "[  1.88352532e-01   5.01471203e-01  -5.85046817e-01   2.98273363e+00\n",
      "   3.73005667e+00   1.70139156e+00   4.96902113e+00   5.09728637e+00\n",
      "   6.09442388e+00   7.94398488e+00   9.70547052e+00   1.23081831e+01\n",
      "   1.34728477e+01   1.59148354e+01   1.76043524e+01   2.15176371e+01\n",
      "   2.39862780e+01   2.83569811e+01   3.04492877e+01   3.34769304e+01\n",
      "   3.60425854e+01   4.15203666e+01   4.49579883e+01   4.92263286e+01\n",
      "   5.33063723e+01   5.52746073e+01   5.99965866e+01   6.54350828e+01\n",
      "   7.14641001e+01   7.51209205e+01   8.08596840e+01   8.71081051e+01\n",
      "   9.31289310e+01   9.80845710e+01   1.03514315e+02   1.08814686e+02\n",
      "   1.14756996e+02   1.21232779e+02   1.27036431e+02   1.34579395e+02\n",
      "   1.41970835e+02   1.47333349e+02   1.56227535e+02   1.63875919e+02\n",
      "   1.71240344e+02   1.78936193e+02   1.85881866e+02   1.93889512e+02\n",
      "   2.00367499e+02   2.10322920e+02]\n"
     ]
    }
   ],
   "source": [
    "# Generate data from a quadratic function\n",
    "import random\n",
    "random.seed(8) #set seed for reproducibility\n",
    "from scipy.stats import multivariate_normal\n",
    "param_true = np.array([1.0, 2.0]).reshape(1, -1)\n",
    "var_n = 1\n",
    "error_covariance = var_n*np.eye(50)\n",
    "print(param_true.shape)\n",
    "\n",
    "z = RunModel(samples=param_true, model_script='pfn_models.py', model_object_name = 'model_quadratic', \n",
    "             var_names = ['theta_1', 'theta_2'])\n",
    "data = z.qoi_list[0].reshape((-1,))+multivariate_normal.rvs(mean=None, cov=error_covariance, size=1)\n",
    "print(data)"
   ]
  },
  {
   "cell_type": "markdown",
   "metadata": {},
   "source": [
    "### Define the models, compute the true values of the evidence.\n",
    "\n",
    "For all three models, a Gaussian prior is chosen for the parameters, with mean and covariance matrix of the appropriate dimensions. Each model is given prior probability $P(m_{j}) = 1/3$."
   ]
  },
  {
   "cell_type": "code",
   "execution_count": 3,
   "metadata": {
    "collapsed": true
   },
   "outputs": [],
   "source": [
    "# Define the models\n",
    "model_names = ['model_linear', 'model_quadratic', 'model_cubic']\n",
    "model_n_params = [1, 2, 3]\n",
    "model_prior_means = [[0], [0,0], [0,0,0]]\n",
    "model_prior_stds = [[10], [1,1], [1,2,0.25]]"
   ]
  },
  {
   "cell_type": "code",
   "execution_count": 4,
   "metadata": {},
   "outputs": [
    {
     "name": "stdout",
     "output_type": "stream",
     "text": [
      "posterior mean and covariance for model_linear\n",
      "[ 16.14345482] [[ 0.00059394]]\n",
      "evidence for model_linear= 0.0\n",
      "\n",
      "posterior mean and covariance for model_quadratic\n",
      "[ 0.82218852  2.02235535] [[ 0.00941698 -0.00116538]\n",
      " [-0.00116538  0.00015392]]\n",
      "evidence for model_quadratic= 6.040860885288524e-33\n",
      "\n",
      "posterior mean and covariance for model_cubic\n",
      "[ 0.61270717  2.09155976 -0.00514031] [[  5.60383740e-02  -1.66457308e-02   1.15371992e-03]\n",
      " [ -1.66457308e-02   5.29411877e-03  -3.83090725e-04]\n",
      " [  1.15371992e-03  -3.83090725e-04   2.85512405e-05]]\n",
      "evidence for model_cubic= 4.7543256258320666e-34\n",
      "\n",
      "posterior probabilities of all three models\n",
      "[0.0, 0.92703941797794776, 0.072960582022052189]\n"
     ]
    }
   ],
   "source": [
    "evidences = []\n",
    "model_posterior_means = []\n",
    "model_posterior_stds = []\n",
    "for n, model in enumerate(model_names):\n",
    "    # compute matrix X\n",
    "    X = np.linspace(0, 10, 50).reshape((-1,1))\n",
    "    if n == 1: # quadratic model\n",
    "        X = np.concatenate([X, X**2], axis=1)\n",
    "    if n == 2: # cubic model\n",
    "        X = np.concatenate([X, X**2, X**3], axis=1)\n",
    "\n",
    "    # compute posterior pdf\n",
    "    m_prior = np.array(model_prior_means[n]).reshape((-1,1))\n",
    "    S_prior = np.diag(np.array(model_prior_stds[n])**2)\n",
    "    S_posterior = np.linalg.inv(1/var_n*np.matmul(X.T,X)+np.linalg.inv(S_prior))\n",
    "    m_posterior = np.matmul(S_posterior, \n",
    "                            1/var_n*np.matmul(X.T, data.reshape((-1,1)))+np.matmul(np.linalg.inv(S_prior),m_prior))\n",
    "    m_prior = m_prior.reshape((-1,))\n",
    "    m_posterior = m_posterior.reshape((-1,))\n",
    "    model_posterior_means.append(list(m_posterior))\n",
    "    model_posterior_stds.append(list(np.sqrt(np.diag(S_posterior))))\n",
    "    print('posterior mean and covariance for '+model)\n",
    "    print(m_posterior, S_posterior)\n",
    "    \n",
    "    # compute evidence, evaluate the formula at the posterior mean\n",
    "    like_theta = multivariate_normal.pdf(data, mean=np.matmul(X,m_posterior).reshape((-1,)), cov=error_covariance)\n",
    "    prior_theta = multivariate_normal.pdf(m_posterior, mean=m_prior, cov=S_prior)\n",
    "    posterior_theta = multivariate_normal.pdf(m_posterior, mean=m_posterior, cov=S_posterior)\n",
    "    evidence = like_theta*prior_theta/posterior_theta\n",
    "    evidences.append(evidence)\n",
    "    print('evidence for '+model+'= {}\\n'.format(evidence))\n",
    "    \n",
    "# compute the posterior probability of each model\n",
    "tmp = [1/3*evidence for evidence in evidences]\n",
    "model_posterior_probas = [p/sum(tmp) for p in tmp]\n",
    "\n",
    "print('posterior probabilities of all three models')\n",
    "print(model_posterior_probas)"
   ]
  },
  {
   "cell_type": "markdown",
   "metadata": {},
   "source": [
    "### Define the models for use in UQpy"
   ]
  },
  {
   "cell_type": "code",
   "execution_count": 5,
   "metadata": {
    "collapsed": true
   },
   "outputs": [],
   "source": [
    "# Define models\n",
    "candidate_models = []\n",
    "for n, model_name in enumerate(model_names):\n",
    "    model = Model(n_params=model_n_params[n], model_type='python', \n",
    "                  model_script='pfn_models.py', model_object_name = model_name,\n",
    "                  prior_name = ['normal']*model_n_params[n], \n",
    "                  prior_params = [[m, std] for (m,std) in zip(model_prior_means[n], model_prior_stds[n])],\n",
    "                  error_covariance=error_covariance,\n",
    "                  model_name=model_name)\n",
    "    candidate_models.append(model)"
   ]
  },
  {
   "cell_type": "markdown",
   "metadata": {},
   "source": [
    "### Run MCMC for all three models"
   ]
  },
  {
   "cell_type": "code",
   "execution_count": 7,
   "metadata": {},
   "outputs": [
    {
     "data": {
      "image/png": "[encoded data removed]",
      "text/plain": [
       "<matplotlib.figure.Figure at 0x1a16039c18>"
      ]
     },
     "metadata": {},
     "output_type": "display_data"
    },
    {
     "data": {
      "image/png": "[encoded data removed]",
      "text/plain": [
       "<matplotlib.figure.Figure at 0x1a1f3cac50>"
      ]
     },
     "metadata": {},
     "output_type": "display_data"
    }
   ],
   "source": [
    "# Linear model\n",
    "from scipy.stats import norm\n",
    "\n",
    "bayesMCMC = BayesParameterEstimation(data=data, model=candidate_models[0], sampling_method = 'MCMC', nsamples=1200,\n",
    "                                     algorithm = 'MH', jump=10, nburn=100, pdf_proposal = 'Normal',\n",
    "                                     pdf_proposal_scale = [0.1], \n",
    "                                     seed = model_prior_means[0]\n",
    "                                     )\n",
    "# plot prior, true posterior and estimated posterior\n",
    "fig, ax = plt.subplots(figsize=(8,5))\n",
    "domain_plot = np.linspace(0,20,200)\n",
    "ax.plot(domain_plot, norm.pdf(domain_plot, loc=model_prior_means[0], scale=model_prior_stds[0]),\n",
    "            label = 'prior', color='green', linestyle='--')\n",
    "ax.plot(domain_plot, norm.pdf(domain_plot, loc=model_posterior_means[0], \n",
    "                                  scale=model_posterior_stds[0]),\n",
    "            label = 'true posterior', color='red', linestyle='-')\n",
    "ax.hist(bayesMCMC.samples[:,0], normed=True, bins=100, label='estimated posterior MCMC')\n",
    "plt.legend()\n",
    "plt.title('MCMC for linear model')\n",
    "plt.show(fig)"
   ]
  },
  {
   "cell_type": "code",
   "execution_count": null,
   "metadata": {
    "collapsed": true
   },
   "outputs": [],
   "source": [
    "# Quadratic system\n",
    "bayesMCMC = BayesParameterEstimation(data=data, model=candidate_models[1], sampling_method = 'MCMC', nsamples=3500,\n",
    "                                     algorithm = 'MH', jump=10, nburn=100, pdf_proposal = 'Normal',\n",
    "                                     pdf_proposal_scale = [0.1, 0.1], \n",
    "                                     seed = model_prior_means[1]\n",
    "                                     )\n",
    "# plot prior, true posterior and estimated posterior\n",
    "fig, ax = plt.subplots(1,2,figsize=(16,5))\n",
    "for n_p in range(2):\n",
    "    domain_plot = np.linspace(-0.5,3,200)\n",
    "    ax[n_p].plot(domain_plot, norm.pdf(domain_plot, loc=model_prior_means[1][n_p], scale=model_prior_stds[1][n_p]),\n",
    "                label = 'prior', color='green', linestyle='--')\n",
    "    ax[n_p].plot(domain_plot, norm.pdf(domain_plot, loc=model_posterior_means[1][n_p], \n",
    "                                      scale=model_posterior_stds[1][n_p]),\n",
    "                label = 'true posterior', color='red', linestyle='-')\n",
    "    ax[n_p].hist(bayesMCMC.samples[:,n_p], density=True, bins=30, label='estimated posterior MCMC')\n",
    "    ax[n_p].legend()\n",
    "    ax[n_p].set_title('MCMC for quadratic model')\n",
    "plt.show(fig)"
   ]
  },
  {
   "cell_type": "code",
   "execution_count": null,
   "metadata": {
    "collapsed": true
   },
   "outputs": [],
   "source": [
    "# Cubic system\n",
    "domain_plot = [np.linspace(-0.5,3,200), np.linspace(0,3,200), np.linspace(-0.5,0.5,200)]\n",
    "\n",
    "bayesMCMC = BayesParameterEstimation(data=data, model=candidate_models[2], sampling_method = 'MCMC', nsamples=12000,\n",
    "                                     algorithm = 'MH', jump=30, nburn=500, pdf_proposal = 'Normal',\n",
    "                                     pdf_proposal_scale = [0.15, 0.1, 0.05], \n",
    "                                     seed = model_prior_means[2]\n",
    "                                     )\n",
    "# plot prior, true posterior and estimated posterior\n",
    "fig, ax = plt.subplots(1,3,figsize=(24,5))\n",
    "for n_p in range(3):\n",
    "    ax[n_p].plot(domain_plot[n_p], norm.pdf(domain_plot[n_p], loc=model_prior_means[2][n_p], \n",
    "                                            scale=model_prior_stds[2][n_p]),\n",
    "                label = 'prior', color='green', linestyle='--')\n",
    "    ax[n_p].plot(domain_plot[n_p], norm.pdf(domain_plot[n_p], loc=model_posterior_means[2][n_p], \n",
    "                                      scale=model_posterior_stds[2][n_p]),\n",
    "                label = 'true posterior', color='red', linestyle='-')\n",
    "    ax[n_p].hist(bayesMCMC.samples[:,n_p], density=True, bins=30, label='estimated posterior MCMC')\n",
    "    ax[n_p].legend()\n",
    "    ax[n_p].set_title('MCMC for cubic model')\n",
    "plt.show(fig)"
   ]
  },
  {
   "cell_type": "markdown",
   "metadata": {},
   "source": [
    "### Run Bayesian Model Selection for all three models"
   ]
  },
  {
   "cell_type": "code",
   "execution_count": 8,
   "metadata": {
    "collapsed": true
   },
   "outputs": [],
   "source": [
    "# Defines constants for the MCMC learning part, same as above\n",
    "algos = ['MH']*3\n",
    "proposal_types=['Normal']*3\n",
    "scales = [[0.1],[0.1, 0.1],[0.15, 0.1, 0.05]]\n",
    "nsamples = [1200,3500,12000]\n",
    "nburn = [100,100,500]\n",
    "jump = [10,10,30]"
   ]
  },
  {
   "cell_type": "code",
   "execution_count": 9,
   "metadata": {},
   "outputs": [
    {
     "name": "stdout",
     "output_type": "stream",
     "text": [
      "UQpy: Running Bayesian MS...\n",
      "UQpy: Running MCMC for model model_linear\n",
      "UQpy: Running parameter estimation for candidate model  model_linear\n",
      "UQpy: Parameter estimation analysis completed!\n",
      "UQpy: Running MCMC for model model_quadratic\n",
      "UQpy: Running parameter estimation for candidate model  model_quadratic\n",
      "UQpy: Parameter estimation analysis completed!\n",
      "UQpy: Running MCMC for model model_cubic\n",
      "UQpy: Running parameter estimation for candidate model  model_cubic\n",
      "UQpy: Parameter estimation analysis completed!\n",
      "UQpy: Bayesian MS analysis completed!\n"
     ]
    }
   ],
   "source": [
    "selection = BayesModelSelection(data=data, candidate_models=candidate_models, pdf_proposal_type=proposal_types, \n",
    "                                pdf_proposal_scale=scales, algorithm=algos, jump=jump, nsamples=nsamples, nburn=nburn,  \n",
    "                                prior_probabilities=[1./3., 1./3., 1./3.],\n",
    "                                seed=model_prior_means, verbose=True)"
   ]
  },
  {
   "cell_type": "code",
   "execution_count": 11,
   "metadata": {
    "scrolled": false
   },
   "outputs": [
    {
     "name": "stdout",
     "output_type": "stream",
     "text": [
      "Sorted models:\n",
      "['model_quadratic', 'model_cubic', 'model_linear']\n",
      "Evidence of sorted models:\n",
      "[7.063115637235827e-31, 3.5140937892690253e-31, 0.0]\n",
      "Posterior probabilities of sorted models:\n",
      "[0.6677673999284491, 0.3322326000715509, 0.0]\n"
     ]
    }
   ],
   "source": [
    "print('Sorted models:')\n",
    "print(selection.sorted_model_names)\n",
    "print('Evidence of sorted models:')\n",
    "print(selection.sorted_evidences)\n",
    "print('Posterior probabilities of sorted models:')\n",
    "print(selection.sorted_probabilities)"
   ]
  },
  {
   "cell_type": "markdown",
   "metadata": {},
   "source": [
    "As of version 2, the implementation of BayesModelSelection in UQpy uses the method of the harmonic mean to compute the models' evidence. This method is known to behave quite poorly, in particular it yeidls estimates with large variance. In the problem above, this implementation consistently detects that the quadratic model has the highest model probability, followed by the cubic model. However, the values of the evidence, and thus the model probabilities, are quite off and should not be trusted. Future versions of UQpy will integrate more advanced methods for the estimation of the evidence."
   ]
  },
  {
   "cell_type": "code",
   "execution_count": null,
   "metadata": {
    "collapsed": true
   },
   "outputs": [],
   "source": []
  }
 ],
 "metadata": {
  "kernelspec": {
   "display_name": "Python 3",
   "language": "python",
   "name": "python3"
  },
  "language_info": {
   "codemirror_mode": {
    "name": "ipython",
    "version": 3
   },
   "file_extension": ".py",
   "mimetype": "text/x-python",
   "name": "python",
   "nbconvert_exporter": "python",
   "pygments_lexer": "ipython3",
   "version": "3.6.7"
  }
 },
 "nbformat": 4,
 "nbformat_minor": 2
}
