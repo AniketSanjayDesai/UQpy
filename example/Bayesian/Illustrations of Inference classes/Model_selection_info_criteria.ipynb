{
 "cells": [
  {
   "cell_type": "markdown",
   "metadata": {},
   "source": [
    "# Model selection using information criteria\n",
    "\n",
    "author: Audrey Olivier\n",
    "\n",
    "Theory background: model selection refers to the task of selecting a statistical model from a set of candidate models, given some data. A good model is amodel that is able to explain the data well (high model evidence). Given models of same explanatory power, the simplest model should be chosen (Ockam razor). Several simple criteria can be used to compute a model's quality and thus perform model selection. UQpy implements three citeria: \n",
    "<br>\n",
    "Bayesian information criterion (BIC)\n",
    "$$ BIC = ln(n) k - 2 ln(\\hat{L}) $$\n",
    "\n",
    "Akaike information criterion (AIC)\n",
    "$$ AIC = 2 k - 2 ln (\\hat{L})  $$\n",
    "\n",
    "Corrected formula for AIC (AICc), for small data sets \n",
    "$$ AICc = AIC + \\frac{2k(k+1)}{n-k-1} $$\n",
    "\n",
    "For all formula above, $k$ is the number of parameters characterizing the model, $\\hat{L}$ is the maximum value of the likelihood function and $n$ the number of data points. The best model is the one that minimizes the cirterion. All three formulas have a model fit term (find the model that minimizes the negative log likelihood) and a penalty term that increases as the number of model parameters (model complexity) increases.\n",
    "\n",
    "Reference: *Burnham, K. P.; Anderson, D. R. (2002), Model Selection and Multimodel Inference: A Practical Information-Theoretic Approach (2nd ed.), Springer-Verlag, ISBN 0-387-95364-7*"
   ]
  },
  {
   "cell_type": "markdown",
   "metadata": {},
   "source": [
    "## Example 1: selection between different univariate distributions"
   ]
  },
  {
   "cell_type": "code",
   "execution_count": 1,
   "metadata": {},
   "outputs": [],
   "source": [
    "# import the required packages\n",
    "from UQpy.Inference import Model, InfoModelSelection\n",
    "from UQpy.RunModel import RunModel\n",
    "import numpy as np\n",
    "import matplotlib.pyplot as plt"
   ]
  },
  {
   "cell_type": "markdown",
   "metadata": {},
   "source": [
    "Generate data using a gamma distribution."
   ]
  },
  {
   "cell_type": "code",
   "execution_count": 2,
   "metadata": {},
   "outputs": [
    {
     "name": "stdout",
     "output_type": "stream",
     "text": [
      "(200,)\n"
     ]
    }
   ],
   "source": [
    "from scipy.stats import gamma\n",
    "data = gamma(a = 2, loc = 0, scale = 1).rvs(size=200)\n",
    "print(data.shape)"
   ]
  },
  {
   "cell_type": "markdown",
   "metadata": {},
   "source": [
    "Define the models to be compared, then call InfoModelSelection to perform model selection. By default, InfoModelSelection returns its outputs, fitted parameters, value of the chosen criteria, model probabilities and so on, in a sorted order, i.e., starting with the most probable model. However, if setting sorted_ouputs=False, the class output attributes are given in the same order as the candidate_models."
   ]
  },
  {
   "cell_type": "code",
   "execution_count": 3,
   "metadata": {},
   "outputs": [],
   "source": [
    "# Define the models to be compared, for each model one must create an instance of the model class\n",
    "model_names = ['exponential', 'gamma', 'chisquare']\n",
    "n_params_list = [2, 3, 3]\n",
    "candidate_models = []\n",
    "for i, model_name in enumerate(model_names):\n",
    "    M = Model(model_name = model_name, model_type = 'pdf', n_params=n_params_list[i])\n",
    "    candidate_models.append(M)"
   ]
  },
  {
   "cell_type": "code",
   "execution_count": 4,
   "metadata": {},
   "outputs": [
    {
     "name": "stdout",
     "output_type": "stream",
     "text": [
      "Sorted model using BIC criterion: gamma, exponential, chisquare\n",
      "Sorted model using AIC criterion: gamma, exponential, chisquare\n",
      "Sorted model using AICc criterion: gamma, exponential, chisquare\n"
     ]
    },
    {
     "data": {
      "image/png": "[encoded data removed]",
      "text/plain": [
       "<Figure size 432x288 with 1 Axes>"
      ]
     },
     "metadata": {},
     "output_type": "display_data"
    },
    {
     "name": "stdout",
     "output_type": "stream",
     "text": [
      "Shape parameter of the gamma distribution: 1.7406906616248348\n",
      "DoF of the chisquare distribution: 1.7168302267884705\n"
     ]
    }
   ],
   "source": [
    "# Perform model selection using different information criteria\n",
    "criteria = ['BIC', 'AIC', 'AICc']\n",
    "for criterion in criteria:\n",
    "    selector = InfoModelSelection(candidate_models = candidate_models, \n",
    "                                  data = data, method = criterion, sorted_outputs=True)\n",
    "    print('Sorted model using '+criterion+' criterion: '+', '.join(x for x in \n",
    "                                                                   selector.model_names))\n",
    "    if criterion == 'BIC':\n",
    "        criterion_value = selector.criteria\n",
    "        sorted_names = selector.model_names\n",
    "        param = selector.fitted_params\n",
    "        \n",
    "width = 0.5\n",
    "ind = np.arange(len(sorted_names))\n",
    "p1 = plt.bar(ind, criterion_value, width = width)\n",
    "#p2 = plt.bar(ind, criterion_value-data_fit_value, bottom=data_fit_value, width = width)\n",
    "\n",
    "plt.ylabel('BIC criterion')\n",
    "plt.title('Model selection using BIC criterion: model fit vs. Ockam razor')\n",
    "plt.xticks(ind, sorted_names)\n",
    "#plt.legend((p1[0], p2[0]), ('Data fit', 'Ockam razor'))\n",
    "\n",
    "plt.show()\n",
    "\n",
    "print('Shape parameter of the gamma distribution: {}'.format(param[sorted_names.index('gamma')][0]))\n",
    "print('DoF of the chisquare distribution: {}'.format(param[sorted_names.index('chisquare')][0]))"
   ]
  },
  {
   "cell_type": "markdown",
   "metadata": {},
   "source": [
    "Note that here both the chisquare and gamma are capable of explaining the data, with $a = \\nu/2$, $a$ is gamma's shape parameter and $\\nu$ is the number of DOFs in chi-square distribution."
   ]
  },
  {
   "cell_type": "markdown",
   "metadata": {},
   "source": [
    "## Example 2: model selection in regression -  $y=X \\theta + \\epsilon$"
   ]
  },
  {
   "cell_type": "code",
   "execution_count": 5,
   "metadata": {
    "scrolled": true
   },
   "outputs": [
    {
     "name": "stdout",
     "output_type": "stream",
     "text": [
      "(1, 2)\n",
      "[  1.49715708   0.4041852    1.62215119   2.58255814   1.83547671\n",
      "   3.22941594   4.81013511   5.50091972   5.64716317   7.04577867\n",
      "   8.5500287   11.28421572  15.58095124  17.98811556  18.67530591\n",
      "  21.29437668  23.34244285  27.4364      30.26485661  34.62050528\n",
      "  36.53016085  41.51982587  45.05684044  49.05193097  53.03116976\n",
      "  56.22303299  62.54546965  65.64390438  72.38802773  77.00915774\n",
      "  82.03036408  87.90045309  92.99765308  96.73422228 104.30440798\n",
      " 109.49618784 114.64403673 121.22779494 129.06887408 135.50053754\n",
      " 142.92897986 147.0118393  155.91884268 162.91945168 170.04265069\n",
      " 179.42864922 185.16149863 194.05872108 202.67364648 208.79424713]\n"
     ]
    }
   ],
   "source": [
    "# Generate data from a quadratic function\n",
    "from scipy.stats import multivariate_normal\n",
    "\n",
    "param_true = np.array([1.0, 2.0]).reshape(1, -1)\n",
    "error_covariance = np.eye(50)\n",
    "\n",
    "print(param_true.shape)\n",
    "z = RunModel(samples=param_true, model_script='pfn_models.py', model_object_name = 'model_quadratic', \n",
    "             var_names = ['theta_0', 'theta_1'])\n",
    "data = z.qoi_list[0].reshape((-1,))+multivariate_normal.rvs(mean=None, cov=error_covariance, size=1)\n",
    "print(data)"
   ]
  },
  {
   "cell_type": "code",
   "execution_count": 6,
   "metadata": {},
   "outputs": [],
   "source": [
    "# Create instances of the Model class for three models: linear, quadratic and cubic\n",
    "names = ['linear', 'quadratic', 'cubic']\n",
    "candidate_models = []\n",
    "for i in range(3):\n",
    "    M = Model(model_type='python', n_params=i+1,\n",
    "              model_script='pfn_models.py', model_object_name = 'model_'+names[i],\n",
    "              model_name=names[i], error_covariance=error_covariance)\n",
    "    candidate_models.append(M)"
   ]
  },
  {
   "cell_type": "markdown",
   "metadata": {},
   "source": [
    "Apart from the data, candidate models and method (BIC, AIC...), InfoModelSelection also takes as inputs lists of inputs to the maximum likelihood class (iter_optim, method_optim, ...). Those inputs should be lists of length len(candidate_models)."
   ]
  },
  {
   "cell_type": "code",
   "execution_count": 7,
   "metadata": {},
   "outputs": [
    {
     "name": "stdout",
     "output_type": "stream",
     "text": [
      "Sorted models:  ['quadratic', 'cubic', 'linear']\n",
      "Value of criteria:  [141.53235120115406, 142.01028505450736, 25963.88479824993]\n",
      "Value of penalty term (complexity) [7.824046010856292, 11.736069016284437, 3.912023005428146]\n",
      "[0.5594590489031814, 0.44054095109681857, 0.0]\n"
     ]
    }
   ],
   "source": [
    "# Perform model selection using BIC criterion\n",
    "selector = InfoModelSelection(candidate_models = candidate_models, data = data, method = 'BIC', \n",
    "                              method_optim=['nelder-mead']*3, sorted_outputs=True)\n",
    "print('Sorted models: ', selector.model_names)\n",
    "print('Value of criteria: ', selector.criteria)\n",
    "print('Value of penalty term (complexity)', selector.penalty_terms)\n",
    "print(selector.probabilities)"
   ]
  },
  {
   "cell_type": "code",
   "execution_count": 8,
   "metadata": {},
   "outputs": [
    {
     "data": {
      "image/png": "[encoded data removed]",
      "text/plain": [
       "<Figure size 576x432 with 1 Axes>"
      ]
     },
     "metadata": {},
     "output_type": "display_data"
    }
   ],
   "source": [
    "# Plot the results\n",
    "domain = np.linspace(0, 10, 50)\n",
    "fig, ax = plt.subplots(figsize=(8,6))\n",
    "\n",
    "var_names = ['theta_0', 'theta_1']\n",
    "for i in range(3):\n",
    "    var_names = ['theta {}'.format(j) for j in range(i+1)]\n",
    "    z = RunModel(samples=selector.fitted_params[i].reshape((1,-1)), \n",
    "                 model_object_name = 'model_'+selector.model_names[i],\n",
    "                 model_script='pfn_models.py')\n",
    "    y = z.qoi_list[0].reshape((-1,))\n",
    "    ax.plot(domain, y, label = selector.model_names[i])\n",
    "\n",
    "plt.plot(domain, data, linestyle='none', marker='.', label='data')\n",
    "plt.xlabel('x')\n",
    "plt.ylabel('y')\n",
    "    \n",
    "plt.legend()\n",
    "plt.show()"
   ]
  },
  {
   "cell_type": "markdown",
   "metadata": {},
   "source": [
    "For this case, one can observe that both the quadratic and cubic model are capable of explaining the data. The cubic model is penalized due to its higher complexity (penalty_term) and thus the quadratic model is preferred."
   ]
  },
  {
   "cell_type": "code",
   "execution_count": null,
   "metadata": {},
   "outputs": [],
   "source": []
  }
 ],
 "metadata": {
  "kernelspec": {
   "display_name": "Python 3",
   "language": "python",
   "name": "python3"
  },
  "language_info": {
   "codemirror_mode": {
    "name": "ipython",
    "version": 3
   },
   "file_extension": ".py",
   "mimetype": "text/x-python",
   "name": "python",
   "nbconvert_exporter": "python",
   "pygments_lexer": "ipython3",
   "version": "3.6.5"
  }
 },
 "nbformat": 4,
 "nbformat_minor": 2
}
