{
 "cells": [
  {
   "cell_type": "markdown",
   "metadata": {},
   "source": [
    "# Maximum Likelihood Estimation"
   ]
  },
  {
   "cell_type": "markdown",
   "metadata": {},
   "source": [
    "## Probability distribution case"
   ]
  },
  {
   "cell_type": "code",
   "execution_count": 1,
   "metadata": {},
   "outputs": [],
   "source": [
    "import numpy as np\n",
    "import matplotlib.pyplot as plt"
   ]
  },
  {
   "cell_type": "code",
   "execution_count": 2,
   "metadata": {},
   "outputs": [
    {
     "name": "stdout",
     "output_type": "stream",
     "text": [
      "(1000,)\n"
     ]
    },
    {
     "data": {
      "image/png": "[encoded data removed]",
      "text/plain": [
       "<Figure size 432x288 with 1 Axes>"
      ]
     },
     "metadata": {},
     "output_type": "display_data"
    }
   ],
   "source": [
    "mu, sigma = 0, 0.1 # true mean and standard deviation\n",
    "data = np.random.normal(mu, sigma, 1000)\n",
    "print(data.shape)\n",
    "\n",
    "count, bins, ignored = plt.hist(data, 30, density=True)\n",
    "plt.plot(bins, 1/(sigma * np.sqrt(2 * np.pi)) * np.exp( - (bins - mu)**2 / (2 * sigma**2) ),\n",
    "         linewidth=2, color='r')\n",
    "plt.show()"
   ]
  },
  {
   "cell_type": "code",
   "execution_count": 3,
   "metadata": {},
   "outputs": [],
   "source": [
    "from UQpy.Inference import Model\n",
    "candidate_model = Model(model_type = 'pdf', model_name='normal')"
   ]
  },
  {
   "cell_type": "code",
   "execution_count": 4,
   "metadata": {},
   "outputs": [
    {
     "name": "stdout",
     "output_type": "stream",
     "text": [
      "Evaluating max likelihood estimate...\n",
      "ML estimates of the mean=-0.002 and std. dev=0.101\n"
     ]
    }
   ],
   "source": [
    "from UQpy.Inference import MLEstimation\n",
    "ml_estimator = MLEstimation(model_instance=candidate_model, data=data)\n",
    "print('ML estimates of the mean={0:.3f} and std. dev={1:.3f}'.format(ml_estimator.param[0], ml_estimator.param[1]))"
   ]
  },
  {
   "cell_type": "markdown",
   "metadata": {},
   "source": [
    "## Regression model (model linear in the parameters)"
   ]
  },
  {
   "cell_type": "code",
   "execution_count": 5,
   "metadata": {},
   "outputs": [
    {
     "name": "stdout",
     "output_type": "stream",
     "text": [
      "(1, 2)\n",
      "\n",
      "Evaluating the model...\n",
      "\n",
      "[ 8.15656690e-02  1.80165126e+00 -4.62531798e-01  4.24384549e-01\n",
      "  3.29335437e+00  3.48284154e+00  4.94692494e+00  4.67937315e+00\n",
      "  6.36785152e+00  9.12073342e+00  9.07089258e+00  1.38129851e+01\n",
      "  1.54277401e+01  1.68458723e+01  2.11635998e+01  2.19220266e+01\n",
      "  2.35731440e+01  2.67445133e+01  2.88612144e+01  3.40770039e+01\n",
      "  3.70088988e+01  4.05771537e+01  4.58117590e+01  4.80057934e+01\n",
      "  5.28085169e+01  5.76351754e+01  6.08613913e+01  6.47730733e+01\n",
      "  7.16937589e+01  7.61577916e+01  8.19929157e+01  8.69264409e+01\n",
      "  9.02459997e+01  9.65151676e+01  1.04009391e+02  1.07076291e+02\n",
      "  1.15263755e+02  1.22362052e+02  1.28337641e+02  1.34282663e+02\n",
      "  1.39449997e+02  1.50458129e+02  1.55681164e+02  1.64141145e+02\n",
      "  1.71621521e+02  1.77910324e+02  1.84161542e+02  1.93729280e+02\n",
      "  2.02155348e+02  2.11334931e+02]\n"
     ]
    }
   ],
   "source": [
    "# Generate data\n",
    "from scipy.stats import multivariate_normal\n",
    "\n",
    "param_true = np.array([1.0, 2.0]).reshape(1, -1)\n",
    "error_covariance = np.eye(50)\n",
    "\n",
    "print(param_true.shape)\n",
    "from UQpy.RunModel import RunModel\n",
    "z = RunModel(samples=param_true, model_type='python', model_script='pfn_quadratic.py')\n",
    "\n",
    "data = z.model_eval.QOI[0]+multivariate_normal.rvs(mean=None, cov=error_covariance, size=1)\n",
    "print(data)"
   ]
  },
  {
   "cell_type": "code",
   "execution_count": 6,
   "metadata": {},
   "outputs": [],
   "source": [
    "candidate_model = Model(model_type='python', model_script='pfn_quadratic.py', n_params=2, \n",
    "                        error_covariance=error_covariance)"
   ]
  },
  {
   "cell_type": "code",
   "execution_count": 7,
   "metadata": {},
   "outputs": [
    {
     "name": "stdout",
     "output_type": "stream",
     "text": [
      "Evaluating max likelihood estimate...\n",
      "Optimization terminated successfully.\n",
      "         Current function value: 72.142498\n",
      "         Iterations: 66\n",
      "         Function evaluations: 127\n"
     ]
    }
   ],
   "source": [
    "ml_estimator = MLEstimation(model_instance=candidate_model, data=data)"
   ]
  },
  {
   "cell_type": "code",
   "execution_count": 8,
   "metadata": {},
   "outputs": [
    {
     "name": "stdout",
     "output_type": "stream",
     "text": [
      "[0.9053673  2.01324768]\n"
     ]
    }
   ],
   "source": [
    "print(ml_estimator.param)"
   ]
  },
  {
   "cell_type": "code",
   "execution_count": null,
   "metadata": {},
   "outputs": [],
   "source": []
  }
 ],
 "metadata": {
  "kernelspec": {
   "display_name": "Python 3",
   "language": "python",
   "name": "python3"
  },
  "language_info": {
   "codemirror_mode": {
    "name": "ipython",
    "version": 3
   },
   "file_extension": ".py",
   "mimetype": "text/x-python",
   "name": "python",
   "nbconvert_exporter": "python",
   "pygments_lexer": "ipython3",
   "version": "3.6.5"
  }
 },
 "nbformat": 4,
 "nbformat_minor": 2
}
