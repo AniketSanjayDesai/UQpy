{
 "cells": [
  {
   "cell_type": "markdown",
   "metadata": {},
   "source": [
    "# Maximum Likelihood Estimation"
   ]
  },
  {
   "cell_type": "markdown",
   "metadata": {},
   "source": [
    "## Probability distribution case"
   ]
  },
  {
   "cell_type": "code",
   "execution_count": 1,
   "metadata": {},
   "outputs": [],
   "source": [
    "import numpy as np\n",
    "import matplotlib.pyplot as plt"
   ]
  },
  {
   "cell_type": "code",
   "execution_count": 2,
   "metadata": {},
   "outputs": [
    {
     "name": "stdout",
     "output_type": "stream",
     "text": [
      "(1000,)\n"
     ]
    },
    {
     "data": {
      "image/png": "[encoded data removed]",
      "text/plain": [
       "<Figure size 432x288 with 1 Axes>"
      ]
     },
     "metadata": {},
     "output_type": "display_data"
    }
   ],
   "source": [
    "mu, sigma = 0, 0.1 # true mean and standard deviation\n",
    "data = np.random.normal(mu, sigma, 1000)\n",
    "print(data.shape)\n",
    "\n",
    "count, bins, ignored = plt.hist(data, 30, density=True)\n",
    "plt.plot(bins, 1/(sigma * np.sqrt(2 * np.pi)) * np.exp( - (bins - mu)**2 / (2 * sigma**2) ),\n",
    "         linewidth=2, color='r')\n",
    "plt.show()"
   ]
  },
  {
   "cell_type": "code",
   "execution_count": 3,
   "metadata": {},
   "outputs": [],
   "source": [
    "from UQpy.Inference import Model\n",
    "candidate_model = Model(model_type = 'pdf', model_name='normal')"
   ]
  },
  {
   "cell_type": "code",
   "execution_count": 4,
   "metadata": {},
   "outputs": [
    {
     "name": "stdout",
     "output_type": "stream",
     "text": [
      "ML estimates of the mean=-0.004 and std. dev=0.105\n"
     ]
    }
   ],
   "source": [
    "from UQpy.Inference import MLEstimation\n",
    "ml_estimator = MLEstimation(model=candidate_model, data=data)\n",
    "print('ML estimates of the mean={0:.3f} and std. dev={1:.3f}'.format(ml_estimator.param[0], ml_estimator.param[1]))"
   ]
  },
  {
   "cell_type": "markdown",
   "metadata": {},
   "source": [
    "## Regression model (model linear in the parameters)"
   ]
  },
  {
   "cell_type": "code",
   "execution_count": 5,
   "metadata": {},
   "outputs": [
    {
     "name": "stdout",
     "output_type": "stream",
     "text": [
      "(1, 2)\n",
      "[ 6.44512135e-01 -1.83313990e-01  2.46203189e+00  4.61676160e-01\n",
      "  3.53501093e+00  1.85365629e+00  3.70257207e+00  5.21953854e+00\n",
      "  7.23911315e+00  9.16275923e+00  1.06021204e+01  1.09166947e+01\n",
      "  1.40859972e+01  1.44422113e+01  1.83284071e+01  2.15746796e+01\n",
      "  2.51827780e+01  2.83948864e+01  3.15871575e+01  3.49809277e+01\n",
      "  3.74713679e+01  4.11432393e+01  4.42351077e+01  4.69834575e+01\n",
      "  5.26683540e+01  5.67715885e+01  6.25607659e+01  6.62848668e+01\n",
      "  7.12293118e+01  7.67575605e+01  8.18569748e+01  8.58265890e+01\n",
      "  9.27517663e+01  9.77839310e+01  1.05645023e+02  1.09511790e+02\n",
      "  1.15202824e+02  1.22096463e+02  1.28539293e+02  1.35842924e+02\n",
      "  1.41425909e+02  1.47986196e+02  1.55090685e+02  1.64131059e+02\n",
      "  1.68570980e+02  1.76769357e+02  1.86202559e+02  1.95712625e+02\n",
      "  2.02276756e+02  2.11406151e+02]\n"
     ]
    }
   ],
   "source": [
    "# Generate data\n",
    "from scipy.stats import multivariate_normal\n",
    "\n",
    "param_true = np.array([1.0, 2.0]).reshape((1, -1))\n",
    "error_covariance = np.eye(50)\n",
    "\n",
    "print(param_true.shape)\n",
    "from UQpy.RunModel import RunModel\n",
    "z = RunModel(samples=param_true, model_script='pfn_quadratic.py', model_object_name = 'RunPythonModel', \n",
    "             var_names = ['theta_1', 'theta_2'])\n",
    "data = z.qoi_list[0].reshape((-1,))+multivariate_normal.rvs(mean=None, cov=error_covariance, size=1)\n",
    "print(data)"
   ]
  },
  {
   "cell_type": "code",
   "execution_count": 6,
   "metadata": {},
   "outputs": [],
   "source": [
    "candidate_model = Model(model_type='python', model_script='pfn_quadratic.py', n_params=2, \n",
    "                        error_covariance=error_covariance)"
   ]
  },
  {
   "cell_type": "code",
   "execution_count": 7,
   "metadata": {},
   "outputs": [
    {
     "name": "stdout",
     "output_type": "stream",
     "text": [
      "(1, 2)\n",
      "Optimization terminated successfully.\n",
      "         Current function value: 68.134186\n",
      "         Iterations: 56\n",
      "         Function evaluations: 108\n"
     ]
    }
   ],
   "source": [
    "ml_estimator = MLEstimation(model=candidate_model, data=data)"
   ]
  },
  {
   "cell_type": "code",
   "execution_count": 8,
   "metadata": {},
   "outputs": [
    {
     "name": "stdout",
     "output_type": "stream",
     "text": [
      "[0.94962335 2.01194443]\n"
     ]
    }
   ],
   "source": [
    "print(ml_estimator.param)"
   ]
  },
  {
   "cell_type": "code",
   "execution_count": null,
   "metadata": {},
   "outputs": [],
   "source": []
  }
 ],
 "metadata": {
  "kernelspec": {
   "display_name": "Python 3",
   "language": "python",
   "name": "python3"
  },
  "language_info": {
   "codemirror_mode": {
    "name": "ipython",
    "version": 3
   },
   "file_extension": ".py",
   "mimetype": "text/x-python",
   "name": "python",
   "nbconvert_exporter": "python",
   "pygments_lexer": "ipython3",
   "version": "3.6.5"
  }
 },
 "nbformat": 4,
 "nbformat_minor": 2
}
