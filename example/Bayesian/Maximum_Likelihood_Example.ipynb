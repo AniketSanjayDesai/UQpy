{
 "cells": [
  {
   "cell_type": "markdown",
   "metadata": {},
   "source": [
    "# Maximum Likelihood Estimation"
   ]
  },
  {
   "cell_type": "markdown",
   "metadata": {},
   "source": [
    "## Probability distribution case"
   ]
  },
  {
   "cell_type": "code",
   "execution_count": 1,
   "metadata": {},
   "outputs": [],
   "source": [
    "import numpy as np\n",
    "import matplotlib.pyplot as plt"
   ]
  },
  {
   "cell_type": "code",
   "execution_count": 2,
   "metadata": {},
   "outputs": [
    {
     "name": "stdout",
     "output_type": "stream",
     "text": [
      "(1000,)\n"
     ]
    },
    {
     "data": {
      "image/png": "[encoded data removed]",
      "text/plain": [
       "<Figure size 432x288 with 1 Axes>"
      ]
     },
     "metadata": {},
     "output_type": "display_data"
    }
   ],
   "source": [
    "mu, sigma = 0, 0.1 # true mean and standard deviation\n",
    "data = np.random.normal(mu, sigma, 1000)\n",
    "print(data.shape)\n",
    "\n",
    "count, bins, ignored = plt.hist(data, 30, density=True)\n",
    "plt.plot(bins, 1/(sigma * np.sqrt(2 * np.pi)) * np.exp( - (bins - mu)**2 / (2 * sigma**2) ),\n",
    "         linewidth=2, color='r')\n",
    "plt.show()"
   ]
  },
  {
   "cell_type": "code",
   "execution_count": 3,
   "metadata": {},
   "outputs": [],
   "source": [
    "from UQpy.Inference import Model\n",
    "candidate_model = Model(model_type = 'pdf', model_name='normal')"
   ]
  },
  {
   "cell_type": "code",
   "execution_count": 4,
   "metadata": {},
   "outputs": [
    {
     "name": "stdout",
     "output_type": "stream",
     "text": [
      "Evaluating max likelihood estimate...\n",
      "ML estimates of the mean=0.002 and std. dev=0.100\n"
     ]
    }
   ],
   "source": [
    "from UQpy.Inference import MLEstimation\n",
    "ml_estimator = MLEstimation(model_instance=candidate_model, data=data)\n",
    "print('ML estimates of the mean={0:.3f} and std. dev={1:.3f}'.format(ml_estimator.param[0], ml_estimator.param[1]))"
   ]
  },
  {
   "cell_type": "markdown",
   "metadata": {},
   "source": [
    "## Regression model (model linear in the parameters)"
   ]
  },
  {
   "cell_type": "code",
   "execution_count": 5,
   "metadata": {},
   "outputs": [
    {
     "name": "stdout",
     "output_type": "stream",
     "text": [
      "(1, 2)\n",
      "\n",
      "Evaluating the model...\n",
      "\n",
      "[ -1.37335844  -0.98400862   0.49841554   0.75789837   2.41312595\n",
      "   2.97935164   3.28640781   6.03482824   6.85484265   8.41037739\n",
      "  11.13712447  11.4345486   14.28131193  14.21847418  19.57766927\n",
      "  22.3954177   25.28195611  26.83171553  30.8491537   36.2202242\n",
      "  36.85136218  41.08185777  46.3493699   50.03071519  53.14208377\n",
      "  57.1417264   60.75846811  66.44867391  72.59949898  77.32294088\n",
      "  79.94793879  85.81363635  93.03531771  99.28891127 103.49941218\n",
      " 109.0491857  115.20784562 122.65632677 129.58080899 133.93568627\n",
      " 139.8974693  148.18165956 155.61639074 162.02398222 170.75480124\n",
      " 177.22255712 185.82199603 190.90959846 199.82709663 209.44595683]\n"
     ]
    }
   ],
   "source": [
    "# Generate data\n",
    "from scipy.stats import multivariate_normal\n",
    "\n",
    "param_true = np.array([1.0, 2.0]).reshape(1, -1)\n",
    "error_covariance = np.eye(50)\n",
    "\n",
    "print(param_true.shape)\n",
    "from UQpy.RunModel import RunModel\n",
    "z = RunModel(samples=param_true, model_type='python', model_script='pfn_quadratic.py')\n",
    "\n",
    "data = z.model_eval.QOI[0]+multivariate_normal.rvs(mean=None, cov=error_covariance, size=1)\n",
    "print(data)"
   ]
  },
  {
   "cell_type": "code",
   "execution_count": 6,
   "metadata": {},
   "outputs": [],
   "source": [
    "candidate_model = Model(model_type='python', model_script='pfn_quadratic.py', n_params=2, \n",
    "                        error_covariance=error_covariance)"
   ]
  },
  {
   "cell_type": "code",
   "execution_count": 7,
   "metadata": {},
   "outputs": [
    {
     "name": "stdout",
     "output_type": "stream",
     "text": [
      "Evaluating max likelihood estimate...\n",
      "Optimization terminated successfully.\n",
      "         Current function value: 70.449961\n",
      "         Iterations: 113\n",
      "         Function evaluations: 218\n"
     ]
    }
   ],
   "source": [
    "ml_estimator = MLEstimation(model_instance=candidate_model, data=data)"
   ]
  },
  {
   "cell_type": "code",
   "execution_count": 8,
   "metadata": {},
   "outputs": [
    {
     "name": "stdout",
     "output_type": "stream",
     "text": [
      "[1.20884384 1.97113465]\n"
     ]
    }
   ],
   "source": [
    "print(ml_estimator.param)"
   ]
  },
  {
   "cell_type": "code",
   "execution_count": null,
   "metadata": {},
   "outputs": [],
   "source": []
  }
 ],
 "metadata": {
  "kernelspec": {
   "display_name": "Python 3",
   "language": "python",
   "name": "python3"
  },
  "language_info": {
   "codemirror_mode": {
    "name": "ipython",
    "version": 3
   },
   "file_extension": ".py",
   "mimetype": "text/x-python",
   "name": "python",
   "nbconvert_exporter": "python",
   "pygments_lexer": "ipython3",
   "version": "3.6.5"
  }
 },
 "nbformat": 4,
 "nbformat_minor": 2
}
