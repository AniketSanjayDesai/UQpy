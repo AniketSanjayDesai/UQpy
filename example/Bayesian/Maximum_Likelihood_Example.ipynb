{
 "cells": [
  {
   "cell_type": "markdown",
   "metadata": {},
   "source": [
    "# Maximum Likelihood Estimation"
   ]
  },
  {
   "cell_type": "markdown",
   "metadata": {},
   "source": [
    "## Probability distribution case"
   ]
  },
  {
   "cell_type": "code",
   "execution_count": 1,
   "metadata": {},
   "outputs": [],
   "source": [
    "import numpy as np\n",
    "import matplotlib.pyplot as plt"
   ]
  },
  {
   "cell_type": "code",
   "execution_count": 2,
   "metadata": {},
   "outputs": [
    {
     "name": "stdout",
     "output_type": "stream",
     "text": [
      "(1000,)\n"
     ]
    },
    {
     "data": {
      "image/png": "[encoded data removed]",
      "text/plain": [
       "<Figure size 432x288 with 1 Axes>"
      ]
     },
     "metadata": {},
     "output_type": "display_data"
    }
   ],
   "source": [
    "mu, sigma = 0, 0.1 # mean and standard deviation\n",
    "data = np.random.normal(mu, sigma, 1000)\n",
    "print(data.shape)\n",
    "\n",
    "count, bins, ignored = plt.hist(data, 30, density=True)\n",
    "plt.plot(bins, 1/(sigma * np.sqrt(2 * np.pi)) * np.exp( - (bins - mu)**2 / (2 * sigma**2) ),\n",
    "         linewidth=2, color='r')\n",
    "plt.show()"
   ]
  },
  {
   "cell_type": "code",
   "execution_count": 3,
   "metadata": {},
   "outputs": [
    {
     "name": "stdout",
     "output_type": "stream",
     "text": [
      "['normal', 'uniform', 'binomial', 'beta', 'genextreme', 'chisquare', 'lognormal', 'gamma', 'exponential', 'cauchy', 'levy', 'logistic', 'laplace', 'maxwell', 'inv_gauss', 'pareto', 'rayleigh']\n"
     ]
    }
   ],
   "source": [
    "from UQpy.Inference import Model\n",
    "candidate_model = Model(model_type = 'pdf', model_name='normal')"
   ]
  },
  {
   "cell_type": "code",
   "execution_count": 4,
   "metadata": {},
   "outputs": [
    {
     "name": "stdout",
     "output_type": "stream",
     "text": [
      "ML estimates of the mean=0.003251914396596077, std. dev=0.09967452982493881\n"
     ]
    }
   ],
   "source": [
    "from UQpy.Inference import MLEstimation\n",
    "ml_estimator = MLEstimation(model_instance=candidate_model, data=data)\n",
    "print('ML estimates of the mean={}, std. dev={}'.format(ml_estimator.param[0], ml_estimator.param[1]))"
   ]
  },
  {
   "cell_type": "markdown",
   "metadata": {},
   "source": [
    "## Linear model case <3"
   ]
  },
  {
   "cell_type": "code",
   "execution_count": 5,
   "metadata": {},
   "outputs": [
    {
     "name": "stdout",
     "output_type": "stream",
     "text": [
      "(1, 2)\n",
      "\n",
      "Evaluating the model...\n",
      "\n",
      "[ 5.18487024e-01 -4.97588777e-02  6.96287826e-01  2.65048503e-01\n",
      "  3.61543363e+00  3.74127622e+00  4.82294018e+00  7.83201195e+00\n",
      "  5.71435521e+00  8.58685916e+00  1.17198513e+01  1.24708907e+01\n",
      "  1.37313546e+01  1.91969429e+01  1.94356508e+01  2.02376255e+01\n",
      "  2.49526051e+01  2.77295005e+01  3.14139784e+01  3.39756376e+01\n",
      "  3.85067916e+01  3.89360541e+01  4.60046645e+01  4.83449780e+01\n",
      "  5.44346696e+01  5.68477424e+01  6.22437251e+01  6.54987718e+01\n",
      "  6.93416739e+01  7.61357446e+01  8.22143458e+01  8.43596107e+01\n",
      "  9.04468674e+01  9.69420452e+01  1.01686100e+02  1.10515005e+02\n",
      "  1.14109440e+02  1.23031482e+02  1.27095058e+02  1.33597585e+02\n",
      "  1.41587700e+02  1.49819991e+02  1.54634678e+02  1.62627046e+02\n",
      "  1.69106446e+02  1.77798997e+02  1.86004279e+02  1.94899022e+02\n",
      "  1.99838200e+02  2.09872177e+02]\n"
     ]
    }
   ],
   "source": [
    "# Generate data\n",
    "from scipy.stats import multivariate_normal\n",
    "\n",
    "param_true = np.array([1.0, 2.0]).reshape(1, -1)\n",
    "error_covariance = np.eye(50)\n",
    "\n",
    "print(param_true.shape)\n",
    "from UQpy.RunModel import RunModel\n",
    "z = RunModel(samples=param_true, model_type='python', model_script='pfn_linear.py')\n",
    "\n",
    "data = z.model_eval.QOI[0]+multivariate_normal.rvs(mean=None, cov=error_covariance, size=1)\n",
    "print(data)"
   ]
  },
  {
   "cell_type": "code",
   "execution_count": 6,
   "metadata": {},
   "outputs": [],
   "source": [
    "candidate_model = Model(model_type='python', model_script='pfn_linear.py', n_params=2, \n",
    "                        error_covariance=error_covariance)"
   ]
  },
  {
   "cell_type": "code",
   "execution_count": 7,
   "metadata": {},
   "outputs": [
    {
     "name": "stdout",
     "output_type": "stream",
     "text": [
      "Optimization terminated successfully.\n",
      "         Current function value: 76.863704\n",
      "         Iterations: 116\n",
      "         Function evaluations: 224\n"
     ]
    }
   ],
   "source": [
    "ml_estimator = MLEstimation(model_instance=candidate_model, data=data)"
   ]
  },
  {
   "cell_type": "code",
   "execution_count": 8,
   "metadata": {},
   "outputs": [
    {
     "name": "stdout",
     "output_type": "stream",
     "text": [
      "[1.05686999 1.98964492]\n"
     ]
    }
   ],
   "source": [
    "print(ml_estimator.param)"
   ]
  },
  {
   "cell_type": "code",
   "execution_count": null,
   "metadata": {},
   "outputs": [],
   "source": []
  }
 ],
 "metadata": {
  "kernelspec": {
   "display_name": "Python 3",
   "language": "python",
   "name": "python3"
  },
  "language_info": {
   "codemirror_mode": {
    "name": "ipython",
    "version": 3
   },
   "file_extension": ".py",
   "mimetype": "text/x-python",
   "name": "python",
   "nbconvert_exporter": "python",
   "pygments_lexer": "ipython3",
   "version": "3.6.5"
  }
 },
 "nbformat": 4,
 "nbformat_minor": 2
}
