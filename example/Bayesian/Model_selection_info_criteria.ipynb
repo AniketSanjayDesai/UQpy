{
 "cells": [
  {
   "cell_type": "markdown",
   "metadata": {},
   "source": [
    "# Model selection using information criteria\n",
    "\n",
    "author: Audrey Olivier\n",
    "\n",
    "Theory background: model selection refers to the task of selecting a statistical model from a set of candidate models, given some data. A good model is amodel that is able to explain the data well (high model evidence). Given models of same explanatory power, the simplest model should be chosen (Ockam razor). Several simple criteria can be used to compute a model's quality and thus perform model selection. UQpy implements three citeria: \n",
    "<br>\n",
    "Bayesian information criterion (BIC)\n",
    "$$ BIC = ln(n) k - 2 ln(\\hat{L}) $$\n",
    "\n",
    "Akaike information criterion (AIC)\n",
    "$$ AIC = 2 k - 2 ln (\\hat{L})  $$\n",
    "\n",
    "Corrected formula for AIC (AICc), for small data sets \n",
    "$$ AICc = AIC + \\frac{2k(k+1)}{n-k-1} $$\n",
    "\n",
    "For all formula above, $k$ is the number of parameters characterizing the model, $\\hat{L}$ is the maximum value of the likelihood function and $n$ the number of data points. The best model is the one that minimizes the cirterion. All three formulas have a model fit term (find the model that minimizes the negative log likelihood) and a penalty term that increases as the number of model parameters (model complexity) increases.\n",
    "\n",
    "Reference: *Burnham, K. P.; Anderson, D. R. (2002), Model Selection and Multimodel Inference: A Practical Information-Theoretic Approach (2nd ed.), Springer-Verlag, ISBN 0-387-95364-7*"
   ]
  },
  {
   "cell_type": "markdown",
   "metadata": {},
   "source": [
    "## Example 1: selection between different distributions"
   ]
  },
  {
   "cell_type": "code",
   "execution_count": 1,
   "metadata": {},
   "outputs": [],
   "source": [
    "# import the required packages\n",
    "from UQpy.Inference import InfoModelSelection\n",
    "from UQpy.Inference import Model\n",
    "import numpy as np\n",
    "import matplotlib.pyplot as plt"
   ]
  },
  {
   "cell_type": "code",
   "execution_count": 2,
   "metadata": {},
   "outputs": [
    {
     "name": "stdout",
     "output_type": "stream",
     "text": [
      "(200,)\n"
     ]
    }
   ],
   "source": [
    "# Generate data using one model a gamma distribution with shape 1, same as exponential\n",
    "from scipy.stats import gamma\n",
    "data = gamma(a = 2, loc = 0, scale = 1).rvs(size=200)\n",
    "print(data.shape)"
   ]
  },
  {
   "cell_type": "code",
   "execution_count": 3,
   "metadata": {},
   "outputs": [],
   "source": [
    "# Define the models to be compared, for each model one must create an instance of the model class\n",
    "model_names = ['exponential', 'gamma', 'chisquare']\n",
    "candidate_models = []\n",
    "for idx, model_name in enumerate(model_names):\n",
    "    M = Model(model_name = model_name, model_type = 'pdf')\n",
    "    candidate_models.append(M)"
   ]
  },
  {
   "cell_type": "code",
   "execution_count": 4,
   "metadata": {},
   "outputs": [
    {
     "name": "stdout",
     "output_type": "stream",
     "text": [
      "Sorted model using BIC criterion: gamma, chisquare, exponential\n",
      "Sorted model using AIC criterion: gamma, chisquare, exponential\n",
      "Sorted model using AICc criterion: gamma, chisquare, exponential\n"
     ]
    },
    {
     "data": {
      "image/png": "[encoded data removed]",
      "text/plain": [
       "<Figure size 432x288 with 1 Axes>"
      ]
     },
     "metadata": {},
     "output_type": "display_data"
    },
    {
     "name": "stdout",
     "output_type": "stream",
     "text": [
      "Shape parameter of the gamma distribution: 1.7420918378417303\n",
      "DoF of the chisquare distribution: 3.484192227544465\n"
     ]
    }
   ],
   "source": [
    "# Perform model selection using different information criteria\n",
    "criteria = ['BIC', 'AIC', 'AICc']\n",
    "for criterion in criteria:\n",
    "    selector = InfoModelSelection(candidate_models = candidate_models, data = data, method = criterion)\n",
    "    print('Sorted model using '+criterion+' criterion: '+', '.join(x for x in selector.sorted_names))\n",
    "    if criterion == 'BIC':\n",
    "        criterion_value = selector.sorted_criteria\n",
    "        sorted_names = selector.sorted_names\n",
    "        param = selector.sorted_params\n",
    "        \n",
    "width = 0.5\n",
    "ind = np.arange(len(sorted_names))\n",
    "p1 = plt.bar(ind, criterion_value, width = width)\n",
    "#p2 = plt.bar(ind, criterion_value-data_fit_value, bottom=data_fit_value, width = width)\n",
    "\n",
    "plt.ylabel('BIC criterion')\n",
    "plt.title('Model selection using BIC criterion: model fit vs. Ockam razor')\n",
    "plt.xticks(ind, sorted_names)\n",
    "#plt.legend((p1[0], p2[0]), ('Data fit', 'Ockam razor'))\n",
    "\n",
    "plt.show()\n",
    "\n",
    "print('Shape parameter of the gamma distribution: {}'.format(param[sorted_names.index('gamma')][0]))\n",
    "print('DoF of the chisquare distribution: {}'.format(param[sorted_names.index('chisquare')][0]))"
   ]
  },
  {
   "cell_type": "markdown",
   "metadata": {},
   "source": [
    "Note that here both the chisquare and gamma are capable of explaining the data, with $a = \\nu/2$, $a$ is gamma's shape parameter and $\\nu$ is the number of DOFs in chi-square distribution."
   ]
  },
  {
   "cell_type": "markdown",
   "metadata": {},
   "source": [
    "## Example 2: model selection in regression -  $y=F \\theta + \\epsilon$"
   ]
  },
  {
   "cell_type": "code",
   "execution_count": 5,
   "metadata": {
    "scrolled": true
   },
   "outputs": [
    {
     "name": "stdout",
     "output_type": "stream",
     "text": [
      "(1, 2)\n",
      "\n",
      "Evaluating the model...\n",
      "\n",
      "[ -1.37200218  -0.54569096   1.19828642   3.73505042   1.82434539\n",
      "   2.208737     5.18563877   4.58972896   6.34636184   9.61070494\n",
      "  10.21507034  12.5919968   14.07333321  17.20826646  18.57379675\n",
      "  20.91960758  23.88425625  26.94969384  29.59039279  33.87604969\n",
      "  37.69898691  41.66998642  45.64525827  49.60427122  54.14047467\n",
      "  56.38219489  60.85448632  67.11596395  71.37400699  75.94674187\n",
      "  82.09676522  86.63743391  93.1513355   97.81197167 103.75225611\n",
      " 108.79980545 117.66231588 121.06075701 127.53765457 134.55550249\n",
      " 140.98409012 147.73796643 153.823276   163.01734388 169.73037696\n",
      " 177.2665467  186.12088283 193.5714814  202.11620222 207.67170708]\n"
     ]
    }
   ],
   "source": [
    "# Generate data from a quadratic function\n",
    "from scipy.stats import multivariate_normal\n",
    "from UQpy.RunModel import RunModel\n",
    "\n",
    "param_true = np.array([1.0, 2.0]).reshape(1, -1)\n",
    "error_covariance = np.eye(50)\n",
    "print(param_true.shape)\n",
    "\n",
    "z = RunModel(samples=param_true, model_type='python', model_script='pfn_quadratic.py')\n",
    "data = z.model_eval.QOI[0]+multivariate_normal.rvs(mean=None, cov=error_covariance, size=1)\n",
    "print(data)"
   ]
  },
  {
   "cell_type": "code",
   "execution_count": 6,
   "metadata": {},
   "outputs": [],
   "source": [
    "# Create instances of the Model class for three models: linear, quadratic and cubic\n",
    "names = ['linear', 'quadratic', 'cubic']\n",
    "candidate_models = []\n",
    "for i in range(3):\n",
    "    M = Model(model_type='python', model_script='pfn_'+names[i]+'.py',model_name=names[i],\n",
    "              error_covariance=error_covariance, n_params=i+1)\n",
    "    candidate_models.append(M)"
   ]
  },
  {
   "cell_type": "code",
   "execution_count": 7,
   "metadata": {},
   "outputs": [
    {
     "name": "stdout",
     "output_type": "stream",
     "text": [
      "Sorted models:  ['quadratic', 'cubic', 'linear']\n",
      "Value of criteria:  [139.1409339868657, 140.7505046135372, 25473.960788551904]\n",
      "Value of penalty term (complexity) [7.824046010856292, 11.736069016284437, 3.912023005428146]\n",
      "[0.69099717 0.30900283 0.        ]\n"
     ]
    }
   ],
   "source": [
    "# Perform model selection using BIC criterion\n",
    "selector = InfoModelSelection(candidate_models = candidate_models, data = data, method = 'BIC')\n",
    "print('Sorted models: ', selector.sorted_names)\n",
    "print('Value of criteria: ', selector.sorted_criteria)\n",
    "print('Value of penalty term (complexity)', selector.sorted_penalty_terms)\n",
    "print(selector.sorted_probabilities)"
   ]
  },
  {
   "cell_type": "code",
   "execution_count": 8,
   "metadata": {},
   "outputs": [
    {
     "name": "stdout",
     "output_type": "stream",
     "text": [
      "\n",
      "Evaluating the model...\n",
      "\n",
      "\n",
      "Evaluating the model...\n",
      "\n",
      "\n",
      "Evaluating the model...\n",
      "\n"
     ]
    },
    {
     "data": {
      "image/png": "[encoded data removed]",
      "text/plain": [
       "<Figure size 576x432 with 1 Axes>"
      ]
     },
     "metadata": {},
     "output_type": "display_data"
    }
   ],
   "source": [
    "# Plot the results\n",
    "domain = np.linspace(0, 10, 50)\n",
    "fig, ax = plt.subplots(figsize=(8,6))\n",
    "\n",
    "for i in range(3):\n",
    "    z = RunModel(samples=selector.sorted_params[i].reshape((1,-1)), model_type='python', \n",
    "                 model_script='pfn_'+selector.sorted_names[i]+'.py')\n",
    "    y = z.model_eval.QOI[0]\n",
    "    ax.plot(domain, y, label = selector.sorted_names[i])\n",
    "\n",
    "plt.plot(domain, data, linestyle='none', marker='.', label='data')\n",
    "plt.xlabel('x')\n",
    "plt.ylabel('y')\n",
    "    \n",
    "plt.legend()\n",
    "plt.show()"
   ]
  },
  {
   "cell_type": "markdown",
   "metadata": {},
   "source": [
    "For this case, one can observe that both the quadratic and cubic model are capable of explaining the data. The cubic model is penalized due to its higher complexity (penalty_term) and thus the quadratic model is preferred."
   ]
  },
  {
   "cell_type": "code",
   "execution_count": null,
   "metadata": {},
   "outputs": [],
   "source": []
  }
 ],
 "metadata": {
  "kernelspec": {
   "display_name": "Python 3",
   "language": "python",
   "name": "python3"
  },
  "language_info": {
   "codemirror_mode": {
    "name": "ipython",
    "version": 3
   },
   "file_extension": ".py",
   "mimetype": "text/x-python",
   "name": "python",
   "nbconvert_exporter": "python",
   "pygments_lexer": "ipython3",
   "version": "3.6.5"
  }
 },
 "nbformat": 4,
 "nbformat_minor": 2
}
