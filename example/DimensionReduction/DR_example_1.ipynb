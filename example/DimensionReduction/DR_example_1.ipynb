{
 "cells": [
  {
   "cell_type": "markdown",
   "metadata": {},
   "source": [
    "# Grassmann Manifold\n",
    "\n",
    "Author: Ketson R. M. dos Santos,  \n",
    "Date: March 24, 2020   \n",
    "\n",
    "This example shows how to use the UQpy Grassmann class to\n",
    "* project points onto the Grassmann manifold;\n",
    "* calculate the pairwise distances;\n",
    "* compute the affinity matrix."
   ]
  },
  {
   "cell_type": "markdown",
   "metadata": {},
   "source": [
    "Import the necessary libraries. Here we import standard libraries such as numpy and matplotlib, but also need to import the Grassmann class from UQpy implemented in the DimensionReduction module."
   ]
  },
  {
   "cell_type": "code",
   "execution_count": 1,
   "metadata": {},
   "outputs": [],
   "source": [
    "import numpy as np\n",
    "import matplotlib\n",
    "import matplotlib.pyplot as plt\n",
    "from mpl_toolkits.axes_grid1 import make_axes_locatable\n",
    "\n",
    "from DimensionReduction import Grassmann\n",
    "from Utilities import svd"
   ]
  },
  {
   "cell_type": "markdown",
   "metadata": {},
   "source": [
    "Generate the initial samples located at the vertices of a triangle. The coordinates of each vertix are stored in `nodes`."
   ]
  },
  {
   "cell_type": "code",
   "execution_count": 2,
   "metadata": {},
   "outputs": [
    {
     "data": {
      "image/png": "[encoded data removed]",
      "text/plain": [
       "<Figure size 432x288 with 1 Axes>"
      ]
     },
     "metadata": {
      "needs_background": "light"
     },
     "output_type": "display_data"
    }
   ],
   "source": [
    "nodes = np.array([[0, 0], [1, 0], [0, 1]]) # node_0, node_1, node_2.\n",
    "\n",
    "plot_ = nodes[0:]\n",
    "Xplot = plot_.T[0].tolist()\n",
    "Xplot.append(plot_[0][0])\n",
    "Yplot = plot_.T[1].tolist()\n",
    "Yplot.append(plot_[0][1])\n",
    "plt.plot(Xplot,Yplot)\n",
    "plt.plot(nodes[0][0],nodes[0][1],'ro')\n",
    "plt.plot(nodes[1][0],nodes[1][1],'ro')\n",
    "plt.plot(nodes[2][0],nodes[2][1],'ro')\n",
    "\n",
    "dt = 0.015\n",
    "plt.text(nodes[0][0]+dt,nodes[0][1]+dt,'0')\n",
    "plt.text(nodes[1][0]+dt,nodes[1][1]+dt,'1')\n",
    "plt.text(nodes[2][0]+dt,nodes[2][1]+dt,'2')\n",
    "plt.show()\n",
    "plt.close()\n",
    "\n"
   ]
  },
  {
   "cell_type": "markdown",
   "metadata": {},
   "source": [
    "Generate three random matrices with reduced rank corresponding to the different samples. The samples are stored in `Solutions`."
   ]
  },
  {
   "cell_type": "code",
   "execution_count": 3,
   "metadata": {},
   "outputs": [
    {
     "data": {
      "image/png": "[encoded data removed]",
      "text/plain": [
       "<Figure size 432x288 with 3 Axes>"
      ]
     },
     "metadata": {
      "needs_background": "light"
     },
     "output_type": "display_data"
    }
   ],
   "source": [
    "\n",
    "D1 = 4 \n",
    "r0 = 2  # rank sample 0\n",
    "r1 = 2  # rank sample 1\n",
    "r2 = 2  # rank sample 2\n",
    "\n",
    "np.random.seed(1111) # For reproducibility.\n",
    "# Solutions: original space.\n",
    "Sol0 = np.dot(np.random.rand(D1, r0),np.random.rand(r0, D1))\n",
    "Sol1 = np.dot(np.random.rand(D1, r1),np.random.rand(r1, D1))\n",
    "Sol2 = np.dot(np.random.rand(D1, r2),np.random.rand(r2, D1))\n",
    "\n",
    "# Creating a list of solutions.\n",
    "Solutions = [Sol0, Sol1, Sol2]\n",
    "\n",
    "# Plot the solutions\n",
    "fig, (ax1, ax2, ax3) = plt.subplots(1, 3)\n",
    "fig.suptitle('Solutions')\n",
    "ax1.matshow(Sol0)\n",
    "ax2.matshow(Sol1)\n",
    "ax3.matshow(Sol2)\n",
    "plt.show()"
   ]
  },
  {
   "cell_type": "markdown",
   "metadata": {},
   "source": [
    "Instatiate the UQpy class Grassmann considering the `\"grassmann_distance\"` as the a definition of distance on the manifold. Further, the method `project_points` is employed to project the solution on the Grassmann manifold where the left and right -singular vectors and the singular values are computed. Moreover, also the rank of each solution as the maximum rank among all the solutions are provided."
   ]
  },
  {
   "cell_type": "code",
   "execution_count": 4,
   "metadata": {},
   "outputs": [],
   "source": [
    "# Project each point onto the Grassmann manifold and estimate the ranks.\n",
    "Gr = Grassmann(distance_object=\"grassmann_distance\",kernel_object=\"projection_kernel\")\n",
    "\n",
    "psi_, sigma_, phi_, max_rank_, rank_ = Gr.project_points(Solutions)\n",
    "phi_ = np.array([phi_[0].T, phi_[1].T, phi_[2].T]) # Taking the transpose."
   ]
  },
  {
   "cell_type": "markdown",
   "metadata": {},
   "source": [
    "The pairwise distances are estimated. In this regard, the distances are computed for the nodes 0 and 1, 0 and 2, and 1 and 2, respectively. "
   ]
  },
  {
   "cell_type": "code",
   "execution_count": 5,
   "metadata": {},
   "outputs": [
    {
     "name": "stdout",
     "output_type": "stream",
     "text": [
      "[2.317789520677502, 2.5564740572879026, 2.642634229878192]\n"
     ]
    }
   ],
   "source": [
    "Distances = Gr.distance(psi_)\n",
    "\n",
    "print(Distances)"
   ]
  },
  {
   "cell_type": "markdown",
   "metadata": {},
   "source": [
    "Compute the affinity matrix using the method `kernel` using the projection kernel via `kernel_object = \"projection_kernel\"`."
   ]
  },
  {
   "cell_type": "code",
   "execution_count": 6,
   "metadata": {},
   "outputs": [
    {
     "data": {
      "image/png": "[encoded data removed]",
      "text/plain": [
       "<Figure size 432x288 with 2 Axes>"
      ]
     },
     "metadata": {
      "needs_background": "light"
     },
     "output_type": "display_data"
    }
   ],
   "source": [
    "Kernel_matrix = Gr.kernel(psi_)\n",
    "\n",
    "# Plot the solutions\n",
    "fig, ax1 = plt.subplots(1, 1)\n",
    "im=ax1.matshow(Kernel_matrix)\n",
    "\n",
    "divider = make_axes_locatable(ax1)\n",
    "cax = divider.append_axes(\"right\", size=\"5%\", pad=0.05)\n",
    "plt.colorbar(im, cax=cax, ticks=[0, 0.5, 1, 1.5, 2], label='value')\n",
    "plt.show()"
   ]
  },
  {
   "cell_type": "code",
   "execution_count": null,
   "metadata": {},
   "outputs": [],
   "source": []
  }
 ],
 "metadata": {
  "kernelspec": {
   "display_name": "Python 3",
   "language": "python",
   "name": "python3"
  },
  "language_info": {
   "codemirror_mode": {
    "name": "ipython",
    "version": 3
   },
   "file_extension": ".py",
   "mimetype": "text/x-python",
   "name": "python",
   "nbconvert_exporter": "python",
   "pygments_lexer": "ipython3",
   "version": "3.7.4"
  }
 },
 "nbformat": 4,
 "nbformat_minor": 2
}
