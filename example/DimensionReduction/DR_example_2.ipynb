{
 "cells": [
  {
   "cell_type": "markdown",
   "metadata": {},
   "source": [
    "# Grassmann Manifold\n",
    "\n",
    "Author: Ketson R. M. dos Santos,  \n",
    "Date: March 24, 2020   \n",
    "\n",
    "This example shows how to use the UQpy Grassmann class to\n",
    "* compute the Karcher mean;\n",
    "* map the points on the Grassmann manifold on the tangent space and vice versa;\n",
    "* interpolate a sample in the tangent space."
   ]
  },
  {
   "cell_type": "markdown",
   "metadata": {},
   "source": [
    "Import the necessary libraries. Here we import standard libraries such as numpy and matplotlib, but also need to import the Grassmann class from UQpy implemented in the DimensionReduction module."
   ]
  },
  {
   "cell_type": "code",
   "execution_count": 1,
   "metadata": {},
   "outputs": [],
   "source": [
    "import numpy as np\n",
    "import matplotlib\n",
    "import matplotlib.pyplot as plt\n",
    "from mpl_toolkits.axes_grid1 import make_axes_locatable\n",
    "\n",
    "from DimensionReduction import Grassmann\n",
    "from Utilities import svd"
   ]
  },
  {
   "cell_type": "markdown",
   "metadata": {},
   "source": [
    "Generate the initial samples located at the vertices of a triangle. The coordinates of each vertix are stored in `nodes` and `point` contain the point to be interpolated on the tangent space."
   ]
  },
  {
   "cell_type": "code",
   "execution_count": 2,
   "metadata": {},
   "outputs": [
    {
     "data": {
      "image/png": "[encoded data removed]",
      "text/plain": [
       "<Figure size 432x288 with 1 Axes>"
      ]
     },
     "metadata": {
      "needs_background": "light"
     },
     "output_type": "display_data"
    }
   ],
   "source": [
    "nodes = np.array([[0, 0], [1, 0], [0, 1]]) # node_0, node_1, node_2.\n",
    "point = np.array([0.1, 0.1]) # Point to interpolate.\n",
    "\n",
    "plot_ = nodes[0:]\n",
    "Xplot = plot_.T[0].tolist()\n",
    "Xplot.append(plot_[0][0])\n",
    "Yplot = plot_.T[1].tolist()\n",
    "Yplot.append(plot_[0][1])\n",
    "plt.plot(Xplot,Yplot)\n",
    "plt.plot(nodes[0][0],nodes[0][1],'ro')\n",
    "plt.plot(nodes[1][0],nodes[1][1],'ro')\n",
    "plt.plot(nodes[2][0],nodes[2][1],'ro')\n",
    "plt.plot(point[0],point[1],'bo')\n",
    "\n",
    "dt = 0.015\n",
    "plt.text(nodes[0][0]+dt,nodes[0][1]+dt,'0')\n",
    "plt.text(nodes[1][0]+dt,nodes[1][1]+dt,'1')\n",
    "plt.text(nodes[2][0]+dt,nodes[2][1]+dt,'2')\n",
    "plt.text(point[0]+dt,point[1]+dt,'p')\n",
    "plt.show()\n",
    "plt.close()\n"
   ]
  },
  {
   "cell_type": "markdown",
   "metadata": {},
   "source": [
    "Generate three random matrices with reduced rank corresponding to the different samples. The samples are stored in `Solutions`."
   ]
  },
  {
   "cell_type": "code",
   "execution_count": 3,
   "metadata": {},
   "outputs": [
    {
     "data": {
      "image/png": "[encoded data removed]",
      "text/plain": [
       "<Figure size 432x288 with 3 Axes>"
      ]
     },
     "metadata": {
      "needs_background": "light"
     },
     "output_type": "display_data"
    }
   ],
   "source": [
    "D1 = 6 \n",
    "r0 = 2  # rank sample 0\n",
    "r1 = 3  # rank sample 1\n",
    "r2 = 4  # rank sample 2\n",
    "\n",
    "np.random.seed(1111) # For reproducibility.\n",
    "# Solutions: original space.\n",
    "Sol0 = np.dot(np.random.rand(D1, r0),np.random.rand(r0, D1))\n",
    "Sol1 = np.dot(np.random.rand(D1, r1),np.random.rand(r1, D1))\n",
    "Sol2 = np.dot(np.random.rand(D1, r2),np.random.rand(r2, D1))\n",
    "\n",
    "# Creating a list of solutions.\n",
    "Solutions = [Sol0, Sol1, Sol2]\n",
    "\n",
    "# Plot the solutions\n",
    "fig, (ax1, ax2, ax3) = plt.subplots(1, 3)\n",
    "fig.suptitle('Solutions')\n",
    "ax1.title.set_text('Solution 0')\n",
    "ax1.imshow(Sol0)\n",
    "ax2.title.set_text('Solution 1')\n",
    "ax2.imshow(Sol1)\n",
    "ax3.title.set_text('Solution 2')\n",
    "ax3.imshow(Sol2)\n",
    "plt.show()"
   ]
  },
  {
   "cell_type": "markdown",
   "metadata": {},
   "source": [
    "Instatiate the UQpy class Grassmann considering the `\"grassmann_distance\"` as the a definition of distance on the manifold. Further, the method `project_points` is employed to project the solution on the Grassmann manifold where the left and right -singular vectors and the singular values are computed. Moreover, also the rank of each solution as the maximum rank among all the solutions are provided."
   ]
  },
  {
   "cell_type": "code",
   "execution_count": 4,
   "metadata": {},
   "outputs": [],
   "source": [
    "# Project each point onto the Grassmann manifold and estimate the ranks.\n",
    "Gr = Grassmann(distance_object=\"grassmann_distance\", interp_object=\"linear_interp\",kernel_object=\"projection_kernel\", karcher_object=\"gradient_descent\")\n",
    "\n",
    "psi, sigma, phi, max_rank, rank = Gr.project_points(Solutions)\n",
    "phi = np.array([phi[0].T, phi[1].T, phi[2].T]) # Taking the transpose."
   ]
  },
  {
   "cell_type": "markdown",
   "metadata": {},
   "source": [
    "Compute the Karcher mean for $\\Psi$ and $\\Phi$, the left and right -singular eigenvectors, respectively, of singular value decomposition of each solution."
   ]
  },
  {
   "cell_type": "code",
   "execution_count": 5,
   "metadata": {},
   "outputs": [],
   "source": [
    "karcher_mean_Psi = Gr.karcher_mean(psi, acc=True, tol=1e-3, maxiter=1000)\n",
    "karcher_mean_Phi = Gr.karcher_mean(phi, acc=True, tol=1e-3, maxiter=1000)"
   ]
  },
  {
   "cell_type": "markdown",
   "metadata": {},
   "source": [
    "Rearrange the singular values $\\Sigma$ of each solution as a diagonal matrix."
   ]
  },
  {
   "cell_type": "code",
   "execution_count": 6,
   "metadata": {},
   "outputs": [
    {
     "name": "stdout",
     "output_type": "stream",
     "text": [
      "[array([3.15151543e+00, 1.01592369e-01, 2.69674168e-16, 7.74655398e-17]), array([4.45175241e+00, 5.69544093e-01, 1.19793937e-01, 1.69307663e-16]), array([6.32474411, 0.73398804, 0.3728332 , 0.15442486])]\n"
     ]
    }
   ],
   "source": [
    "print(sigma)\n",
    "\n",
    "sigma_m = []\n",
    "for i in range(len(sigma)):\n",
    "    sigma_m.append(np.diag(sigma[i]))"
   ]
  },
  {
   "cell_type": "markdown",
   "metadata": {},
   "source": [
    "Select the Karcher mean as a reference point for $\\Psi$ and $\\Phi$ and map those points on the manifold to the tangent space generated at the reference point."
   ]
  },
  {
   "cell_type": "code",
   "execution_count": 7,
   "metadata": {},
   "outputs": [],
   "source": [
    "ref_psi = karcher_mean_Psi\n",
    "ref_phi = karcher_mean_Phi\n",
    "\n",
    "gammaPsi = Gr.log_mapping(psi, ref=ref_psi, rank_ref=max_rank)\n",
    "gammaPhi = Gr.log_mapping(phi, ref=ref_phi, rank_ref=max_rank)"
   ]
  },
  {
   "cell_type": "markdown",
   "metadata": {},
   "source": [
    "Perform the standard linear interpolation of `point` on the tangent space for $\\Psi$, $\\Phi$, and $\\Sigma$. The interpolated points are given by $\\tilde{\\Psi}$, $\\tilde{\\Phi}$, and $\\tilde{\\Sigma}$. Thus, the interpolated solution is given by $\\tilde{\\mathrm{X}}=\\tilde{\\Psi}\\tilde{\\Phi}\\tilde{\\Sigma}$."
   ]
  },
  {
   "cell_type": "code",
   "execution_count": 8,
   "metadata": {},
   "outputs": [
    {
     "name": "stdout",
     "output_type": "stream",
     "text": [
      "(1, 6, 4)\n"
     ]
    }
   ],
   "source": [
    "interpPsi = Gr.interpolate_sample(gammaPsi, coordinates=nodes, point=point)\n",
    "interpPhi = Gr.interpolate_sample(gammaPhi, coordinates=nodes, point=point)\n",
    "interpS = Gr.interpolate_sample(sigma_m, coordinates=nodes, point=point)\n",
    "\n",
    "PsiTilde = Gr.exp_mapping(interpPsi, ref=ref_psi,rank_ref=max_rank)\n",
    "PhiTilde = Gr.exp_mapping(interpPhi, ref=ref_phi,rank_ref=max_rank)\n",
    "\n",
    "print(np.shape(PsiTilde))\n",
    "PsiTilde = np.array(PsiTilde[0])\n",
    "PhiTilde = np.array(PhiTilde[0])\n",
    "SolTilde = np.dot(np.dot(PsiTilde, interpS),PhiTilde.T)"
   ]
  },
  {
   "cell_type": "markdown",
   "metadata": {},
   "source": [
    "Print the interpolated solution and compare to the given solutions associated to the different vertices of the triangle."
   ]
  },
  {
   "cell_type": "code",
   "execution_count": 9,
   "metadata": {},
   "outputs": [
    {
     "name": "stdout",
     "output_type": "stream",
     "text": [
      "[[0.65058578 0.15997151 0.63279076 0.61285645 0.60173658 0.94037845]\n",
      " [0.36356653 0.12756156 0.34794897 0.28160916 0.32153957 0.57679911]\n",
      " [0.15529489 0.03544985 0.15145383 0.15065183 0.14469022 0.2207925 ]\n",
      " [0.59300055 0.16563232 0.57383432 0.52699713 0.54082604 0.88377849]\n",
      " [0.74489157 0.23393673 0.71696915 0.62070422 0.6693657  1.14492744]\n",
      " [0.45643461 0.12005378 0.44278736 0.41748883 0.41914465 0.67025722]]\n",
      " \n",
      "[[0.60966666 0.83740533 0.31712613 0.84306651 0.58301809 1.04881107]\n",
      " [0.60785235 0.88596601 0.36718095 1.13323508 1.01713178 0.92996841]\n",
      " [0.2464859  0.39818036 0.20049917 0.61497793 0.66483533 0.34348345]\n",
      " [0.62238022 0.85848369 0.2767713  1.15025462 0.94342018 0.84554589]\n",
      " [0.71519376 0.97392451 0.34238686 1.05344459 0.7450903  1.15847017]\n",
      " [0.51218462 0.71530438 0.29063148 0.70981172 0.51250408 0.90768646]]\n",
      " \n",
      "[[1.19651614 1.32294781 1.25181197 1.62903871 0.83929742 1.20041643]\n",
      " [0.89296687 1.0550084  1.04233584 1.02247984 0.43543934 1.35114872]\n",
      " [1.75345633 1.53238807 1.49501061 1.56894136 1.00073081 1.56125466]\n",
      " [0.67963878 0.96584415 1.06136    1.10236035 0.28640793 1.39086065]\n",
      " [0.66120095 0.63683846 0.78777413 0.7386087  0.24720626 0.96078871]\n",
      " [0.87133281 0.59934149 0.71238144 0.73698925 0.45059543 0.64940399]]\n",
      "-------------------------\n",
      "[[0.90183942 0.40179079 0.85397165 0.93935432 0.94657831 1.3160416 ]\n",
      " [0.77123501 0.38775732 0.69520799 0.66731695 0.7322396  1.14557719]\n",
      " [0.15620123 0.0703204  0.14358622 0.15335002 0.15998229 0.2251203 ]\n",
      " [0.25696973 0.19835229 0.24784675 0.13399396 0.24944433 0.51066567]\n",
      " [0.78186046 0.35562434 0.68609814 0.70353989 0.74725058 1.09060255]\n",
      " [0.16000866 0.07174879 0.14241478 0.1477318  0.16773468 0.22977514]]\n"
     ]
    },
    {
     "data": {
      "image/png": "[encoded data removed]",
      "text/plain": [
       "<Figure size 432x288 with 1 Axes>"
      ]
     },
     "metadata": {
      "needs_background": "light"
     },
     "output_type": "display_data"
    },
    {
     "data": {
      "image/png": "[encoded data removed]",
      "text/plain": [
       "<Figure size 432x288 with 4 Axes>"
      ]
     },
     "metadata": {
      "needs_background": "light"
     },
     "output_type": "display_data"
    }
   ],
   "source": [
    "print(Sol0)\n",
    "print(\" \")\n",
    "print(Sol1)\n",
    "print(\" \")\n",
    "print(Sol2)\n",
    "print(\"-------------------------\")\n",
    "print(SolTilde)\n",
    "\n",
    "plot_ = nodes[0:]\n",
    "Xplot = plot_.T[0].tolist()\n",
    "Xplot.append(plot_[0][0])\n",
    "Yplot = plot_.T[1].tolist()\n",
    "Yplot.append(plot_[0][1])\n",
    "plt.plot(Xplot,Yplot)\n",
    "plt.plot(nodes[0][0],nodes[0][1],'ro')\n",
    "plt.plot(nodes[1][0],nodes[1][1],'ro')\n",
    "plt.plot(nodes[2][0],nodes[2][1],'ro')\n",
    "plt.plot(point[0],point[1],'bo')\n",
    "\n",
    "dt = 0.015\n",
    "plt.text(nodes[0][0]+dt,nodes[0][1]+dt,'0')\n",
    "plt.text(nodes[1][0]+dt,nodes[1][1]+dt,'1')\n",
    "plt.text(nodes[2][0]+dt,nodes[2][1]+dt,'2')\n",
    "plt.text(point[0]+dt,point[1]+dt,'p')\n",
    "plt.show()\n",
    "plt.close()\n",
    "\n",
    "\n",
    "# Plot the solutions\n",
    "fig, (ax1, ax2, ax3, ax4) = plt.subplots(1, 4)\n",
    "ax1.title.set_text('Solution 0')\n",
    "ax1.imshow(Sol0)\n",
    "ax2.title.set_text('Solution 1')\n",
    "ax2.imshow(Sol1)\n",
    "ax3.title.set_text('Solution 2')\n",
    "ax3.imshow(Sol2)\n",
    "ax4.title.set_text('Interpolated')\n",
    "ax4.imshow(SolTilde)\n",
    "plt.show()"
   ]
  },
  {
   "cell_type": "code",
   "execution_count": null,
   "metadata": {},
   "outputs": [],
   "source": []
  },
  {
   "cell_type": "code",
   "execution_count": null,
   "metadata": {},
   "outputs": [],
   "source": []
  }
 ],
 "metadata": {
  "kernelspec": {
   "display_name": "Python 3",
   "language": "python",
   "name": "python3"
  },
  "language_info": {
   "codemirror_mode": {
    "name": "ipython",
    "version": 3
   },
   "file_extension": ".py",
   "mimetype": "text/x-python",
   "name": "python",
   "nbconvert_exporter": "python",
   "pygments_lexer": "ipython3",
   "version": "3.7.4"
  }
 },
 "nbformat": 4,
 "nbformat_minor": 2
}
