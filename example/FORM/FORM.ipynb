{
 "cells": [
  {
   "cell_type": "markdown",
   "metadata": {},
   "source": [
    "# First Order Reliability Method (FORM)\n",
    "\n",
    "Author: Dimitris G. Giovanis,\n",
    "Date: June 27, 2018"
   ]
  },
  {
   "cell_type": "markdown",
   "metadata": {},
   "source": [
    "This example runs FORM to estimate the probability of failure of a system with linear performance function and 2-dimensional standard unit normal random variables, $U_i$ given by:\n",
    "\n",
    "$ g(U) = \\beta\\sqrt{n} -\\sum_{j=1}^2U_i$\n",
    "\n",
    "$\\beta=3$ corresponding to a true probability of failure $p_f=\\Phi(-3)=0.0013$.\n",
    "\n",
    "(It is the same example used in Subset Simulation_Example1)"
   ]
  },
  {
   "cell_type": "code",
   "execution_count": 1,
   "metadata": {
    "collapsed": true
   },
   "outputs": [],
   "source": [
    "import numpy as np\n",
    "from UQpy.Reliability import FORM"
   ]
  },
  {
   "cell_type": "code",
   "execution_count": 2,
   "metadata": {},
   "outputs": [
    {
     "name": "stdout",
     "output_type": "stream",
     "text": [
      "Running FORM...\n",
      "\n",
      "Evaluating the model...\n",
      "\n",
      "\n",
      "Evaluating the model...\n",
      "\n",
      "\n",
      "Evaluating the model...\n",
      "\n",
      "\n",
      "Evaluating the model...\n",
      "\n",
      "\n",
      "Evaluating the model...\n",
      "\n",
      "\n",
      "Evaluating the model...\n",
      "\n",
      "\n",
      "Evaluating the model...\n",
      "\n",
      "\n",
      "Evaluating the model...\n",
      "\n",
      "\n",
      "Evaluating the model...\n",
      "\n",
      "\n",
      "Evaluating the model...\n",
      "\n",
      "\n",
      "Evaluating the model...\n",
      "\n",
      "\n",
      "Evaluating the model...\n",
      "\n",
      "\n",
      "Evaluating the model...\n",
      "\n",
      "\n",
      "Evaluating the model...\n",
      "\n",
      "\n",
      "Evaluating the model...\n",
      "\n",
      "\n",
      "Evaluating the model...\n",
      "\n",
      "\n",
      "Evaluating the model...\n",
      "\n",
      "\n",
      "Evaluating the model...\n",
      "\n",
      "\n",
      "Evaluating the model...\n",
      "\n",
      "\n",
      "Evaluating the model...\n",
      "\n",
      "\n",
      "Evaluating the model...\n",
      "\n",
      "\n",
      "Evaluating the model...\n",
      "\n",
      "\n",
      "Evaluating the model...\n",
      "\n",
      "\n",
      "Evaluating the model...\n",
      "\n",
      "\n",
      "Evaluating the model...\n",
      "\n",
      "\n",
      "Evaluating the model...\n",
      "\n",
      "\n",
      "Evaluating the model...\n",
      "\n",
      "\n",
      "Evaluating the model...\n",
      "\n",
      "\n",
      "Evaluating the model...\n",
      "\n",
      "\n",
      "Evaluating the model...\n",
      "\n",
      "\n",
      "Evaluating the model...\n",
      "\n",
      "\n",
      "Evaluating the model...\n",
      "\n"
     ]
    }
   ],
   "source": [
    "Z = FORM(dimension=2, dist_name=['Normal', 'Normal'], dist_params=[[0.0, 1.0], [0.0, 1.0]],\n",
    "         init_design_point=[0, 0], model_type='python', model_script='pfn.py', deriv_script='dpfn.py', method='HLRF')"
   ]
  },
  {
   "cell_type": "code",
   "execution_count": 5,
   "metadata": {},
   "outputs": [
    {
     "name": "stdout",
     "output_type": "stream",
     "text": [
      " FORM: 15  iterations\n",
      " FORM: 2.99999774726  beta index\n",
      " FORM: 0.00134990801545  probability of failure\n",
      " FORM: [ 2.12132419  2.12132419]  design point in the standard normal space\n",
      " FORM: [ 2.12132419  2.12132419]  design point in the original space\n"
     ]
    }
   ],
   "source": [
    "# print results\n",
    "\n",
    "print(' FORM:', Z.iterations, ' iterations')\n",
    "print(' FORM:', Z.beta, ' beta index')\n",
    "print(' FORM:', Z.Pf, ' probability of failure')\n",
    "print(' FORM:', Z.u_star, ' design point in the standard normal space')\n",
    "print(' FORM:', Z.x_star, ' design point in the original space')"
   ]
  },
  {
   "cell_type": "code",
   "execution_count": null,
   "metadata": {
    "collapsed": true
   },
   "outputs": [],
   "source": []
  }
 ],
 "metadata": {
  "kernelspec": {
   "display_name": "Python 3",
   "language": "python",
   "name": "python3"
  },
  "language_info": {
   "codemirror_mode": {
    "name": "ipython",
    "version": 3
   },
   "file_extension": ".py",
   "mimetype": "text/x-python",
   "name": "python",
   "nbconvert_exporter": "python",
   "pygments_lexer": "ipython3",
   "version": "3.6.2"
  }
 },
 "nbformat": 4,
 "nbformat_minor": 2
}
