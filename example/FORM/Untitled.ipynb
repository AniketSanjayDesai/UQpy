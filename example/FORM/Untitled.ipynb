{
 "cells": [
  {
   "cell_type": "markdown",
   "metadata": {},
   "source": [
    "# First Order Reliability Method (FORM)\n",
    "\n",
    "Author: Dimitris G. Giovanis,\n",
    "Date: June 27, 2018"
   ]
  },
  {
   "cell_type": "markdown",
   "metadata": {},
   "source": [
    "Description:"
   ]
  },
  {
   "cell_type": "code",
   "execution_count": 1,
   "metadata": {
    "collapsed": true
   },
   "outputs": [],
   "source": [
    "import numpy as np\n",
    "from UQpy.Reliability import FORM"
   ]
  },
  {
   "cell_type": "code",
   "execution_count": 2,
   "metadata": {
    "collapsed": true
   },
   "outputs": [],
   "source": [
    "# Define the correlation matrix in the original space\n",
    "Rho = np.array([[1.0, 0.5], [0.5, 1.0]])"
   ]
  },
  {
   "cell_type": "code",
   "execution_count": 3,
   "metadata": {},
   "outputs": [
    {
     "name": "stdout",
     "output_type": "stream",
     "text": [
      "The samples provided must be realizations of standard normal random variables...\n",
      "running FORM...\n",
      "\n",
      "Evaluating the model...\n",
      "\n",
      "\n",
      "Evaluating the model...\n",
      "\n",
      "\n",
      "Evaluating the model...\n",
      "\n",
      "\n",
      "Evaluating the model...\n",
      "\n",
      "\n",
      "Evaluating the model...\n",
      "\n",
      "\n",
      "Evaluating the model...\n",
      "\n",
      "*FORM Method\n",
      "\n",
      "  5  iterations... Reliability index =  3.12320363761  --- Failure probability =  0.000894469633814 \n",
      "\n",
      "\n"
     ]
    }
   ],
   "source": [
    "Z = FORM(dimension=2, dist_name=['Normal', 'Normal'], dist_params=[[0, 1], [0, 1]], nsamples=100,\n",
    "         model_type='python', model_script='pfn_form_ex1.py', corr=Rho, method='HLRF')"
   ]
  },
  {
   "cell_type": "code",
   "execution_count": null,
   "metadata": {
    "collapsed": true
   },
   "outputs": [],
   "source": []
  }
 ],
 "metadata": {
  "kernelspec": {
   "display_name": "Python 3",
   "language": "python",
   "name": "python3"
  },
  "language_info": {
   "codemirror_mode": {
    "name": "ipython",
    "version": 3
   },
   "file_extension": ".py",
   "mimetype": "text/x-python",
   "name": "python",
   "nbconvert_exporter": "python",
   "pygments_lexer": "ipython3",
   "version": "3.6.2"
  }
 },
 "nbformat": 4,
 "nbformat_minor": 2
}
