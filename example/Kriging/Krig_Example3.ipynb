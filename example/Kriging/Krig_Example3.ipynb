{
 "cells": [
  {
   "cell_type": "markdown",
   "metadata": {},
   "source": [
    "# Kriging Example 3¶"
   ]
  },
  {
   "cell_type": "markdown",
   "metadata": {},
   "source": [
    "Author: Mohit S. Chauhan Date: Mar 03, 2019"
   ]
  },
  {
   "cell_type": "markdown",
   "metadata": {},
   "source": [
    "In this example, Kriging is used to generate a surrogate model for a given data. In this data, sample points are generated using STS class and functional value at sample points are estimated using a model defined in python script ('python_model_function.py)."
   ]
  },
  {
   "cell_type": "markdown",
   "metadata": {},
   "source": [
    "Import the necessary libraries. Here we import standard libraries such as numpy and matplotlib, but also need to import the STS, RunModel and Krig class from UQpy."
   ]
  },
  {
   "cell_type": "code",
   "execution_count": 1,
   "metadata": {},
   "outputs": [],
   "source": [
    "from UQpy.Surrogates import Krig\n",
    "from UQpy.SampleMethods import STS\n",
    "from UQpy.RunModel import RunModel\n",
    "import numpy as np\n",
    "import matplotlib.pyplot as plt"
   ]
  },
  {
   "cell_type": "markdown",
   "metadata": {},
   "source": [
    "Using UQpy STS class to generate samples for two random variables, which are uniformly distributed between 0 and 1."
   ]
  },
  {
   "cell_type": "code",
   "execution_count": 2,
   "metadata": {},
   "outputs": [
    {
     "name": "stdout",
     "output_type": "stream",
     "text": [
      "UQpy: Successful execution of STS design..\n"
     ]
    }
   ],
   "source": [
    "nsamples = 20\n",
    "x = STS(dimension=1, dist_name=['Gamma'], dist_params=[[2, 1, 3]], sts_design=[nsamples])"
   ]
  },
  {
   "cell_type": "markdown",
   "metadata": {},
   "source": [
    "RunModel is used to evaluate function values at sample points. Model is defined as a function in python file 'python_model_function.py'. "
   ]
  },
  {
   "cell_type": "code",
   "execution_count": 3,
   "metadata": {},
   "outputs": [
    {
     "name": "stdout",
     "output_type": "stream",
     "text": [
      "No samples. Creating the object alone.\n",
      "The model function that will be run: y_func\n",
      "\n",
      "Performing serial execution of the model without template input.\n",
      "\n"
     ]
    }
   ],
   "source": [
    "rmodel = RunModel(model_script='python_model_1Dfunction.py', verbose=True)\n",
    "rmodel.run(samples=x.samples)"
   ]
  },
  {
   "cell_type": "markdown",
   "metadata": {},
   "source": [
    "A regression model is defined, this function return the basis function and its jacobian. "
   ]
  },
  {
   "cell_type": "code",
   "execution_count": 4,
   "metadata": {},
   "outputs": [],
   "source": [
    "def Linear(s):\n",
    "    s = np.atleast_2d(s)\n",
    "    fx = np.concatenate((np.ones([np.size(s, 0), 1]), s), 1)\n",
    "    jf_b = np.zeros([np.size(s, 0), np.size(s, 1), np.size(s, 1)])\n",
    "    np.einsum('jii->ji', jf_b)[:] = 1\n",
    "    jf = np.concatenate((np.zeros([np.size(s, 0), np.size(s, 1), 1]), jf_b), 2)\n",
    "    return fx, jf"
   ]
  },
  {
   "cell_type": "markdown",
   "metadata": {},
   "source": [
    "Gaussian correlation model is defined, which retur covariance matrix and its derivatives. "
   ]
  },
  {
   "cell_type": "code",
   "execution_count": 5,
   "metadata": {},
   "outputs": [],
   "source": [
    "def Gaussian(x, s, params, dt=False, dx=False):\n",
    "    x = np.atleast_2d(x)\n",
    "    # Create stack matrix, where each block is x_i with all s\n",
    "    stack = - np.tile(np.swapaxes(np.atleast_3d(x), 1, 2), (1, np.size(s, 0), 1)) + np.tile(s, (np.size(x, 0), 1, 1))\n",
    "    rx = np.exp(np.sum(-params * (stack ** 2), axis=2))\n",
    "    drdt = -(stack ** 2) * np.transpose(np.tile(rx, (np.size(x, 1), 1, 1)), (1, 2, 0))\n",
    "    drdx = 2 * params * stack * np.transpose(np.tile(rx, (np.size(x, 1), 1, 1)), (1, 2, 0))\n",
    "    if dt:\n",
    "        return rx, drdt\n",
    "    if dx:\n",
    "        return rx, drdx\n",
    "    return rx"
   ]
  },
  {
   "cell_type": "markdown",
   "metadata": {},
   "source": [
    "Using UQpy Krig class to generate a surrogate for generated data. In this illustration, user defined regression model and correlation model are used."
   ]
  },
  {
   "cell_type": "code",
   "execution_count": 6,
   "metadata": {},
   "outputs": [
    {
     "name": "stdout",
     "output_type": "stream",
     "text": [
      "UQpy: Performing Krig...\n",
      "Done!\n"
     ]
    }
   ],
   "source": [
    "K = Krig(reg_model='Quadratic', corr_model='Gaussian', n_opt=10, dimension=1)\n",
    "K.fit(samples=x.samples, values=np.array(rmodel.qoi_list))"
   ]
  },
  {
   "cell_type": "markdown",
   "metadata": {},
   "source": [
    "Kriging surrogate is used to compute the response surface and its gradient."
   ]
  },
  {
   "cell_type": "code",
   "execution_count": 7,
   "metadata": {},
   "outputs": [],
   "source": [
    "num = 1000\n",
    "x1 = np.linspace(min(x.samples), max(x.samples), num)\n",
    "y, mse = K.interpolate(x1.reshape([num, 1]), dy=True)\n",
    "y_grad = K.jacobian(x1.reshape([num, 1]))"
   ]
  },
  {
   "cell_type": "markdown",
   "metadata": {},
   "source": [
    "Actual model is evaluated at all points to compare it with kriging surrogate."
   ]
  },
  {
   "cell_type": "code",
   "execution_count": 8,
   "metadata": {},
   "outputs": [
    {
     "name": "stdout",
     "output_type": "stream",
     "text": [
      "The model function that will be run: y_func\n",
      "\n",
      "Performing serial execution of the model without template input.\n",
      "\n",
      "(1020, 1)\n"
     ]
    }
   ],
   "source": [
    "rmodel.run(samples=x1)\n",
    "print(np.array(rmodel.qoi_list).shape)"
   ]
  },
  {
   "cell_type": "markdown",
   "metadata": {},
   "source": [
    "This plot shows the input data as blue dot, blue curve is actual function and orange curve represents response curve. This plot also shows the gradient and 95% confidence interval of the kriging surrogate."
   ]
  },
  {
   "cell_type": "code",
   "execution_count": 9,
   "metadata": {},
   "outputs": [
    {
     "data": {
      "image/png": "[encoded data removed]",
      "text/plain": [
       "<Figure size 432x288 with 1 Axes>"
      ]
     },
     "metadata": {
      "needs_background": "light"
     },
     "output_type": "display_data"
    }
   ],
   "source": [
    "fig = plt.figure()\n",
    "ax = plt.subplot(111)\n",
    "plt.plot(x1, np.array(rmodel.qoi_list)[20:1020, :], label='Sine')\n",
    "plt.plot(x1, y, label='Surrogate')\n",
    "plt.plot(x1, y_grad, label='Gradient')\n",
    "plt.scatter(K.samples, K.values, label='Data')\n",
    "plt.fill(np.concatenate([x1, x1[::-1]]),\n",
    "         np.concatenate([y - 1.9600 * mse,\n",
    "                        (y + 1.9600 * mse)[::-1]]),\n",
    "         alpha=.5, fc='y', ec='None', label='95% CI')\n",
    "#plt.legend(loc='lower right')\n",
    "# Shrink current axis by 20%\n",
    "box = ax.get_position()\n",
    "ax.set_position([box.x0, box.y0, box.width * 0.8, box.height])\n",
    "\n",
    "# Put a legend to the right of the current axis\n",
    "ax.legend(loc='center left', bbox_to_anchor=(1, 0.5))\n",
    "plt.show()"
   ]
  }
 ],
 "metadata": {
  "kernelspec": {
   "display_name": "Python 3",
   "language": "python",
   "name": "python3"
  },
  "language_info": {
   "codemirror_mode": {
    "name": "ipython",
    "version": 3
   },
   "file_extension": ".py",
   "mimetype": "text/x-python",
   "name": "python",
   "nbconvert_exporter": "python",
   "pygments_lexer": "ipython3",
   "version": "3.6.5"
  }
 },
 "nbformat": 4,
 "nbformat_minor": 2
}
