{
 "cells": [
  {
   "cell_type": "markdown",
   "metadata": {},
   "source": [
    "# Kriging Example1"
   ]
  },
  {
   "cell_type": "markdown",
   "metadata": {},
   "source": [
    "- Author: Mohit S. Chauhan \n",
    "- Date: Jan 08, 2019"
   ]
  },
  {
   "cell_type": "markdown",
   "metadata": {},
   "source": [
    "In this example, Kriging is used to generate a surrogate model for a given data. In this data, sample points are generated using STS class and functional value at sample points are estimated using a model defined in python script ('python_model_function.py)."
   ]
  },
  {
   "cell_type": "markdown",
   "metadata": {},
   "source": [
    "Import the necessary libraries. Here we import standard libraries such as numpy and matplotlib, but also need to import the STS, RunModel and Krig class from UQpy."
   ]
  },
  {
   "cell_type": "code",
   "execution_count": 1,
   "metadata": {},
   "outputs": [],
   "source": [
    "from UQpy.Surrogates import Kriging\n",
    "from UQpy.SampleMethods import STS\n",
    "from UQpy.RunModel import RunModel\n",
    "from UQpy.Distributions import Gamma\n",
    "import numpy as np\n",
    "import matplotlib.pyplot as plt"
   ]
  },
  {
   "cell_type": "markdown",
   "metadata": {},
   "source": [
    "Create a distribution object."
   ]
  },
  {
   "cell_type": "code",
   "execution_count": 2,
   "metadata": {},
   "outputs": [],
   "source": [
    "marginals = [Gamma(a= 2., loc=1., scale=3.)]"
   ]
  },
  {
   "cell_type": "markdown",
   "metadata": {},
   "source": [
    "Run stratified sampling"
   ]
  },
  {
   "cell_type": "code",
   "execution_count": 3,
   "metadata": {},
   "outputs": [],
   "source": [
    "x = STS(dist_object=marginals, sts_design=[20], stype='Rectangular')"
   ]
  },
  {
   "cell_type": "markdown",
   "metadata": {},
   "source": [
    "RunModel is used to evaluate function values at sample points. Model is defined as a function in python file 'python_model_function.py'."
   ]
  },
  {
   "cell_type": "code",
   "execution_count": 4,
   "metadata": {},
   "outputs": [
    {
     "name": "stdout",
     "output_type": "stream",
     "text": [
      "\n",
      "UQpy: The following directory has been created for model evaluations: \n",
      "/Users/mohitsinghchauhan/Documents/GitHub/UQpy/example/Kriging/Model_Runs_2020_05_28_10_06_867001_AM\n",
      "\n",
      "UQpy: The model files have been copied to the following directory for evaluation: \n",
      "/Users/mohitsinghchauhan/Documents/GitHub/UQpy/example/Kriging/Model_Runs_2020_05_28_10_06_867001_AM\n",
      "\n",
      "UQpy: No samples are provided. Creating the object and building the model directory.\n",
      "\n",
      "\n",
      "UQpy: All model evaluations will be executed from the following directory: \n",
      "/Users/mohitsinghchauhan/Documents/GitHub/UQpy/example/Kriging/Model_Runs_2020_05_28_10_06_867001_AM\n",
      "\n",
      "UQpy: The model function that will be run: y_func\n",
      "\n",
      "UQpy: Performing serial execution of a Python model.\n",
      "\n",
      "\n",
      "UQpy: Serial execution of the python model complete.\n",
      "\n",
      "\n",
      "UQpy: Returning to the parent directory:\n",
      "/Users/mohitsinghchauhan/Documents/GitHub/UQpy/example/Kriging\n"
     ]
    }
   ],
   "source": [
    "rmodel = RunModel(model_script='python_model_1Dfunction.py', verbose=True)\n",
    "rmodel.run(samples=x.samples)"
   ]
  },
  {
   "cell_type": "code",
   "execution_count": 12,
   "metadata": {},
   "outputs": [],
   "source": [
    "K = Kriging(reg_model='Constant', corr_model='Gaussian', nopt=10, corr_model_params=[1])\n",
    "K.fit(samples=x.samples, values=rmodel.qoi_list)"
   ]
  },
  {
   "cell_type": "markdown",
   "metadata": {},
   "source": [
    "Kriging surrogate is used to compute the response surface and its gradient."
   ]
  }
 ],
 "metadata": {
  "kernelspec": {
   "display_name": "Python 3",
   "language": "python",
   "name": "python3"
  },
  "language_info": {
   "codemirror_mode": {
    "name": "ipython",
    "version": 3
   },
   "file_extension": ".py",
   "mimetype": "text/x-python",
   "name": "python",
   "nbconvert_exporter": "python",
   "pygments_lexer": "ipython3",
   "version": "3.6.5"
  }
 },
 "nbformat": 4,
 "nbformat_minor": 2
}
