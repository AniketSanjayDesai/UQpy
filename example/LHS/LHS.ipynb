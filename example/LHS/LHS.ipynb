{
 "cells": [
  {
   "cell_type": "markdown",
   "metadata": {},
   "source": [
    "# Latin Hypercube Sampling\n",
    "Author: Dimitris Giovanis\n",
    "Date: May 12, 2020"
   ]
  },
  {
   "cell_type": "markdown",
   "metadata": {},
   "source": [
    "In this example, the Latin Hypercube design is employed to generate samples from a normal distribution. The method illustrates various aspects of the UQpy LHS class. "
   ]
  },
  {
   "cell_type": "markdown",
   "metadata": {},
   "source": [
    "Import the necessary libraries. Here we import standard libraries such as numpy and matplotlib, but also need to import the LHS class from UQpy."
   ]
  },
  {
   "cell_type": "code",
   "execution_count": 1,
   "metadata": {},
   "outputs": [],
   "source": [
    "import numpy as np\n",
    "import matplotlib.pyplot as plt\n",
    "import time"
   ]
  },
  {
   "cell_type": "code",
   "execution_count": 2,
   "metadata": {},
   "outputs": [],
   "source": [
    "from UQpy.Distributions import Uniform, Normal\n",
    "from UQpy.SampleMethods import LHS\n",
    "\n",
    "dist1 = Normal(loc=0., scale=1.)\n",
    "dist2 = Uniform(loc=0., scale=1.)"
   ]
  },
  {
   "cell_type": "code",
   "execution_count": 3,
   "metadata": {},
   "outputs": [
    {
     "name": "stdout",
     "output_type": "stream",
     "text": [
      "UQpy: Running Latin Hypercube sampling...\n",
      "UQpy: Achieved minimum correlation of  0.005781280943359616\n",
      "Successful execution of LHS design.\n",
      "[[0.34067521 0.        ]\n",
      " [0.12358537 0.        ]\n",
      " [0.55223932 0.13132101]\n",
      " [0.61753987 0.29902594]\n",
      " [0.83024346 0.95512777]]\n",
      "[[-0.41062106  0.00134129]\n",
      " [-1.15724875  0.61613134]\n",
      " [ 0.13132101  0.94641135]\n",
      " [ 0.29902594  0.58324007]\n",
      " [ 0.95512777  0.2994524 ]]\n"
     ]
    },
    {
     "data": {
      "image/png": "[encoded data removed]",
      "text/plain": [
       "<Figure size 432x288 with 1 Axes>"
      ]
     },
     "metadata": {
      "needs_background": "light"
     },
     "output_type": "display_data"
    },
    {
     "name": "stdout",
     "output_type": "stream",
     "text": [
      "\n",
      "UQpy: Running Latin Hypercube sampling...\n",
      "UQpy: Achieved maximum distance of  0.44081766144184664\n",
      "Successful execution of LHS design.\n",
      "[[4.50612467 0.78170156]\n",
      " [3.52017634 0.90123165]\n",
      " [3.19120877 0.08672976]\n",
      " [4.72359786 0.31643631]\n",
      " [3.86630788 0.47842145]]\n"
     ]
    },
    {
     "data": {
      "image/png": "[encoded data removed]",
      "text/plain": [
       "<Figure size 432x288 with 1 Axes>"
      ]
     },
     "metadata": {
      "needs_background": "light"
     },
     "output_type": "display_data"
    },
    {
     "name": "stdout",
     "output_type": "stream",
     "text": [
      "\n",
      "UQpy: Running Latin Hypercube sampling...\n",
      "Successful execution of LHS design.\n",
      "[[3.16261656 0.32703663]\n",
      " [4.83926826 0.8998834 ]\n",
      " [3.62316527 0.41073431]\n",
      " [4.51648216 0.64922723]\n",
      " [4.09111038 0.02517862]]\n"
     ]
    },
    {
     "data": {
      "image/png": "[encoded data removed]",
      "text/plain": [
       "<Figure size 432x288 with 1 Axes>"
      ]
     },
     "metadata": {
      "needs_background": "light"
     },
     "output_type": "display_data"
    },
    {
     "name": "stdout",
     "output_type": "stream",
     "text": [
      "\n",
      "UQpy: Running Latin Hypercube sampling...\n",
      "Successful execution of LHS design.\n",
      "[[0.1        1.47559949]\n",
      " [0.3        2.52440051]\n",
      " [0.5        3.28155157]\n",
      " [0.9        0.71844843]\n",
      " [0.7        2.        ]]\n",
      "[[0.1        0.02871656]\n",
      " [0.3        0.04456546]\n",
      " [0.5        0.0668072 ]\n",
      " [0.9        0.13566606]\n",
      " [0.7        0.09680048]]\n"
     ]
    },
    {
     "data": {
      "image/png": "[encoded data removed]",
      "text/plain": [
       "<Figure size 432x288 with 1 Axes>"
      ]
     },
     "metadata": {
      "needs_background": "light"
     },
     "output_type": "display_data"
    }
   ],
   "source": [
    "x1a = LHS(dist_object=[dist1, dist2], criterion='correlate', nsamples=5, verbose=True)\n",
    "x1a.transform_u01()\n",
    "print(x1a.samplesU01)\n",
    "print(x1a.samples)\n",
    "\n",
    "fig, ax = plt.subplots()\n",
    "plt.title('correlate-LHS design')\n",
    "plt.scatter(x1a.samples[:, 0], x1a.samples[:, 1])\n",
    "ax.set_yticks([0.0, 0.2, 0.4, 0.6, 0.8, 1.0])\n",
    "ax.set_xticks([0.0, 0.2, 0.4, 0.6, 0.8, 1.0])\n",
    "ax.yaxis.grid(True)\n",
    "ax.xaxis.grid(True)\n",
    "plt.ylim(0, 1)\n",
    "plt.xlim(0, 1)\n",
    "plt.show()\n",
    "\n",
    "\n",
    "print()\n",
    "dist1 = Uniform(loc=3, scale=2.)\n",
    "dist2 = Uniform(loc=0., scale=1.)\n",
    "x1b = LHS(dist_object=[dist1, dist2], criterion='maximin', nsamples=5, verbose=True)\n",
    "print(x1b.samples)\n",
    "\n",
    "fig, ax = plt.subplots()\n",
    "plt.title('maximin-LHS design')\n",
    "plt.scatter(x1b.samples[:, 0], x1b.samples[:, 1])\n",
    "ax.set_yticks([0.0, 0.2, 0.4, 0.6, 0.8, 1.0])\n",
    "ax.set_xticks([0.0, 0.2, 0.4, 0.6, 0.8, 1.0])\n",
    "ax.yaxis.grid(True)\n",
    "ax.xaxis.grid(True)\n",
    "plt.ylim(0, 1)\n",
    "plt.xlim(0, 1)\n",
    "plt.show()\n",
    "\n",
    "print()\n",
    "x1c = LHS(dist_object=[dist1, dist2], nsamples=5, verbose=True)\n",
    "print(x1c.samples)\n",
    "\n",
    "fig, ax = plt.subplots()\n",
    "plt.title('random-LHS design')\n",
    "plt.scatter(x1c.samples[:, 0], x1c.samples[:, 1])\n",
    "ax.set_yticks([0.0, 0.2, 0.4, 0.6, 0.8, 1.0])\n",
    "ax.set_xticks([0.0, 0.2, 0.4, 0.6, 0.8, 1.0])\n",
    "ax.yaxis.grid(True)\n",
    "ax.xaxis.grid(True)\n",
    "plt.ylim(0, 1)\n",
    "plt.xlim(0, 1)\n",
    "plt.show()\n",
    "\n",
    "print()\n",
    "dist1 = Uniform(loc=0., scale=1.)\n",
    "dist2 = Normal(loc=2., scale=1.)\n",
    "x1d = LHS(dist_object=[dist1, dist2], criterion='centered', nsamples=5, verbose=True)\n",
    "x1d.transform_u01()\n",
    "print(x1d.samples)\n",
    "print(x1d.samplesU01)\n",
    "\n",
    "fig, ax = plt.subplots()\n",
    "plt.title('centered-LHS design')\n",
    "plt.scatter(x1d.samples[:, 0], x1d.samples[:, 1])\n",
    "ax.set_yticks([0.0, 0.2, 0.4, 0.6, 0.8, 1.0])\n",
    "ax.set_xticks([0.0, 0.2, 0.4, 0.6, 0.8, 1.0])\n",
    "ax.yaxis.grid(True)\n",
    "ax.xaxis.grid(True)\n",
    "plt.ylim(0, 1)\n",
    "plt.xlim(0, 1)\n",
    "plt.show()"
   ]
  },
  {
   "cell_type": "code",
   "execution_count": 12,
   "metadata": {},
   "outputs": [
    {
     "name": "stdout",
     "output_type": "stream",
     "text": [
      "UQpy: Running Latin Hypercube sampling...\n",
      "Successful execution of LHS design.\n",
      "[[1. 1.]\n",
      " [1. 1.]\n",
      " [1. 1.]\n",
      " [1. 1.]\n",
      " [1. 1.]]\n"
     ]
    }
   ],
   "source": [
    "def distance(x):\n",
    "    return x + 1\n",
    "\n",
    "def criterion():\n",
    "    samples_in_U_ab = np.atleast_2d(np.array([1., 1.]))\n",
    "    return samples_in_U_ab\n",
    "\n",
    "dist1 = Uniform(loc=0., scale=1.)\n",
    "dist2 = Uniform(loc=0., scale=1.)\n",
    "x1e = LHS(dist_object=[dist1, dist2], nsamples=5, criterion=criterion, metric=distance, verbose=True)\n",
    "print(x1e.samples)"
   ]
  },
  {
   "cell_type": "code",
   "execution_count": 5,
   "metadata": {},
   "outputs": [
    {
     "name": "stdout",
     "output_type": "stream",
     "text": [
      "UQpy: Running Latin Hypercube sampling...\n",
      "UQpy: Achieved maximum distance of  0.4270870478099739\n",
      "Successful execution of LHS design.\n",
      "[[1.87116245e-01 9.89733914e+01]\n",
      " [2.33972232e+00 5.44494607e+01]\n",
      " [3.13414047e+00 6.78669095e+02]\n",
      " [9.79430897e-01 2.94827947e+02]\n",
      " [5.22364842e+00 1.63236110e+02]]\n",
      "[[0.18235101 0.34268401]\n",
      " [0.56744034 0.15799629]\n",
      " [0.71466677 0.93576131]\n",
      " [0.30492606 0.75376701]\n",
      " [0.9464999  0.53792109]]\n"
     ]
    }
   ],
   "source": [
    "from UQpy.Distributions import Normal, Lognormal, JointInd\n",
    "marginals = [Normal(loc=2., scale=2.), Lognormal(s=1., loc=0., scale=np.exp(5))]\n",
    "dist = JointInd(marginals=marginals)\n",
    "\n",
    "x2 = LHS(dist_object=dist, nsamples=5, criterion='maximin', verbose=True)\n",
    "x2.transform_u01()\n",
    "print(x2.samples)\n",
    "print(x2.samplesU01)"
   ]
  },
  {
   "cell_type": "code",
   "execution_count": null,
   "metadata": {},
   "outputs": [],
   "source": []
  },
  {
   "cell_type": "code",
   "execution_count": null,
   "metadata": {},
   "outputs": [],
   "source": []
  },
  {
   "cell_type": "code",
   "execution_count": null,
   "metadata": {},
   "outputs": [],
   "source": []
  }
 ],
 "metadata": {
  "kernelspec": {
   "display_name": "Python 3",
   "language": "python",
   "name": "python3"
  },
  "language_info": {
   "codemirror_mode": {
    "name": "ipython",
    "version": 3
   },
   "file_extension": ".py",
   "mimetype": "text/x-python",
   "name": "python",
   "nbconvert_exporter": "python",
   "pygments_lexer": "ipython3",
   "version": "3.7.4"
  }
 },
 "nbformat": 4,
 "nbformat_minor": 2
}
