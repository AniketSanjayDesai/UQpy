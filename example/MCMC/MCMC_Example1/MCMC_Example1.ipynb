{
 "cells": [
  {
   "cell_type": "markdown",
   "metadata": {},
   "source": [
    "# Markov Chain Monte Carlo Example 1\n",
    "Author: Michael D. Shields\n",
    "Date: May 15, 2018\n",
    "Last modified: Nov 12, 2018 by Audrey Olivier"
   ]
  },
  {
   "cell_type": "markdown",
   "metadata": {},
   "source": [
    "In this example, the Metropolis-Hastings, component-wise modified Metropolis-Hastings, and affine invariant ensemble sampler with stretch moves are employed to generate samples from a Rosenbrock distribution. The method illustrates various aspects of the UQpy MCMC class. In these illustrations, the Rosenbrock pdf is defined directly in the script as a python function. For examples where the pdf is defined using the 'custom_pdf.py' script, see Markov Chain Monte Carlo Example 2."
   ]
  },
  {
   "cell_type": "markdown",
   "metadata": {},
   "source": [
    "Import the necessary libraries. Here we import standard libraries such as numpy and matplotlib, but also need to import the MCMC class from UQpy."
   ]
  },
  {
   "cell_type": "code",
   "execution_count": 7,
   "metadata": {
    "collapsed": true
   },
   "outputs": [],
   "source": [
    "from UQpy.SampleMethods import MCMC, IS\n",
    "import numpy as np\n",
    "import matplotlib.pyplot as plt\n",
    "import time"
   ]
  },
  {
   "cell_type": "markdown",
   "metadata": {},
   "source": [
    "Define the Rosenbrock probability density function up to a scale factor. Here the pdf is defined directly in the python script. In Example 2, the pdf will be defined externally through the 'custom_pdf.py' script."
   ]
  },
  {
   "cell_type": "code",
   "execution_count": 23,
   "metadata": {},
   "outputs": [],
   "source": [
    "def Rosenbrock(x,params, copula):\n",
    "     return np.exp(-(100*(x[1]-x[0]**2)**2+(1-x[0])**2)/params[0])\n",
    "    \n",
    "def log_Rosenbrock(x, params):\n",
    "     return (-(100*(x[1]-x[0]**2)**2+(1-x[0])**2)/params[0])"
   ]
  },
  {
   "cell_type": "markdown",
   "metadata": {},
   "source": [
    "Run MCMC using the defined Rosenbrock distribution for 100 samples using the component-wise modified Metropolis-Hastings Algorithm. Here we use the following parameters.\n",
    "    - Normal proposal pdf with unit variance.\n",
    "    - Samples are accepted/rejected based on the ratio of the joint pdf. This is necessary as the dependence of the Rosenbrock pdf does not allow us to accept/reject based on independent marginals.\n",
    "    - Notice that pdf_target references the Rosenbrock function directly and does not designate it as a string.\n",
    "    - A jumping with of 1000 samples. \n",
    "    - Seed value is set to the default.\n",
    "    - No burn (nburn) is specified.\n",
    "These samples serve as the seed values for MCMC using the affine invariant ensemble sampler with stretch moves."
   ]
  },
  {
   "cell_type": "code",
   "execution_count": 24,
   "metadata": {},
   "outputs": [],
   "source": [
    "x = MCMC(dimension=2, pdf_proposal_type='Normal', pdf_proposal_scale=[1.,1.],\n",
    "         pdf_target=Rosenbrock, pdf_target_params = [20], algorithm='MH', jump=1000, nsamples=100, seed=None)"
   ]
  },
  {
   "cell_type": "markdown",
   "metadata": {},
   "source": [
    "Run MCMC using the defined Rosenbrock distribution to generate 1000 samples using the affine invariant ensemble sampler with stretch moves. Note the following:\n",
    "    - The scale parameter for the stretch moves is set to 2. This is standard from the literature. (Goodman and Weare, 2010). \n",
    "    - x.samples, the 100 samples generated above, are used as the seed for the stretch algorithm. This means we propagate an ensemble of size 100."
   ]
  },
  {
   "cell_type": "code",
   "execution_count": 25,
   "metadata": {},
   "outputs": [
    {
     "ename": "TypeError",
     "evalue": "log_Rosenbrock() got an unexpected keyword argument 'copula_params'",
     "output_type": "error",
     "traceback": [
      "\u001b[0;31m---------------------------------------------------------------------------\u001b[0m",
      "\u001b[0;31mTypeError\u001b[0m                                 Traceback (most recent call last)",
      "\u001b[0;32m<ipython-input-25-895b23aee0c7>\u001b[0m in \u001b[0;36m<module>\u001b[0;34m()\u001b[0m\n\u001b[1;32m      2\u001b[0m     \u001b[0mt\u001b[0m \u001b[0;34m=\u001b[0m \u001b[0mtime\u001b[0m\u001b[0;34m.\u001b[0m\u001b[0mtime\u001b[0m\u001b[0;34m(\u001b[0m\u001b[0;34m)\u001b[0m\u001b[0;34m\u001b[0m\u001b[0m\n\u001b[1;32m      3\u001b[0m     z = MCMC(dimension=2, pdf_proposal_type=None, pdf_proposal_scale=2,\n\u001b[0;32m----> 4\u001b[0;31m              log_pdf_target=log_Rosenbrock, pdf_target_params=[20], algorithm='Stretch', jump=1000, nsamples=1000, seed=x.samples)\n\u001b[0m\u001b[1;32m      5\u001b[0m     \u001b[0mt_stretch\u001b[0m \u001b[0;34m=\u001b[0m \u001b[0mtime\u001b[0m\u001b[0;34m.\u001b[0m\u001b[0mtime\u001b[0m\u001b[0;34m(\u001b[0m\u001b[0;34m)\u001b[0m\u001b[0;34m-\u001b[0m\u001b[0mt\u001b[0m\u001b[0;34m\u001b[0m\u001b[0m\n\u001b[1;32m      6\u001b[0m     \u001b[0mprint\u001b[0m\u001b[0;34m(\u001b[0m\u001b[0mt_stretch\u001b[0m\u001b[0;34m)\u001b[0m\u001b[0;34m\u001b[0m\u001b[0m\n",
      "\u001b[0;32m/Users/dimitrisgiovanis/PycharmProjects/UQpy/src/UQpy/SampleMethods.py\u001b[0m in \u001b[0;36m__init__\u001b[0;34m(self, dimension, pdf_proposal_type, pdf_proposal_scale, pdf_target, log_pdf_target, pdf_target_params, pdf_target_copula, pdf_target_copula_params, algorithm, jump, nsamples, seed, nburn, verbose)\u001b[0m\n\u001b[1;32m   1166\u001b[0m         \u001b[0;32mif\u001b[0m \u001b[0mself\u001b[0m\u001b[0;34m.\u001b[0m\u001b[0malgorithm\u001b[0m \u001b[0;32mis\u001b[0m \u001b[0;34m'MMH'\u001b[0m\u001b[0;34m:\u001b[0m\u001b[0;34m\u001b[0m\u001b[0m\n\u001b[1;32m   1167\u001b[0m             \u001b[0mself\u001b[0m\u001b[0;34m.\u001b[0m\u001b[0mpdf_target_type\u001b[0m \u001b[0;34m=\u001b[0m \u001b[0;32mNone\u001b[0m\u001b[0;34m\u001b[0m\u001b[0m\n\u001b[0;32m-> 1168\u001b[0;31m         \u001b[0mself\u001b[0m\u001b[0;34m.\u001b[0m\u001b[0msamples\u001b[0m\u001b[0;34m,\u001b[0m \u001b[0mself\u001b[0m\u001b[0;34m.\u001b[0m\u001b[0maccept_ratio\u001b[0m \u001b[0;34m=\u001b[0m \u001b[0mself\u001b[0m\u001b[0;34m.\u001b[0m\u001b[0mrun_mcmc\u001b[0m\u001b[0;34m(\u001b[0m\u001b[0;34m)\u001b[0m\u001b[0;34m\u001b[0m\u001b[0m\n\u001b[0m\u001b[1;32m   1169\u001b[0m \u001b[0;34m\u001b[0m\u001b[0m\n\u001b[1;32m   1170\u001b[0m     \u001b[0;32mdef\u001b[0m \u001b[0mrun_mcmc\u001b[0m\u001b[0;34m(\u001b[0m\u001b[0mself\u001b[0m\u001b[0;34m)\u001b[0m\u001b[0;34m:\u001b[0m\u001b[0;34m\u001b[0m\u001b[0m\n",
      "\u001b[0;32m/Users/dimitrisgiovanis/PycharmProjects/UQpy/src/UQpy/SampleMethods.py\u001b[0m in \u001b[0;36mrun_mcmc\u001b[0;34m(self)\u001b[0m\n\u001b[1;32m   1309\u001b[0m                 \u001b[0mcandidate\u001b[0m \u001b[0;34m=\u001b[0m \u001b[0ms0\u001b[0m \u001b[0;34m+\u001b[0m \u001b[0ms\u001b[0m \u001b[0;34m*\u001b[0m \u001b[0;34m(\u001b[0m\u001b[0msamples\u001b[0m\u001b[0;34m[\u001b[0m\u001b[0mi\u001b[0m \u001b[0;34m-\u001b[0m \u001b[0mself\u001b[0m\u001b[0;34m.\u001b[0m\u001b[0mensemble_size\u001b[0m \u001b[0;34m+\u001b[0m \u001b[0;36m1\u001b[0m\u001b[0;34m,\u001b[0m \u001b[0;34m:\u001b[0m\u001b[0;34m]\u001b[0m \u001b[0;34m-\u001b[0m \u001b[0ms0\u001b[0m\u001b[0;34m)\u001b[0m\u001b[0;34m\u001b[0m\u001b[0m\n\u001b[1;32m   1310\u001b[0m \u001b[0;34m\u001b[0m\u001b[0m\n\u001b[0;32m-> 1311\u001b[0;31m                 \u001b[0mlog_p_candidate\u001b[0m \u001b[0;34m=\u001b[0m \u001b[0mlog_pdf_\u001b[0m\u001b[0;34m(\u001b[0m\u001b[0mcandidate\u001b[0m\u001b[0;34m)\u001b[0m\u001b[0;34m\u001b[0m\u001b[0m\n\u001b[0m\u001b[1;32m   1312\u001b[0m                 \u001b[0mlog_p_current\u001b[0m \u001b[0;34m=\u001b[0m \u001b[0mlog_pdf_\u001b[0m\u001b[0;34m(\u001b[0m\u001b[0msamples\u001b[0m\u001b[0;34m[\u001b[0m\u001b[0mi\u001b[0m \u001b[0;34m-\u001b[0m \u001b[0mself\u001b[0m\u001b[0;34m.\u001b[0m\u001b[0mensemble_size\u001b[0m \u001b[0;34m+\u001b[0m \u001b[0;36m1\u001b[0m\u001b[0;34m,\u001b[0m \u001b[0;34m:\u001b[0m\u001b[0;34m]\u001b[0m\u001b[0;34m)\u001b[0m\u001b[0;34m\u001b[0m\u001b[0m\n\u001b[1;32m   1313\u001b[0m                 \u001b[0;31m# log_p_current = list_log_p_current[i - self.ensemble_size + 1]\u001b[0m\u001b[0;34m\u001b[0m\u001b[0;34m\u001b[0m\u001b[0m\n",
      "\u001b[0;31mTypeError\u001b[0m: log_Rosenbrock() got an unexpected keyword argument 'copula_params'"
     ]
    }
   ],
   "source": [
    "for _ in range(10):\n",
    "    t = time.time()\n",
    "    z = MCMC(dimension=2, pdf_proposal_type=None, pdf_proposal_scale=2,\n",
    "             log_pdf_target=log_Rosenbrock, pdf_target_params=[20], algorithm='Stretch', jump=1000, nsamples=1000, seed=x.samples)\n",
    "    t_stretch = time.time()-t\n",
    "    print(t_stretch)"
   ]
  },
  {
   "cell_type": "markdown",
   "metadata": {},
   "source": [
    "Run MCMC to generate 1000 samples from the Rosenbrock distribution using the component-wise modified Metropolis-Hastings algorithm and jumping width of 1000 samples for comparison with the stretch MCMC. Note the following:\n",
    "    - pdf_proposal_scale = 1. This assigns a unit standard deviation to both dimensions without explicitly specifying each dimension, as was the case in the previous call of the MMH algorithm."
   ]
  },
  {
   "cell_type": "code",
   "execution_count": 15,
   "metadata": {},
   "outputs": [
    {
     "name": "stdout",
     "output_type": "stream",
     "text": [
      "34.7764151096344\n"
     ]
    }
   ],
   "source": [
    "t2 = time.time()\n",
    "y = MCMC(dimension=2, pdf_proposal_type='Normal', pdf_proposal_scale=1,\n",
    "         pdf_target=Rosenbrock, pdf_target_params=[20], algorithm='MMH', jump=1000, nsamples=1000, seed=None)\n",
    "t_MMH = time.time()-t2\n",
    "print(t_MMH)"
   ]
  },
  {
   "cell_type": "markdown",
   "metadata": {},
   "source": [
    "Run MCMC to generate 1000 samples from the Rosenbrock distribution using the conventional Metropolis-Hastings algorithm and jumping width of 1000 samples for comparison with the stretch MCMC and MMH."
   ]
  },
  {
   "cell_type": "code",
   "execution_count": 16,
   "metadata": {},
   "outputs": [
    {
     "name": "stdout",
     "output_type": "stream",
     "text": [
      "24.438377141952515\n"
     ]
    }
   ],
   "source": [
    "t3 = time.time()\n",
    "w = MCMC(dimension=2, pdf_proposal_type='Normal', pdf_proposal_scale=[1,1],\n",
    "         pdf_target=Rosenbrock, pdf_target_params=[20], algorithm='MH', jump=1000, nsamples=1000, seed=None)\n",
    "t_MH = time.time()-t3\n",
    "print(t_MH)"
   ]
  },
  {
   "cell_type": "markdown",
   "metadata": {},
   "source": [
    "Finally, look at one example where the log of the target probability is given. "
   ]
  },
  {
   "cell_type": "code",
   "execution_count": 17,
   "metadata": {},
   "outputs": [
    {
     "ename": "TypeError",
     "evalue": "log_Rosenbrock() got an unexpected keyword argument 'copula_params'",
     "output_type": "error",
     "traceback": [
      "\u001b[0;31m---------------------------------------------------------------------------\u001b[0m",
      "\u001b[0;31mTypeError\u001b[0m                                 Traceback (most recent call last)",
      "\u001b[0;32m<ipython-input-17-b4987db9a907>\u001b[0m in \u001b[0;36m<module>\u001b[0;34m()\u001b[0m\n\u001b[1;32m      1\u001b[0m \u001b[0mt3\u001b[0m \u001b[0;34m=\u001b[0m \u001b[0mtime\u001b[0m\u001b[0;34m.\u001b[0m\u001b[0mtime\u001b[0m\u001b[0;34m(\u001b[0m\u001b[0;34m)\u001b[0m\u001b[0;34m\u001b[0m\u001b[0m\n\u001b[1;32m      2\u001b[0m w = MCMC(dimension=2, pdf_proposal_type='Normal', pdf_proposal_scale=[1,1],\n\u001b[0;32m----> 3\u001b[0;31m          log_pdf_target=log_Rosenbrock, pdf_target_params=[20], algorithm='MH', jump=1000, nsamples=1000, seed=None)\n\u001b[0m\u001b[1;32m      4\u001b[0m \u001b[0mt_MH\u001b[0m \u001b[0;34m=\u001b[0m \u001b[0mtime\u001b[0m\u001b[0;34m.\u001b[0m\u001b[0mtime\u001b[0m\u001b[0;34m(\u001b[0m\u001b[0;34m)\u001b[0m\u001b[0;34m-\u001b[0m\u001b[0mt3\u001b[0m\u001b[0;34m\u001b[0m\u001b[0m\n\u001b[1;32m      5\u001b[0m \u001b[0mprint\u001b[0m\u001b[0;34m(\u001b[0m\u001b[0mt_MH\u001b[0m\u001b[0;34m)\u001b[0m\u001b[0;34m\u001b[0m\u001b[0m\n",
      "\u001b[0;32m/Users/dimitrisgiovanis/PycharmProjects/UQpy/src/UQpy/SampleMethods.py\u001b[0m in \u001b[0;36m__init__\u001b[0;34m(self, dimension, pdf_proposal_type, pdf_proposal_scale, pdf_target, log_pdf_target, pdf_target_params, pdf_target_copula, pdf_target_copula_params, algorithm, jump, nsamples, seed, nburn, verbose)\u001b[0m\n\u001b[1;32m   1166\u001b[0m         \u001b[0;32mif\u001b[0m \u001b[0mself\u001b[0m\u001b[0;34m.\u001b[0m\u001b[0malgorithm\u001b[0m \u001b[0;32mis\u001b[0m \u001b[0;34m'MMH'\u001b[0m\u001b[0;34m:\u001b[0m\u001b[0;34m\u001b[0m\u001b[0m\n\u001b[1;32m   1167\u001b[0m             \u001b[0mself\u001b[0m\u001b[0;34m.\u001b[0m\u001b[0mpdf_target_type\u001b[0m \u001b[0;34m=\u001b[0m \u001b[0;32mNone\u001b[0m\u001b[0;34m\u001b[0m\u001b[0m\n\u001b[0;32m-> 1168\u001b[0;31m         \u001b[0mself\u001b[0m\u001b[0;34m.\u001b[0m\u001b[0msamples\u001b[0m\u001b[0;34m,\u001b[0m \u001b[0mself\u001b[0m\u001b[0;34m.\u001b[0m\u001b[0maccept_ratio\u001b[0m \u001b[0;34m=\u001b[0m \u001b[0mself\u001b[0m\u001b[0;34m.\u001b[0m\u001b[0mrun_mcmc\u001b[0m\u001b[0;34m(\u001b[0m\u001b[0;34m)\u001b[0m\u001b[0;34m\u001b[0m\u001b[0m\n\u001b[0m\u001b[1;32m   1169\u001b[0m \u001b[0;34m\u001b[0m\u001b[0m\n\u001b[1;32m   1170\u001b[0m     \u001b[0;32mdef\u001b[0m \u001b[0mrun_mcmc\u001b[0m\u001b[0;34m(\u001b[0m\u001b[0mself\u001b[0m\u001b[0;34m)\u001b[0m\u001b[0;34m:\u001b[0m\u001b[0;34m\u001b[0m\u001b[0m\n",
      "\u001b[0;32m/Users/dimitrisgiovanis/PycharmProjects/UQpy/src/UQpy/SampleMethods.py\u001b[0m in \u001b[0;36mrun_mcmc\u001b[0;34m(self)\u001b[0m\n\u001b[1;32m   1180\u001b[0m             log_pdf_ = partial(self.log_pdf_target, params=self.pdf_target_params,\n\u001b[1;32m   1181\u001b[0m                                copula_params=self.pdf_target_copula_params)\n\u001b[0;32m-> 1182\u001b[0;31m             \u001b[0mlog_p_current\u001b[0m \u001b[0;34m=\u001b[0m \u001b[0mlog_pdf_\u001b[0m\u001b[0;34m(\u001b[0m\u001b[0msamples\u001b[0m\u001b[0;34m[\u001b[0m\u001b[0;36m0\u001b[0m\u001b[0;34m,\u001b[0m \u001b[0;34m:\u001b[0m\u001b[0;34m]\u001b[0m\u001b[0;34m)\u001b[0m\u001b[0;34m\u001b[0m\u001b[0m\n\u001b[0m\u001b[1;32m   1183\u001b[0m \u001b[0;34m\u001b[0m\u001b[0m\n\u001b[1;32m   1184\u001b[0m             \u001b[0;31m# Loop over the samples\u001b[0m\u001b[0;34m\u001b[0m\u001b[0;34m\u001b[0m\u001b[0m\n",
      "\u001b[0;31mTypeError\u001b[0m: log_Rosenbrock() got an unexpected keyword argument 'copula_params'"
     ]
    }
   ],
   "source": [
    "t3 = time.time()\n",
    "w = MCMC(dimension=2, pdf_proposal_type='Normal', pdf_proposal_scale=[1,1],\n",
    "         log_pdf_target=log_Rosenbrock, pdf_target_params=[20], algorithm='MH', jump=1000, nsamples=1000, seed=None)\n",
    "t_MH = time.time()-t3\n",
    "print(t_MH)"
   ]
  },
  {
   "cell_type": "markdown",
   "metadata": {},
   "source": [
    "Notice the difference in computational expense.\n",
    "    - The affine invariant ensemble sampler is the least expensive computationally, but requires and ensemble of seed samples.\n",
    "    - The MMH comes at slightly larger computational expense, but requires only one seed sample.\n",
    "    - The MH is computationally burdensome. This is caused by the large effort required by the built-in python multivariate normal pdf evaluation."
   ]
  },
  {
   "cell_type": "markdown",
   "metadata": {},
   "source": [
    "Plot the sample sets from 'stretch', 'MMH', and 'MH' for comparison"
   ]
  },
  {
   "cell_type": "code",
   "execution_count": 8,
   "metadata": {},
   "outputs": [
    {
     "data": {
      "image/png": "[encoded data removed]",
      "text/plain": [
       "<Figure size 432x288 with 1 Axes>"
      ]
     },
     "metadata": {},
     "output_type": "display_data"
    },
    {
     "data": {
      "image/png": "[encoded data removed]",
      "text/plain": [
       "<Figure size 432x288 with 1 Axes>"
      ]
     },
     "metadata": {},
     "output_type": "display_data"
    },
    {
     "data": {
      "image/png": "[encoded data removed]",
      "text/plain": [
       "<Figure size 432x288 with 1 Axes>"
      ]
     },
     "metadata": {},
     "output_type": "display_data"
    }
   ],
   "source": [
    "plt.plot(z.samples[:,0],z.samples[:,1],'o')\n",
    "plt.legend(['Stretch'])\n",
    "plt.show()\n",
    "plt.plot(y.samples[:,0],y.samples[:,1],'rx')\n",
    "plt.legend(['MMH'])\n",
    "plt.show()\n",
    "plt.plot(w.samples[:,0],w.samples[:,1],'gs')\n",
    "plt.legend(['MH'])\n",
    "plt.show()"
   ]
  },
  {
   "cell_type": "markdown",
   "metadata": {
    "collapsed": true
   },
   "source": [
    "A note on the distribution of samples:\n",
    "    - For this distribution, the MH and MMH algorithms have very long correlation length (~100,000 samples, see Goodman and Weare, 2010). As a result, the affine invariant sampler with stretch moves produces a set of samples that is less correlated given a fixed jumping width of 1000 samples. "
   ]
  },
  {
   "cell_type": "markdown",
   "metadata": {},
   "source": [
    "## Importance sampling example\n",
    "\n",
    "For importance sampling, the function must be written in a way that it can evaluate multiple samples at once."
   ]
  },
  {
   "cell_type": "code",
   "execution_count": null,
   "metadata": {
    "collapsed": true
   },
   "outputs": [],
   "source": [
    "def log_Rosenbrock(x,params):\n",
    "     return (-(100*(x[:,1]-x[:,0]**2)**2+(1-x[:,0])**2)/params[0])"
   ]
  },
  {
   "cell_type": "code",
   "execution_count": null,
   "metadata": {},
   "outputs": [],
   "source": [
    "from UQpy.SampleMethods import IS\n",
    "import time\n",
    "import matplotlib.pyplot as plt\n",
    "t4 = time.time()\n",
    "u = IS(dimension=2, pdf_proposal=['uniform']*2, pdf_proposal_params=[[-8,16],[-10,60]],\n",
    "       log_pdf_target=log_Rosenbrock, pdf_target_params=[20], nsamples=500000)\n",
    "t_IS = time.time()-t4\n",
    "print(t_IS)"
   ]
  },
  {
   "cell_type": "code",
   "execution_count": 18,
   "metadata": {},
   "outputs": [
    {
     "ename": "NameError",
     "evalue": "name 'u' is not defined",
     "output_type": "error",
     "traceback": [
      "\u001b[0;31m---------------------------------------------------------------------------\u001b[0m",
      "\u001b[0;31mNameError\u001b[0m                                 Traceback (most recent call last)",
      "\u001b[0;32m<ipython-input-18-da6c1de9f089>\u001b[0m in \u001b[0;36m<module>\u001b[0;34m()\u001b[0m\n\u001b[0;32m----> 1\u001b[0;31m \u001b[0mnew_samples\u001b[0m \u001b[0;34m=\u001b[0m \u001b[0mu\u001b[0m\u001b[0;34m.\u001b[0m\u001b[0mresample\u001b[0m\u001b[0;34m(\u001b[0m\u001b[0msize\u001b[0m\u001b[0;34m=\u001b[0m\u001b[0;36m1000\u001b[0m\u001b[0;34m)\u001b[0m\u001b[0;34m\u001b[0m\u001b[0m\n\u001b[0m",
      "\u001b[0;31mNameError\u001b[0m: name 'u' is not defined"
     ]
    }
   ],
   "source": [
    "new_samples = u.resample(size=1000)"
   ]
  },
  {
   "cell_type": "code",
   "execution_count": 12,
   "metadata": {},
   "outputs": [
    {
     "data": {
      "image/png": "[encoded data removed]",
      "text/plain": [
       "<Figure size 432x288 with 1 Axes>"
      ]
     },
     "metadata": {},
     "output_type": "display_data"
    }
   ],
   "source": [
    "plt.plot(new_samples[:,0],new_samples[:,1],'gs',alpha=0.2)\n",
    "plt.legend(['IS'])\n",
    "plt.show()"
   ]
  },
  {
   "cell_type": "code",
   "execution_count": 13,
   "metadata": {},
   "outputs": [
    {
     "name": "stdout",
     "output_type": "stream",
     "text": [
      "3 1\n"
     ]
    }
   ],
   "source": [
    "a=1\n",
    "b=a\n",
    "a=a+2\n",
    "print(a, b)"
   ]
  },
  {
   "cell_type": "code",
   "execution_count": null,
   "metadata": {
    "collapsed": true
   },
   "outputs": [],
   "source": []
  }
 ],
 "metadata": {
  "kernelspec": {
   "display_name": "Python 3",
   "language": "python",
   "name": "python3"
  },
  "language_info": {
   "codemirror_mode": {
    "name": "ipython",
    "version": 3
   },
   "file_extension": ".py",
   "mimetype": "text/x-python",
   "name": "python",
   "nbconvert_exporter": "python",
   "pygments_lexer": "ipython3",
   "version": "3.6.2"
  }
 },
 "nbformat": 4,
 "nbformat_minor": 2
}
