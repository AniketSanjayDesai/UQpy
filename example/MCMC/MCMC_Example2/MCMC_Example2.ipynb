{
 "cells": [
  {
   "cell_type": "markdown",
   "metadata": {},
   "source": [
    "# Markov Chain Monte Carlo Example 2\n",
    "Author: Michael D. Shields\n",
    "Date: May 15, 2018"
   ]
  },
  {
   "cell_type": "markdown",
   "metadata": {},
   "source": [
    "In this example, the Metropolis-Hastings, component-wise modified Metropolis-Hastings, and affine invariant ensemble sampler with stretch moves are employed to generate samples from a Rosenbrock distribution. The method illustrates various aspects of the UQpy MCMC class. In these illustrations, the Rosenbrock pdf is defined using a custom distribution script located in the current working directory. For examples where the pdf is defined directly in the script as a python function, see MCMC_Example1."
   ]
  },
  {
   "cell_type": "markdown",
   "metadata": {},
   "source": [
    "Import the necessary libraries. Here we import standard libraries such as numpy and matplotlib, but also need to import the MCMC class from UQpy."
   ]
  },
  {
   "cell_type": "code",
   "execution_count": 1,
   "metadata": {},
   "outputs": [],
   "source": [
    "from UQpy.SampleMethods import MCMC\n",
    "import numpy as np\n",
    "import matplotlib.pyplot as plt\n",
    "import time"
   ]
  },
  {
   "cell_type": "markdown",
   "metadata": {},
   "source": [
    "First, a note on the definition of the target pdf: it can be defined by passing as argument the name of the script defining the custom distribution, here 'Rosenbrock'. This string can be passed into input parameters pdf_target or log_pdf_target: the former will instantiate a Distribution object and call its pdf method, the latter will instantiate a Distribution object and call its log_pdf method. The script defined in Rosenbrock.py does not possess a log_pdf method, thus if we try to pass log_pdf_target='Rosenbrock' an error is raised."
   ]
  },
  {
   "cell_type": "code",
   "execution_count": 2,
   "metadata": {},
   "outputs": [
    {
     "name": "stdout",
     "output_type": "stream",
     "text": [
      "The code cannot run because Rosenbrock.py does not possess a log_pdf method !!!!, the following error will be raised\n",
      "log_pdf_target given as a string must point to a Distribution with an existing log_pdf method.\n"
     ]
    }
   ],
   "source": [
    "# This call works\n",
    "x = MCMC(dimension=2, pdf_proposal_type='Normal', pdf_proposal_scale=[1.,1.],\n",
    "         pdf_target='Rosenbrock', pdf_target_params = [20], algorithm='MH', jump=1000, nsamples=100, seed=None)\n",
    "\n",
    "# This one does not: catch the error\n",
    "try:\n",
    "    x = MCMC(dimension=2, pdf_proposal_type='Normal', pdf_proposal_scale=[1.,1.],\n",
    "             log_pdf_target='Rosenbrock', pdf_target_params = [20], algorithm='MH', jump=1000, nsamples=100, seed=None)\n",
    "except AttributeError as e:\n",
    "    print('The code cannot run because Rosenbrock.py does not possess a log_pdf method !!!!, '\n",
    "          'the following error will be raised')\n",
    "    print(e)"
   ]
  },
  {
   "cell_type": "markdown",
   "metadata": {},
   "source": [
    "In the following, the three algorithms supported by UQpy are compared.\n",
    "\n",
    "Run MCMC using the defined Rosenbrock distribution for 100 samples using the component-wise modified Metropolis-Hastings Algorithm. Here we use the following parameters.\n",
    "    - Normal proposal pdf with unit variance.\n",
    "    - Samples are accepted/rejected based on the ratio of the joint pdf. This is necessary as the dependence of the Rosenbrock pdf does not allow us to accept/reject based on independent marginals.\n",
    "    - Notice that pdf_target references the Rosenbrock function from 'custom_pdf.py' and therefore it must be defined as a string.\n",
    "    - A jumping with of 1000 samples. \n",
    "    - Seed value is set to the default.\n",
    "    - No burn (nburn) is specified.\n",
    "These samples serve as the seed values for MCMC using the affine invariant ensemble sampler with stretch moves."
   ]
  },
  {
   "cell_type": "code",
   "execution_count": 3,
   "metadata": {},
   "outputs": [],
   "source": [
    "x = MCMC(dimension=2, pdf_proposal_type='Normal', pdf_proposal_scale=[1.,1.], pdf_target_type='joint_pdf',\n",
    "         pdf_target='Rosenbrock', pdf_target_params = [20], algorithm='MMH', jump=1000, nsamples=100, seed=None)"
   ]
  },
  {
   "cell_type": "markdown",
   "metadata": {},
   "source": [
    "Run MCMC using the defined Rosenbrock distribution to generate 1000 samples using the affine invariant ensemble sampler with stretch moves. Note the following:\n",
    "    - The scale parameter for the stretch moves is set to 2. This is standard from the literature. (Goodman and Weare, 2010). \n",
    "    - x.samples, the 100 samples generated above, are used as the seed for the stretch algorithm. This means we propagate an ensemble of size 100."
   ]
  },
  {
   "cell_type": "code",
   "execution_count": 4,
   "metadata": {},
   "outputs": [
    {
     "name": "stdout",
     "output_type": "stream",
     "text": [
      "73.26686072349548\n"
     ]
    }
   ],
   "source": [
    "t = time.time()\n",
    "z = MCMC(dimension=2, pdf_proposal_type=None, pdf_proposal_scale=2, pdf_target_type='joint_pdf',\n",
    "         pdf_target='Rosenbrock', pdf_target_params=[20], algorithm='Stretch', jump=1000, nsamples=1000, seed=x.samples)\n",
    "t_stretch = time.time()-t\n",
    "print(t_stretch)"
   ]
  },
  {
   "cell_type": "markdown",
   "metadata": {},
   "source": [
    "Run MCMC to generate 1000 samples from the Rosenbrock distribution using the component-wise modified Metropolis-Hastings algorithm and jumping width of 1000 samples for comparison with the stretch MCMC. Note the following:\n",
    "    - pdf_proposal_scale = 1. This assigns a unit standard deviation to both dimensions without explicitly specifying each dimension, as was the case in the previous call of the MMH algorithm."
   ]
  },
  {
   "cell_type": "code",
   "execution_count": 5,
   "metadata": {},
   "outputs": [
    {
     "name": "stdout",
     "output_type": "stream",
     "text": [
      "108.57260394096375\n"
     ]
    }
   ],
   "source": [
    "t2 = time.time()\n",
    "y = MCMC(dimension=2, pdf_proposal_type='Normal', pdf_proposal_scale=1, pdf_target_type='joint_pdf',\n",
    "         pdf_target='Rosenbrock', pdf_target_params=[20], algorithm='MMH', jump=1000, nsamples=1000, seed=None)\n",
    "t_MMH = time.time()-t2\n",
    "print(t_MMH)"
   ]
  },
  {
   "cell_type": "markdown",
   "metadata": {},
   "source": [
    "Run MCMC to generate 1000 samples from the Rosenbrock distribution using the conventional Metropolis-Hastings algorithm and jumping width of 1000 samples for comparison with the stretch MCMC and MMH."
   ]
  },
  {
   "cell_type": "code",
   "execution_count": 6,
   "metadata": {},
   "outputs": [
    {
     "name": "stdout",
     "output_type": "stream",
     "text": [
      "49.2527916431427\n"
     ]
    }
   ],
   "source": [
    "t3 = time.time()\n",
    "w = MCMC(dimension=2, pdf_proposal_type='Normal', pdf_proposal_scale=[1,1], pdf_target_type='joint_pdf',\n",
    "         pdf_target='Rosenbrock', pdf_target_params=[20], algorithm='MH', jump=1000, nsamples=1000, seed=None)\n",
    "t_MH = time.time()-t3\n",
    "print(t_MH)"
   ]
  },
  {
   "cell_type": "markdown",
   "metadata": {},
   "source": [
    "Notice the difference in computational expense.\n",
    "    - The affine invariant ensemble sampler is the least expensive computationally, but requires and ensemble of seed samples.\n",
    "    - The MMH comes at slightly larger computational expense, but requires only one seed sample.\n",
    "    - The MH is computationally burdensome. This is caused by the large effort required by the built-in python multivariate normal pdf evaluation."
   ]
  },
  {
   "cell_type": "markdown",
   "metadata": {},
   "source": [
    "Plot the sample sets from 'stretch', 'MMH', and 'MH' for comparison"
   ]
  },
  {
   "cell_type": "code",
   "execution_count": 7,
   "metadata": {},
   "outputs": [
    {
     "data": {
      "image/png": "[encoded data removed]",
      "text/plain": [
       "<Figure size 432x288 with 1 Axes>"
      ]
     },
     "metadata": {},
     "output_type": "display_data"
    },
    {
     "data": {
      "image/png": "[encoded data removed]",
      "text/plain": [
       "<Figure size 432x288 with 1 Axes>"
      ]
     },
     "metadata": {},
     "output_type": "display_data"
    },
    {
     "data": {
      "image/png": "[encoded data removed]",
      "text/plain": [
       "<Figure size 432x288 with 1 Axes>"
      ]
     },
     "metadata": {},
     "output_type": "display_data"
    }
   ],
   "source": [
    "plt.plot(z.samples[:,0],z.samples[:,1],'o')\n",
    "plt.legend(['Stretch'])\n",
    "plt.show()\n",
    "plt.plot(y.samples[:,0],y.samples[:,1],'rx')\n",
    "plt.legend(['MMH'])\n",
    "plt.show()\n",
    "plt.plot(w.samples[:,0],w.samples[:,1],'gs')\n",
    "plt.legend(['MH'])\n",
    "plt.show()"
   ]
  },
  {
   "cell_type": "markdown",
   "metadata": {
    "collapsed": true
   },
   "source": [
    "A note on the distribution of samples:\n",
    "    - For this distribution, the MH and MMH algorithms have very long correlation length (~100,000 samples, see Goodman and Weare, 2010). As a result, the affine invariant sampler with stretch moves produces a set of samples that is less correlated given a fixed jumping width of 1000 samples. "
   ]
  },
  {
   "cell_type": "code",
   "execution_count": null,
   "metadata": {},
   "outputs": [],
   "source": []
  }
 ],
 "metadata": {
  "kernelspec": {
   "display_name": "Python 3",
   "language": "python",
   "name": "python3"
  },
  "language_info": {
   "codemirror_mode": {
    "name": "ipython",
    "version": 3
   },
   "file_extension": ".py",
   "mimetype": "text/x-python",
   "name": "python",
   "nbconvert_exporter": "python",
   "pygments_lexer": "ipython3",
   "version": "3.6.5"
  }
 },
 "nbformat": 4,
 "nbformat_minor": 2
}
