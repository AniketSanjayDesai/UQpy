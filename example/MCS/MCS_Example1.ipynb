{
 "cells": [
  {
   "cell_type": "markdown",
   "metadata": {},
   "source": [
    "# Monte Carlo sampling\n",
    "\n",
    "Author: Dimitris G. Giovanis,  \n",
    "Date: June 20, 2018  \n",
    "Last Modified: Dimitris G. Giovanis\n",
    "Date: May 5, 2020  \n",
    "UQpy Version 3.0"
   ]
  },
  {
   "cell_type": "markdown",
   "metadata": {},
   "source": [
    "In this example, a Monte Carlo sampling is employed to generate samples utilizing the UQpy MCS class. "
   ]
  },
  {
   "cell_type": "markdown",
   "metadata": {},
   "source": [
    "Import the necessary libraries. Here we import standard libraries such as numpy and matplotlib, but also need to import the MCS class from UQpy."
   ]
  },
  {
   "cell_type": "code",
   "execution_count": 1,
   "metadata": {},
   "outputs": [],
   "source": [
    "from UQpy.SampleMethods import MCS\n",
    "import numpy as np\n",
    "import matplotlib.pyplot as plt\n",
    "import time"
   ]
  },
  {
   "cell_type": "code",
   "execution_count": 2,
   "metadata": {},
   "outputs": [
    {
     "name": "stdout",
     "output_type": "stream",
     "text": [
      "UQpy: Running Monte Carlo Sampling.\n",
      "UQpy: Monte Carlo Sampling Complete.\n",
      "[[ 1.62434536  1.78862847]\n",
      " [-0.61175641  0.43650985]\n",
      " [-0.52817175  0.09649747]\n",
      " [-1.07296862 -1.8634927 ]\n",
      " [ 0.86540763 -0.2773882 ]]\n",
      "(5, 2)\n"
     ]
    }
   ],
   "source": [
    "from UQpy.Distributions import Normal, DistributionContinuous1D\n",
    "dist1 = Normal(loc=0., scale=1.)\n",
    "dist2 = Normal(loc=0., scale=1.)\n",
    "\n",
    "x = MCS(dist_object=[dist1,dist2], nsamples=5, random_state=[1,3],  verbose=True)\n",
    "print(x.samples)\n",
    "print(x.samples.shape)"
   ]
  },
  {
   "cell_type": "code",
   "execution_count": 3,
   "metadata": {},
   "outputs": [
    {
     "name": "stdout",
     "output_type": "stream",
     "text": [
      "<UQpy.SampleMethods.MCS object at 0x1a155c0f10>\n",
      "UQpy: Running Monte Carlo Sampling.\n",
      "UQpy: Monte Carlo Sampling Complete.\n",
      "[[ 1.62434536  1.78862847]\n",
      " [-0.61175641  0.43650985]\n",
      " [-0.52817175  0.09649747]\n",
      " [-1.07296862 -1.8634927 ]\n",
      " [ 0.86540763 -0.2773882 ]\n",
      " [ 1.62434536  1.78862847]\n",
      " [-0.61175641  0.43650985]]\n",
      "(7, 2)\n"
     ]
    }
   ],
   "source": [
    "print(x)\n",
    "x.run(nsamples=2)\n",
    "print(x.samples)\n",
    "print(x.samples.shape)"
   ]
  },
  {
   "cell_type": "code",
   "execution_count": 9,
   "metadata": {},
   "outputs": [
    {
     "name": "stdout",
     "output_type": "stream",
     "text": [
      "[[0.94784894 0.96316267]\n",
      " [0.27034947 0.66876657]\n",
      " [0.29869007 0.53843726]\n",
      " [0.1416426  0.03119649]\n",
      " [0.80659245 0.39074102]\n",
      " [0.94784894 0.96316267]\n",
      " [0.27034947 0.66876657]]\n"
     ]
    }
   ],
   "source": [
    "x.transform_u01()\n",
    "print(x.samplesU01)"
   ]
  },
  {
   "cell_type": "code",
   "execution_count": 10,
   "metadata": {},
   "outputs": [
    {
     "name": "stdout",
     "output_type": "stream",
     "text": [
      "UQpy: Running Monte Carlo Sampling.\n",
      "UQpy: Monte Carlo Sampling Complete.\n",
      "[[[ 3.38736185  2.23541269]\n",
      "  [ 3.38736185  2.23541269]]\n",
      "\n",
      " [[ 0.08946208  0.8979547 ]\n",
      "  [ 0.08946208  0.8979547 ]]\n",
      "\n",
      " [[ 2.53138343  3.06057229]\n",
      "  [ 2.53138343  3.06057229]]\n",
      "\n",
      " [[ 5.72159837  0.30657467]\n",
      "  [ 5.72159837  0.30657467]]\n",
      "\n",
      " [[-1.71534735  1.97285583]\n",
      "  [-1.71534735  1.97285583]]]\n"
     ]
    }
   ],
   "source": [
    "from UQpy.Distributions import MVNormal\n",
    "dist = MVNormal(mean=[1., 2.], cov=[[4., -0.9], [-0.9, 1.]])\n",
    "\n",
    "x1 = MCS(dist_object=[dist,dist],  nsamples=5, random_state=[123,123],  verbose=True)\n",
    "print(x1.samples)"
   ]
  },
  {
   "cell_type": "code",
   "execution_count": null,
   "metadata": {},
   "outputs": [],
   "source": [
    "x1.run(nsamples=3)\n",
    "print(x1.samples)"
   ]
  },
  {
   "cell_type": "code",
   "execution_count": null,
   "metadata": {},
   "outputs": [],
   "source": [
    "x1.transform_u01()\n",
    "print(x1.samplesU01)"
   ]
  },
  {
   "cell_type": "code",
   "execution_count": null,
   "metadata": {},
   "outputs": [],
   "source": [
    "xa = MCS(dist_object=dist1, nsamples=5, random_state=4,  verbose=True)\n",
    "print(xa.samples)\n",
    "xa.run(nsamples=2)\n",
    "print(xa.samples)\n",
    "xa.transform_u01()\n",
    "print(xa.samplesU01)"
   ]
  },
  {
   "cell_type": "code",
   "execution_count": 8,
   "metadata": {},
   "outputs": [
    {
     "name": "stdout",
     "output_type": "stream",
     "text": [
      "UQpy: Running Monte Carlo Sampling.\n",
      "UQpy: Monte Carlo Sampling Complete.\n",
      "[[array([-1.0856306]) array([-0.83200198,  1.47575068])]\n",
      " [array([0.99734545]) array([0.12660467, 4.25853655])]\n",
      " [array([0.2829785]) array([1.45766791, 2.22319604])]\n",
      " [array([-1.50629471]) array([4.21709802, 1.36547484])]\n",
      " [array([-0.57860025]) array([-0.82195525,  3.32333297])]]\n",
      "5\n"
     ]
    }
   ],
   "source": [
    "x2 = MCS(dist_object=[dist1, dist], nsamples=5, random_state=[123,None],  verbose=True)\n",
    "print(x2.samples)\n",
    "print(len(x2.samples))\n"
   ]
  },
  {
   "cell_type": "code",
   "execution_count": null,
   "metadata": {},
   "outputs": [],
   "source": [
    "x2.run(nsamples=2)\n",
    "print(len(x2.samples))"
   ]
  },
  {
   "cell_type": "code",
   "execution_count": null,
   "metadata": {},
   "outputs": [],
   "source": [
    "new_samples = x2.samples[:][1]\n",
    "\n",
    "samples = np.zeros(shape=(len(x2.samples), len(x2.samples[1])))\n",
    "for i in range(len(x2.samples)):\n",
    "    samples[i, :] = x2.samples[i][1]\n",
    "print(samples)\n",
    "print(len(samples[0]))"
   ]
  },
  {
   "cell_type": "code",
   "execution_count": null,
   "metadata": {},
   "outputs": [],
   "source": [
    "x3 = MCS(dist_object=[dist1, dist1], nsamples=5, random_state=[123,None],  verbose=True)\n",
    "print(x3.samples)\n",
    "print(len(x3.samples[0]))\n"
   ]
  },
  {
   "cell_type": "code",
   "execution_count": null,
   "metadata": {},
   "outputs": [],
   "source": [
    "fig, ax = plt.subplots()\n",
    "plt.title('MCS design')\n",
    "plt.scatter(samples[:, 0], samples[:, 1])\n",
    "ax.yaxis.grid(True)\n",
    "ax.xaxis.grid(True)\n",
    "plt.show()"
   ]
  },
  {
   "cell_type": "code",
   "execution_count": null,
   "metadata": {},
   "outputs": [],
   "source": [
    "fig, ax = plt.subplots()\n",
    "plt.title('Histogram:parameter #1')\n",
    "plt.hist(x.samples[:, 0])\n",
    "ax.yaxis.grid(True)\n",
    "ax.xaxis.grid(True)\n",
    "\n",
    "fig, ax = plt.subplots()\n",
    "plt.title('Histogram:parameter #2')\n",
    "plt.hist(x.samples[:, 1])\n",
    "ax.yaxis.grid(True)\n",
    "ax.xaxis.grid(True)\n",
    "plt.show()"
   ]
  },
  {
   "cell_type": "markdown",
   "metadata": {},
   "source": [
    "When the sample method is called, the new samples are automatically appended to the existing samples."
   ]
  },
  {
   "cell_type": "code",
   "execution_count": null,
   "metadata": {},
   "outputs": [],
   "source": [
    "from UQpy.Distributions import MVNormal\n",
    "dist = MVNormal(mean=[1., 2.], cov=[[4., -0.9], [-0.9, 1.]])\n",
    "\n",
    "x1 = MCS(dist_object=dist, nsamples=5, random_state=123, verbose=True)\n",
    "print(x1.samples)"
   ]
  },
  {
   "cell_type": "code",
   "execution_count": null,
   "metadata": {},
   "outputs": [],
   "source": [
    "print(np.shape(x.samples))\n",
    "fig, ax = plt.subplots()\n",
    "plt.title('MCS design')\n",
    "plt.scatter(x1.samples[:, 0], x1.samples[:, 1], marker='o')\n",
    "ax.yaxis.grid(True)\n",
    "ax.xaxis.grid(True)\n",
    "plt.show()"
   ]
  },
  {
   "cell_type": "code",
   "execution_count": null,
   "metadata": {},
   "outputs": [],
   "source": [
    "x2 = MCS(dist_object=[dist1, dist], nsamples=5, random_state=123,  verbose=True)\n",
    "#print(x2.samples)\n",
    "print(np.array(x2.temp))"
   ]
  },
  {
   "cell_type": "code",
   "execution_count": null,
   "metadata": {},
   "outputs": [],
   "source": [
    "from UQpy.Distributions import Binomial\n",
    "dist3 = Binomial(n=5, p=0.4)\n",
    "x3 = MCS(dist_object=[dist1, dist3], nsamples=5, verbose=True)"
   ]
  },
  {
   "cell_type": "code",
   "execution_count": null,
   "metadata": {},
   "outputs": [],
   "source": [
    "print(np.shape(x.samples))\n",
    "fig, ax = plt.subplots()\n",
    "plt.title('MCS design')\n",
    "plt.scatter(x3.samples[:, 0], x3.samples[:, 1], marker='o')\n",
    "ax.yaxis.grid(True)\n",
    "ax.xaxis.grid(True)\n",
    "plt.show()"
   ]
  },
  {
   "cell_type": "code",
   "execution_count": null,
   "metadata": {},
   "outputs": [],
   "source": [
    "x3.run(nsamples=100)"
   ]
  },
  {
   "cell_type": "code",
   "execution_count": null,
   "metadata": {},
   "outputs": [],
   "source": [
    "print(x3.samples.shape[0])"
   ]
  },
  {
   "cell_type": "code",
   "execution_count": 11,
   "metadata": {},
   "outputs": [],
   "source": [
    "from UQpy.Distributions import Normal, Lognormal, JointInd\n",
    "marginals = [Normal(loc=2., scale=2.), Lognormal(s=1., loc=0., scale=np.exp(5))]\n",
    "dist = JointInd(marginals=marginals)"
   ]
  },
  {
   "cell_type": "code",
   "execution_count": 13,
   "metadata": {},
   "outputs": [
    {
     "name": "stdout",
     "output_type": "stream",
     "text": [
      "<UQpy.Distributions.Normal object at 0x1a155e1690>\n"
     ]
    }
   ],
   "source": [
    "from UQpy.SampleMethods import LHS\n"
   ]
  },
  {
   "cell_type": "code",
   "execution_count": null,
   "metadata": {},
   "outputs": [],
   "source": []
  }
 ],
 "metadata": {
  "kernelspec": {
   "display_name": "Python 3",
   "language": "python",
   "name": "python3"
  },
  "language_info": {
   "codemirror_mode": {
    "name": "ipython",
    "version": 3
   },
   "file_extension": ".py",
   "mimetype": "text/x-python",
   "name": "python",
   "nbconvert_exporter": "python",
   "pygments_lexer": "ipython3",
   "version": "3.7.4"
  }
 },
 "nbformat": 4,
 "nbformat_minor": 2
}
