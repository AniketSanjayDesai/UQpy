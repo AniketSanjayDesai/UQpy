{
 "cells": [
  {
   "cell_type": "markdown",
   "metadata": {},
   "source": [
    "# Monte Carlo sampling using UQpy\n",
    "\n",
    "Author: Dimitris G. Giovanis,  \n",
    "Date: May 13, 2020  \n",
    "UQpy Version 3.0"
   ]
  },
  {
   "cell_type": "code",
   "execution_count": 1,
   "metadata": {},
   "outputs": [],
   "source": [
    "#Import the necessary libraries. Here we import standard libraries such as numpy and matplotlib, \n",
    "# but also need to import the MCS class from UQpy.\n",
    "from UQpy.SampleMethods import MCS\n",
    "import numpy as np\n",
    "import matplotlib.pyplot as plt\n",
    "import time"
   ]
  },
  {
   "cell_type": "code",
   "execution_count": 2,
   "metadata": {},
   "outputs": [
    {
     "name": "stdout",
     "output_type": "stream",
     "text": [
      "UQpy: Running Monte Carlo Sampling.\n",
      "UQpy: Monte Carlo Sampling Complete.\n",
      "\n",
      "MCS samples: [[ 1.62434536  1.78862847]\n",
      " [-0.61175641  0.43650985]\n",
      " [-0.52817175  0.09649747]\n",
      " [-1.07296862 -1.8634927 ]\n",
      " [ 0.86540763 -0.2773882 ]]\n"
     ]
    },
    {
     "data": {
      "image/png": "[encoded data removed]",
      "text/plain": [
       "<Figure size 432x288 with 1 Axes>"
      ]
     },
     "metadata": {
      "needs_background": "light"
     },
     "output_type": "display_data"
    },
    {
     "data": {
      "image/png": "[encoded data removed]",
      "text/plain": [
       "<Figure size 432x288 with 1 Axes>"
      ]
     },
     "metadata": {
      "needs_background": "light"
     },
     "output_type": "display_data"
    },
    {
     "data": {
      "image/png": "[encoded data removed]",
      "text/plain": [
       "<Figure size 432x288 with 1 Axes>"
      ]
     },
     "metadata": {
      "needs_background": "light"
     },
     "output_type": "display_data"
    },
    {
     "name": "stdout",
     "output_type": "stream",
     "text": [
      "UQpy: Running Monte Carlo Sampling.\n",
      "UQpy: Monte Carlo Sampling Complete.\n",
      "\n",
      "MCS extended samples: [[ 1.62434536  1.78862847]\n",
      " [-0.61175641  0.43650985]\n",
      " [-0.52817175  0.09649747]\n",
      " [-1.07296862 -1.8634927 ]\n",
      " [ 0.86540763 -0.2773882 ]\n",
      " [ 1.62434536  1.78862847]\n",
      " [-0.61175641  0.43650985]]\n",
      "\n",
      "MCS transformed samples: [[0.94784894 0.96316267]\n",
      " [0.27034947 0.66876657]\n",
      " [0.29869007 0.53843726]\n",
      " [0.1416426  0.03119649]\n",
      " [0.80659245 0.39074102]\n",
      " [0.94784894 0.96316267]\n",
      " [0.27034947 0.66876657]]\n"
     ]
    }
   ],
   "source": [
    "# Import the necessary Distributions from Distribution class to create the Distribution object\n",
    "# We are going to run MCS for two  standard normal N(0,1) random variables. We set the random_state in order\n",
    "# to reproduce the results.\n",
    "from UQpy.Distributions import Normal\n",
    "dist1 = Normal(loc=0., scale=1.)\n",
    "dist2 = Normal(loc=0., scale=1.)\n",
    "\n",
    "x = MCS(dist_object=[dist1,dist2], nsamples=5, random_state=[1,3],  verbose=True)\n",
    "print()\n",
    "print('MCS samples:', x.samples)\n",
    "#plot the samples\n",
    "fig, ax = plt.subplots()\n",
    "plt.title('MC sampling')\n",
    "plt.scatter(x.samples[:, 0], x.samples[:, 1], marker='o')\n",
    "ax.yaxis.grid(True)\n",
    "ax.xaxis.grid(True)\n",
    "plt.show()\n",
    "\n",
    "fig, ax = plt.subplots()\n",
    "plt.title('Histogram:parameter #1')\n",
    "plt.hist(x.samples[:, 0])\n",
    "ax.yaxis.grid(True)\n",
    "ax.xaxis.grid(True)\n",
    "\n",
    "fig, ax = plt.subplots()\n",
    "plt.title('Histogram:parameter #2')\n",
    "plt.hist(x.samples[:, 1])\n",
    "ax.yaxis.grid(True)\n",
    "ax.xaxis.grid(True)\n",
    "plt.show()\n",
    "\n",
    "# Use the MCS.run method in order to add 2 samples in the existing ones.\n",
    "x.run(nsamples=2)\n",
    "print()\n",
    "print('MCS extended samples:', x.samples)\n",
    "\n",
    "# Use the MCS.transform_u01 method in order transform the samples to the Uniform [0,1] space.\n",
    "x.transform_u01()\n",
    "print()\n",
    "print('MCS transformed samples:', x.samplesU01)\n"
   ]
  },
  {
   "cell_type": "code",
   "execution_count": 3,
   "metadata": {},
   "outputs": [
    {
     "name": "stdout",
     "output_type": "stream",
     "text": [
      "UQpy: Running Monte Carlo Sampling.\n",
      "UQpy: Monte Carlo Sampling Complete.\n",
      "\n",
      "MCS samples: [[ 3.38736185  2.23541269]\n",
      " [ 0.08946208  0.8979547 ]\n",
      " [ 2.53138343  3.06057229]\n",
      " [ 5.72159837  0.30657467]\n",
      " [-1.71534735  1.97285583]]\n"
     ]
    },
    {
     "data": {
      "image/png": "[encoded data removed]",
      "text/plain": [
       "<Figure size 432x288 with 1 Axes>"
      ]
     },
     "metadata": {
      "needs_background": "light"
     },
     "output_type": "display_data"
    },
    {
     "name": "stdout",
     "output_type": "stream",
     "text": [
      "UQpy: Running Monte Carlo Sampling.\n",
      "UQpy: Monte Carlo Sampling Complete.\n",
      "\n",
      "MCS extended samples: [[ 3.38736185  2.23541269]\n",
      " [ 0.08946208  0.8979547 ]\n",
      " [ 2.53138343  3.06057229]\n",
      " [ 5.72159837  0.30657467]\n",
      " [-1.71534735  1.97285583]\n",
      " [ 3.38736185  2.23541269]\n",
      " [ 0.08946208  0.8979547 ]]\n"
     ]
    },
    {
     "ename": "ValueError",
     "evalue": "UQpy: All Distributions must have a cdf method.",
     "output_type": "error",
     "traceback": [
      "\u001b[0;31m---------------------------------------------------------------------------\u001b[0m",
      "\u001b[0;31mValueError\u001b[0m                                Traceback (most recent call last)",
      "\u001b[0;32m<ipython-input-3-a14eeb3fa36b>\u001b[0m in \u001b[0;36m<module>\u001b[0;34m\u001b[0m\n\u001b[1;32m     21\u001b[0m \u001b[0;34m\u001b[0m\u001b[0m\n\u001b[1;32m     22\u001b[0m \u001b[0;31m# Use the MCS.transform_u01 method in order transform the samples to the Uniform [0,1] space.\u001b[0m\u001b[0;34m\u001b[0m\u001b[0;34m\u001b[0m\u001b[0;34m\u001b[0m\u001b[0m\n\u001b[0;32m---> 23\u001b[0;31m \u001b[0mx1\u001b[0m\u001b[0;34m.\u001b[0m\u001b[0mtransform_u01\u001b[0m\u001b[0;34m(\u001b[0m\u001b[0;34m)\u001b[0m\u001b[0;34m\u001b[0m\u001b[0;34m\u001b[0m\u001b[0m\n\u001b[0m",
      "\u001b[0;32m~/PythonProjects/UQpy/src/UQpy/SampleMethods.py\u001b[0m in \u001b[0;36mtransform_u01\u001b[0;34m(self)\u001b[0m\n\u001b[1;32m    245\u001b[0m                 \u001b[0mself\u001b[0m\u001b[0;34m.\u001b[0m\u001b[0msamplesU01\u001b[0m \u001b[0;34m=\u001b[0m \u001b[0mzi\u001b[0m\u001b[0;34m\u001b[0m\u001b[0;34m\u001b[0m\u001b[0m\n\u001b[1;32m    246\u001b[0m             \u001b[0;32melse\u001b[0m\u001b[0;34m:\u001b[0m\u001b[0;34m\u001b[0m\u001b[0;34m\u001b[0m\u001b[0m\n\u001b[0;32m--> 247\u001b[0;31m                 \u001b[0;32mraise\u001b[0m \u001b[0mValueError\u001b[0m\u001b[0;34m(\u001b[0m\u001b[0;34m'UQpy: All Distributions must have a cdf method.'\u001b[0m\u001b[0;34m)\u001b[0m\u001b[0;34m\u001b[0m\u001b[0;34m\u001b[0m\u001b[0m\n\u001b[0m\u001b[1;32m    248\u001b[0m \u001b[0;34m\u001b[0m\u001b[0m\n\u001b[1;32m    249\u001b[0m         \u001b[0;32melif\u001b[0m \u001b[0misinstance\u001b[0m\u001b[0;34m(\u001b[0m\u001b[0mself\u001b[0m\u001b[0;34m.\u001b[0m\u001b[0mdist_object\u001b[0m\u001b[0;34m,\u001b[0m \u001b[0mlist\u001b[0m\u001b[0;34m)\u001b[0m \u001b[0;32mand\u001b[0m \u001b[0mself\u001b[0m\u001b[0;34m.\u001b[0m\u001b[0mlist\u001b[0m \u001b[0;32mis\u001b[0m \u001b[0;32mTrue\u001b[0m\u001b[0;34m:\u001b[0m\u001b[0;34m\u001b[0m\u001b[0;34m\u001b[0m\u001b[0m\n",
      "\u001b[0;31mValueError\u001b[0m: UQpy: All Distributions must have a cdf method."
     ]
    }
   ],
   "source": [
    "# We are going to run MCS for a multivariate normal distribution random variables.\n",
    "from UQpy.Distributions import MVNormal\n",
    "dist = MVNormal(mean=[1., 2.], cov=[[4., -0.9], [-0.9, 1.]])\n",
    "\n",
    "x1 = MCS(dist_object=dist,  nsamples=5, random_state=123,  verbose=True)\n",
    "print()\n",
    "print('MCS samples:', x1.samples)\n",
    "\n",
    "#plot the samples\n",
    "fig, ax = plt.subplots()\n",
    "plt.title('MC sampling')\n",
    "plt.scatter(x1.samples[:, 0], x1.samples[:, 1], marker='o')\n",
    "ax.yaxis.grid(True)\n",
    "ax.xaxis.grid(True)\n",
    "plt.show()\n",
    "\n",
    "# Use the MCS.run method in order to add 2 samples in the existing ones.\n",
    "x1.run(nsamples=2)\n",
    "print()\n",
    "print('MCS extended samples:', x1.samples)\n",
    "\n",
    "# Use the MCS.transform_u01 method in order transform the samples to the Uniform [0,1] space.\n",
    "x1.transform_u01()"
   ]
  },
  {
   "cell_type": "code",
   "execution_count": 4,
   "metadata": {},
   "outputs": [
    {
     "name": "stdout",
     "output_type": "stream",
     "text": [
      "UQpy: Running Monte Carlo Sampling.\n",
      "UQpy: Monte Carlo Sampling Complete.\n",
      "\n",
      "MCS samples: [[array([-1.0856306]) array([0.20315466, 1.79671698])]\n",
      " [array([0.99734545]) array([ 0.15088617, -0.03811277])]\n",
      " [array([0.2829785]) array([1.90135716, 3.91287139])]\n",
      " [array([-1.50629471]) array([-1.99964198,  2.3630528 ])]\n",
      " [array([-0.57860025]) array([-3.14561604,  2.25771879])]]\n",
      "\n",
      "MVNormal samples: [[ 0.20315466  1.79671698]\n",
      " [ 0.15088617 -0.03811277]\n",
      " [ 1.90135716  3.91287139]\n",
      " [-1.99964198  2.3630528 ]\n",
      " [-3.14561604  2.25771879]]\n",
      "UQpy: Running Monte Carlo Sampling.\n",
      "UQpy: Monte Carlo Sampling Complete.\n",
      "\n",
      "MCS extended samples: [[array([-1.0856306]) array([0.20315466, 1.79671698])]\n",
      " [array([0.99734545]) array([ 0.15088617, -0.03811277])]\n",
      " [array([0.2829785]) array([1.90135716, 3.91287139])]\n",
      " [array([-1.50629471]) array([-1.99964198,  2.3630528 ])]\n",
      " [array([-0.57860025]) array([-3.14561604,  2.25771879])]\n",
      " [array([-1.0856306]) array([-0.61977072,  3.28656899])]\n",
      " [array([0.99734545]) array([4.56140644, 1.41101868])]]\n"
     ]
    }
   ],
   "source": [
    "# We are going to run MCS for a multivariate normal distribution and a standard normal distribution.\n",
    "x2 = MCS(dist_object=[dist1, dist], nsamples=5, random_state=[123,None],  verbose=True)\n",
    "print()\n",
    "print('MCS samples:', x2.samples)\n",
    "\n",
    "# Extract samples for the multivariate distribution \n",
    "samples = np.zeros(shape=(len(x2.samples), len(x2.samples[1])))\n",
    "for i in range(len(x2.samples)):\n",
    "    samples[i, :] = x2.samples[i][1]\n",
    "print()\n",
    "print('MVNormal samples:', samples)\n",
    "\n",
    "# Use the MCS.run method in order to add 2 samples in the existing ones.\n",
    "x2.run(nsamples=2)\n",
    "print()\n",
    "print('MCS extended samples:', x2.samples)"
   ]
  },
  {
   "cell_type": "code",
   "execution_count": 5,
   "metadata": {},
   "outputs": [
    {
     "name": "stdout",
     "output_type": "stream",
     "text": [
      "UQpy: Running Monte Carlo Sampling.\n",
      "UQpy: Monte Carlo Sampling Complete.\n",
      "\n",
      "MCS samples: [[[ 0.4723144 ]\n",
      "  [ 1.        ]]\n",
      "\n",
      " [[ 0.93491776]\n",
      "  [ 2.        ]]\n",
      "\n",
      " [[-0.98608945]\n",
      "  [ 1.        ]]\n",
      "\n",
      " [[-2.44073117]\n",
      "  [ 2.        ]]\n",
      "\n",
      " [[ 0.76390751]\n",
      "  [ 4.        ]]]\n"
     ]
    }
   ],
   "source": [
    "# Draw samples from a continuous and discrete distribution\n",
    "from UQpy.Distributions import Binomial\n",
    "dist3 = Binomial(n=5, p=0.4)\n",
    "x3 = MCS(dist_object=[dist1, dist3], nsamples=5, verbose=True)\n",
    "\n",
    "print()\n",
    "print('MCS samples:', x3.samples)"
   ]
  },
  {
   "cell_type": "code",
   "execution_count": null,
   "metadata": {},
   "outputs": [],
   "source": []
  },
  {
   "cell_type": "code",
   "execution_count": null,
   "metadata": {},
   "outputs": [],
   "source": []
  }
 ],
 "metadata": {
  "kernelspec": {
   "display_name": "Python 3",
   "language": "python",
   "name": "python3"
  },
  "language_info": {
   "codemirror_mode": {
    "name": "ipython",
    "version": 3
   },
   "file_extension": ".py",
   "mimetype": "text/x-python",
   "name": "python",
   "nbconvert_exporter": "python",
   "pygments_lexer": "ipython3",
   "version": "3.7.4"
  }
 },
 "nbformat": 4,
 "nbformat_minor": 2
}
