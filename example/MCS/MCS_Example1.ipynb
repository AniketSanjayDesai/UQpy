{
 "cells": [
  {
   "cell_type": "markdown",
   "metadata": {},
   "source": [
    "# Monte Carlo sampling\n",
    "\n",
    "Author: Dimitris G. Giovanis,  \n",
    "Date: June 20, 2018  \n",
    "Last Modified: Dimitris G. Giovanis\n",
    "Date: May 5, 2020  \n",
    "UQpy Version 3.0"
   ]
  },
  {
   "cell_type": "markdown",
   "metadata": {},
   "source": [
    "In this example, a Monte Carlo sampling is employed to generate samples utilizing the UQpy MCS class. "
   ]
  },
  {
   "cell_type": "markdown",
   "metadata": {},
   "source": [
    "Import the necessary libraries. Here we import standard libraries such as numpy and matplotlib, but also need to import the MCS class from UQpy."
   ]
  },
  {
   "cell_type": "code",
   "execution_count": 1,
   "metadata": {},
   "outputs": [],
   "source": [
    "from UQpy.SampleMethods import MCS\n",
    "import numpy as np\n",
    "import matplotlib.pyplot as plt\n",
    "import time"
   ]
  },
  {
   "cell_type": "code",
   "execution_count": 17,
   "metadata": {},
   "outputs": [
    {
     "name": "stdout",
     "output_type": "stream",
     "text": [
      "UQpy: Running Monte Carlo Sampling.\n",
      "UQpy: Monte Carlo Sampling Complete.\n",
      "[array([[1.62434536],\n",
      "       [1.78862847]]), array([[-0.61175641],\n",
      "       [ 0.43650985]]), array([[-0.52817175],\n",
      "       [ 0.09649747]]), array([[-1.07296862],\n",
      "       [-1.8634927 ]]), array([[ 0.86540763],\n",
      "       [-0.2773882 ]])]\n",
      "2\n"
     ]
    }
   ],
   "source": [
    "from UQpy.Distributions import Normal, DistributionContinuous1D\n",
    "dist1 = Normal(loc=0., scale=1.)\n",
    "dist2 = Normal(loc=0., scale=1.)\n",
    "x = MCS(dist_object=[dist1,dist2], nsamples=5, random_state=[1,3],  verbose=True)\n",
    "print(x.samples)\n",
    "print(len(x.samples[0]))"
   ]
  },
  {
   "cell_type": "code",
   "execution_count": 5,
   "metadata": {},
   "outputs": [
    {
     "name": "stdout",
     "output_type": "stream",
     "text": [
      "<UQpy.SampleMethods.MCS object at 0x1a1a8bf150>\n",
      "UQpy: Running Monte Carlo Sampling.\n",
      "UQpy: Monte Carlo Sampling Complete.\n",
      "[array([[1.62434536],\n",
      "       [0.05056171]]), array([[-0.61175641],\n",
      "       [ 0.49995133]]), array([[-0.52817175],\n",
      "       [-0.99590893]]), array([[-1.07296862],\n",
      "       [ 0.69359851]]), array([[ 0.86540763],\n",
      "       [-0.41830152]]), array([[-1.0856306 ],\n",
      "       [ 0.21326612]]), array([[ 0.99734545],\n",
      "       [-0.09189941]]), array([[1.62434536],\n",
      "       [0.05056171]]), array([[-0.61175641],\n",
      "       [ 0.49995133]]), array([[1.62434536],\n",
      "       [0.05056171]]), array([[-0.61175641],\n",
      "       [ 0.49995133]])]\n"
     ]
    }
   ],
   "source": [
    "print(x)\n",
    "x.run(nsamples=2)\n",
    "print(x.samples)"
   ]
  },
  {
   "cell_type": "code",
   "execution_count": 6,
   "metadata": {},
   "outputs": [
    {
     "name": "stdout",
     "output_type": "stream",
     "text": [
      "[array([[0.94784894],\n",
      "       [0.52016261]]), array([[0.27034947],\n",
      "       [0.69144533]]), array([[0.29869007],\n",
      "       [0.1596472 ]]), array([[0.1416426 ],\n",
      "       [0.75603299]]), array([[0.80659245],\n",
      "       [0.33786334]]), array([[0.13882123],\n",
      "       [0.5844403 ]]), array([[0.84070157],\n",
      "       [0.46338898]]), array([[0.94784894],\n",
      "       [0.52016261]]), array([[0.27034947],\n",
      "       [0.69144533]]), array([[0.94784894],\n",
      "       [0.52016261]]), array([[0.27034947],\n",
      "       [0.69144533]])]\n"
     ]
    }
   ],
   "source": [
    "x.transform_u01()\n",
    "print(x.samplesU01)"
   ]
  },
  {
   "cell_type": "code",
   "execution_count": 9,
   "metadata": {},
   "outputs": [
    {
     "name": "stdout",
     "output_type": "stream",
     "text": [
      "UQpy: Running Monte Carlo Sampling.\n",
      "UQpy: Monte Carlo Sampling Complete.\n",
      "[array([[3.38736185, 2.23541269]]), array([[0.08946208, 0.8979547 ]]), array([[2.53138343, 3.06057229]]), array([[5.72159837, 0.30657467]]), array([[-1.71534735,  1.97285583]])]\n"
     ]
    }
   ],
   "source": [
    "from UQpy.Distributions import MVNormal\n",
    "dist = MVNormal(mean=[1., 2.], cov=[[4., -0.9], [-0.9, 1.]])\n",
    "\n",
    "x1 = MCS(dist_object=dist, nsamples=5, random_state=123, verbose=True)\n",
    "print(x1.samples)"
   ]
  },
  {
   "cell_type": "code",
   "execution_count": 13,
   "metadata": {},
   "outputs": [
    {
     "name": "stdout",
     "output_type": "stream",
     "text": [
      "UQpy: Running Monte Carlo Sampling.\n",
      "UQpy: Monte Carlo Sampling Complete.\n",
      "[[array([-1.0856306]) array([2.71076423, 0.1045249 ])]\n",
      " [array([0.99734545]) array([-0.83581846,  2.72645573])]\n",
      " [array([0.2829785]) array([2.00888019, 1.19372116])]\n",
      " [array([-1.50629471]) array([-2.92088426,  3.20510339])]\n",
      " [array([-0.57860025]) array([2.68866374, 3.02856845])]]\n"
     ]
    }
   ],
   "source": [
    "x2 = MCS(dist_object=[dist1, dist], nsamples=5, random_state=[123,None],  verbose=True)\n",
    "print(np.array(x2.samples))"
   ]
  },
  {
   "cell_type": "code",
   "execution_count": 19,
   "metadata": {},
   "outputs": [
    {
     "name": "stdout",
     "output_type": "stream",
     "text": [
      "[[ 2.71076423  0.1045249 ]\n",
      " [-0.83581846  2.72645573]\n",
      " [ 2.00888019  1.19372116]\n",
      " [-2.92088426  3.20510339]\n",
      " [ 2.68866374  3.02856845]]\n"
     ]
    }
   ],
   "source": [
    "samples = np.zeros(shape=(5, 2))\n",
    "for i in range(5):\n",
    "    samples[i, :] = x2.samples[i][1]\n",
    "print(samples)"
   ]
  },
  {
   "cell_type": "code",
   "execution_count": 7,
   "metadata": {},
   "outputs": [
    {
     "ename": "TypeError",
     "evalue": "list indices must be integers or slices, not tuple",
     "output_type": "error",
     "traceback": [
      "\u001b[0;31m---------------------------------------------------------------------------\u001b[0m",
      "\u001b[0;31mTypeError\u001b[0m                                 Traceback (most recent call last)",
      "\u001b[0;32m<ipython-input-7-a0ac02407d7d>\u001b[0m in \u001b[0;36m<module>\u001b[0;34m\u001b[0m\n\u001b[1;32m      1\u001b[0m \u001b[0mfig\u001b[0m\u001b[0;34m,\u001b[0m \u001b[0max\u001b[0m \u001b[0;34m=\u001b[0m \u001b[0mplt\u001b[0m\u001b[0;34m.\u001b[0m\u001b[0msubplots\u001b[0m\u001b[0;34m(\u001b[0m\u001b[0;34m)\u001b[0m\u001b[0;34m\u001b[0m\u001b[0;34m\u001b[0m\u001b[0m\n\u001b[1;32m      2\u001b[0m \u001b[0mplt\u001b[0m\u001b[0;34m.\u001b[0m\u001b[0mtitle\u001b[0m\u001b[0;34m(\u001b[0m\u001b[0;34m'MCS design'\u001b[0m\u001b[0;34m)\u001b[0m\u001b[0;34m\u001b[0m\u001b[0;34m\u001b[0m\u001b[0m\n\u001b[0;32m----> 3\u001b[0;31m \u001b[0mplt\u001b[0m\u001b[0;34m.\u001b[0m\u001b[0mscatter\u001b[0m\u001b[0;34m(\u001b[0m\u001b[0mx\u001b[0m\u001b[0;34m.\u001b[0m\u001b[0msamples\u001b[0m\u001b[0;34m[\u001b[0m\u001b[0;34m:\u001b[0m\u001b[0;34m,\u001b[0m \u001b[0;36m0\u001b[0m\u001b[0;34m]\u001b[0m\u001b[0;34m,\u001b[0m \u001b[0mx\u001b[0m\u001b[0;34m.\u001b[0m\u001b[0msamples\u001b[0m\u001b[0;34m[\u001b[0m\u001b[0;34m:\u001b[0m\u001b[0;34m,\u001b[0m \u001b[0;36m1\u001b[0m\u001b[0;34m]\u001b[0m\u001b[0;34m)\u001b[0m\u001b[0;34m\u001b[0m\u001b[0;34m\u001b[0m\u001b[0m\n\u001b[0m\u001b[1;32m      4\u001b[0m \u001b[0max\u001b[0m\u001b[0;34m.\u001b[0m\u001b[0myaxis\u001b[0m\u001b[0;34m.\u001b[0m\u001b[0mgrid\u001b[0m\u001b[0;34m(\u001b[0m\u001b[0;32mTrue\u001b[0m\u001b[0;34m)\u001b[0m\u001b[0;34m\u001b[0m\u001b[0;34m\u001b[0m\u001b[0m\n\u001b[1;32m      5\u001b[0m \u001b[0max\u001b[0m\u001b[0;34m.\u001b[0m\u001b[0mxaxis\u001b[0m\u001b[0;34m.\u001b[0m\u001b[0mgrid\u001b[0m\u001b[0;34m(\u001b[0m\u001b[0;32mTrue\u001b[0m\u001b[0;34m)\u001b[0m\u001b[0;34m\u001b[0m\u001b[0;34m\u001b[0m\u001b[0m\n",
      "\u001b[0;31mTypeError\u001b[0m: list indices must be integers or slices, not tuple"
     ]
    },
    {
     "data": {
      "image/png": "[encoded data removed]",
      "text/plain": [
       "<Figure size 432x288 with 1 Axes>"
      ]
     },
     "metadata": {
      "needs_background": "light"
     },
     "output_type": "display_data"
    }
   ],
   "source": [
    "fig, ax = plt.subplots()\n",
    "plt.title('MCS design')\n",
    "plt.scatter(x2.samples[0], x.samples[:, 1])\n",
    "ax.yaxis.grid(True)\n",
    "ax.xaxis.grid(True)\n",
    "plt.show()"
   ]
  },
  {
   "cell_type": "code",
   "execution_count": null,
   "metadata": {},
   "outputs": [],
   "source": [
    "fig, ax = plt.subplots()\n",
    "plt.title('Histogram:parameter #1')\n",
    "plt.hist(x.samples[:, 0])\n",
    "ax.yaxis.grid(True)\n",
    "ax.xaxis.grid(True)\n",
    "\n",
    "fig, ax = plt.subplots()\n",
    "plt.title('Histogram:parameter #2')\n",
    "plt.hist(x.samples[:, 1])\n",
    "ax.yaxis.grid(True)\n",
    "ax.xaxis.grid(True)\n",
    "plt.show()"
   ]
  },
  {
   "cell_type": "markdown",
   "metadata": {},
   "source": [
    "When the sample method is called, the new samples are automatically appended to the existing samples."
   ]
  },
  {
   "cell_type": "code",
   "execution_count": null,
   "metadata": {},
   "outputs": [],
   "source": [
    "from UQpy.Distributions import MVNormal\n",
    "dist = MVNormal(mean=[1., 2.], cov=[[4., -0.9], [-0.9, 1.]])\n",
    "\n",
    "x1 = MCS(dist_object=[dist], nsamples=5, random_state=123, verbose=True)\n",
    "print(x1.samples)"
   ]
  },
  {
   "cell_type": "code",
   "execution_count": null,
   "metadata": {},
   "outputs": [],
   "source": [
    "print(np.shape(x.samples))\n",
    "fig, ax = plt.subplots()\n",
    "plt.title('MCS design')\n",
    "plt.scatter(x1.samples[:, 0], x1.samples[:, 1], marker='o')\n",
    "ax.yaxis.grid(True)\n",
    "ax.xaxis.grid(True)\n",
    "plt.show()"
   ]
  },
  {
   "cell_type": "code",
   "execution_count": null,
   "metadata": {},
   "outputs": [],
   "source": [
    "x2 = MCS(dist_object=[dist1, dist], nsamples=5, random_state=123,  verbose=True)\n",
    "#print(x2.samples)\n",
    "print(np.array(x2.temp))"
   ]
  },
  {
   "cell_type": "code",
   "execution_count": null,
   "metadata": {},
   "outputs": [],
   "source": [
    "from UQpy.Distributions import Binomial\n",
    "dist3 = Binomial(n=5, p=0.4)\n",
    "x3 = MCS(dist_object=[dist1, dist3], nsamples=5, verbose=True)"
   ]
  },
  {
   "cell_type": "code",
   "execution_count": null,
   "metadata": {},
   "outputs": [],
   "source": [
    "print(np.shape(x.samples))\n",
    "fig, ax = plt.subplots()\n",
    "plt.title('MCS design')\n",
    "plt.scatter(x3.samples[:, 0], x3.samples[:, 1], marker='o')\n",
    "ax.yaxis.grid(True)\n",
    "ax.xaxis.grid(True)\n",
    "plt.show()"
   ]
  },
  {
   "cell_type": "code",
   "execution_count": null,
   "metadata": {},
   "outputs": [],
   "source": [
    "x3.run(nsamples=100)"
   ]
  },
  {
   "cell_type": "code",
   "execution_count": null,
   "metadata": {},
   "outputs": [],
   "source": [
    "print(x3.samples.shape[0])"
   ]
  },
  {
   "cell_type": "code",
   "execution_count": null,
   "metadata": {},
   "outputs": [],
   "source": []
  }
 ],
 "metadata": {
  "kernelspec": {
   "display_name": "Python 3",
   "language": "python",
   "name": "python3"
  },
  "language_info": {
   "codemirror_mode": {
    "name": "ipython",
    "version": 3
   },
   "file_extension": ".py",
   "mimetype": "text/x-python",
   "name": "python",
   "nbconvert_exporter": "python",
   "pygments_lexer": "ipython3",
   "version": "3.7.4"
  }
 },
 "nbformat": 4,
 "nbformat_minor": 2
}
