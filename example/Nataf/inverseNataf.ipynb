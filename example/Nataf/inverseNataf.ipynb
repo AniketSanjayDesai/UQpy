{
 "cells": [
  {
   "cell_type": "markdown",
   "metadata": {},
   "source": [
    "# Inverse Nataf transformation\n",
    "\n",
    "Author: Dimitris G. Giovanis,\n",
    "Date: June 25, 2018"
   ]
  },
  {
   "cell_type": "markdown",
   "metadata": {},
   "source": [
    "Description:"
   ]
  },
  {
   "cell_type": "code",
   "execution_count": 4,
   "metadata": {
    "collapsed": true
   },
   "outputs": [],
   "source": [
    "#Import necessary libraries\n",
    "from UQpy.SampleMethods import MCS, Correlate, InvNataf\n",
    "import numpy as np\n",
    "import matplotlib.pyplot as plt"
   ]
  },
  {
   "cell_type": "code",
   "execution_count": 7,
   "metadata": {},
   "outputs": [
    {
     "name": "stdout",
     "output_type": "stream",
     "text": [
      "UQpy: Performing MCS design...\n",
      "Done!\n",
      "[[ 1.   0.9]\n",
      " [ 0.9  1. ]]\n"
     ]
    }
   ],
   "source": [
    "x = MCS(dimension=2, dist_name=['Normal', 'Normal'], dist_params=[[0, 1], [0, 1]], nsamples=1000)\n",
    "\n",
    "# Define the non-Gaussian correlation matrix of the random variables\n",
    "Rho_NG = np.array([[1.0, 0.9], [0.9, 1.0]])\n",
    "print(Rho_NG)"
   ]
  },
  {
   "cell_type": "code",
   "execution_count": 6,
   "metadata": {},
   "outputs": [
    {
     "name": "stdout",
     "output_type": "stream",
     "text": [
      "Using the Nataf transformation to correlated samples.\n",
      "[[ 1.          0.61803397]\n",
      " [ 0.61803397  1.        ]]\n"
     ]
    }
   ],
   "source": [
    "# Perform the inverse Nataf transformation\n",
    "p = InvNataf(samples=x, corr=Rho_NG, marginal_name=['Uniform', 'Uniform'], marginal_params=[[1, 3], [0, 1]])\n",
    "print(p.corr_norm)"
   ]
  },
  {
   "cell_type": "code",
   "execution_count": null,
   "metadata": {
    "collapsed": true
   },
   "outputs": [],
   "source": []
  }
 ],
 "metadata": {
  "kernelspec": {
   "display_name": "Python 3",
   "language": "python",
   "name": "python3"
  },
  "language_info": {
   "codemirror_mode": {
    "name": "ipython",
    "version": 3
   },
   "file_extension": ".py",
   "mimetype": "text/x-python",
   "name": "python",
   "nbconvert_exporter": "python",
   "pygments_lexer": "ipython3",
   "version": "3.6.2"
  }
 },
 "nbformat": 4,
 "nbformat_minor": 2
}
