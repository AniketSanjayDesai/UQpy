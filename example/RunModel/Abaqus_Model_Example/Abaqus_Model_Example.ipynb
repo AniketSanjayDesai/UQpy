{
 "cells": [
  {
   "cell_type": "markdown",
   "metadata": {},
   "source": [
    "## Description"
   ]
  },
  {
   "cell_type": "markdown",
   "metadata": {},
   "source": [
    "This example performs a small Monte Carlo simulation, using UQpy's RunModel module and an ABAQUS model that takes a random value of Young's modulus as input to a single element simulation and returns the stress-strain curve.  \n",
    "\n",
    "B S Aakash  \n",
    "May 14, 2019"
   ]
  },
  {
   "cell_type": "markdown",
   "metadata": {},
   "source": [
    "## Required files"
   ]
  },
  {
   "cell_type": "markdown",
   "metadata": {},
   "source": [
    "To run this example, the following files must be present in the same directory as this Jupyter script:\n",
    "\n",
    "1) abaqus_model.py  \n",
    "2) single_element.inp   \n",
    "3) process_odb.py\n",
    "4) abaqus_output.py "
   ]
  },
  {
   "cell_type": "markdown",
   "metadata": {},
   "source": [
    "## Structure of files"
   ]
  },
  {
   "cell_type": "markdown",
   "metadata": {},
   "source": [
    "1) \"abaqus_model.py\" is the model script. It contains the Python commands to run the ABAQUS model.     \n",
    "2) \"single_element.inp\" is a template input file is used to create input (.inp) files for each simulation. This text file has placeholders for placement of the sampled variables.   \n",
    "3) \"process_odb.py\" reads the stress-strain curves from the output database (.odb) file and writes the curves to text files.\n",
    "4) \"abaqus_output.py\" is the output script. It is a Python script which processes the output of the ABAQUS simulations. "
   ]
  },
  {
   "cell_type": "code",
   "execution_count": 2,
   "metadata": {},
   "outputs": [],
   "source": [
    "from UQpy.SampleMethods import STS\n",
    "from UQpy.RunModel import RunModel\n",
    "import time\n",
    "import os"
   ]
  },
  {
   "cell_type": "markdown",
   "metadata": {},
   "source": [
    "## Sample generation"
   ]
  },
  {
   "cell_type": "code",
   "execution_count": 3,
   "metadata": {},
   "outputs": [
    {
     "name": "stdout",
     "output_type": "stream",
     "text": [
      "UQpy: Successful execution of STS design..\n",
      "Three samples from a univariate standard normal distribution.\n",
      "[[6.836088e+10]\n",
      " [6.928761e+10]\n",
      " [7.153664e+10]]\n"
     ]
    }
   ],
   "source": [
    "# Inputs to STS\n",
    "# sts_criterion = \"centered\"  # Samples are the center of the strata\n",
    "sts_criterion = \"random\"  # Samples are randomly drawn from within the strata\n",
    "dist_name = \"normal\"  # Strata are normally distributed in a dimension. Can differ between\n",
    "# dimensions\n",
    "\n",
    "mn = 70E9\n",
    "sd = 2E9\n",
    "\n",
    "ns1 = 3\n",
    "\n",
    "dist_params = [[mn, sd]]\n",
    "dimension = len(dist_params)\n",
    "\n",
    "sts_design = [ns1]\n",
    "\n",
    "#######################################################################################################################\n",
    "# Call STS to generate samples\n",
    "x_sts = STS(dimension=dimension, dist_name=dist_name, dist_params=dist_params, sts_design=sts_design,\n",
    "            sts_criterion=sts_criterion)  # This creates the sample points.\n",
    "\n",
    "print(\"Three samples from a univariate standard normal distribution.\")\n",
    "print(x_sts.samples)"
   ]
  },
  {
   "cell_type": "markdown",
   "metadata": {},
   "source": [
    "## Calling RunModel in Serial"
   ]
  },
  {
   "cell_type": "code",
   "execution_count": null,
   "metadata": {},
   "outputs": [
    {
     "name": "stdout",
     "output_type": "stream",
     "text": [
      "The output function that will be run: return_output\n",
      "\n",
      "Performing serial execution of the model with template input.\n",
      "\n",
      "Found 1 instance of variable: 'E' in the input file.\n",
      "['python', 'abaqus_model.py', '0']\n",
      "['python', 'abaqus_model.py', '1']\n",
      "['python', 'abaqus_model.py', '2']\n"
     ]
    }
   ],
   "source": [
    "# Inputs to RunModel\n",
    "var_names = ['E']\n",
    "\n",
    "# Call to RunModel\n",
    "t = time.time()\n",
    "m = RunModel(samples=x_sts.samples, ntasks=1, model_script='abaqus_model.py', input_template='single_element.inp',\n",
    "             var_names=var_names, output_script='abaqus_output.py',\n",
    "             output_object_name='return_output', model_dir='Abaqus_Serial', verbose=True)\n",
    "\n",
    "t_ser_abaqus = time.time() - t\n",
    "print(\"\\nTime for serial execution:\")\n",
    "print(t_ser_abaqus)"
   ]
  },
  {
   "cell_type": "code",
   "execution_count": null,
   "metadata": {},
   "outputs": [],
   "source": []
  }
 ],
 "metadata": {
  "kernelspec": {
   "display_name": "Python 3",
   "language": "python",
   "name": "python3"
  },
  "language_info": {
   "codemirror_mode": {
    "name": "ipython",
    "version": 3
   },
   "file_extension": ".py",
   "mimetype": "text/x-python",
   "name": "python",
   "nbconvert_exporter": "python",
   "pygments_lexer": "ipython3",
   "version": "3.6.2"
  }
 },
 "nbformat": 4,
 "nbformat_minor": 2
}
