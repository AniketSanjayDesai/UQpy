{
 "cells": [
  {
   "cell_type": "markdown",
   "metadata": {},
   "source": [
    "# RunModel with Heterogeneous Input: Third-party model execution\n",
    "\n",
    "The RunModel class is capable of passing input in different formats into a single computational model. This means that the samples passed into a model can be passed as:\n",
    "- floating point values\n",
    "- numpy arrays\n",
    "- lists \n",
    "- tuples\n",
    "- lists of other iterables\n",
    "- numpy arrays of other iterables\n",
    "- or any combination of the above\n",
    "\n",
    "In the examples below, we demonstrate the use of a third-party computational model (in this case, Matlab) with inputs that are combinations of the above.\n",
    "\n",
    "Some notes on their use:\n",
    "1. UQpy converts all sample input to a numpy array with at least two dimensions. The first dimension, i.e. len(samples) must correspond to the number of samples being passed for model execution. The second dimension, i.e. len(samples[0]) must correspond to the number of variables that each sample possesses.\n",
    "2. Each individual sample, i.e. sample[j], may be composed of multiple data types -- with each variable having a different data type. For example, sample[j][k] may be a floating point value and sample[j][l] may be an array of arbitrary dimension.\n",
    "3. If a specific variable has multiple dimensions, the user may specify the index to be return in the input file. For example, the place holder for a variable x1 corresponding to sample[j][l] that is an array of shape (1,4) can be read as <x1[0, 3]>, which will return the final (0,3) component of samples[j][l].\n",
    "4. If the user does not specify the index for a multidimensional variable, then the entire multidimensional variable is flattened and written with comma delimiters.\n",
    "\n",
    "All examples are run using Matlab execution through the command line. The user will need to modify the model_script  in order to provide the correct path to the Matlab application on his/her computer.\n",
    "\n",
    "Michael D. Shields  \n",
    "29 April 2020"
   ]
  },
  {
   "cell_type": "markdown",
   "metadata": {},
   "source": [
    "### Matlab Model Summary\n",
    "Examples 1-2:\n",
    "The provided Matlab models take the sum of three random variables:  \n",
    "$s = \\sum_{i=1}^3 x_i$  \n",
    "$x_i \\sim N(0,1)$\n",
    "\n",
    "Example 3:\n",
    "The provided Matlab model takes the product of a random variable and the determinant of a random matrix:  \n",
    "$z = x \\det(Y)$  \n",
    "$x \\sim N(0,1)$  \n",
    "$y$ is a 3x3 matrix of standard normal random variables.\n"
   ]
  },
  {
   "cell_type": "code",
   "execution_count": 1,
   "metadata": {},
   "outputs": [],
   "source": [
    "from UQpy.SampleMethods import MCS\n",
    "from UQpy.RunModel import RunModel\n",
    "import matplotlib.pyplot as plt\n",
    "import time\n",
    "import numpy as np"
   ]
  },
  {
   "cell_type": "markdown",
   "metadata": {},
   "source": [
    "### Pick which model to run\n",
    "Options:\n",
    "- 'all'\n",
    "- 'scalar'\n",
    "- 'vector'\n",
    "- 'mixed'"
   ]
  },
  {
   "cell_type": "code",
   "execution_count": 2,
   "metadata": {},
   "outputs": [],
   "source": [
    "pick_model = 'all'"
   ]
  },
  {
   "cell_type": "markdown",
   "metadata": {},
   "source": [
    "## Example 1: Three scalar random variables\n",
    "In this example, we pass three scalar random variables. Note that this is different from assigning a single variable with three components, which will be handled in the following example. \n",
    "\n",
    "Here we will pass the samples both as an ndarray and as a list. Recall that UQpy converts all samples into an ndarray of at least two dimensions internally."
   ]
  },
  {
   "cell_type": "code",
   "execution_count": 3,
   "metadata": {},
   "outputs": [
    {
     "name": "stdout",
     "output_type": "stream",
     "text": [
      "Monte Carlo samples of three random variables from a standard normal distribution.\n",
      "Samples stored as an array:\n",
      "Data type: <class 'numpy.ndarray'>\n",
      "Number of samples: 5\n",
      "Dimensions of samples: (5, 3)\n",
      "Samples\n",
      "[[-0.74679896 -1.85084019  0.35476442]\n",
      " [-0.30325384  0.28302435 -1.23041921]\n",
      " [ 0.03381629  1.81485323  0.95281935]\n",
      " [-1.40742936 -0.31421532  0.21977934]\n",
      " [-1.06615923  0.06511483  0.55600455]]\n",
      "\n",
      "Samples stored as a list:\n",
      "Data type: <class 'list'>\n",
      "Number of samples: 5\n",
      "Dimensions of samples: (5, 3)\n",
      "Samples:\n",
      "[array([-0.74679896, -1.85084019,  0.35476442]), array([-0.30325384,  0.28302435, -1.23041921]), array([0.03381629, 1.81485323, 0.95281935]), array([-1.40742936, -0.31421532,  0.21977934]), array([-1.06615923,  0.06511483,  0.55600455])]\n"
     ]
    }
   ],
   "source": [
    "if pick_model == 'scalar' or pick_model =='vector' or pick_model == 'all':\n",
    "    # Call MCS to generate samples\n",
    "    # THIS WILL NEED TO BE REWRITTEN WITH DISTRIBUTION AND MCS UPDATES --------------------------------------------\n",
    "    x_mcs = MCS(dist_name=['Normal','Normal','Normal'], dist_params=[[0,1],[0,1],[0,1]], nsamples=5, \n",
    "                var_names = ['var1', 'var11', 'var111']) \n",
    "    # -------------------------------------------------------------------------------------------------------------\n",
    "\n",
    "    # UQpy returns samples as an ndarray. Convert them to a list for part 1.2\n",
    "    x_mcs_list = list(x_mcs.samples)\n",
    "    print(\"Monte Carlo samples of three random variables from a standard normal distribution.\")\n",
    "    print('Samples stored as an array:')\n",
    "    print('Data type:', type(x_mcs.samples))\n",
    "    print('Number of samples:', len(x_mcs.samples))\n",
    "    print('Dimensions of samples:', np.shape(x_mcs.samples))\n",
    "    print('Samples')\n",
    "    print(x_mcs.samples)\n",
    "    print()\n",
    "    print('Samples stored as a list:')\n",
    "    print('Data type:', type(x_mcs_list))   \n",
    "    print('Number of samples:', len(x_mcs_list))\n",
    "    print('Dimensions of samples:', np.shape(x_mcs_list))\n",
    "    print('Samples:')\n",
    "    print(x_mcs_list)"
   ]
  },
  {
   "cell_type": "markdown",
   "metadata": {},
   "source": [
    "### 1.1 Pass sampled as ndarray, specify format in generated input file, serial execution  \n",
    "This examples uses the following files:\n",
    "- model_script = matlab_model_sum_scalar.py\n",
    "- input_template = sum_scalar.m\n",
    "- output_script = process_matlab_output.py"
   ]
  },
  {
   "cell_type": "code",
   "execution_count": 4,
   "metadata": {},
   "outputs": [
    {
     "name": "stdout",
     "output_type": "stream",
     "text": [
      "\n",
      "UQpy: The following directory has been created for model evaluations: \n",
      "/Users/MichaelShields/Documents/SURG/Code/UQpy/V3/RunModel/Matlab_Example/Matlab_Model_2020_05_12_04_40_688691_PM\n",
      "\n",
      "UQpy: The model files have been copied to the following directory for evaluation: \n",
      "/Users/MichaelShields/Documents/SURG/Code/UQpy/V3/RunModel/Matlab_Example/Matlab_Model_2020_05_12_04_40_688691_PM\n",
      "\n",
      "UQpy: No samples are provided. Creating the object and building the model directory.\n",
      "\n",
      "\n",
      "UQpy: All model evaluations will be executed from the following directory: \n",
      "/Users/MichaelShields/Documents/SURG/Code/UQpy/V3/RunModel/Matlab_Example/Matlab_Model_2020_05_12_04_40_688691_PM\n",
      "\n",
      "UQpy: The output function that will be run: read_output\n",
      "\n",
      "UQpy: Performing serial execution of the third-party model.\n",
      "\n",
      "\n",
      "UQpy: Running model number 0 in the following directory: \n",
      "/Users/MichaelShields/Documents/SURG/Code/UQpy/V3/RunModel/Matlab_Example/Matlab_Model_2020_05_12_04_40_688691_PM/run_0_2020_05_12_04_40_720004_PM\n",
      "\n",
      "UQpy: Found 1 instance of variable: 'var1' in the input file.\n",
      "\n",
      "\n",
      "UQpy: Found 1 instance of variable: 'var11' in the input file.\n",
      "\n",
      "\n",
      "UQpy: Found 1 instance of variable: 'var111' in the input file.\n",
      "\n",
      "\n",
      "UQpy: Model evaluation 0 complete.\n",
      "\n",
      "\n",
      "UQpy: Returning to the model directory:\n",
      "/Users/MichaelShields/Documents/SURG/Code/UQpy/V3/RunModel/Matlab_Example/Matlab_Model_2020_05_12_04_40_688691_PM\n",
      "\n",
      "UQpy: Running model number 1 in the following directory: \n",
      "/Users/MichaelShields/Documents/SURG/Code/UQpy/V3/RunModel/Matlab_Example/Matlab_Model_2020_05_12_04_40_688691_PM/run_1_2020_05_12_04_40_720004_PM\n",
      "\n",
      "UQpy: Model evaluation 1 complete.\n",
      "\n",
      "\n",
      "UQpy: Returning to the model directory:\n",
      "/Users/MichaelShields/Documents/SURG/Code/UQpy/V3/RunModel/Matlab_Example/Matlab_Model_2020_05_12_04_40_688691_PM\n",
      "\n",
      "UQpy: Running model number 2 in the following directory: \n",
      "/Users/MichaelShields/Documents/SURG/Code/UQpy/V3/RunModel/Matlab_Example/Matlab_Model_2020_05_12_04_40_688691_PM/run_2_2020_05_12_04_40_720004_PM\n",
      "\n",
      "UQpy: Model evaluation 2 complete.\n",
      "\n",
      "\n",
      "UQpy: Returning to the model directory:\n",
      "/Users/MichaelShields/Documents/SURG/Code/UQpy/V3/RunModel/Matlab_Example/Matlab_Model_2020_05_12_04_40_688691_PM\n",
      "\n",
      "UQpy: Running model number 3 in the following directory: \n",
      "/Users/MichaelShields/Documents/SURG/Code/UQpy/V3/RunModel/Matlab_Example/Matlab_Model_2020_05_12_04_40_688691_PM/run_3_2020_05_12_04_40_720004_PM\n",
      "\n",
      "UQpy: Model evaluation 3 complete.\n",
      "\n",
      "\n",
      "UQpy: Returning to the model directory:\n",
      "/Users/MichaelShields/Documents/SURG/Code/UQpy/V3/RunModel/Matlab_Example/Matlab_Model_2020_05_12_04_40_688691_PM\n",
      "\n",
      "UQpy: Running model number 4 in the following directory: \n",
      "/Users/MichaelShields/Documents/SURG/Code/UQpy/V3/RunModel/Matlab_Example/Matlab_Model_2020_05_12_04_40_688691_PM/run_4_2020_05_12_04_40_720004_PM\n",
      "\n",
      "UQpy: Model evaluation 4 complete.\n",
      "\n",
      "\n",
      "UQpy: Returning to the model directory:\n",
      "/Users/MichaelShields/Documents/SURG/Code/UQpy/V3/RunModel/Matlab_Example/Matlab_Model_2020_05_12_04_40_688691_PM\n",
      "\n",
      "UQpy: Serial execution of the third-party model complete.\n",
      "\n",
      "\n",
      "UQpy: Returning to the parent directory:\n",
      "/Users/MichaelShields/Documents/SURG/Code/UQpy/V3/RunModel/Matlab_Example\n",
      "\n",
      "Time for serial execution:\n",
      "23.515086889266968\n",
      "\n",
      "The values returned from the Matlab simulation:\n",
      "[array(-2.2428), array(-1.2507), array(2.8015), array(-1.5018), array(-0.4451)]\n"
     ]
    }
   ],
   "source": [
    "if pick_model == 'scalar' or pick_model == 'all':\n",
    "    # Call to RunModel - Here we run the model while instantiating the RunModel object. \n",
    "    t = time.time()\n",
    "    m = RunModel(ntasks=1, model_script='matlab_model_sum_scalar.py', \n",
    "                 input_template='sum_scalar.m', var_names=x_mcs.var_names, model_object_name=\"matlab\", \n",
    "                 output_script='process_matlab_output.py', output_object_name='read_output', \n",
    "                 resume=False, model_dir='Matlab_Model', fmt=\"{:>10.4f}\", verbose=True)\n",
    "    m.run(x_mcs.samples)\n",
    "    t_ser_matlab = time.time() - t\n",
    "    print(\"\\nTime for serial execution:\")\n",
    "    print(t_ser_matlab)\n",
    "    print()\n",
    "    print(\"The values returned from the Matlab simulation:\")\n",
    "    print(m.qoi_list)"
   ]
  },
  {
   "cell_type": "markdown",
   "metadata": {},
   "source": [
    "### 1.2 Samples passed as list, no format specification, parallel execution\n",
    "This examples uses the following files:\n",
    "- model_script = matlab_model_sum_scalar.py\n",
    "- input_template = sum_scalar.m\n",
    "- output_script = process_matlab_output.py"
   ]
  },
  {
   "cell_type": "code",
   "execution_count": 5,
   "metadata": {},
   "outputs": [
    {
     "name": "stdout",
     "output_type": "stream",
     "text": [
      "\n",
      "UQpy: The following directory has been created for model evaluations: \n",
      "/Users/MichaelShields/Documents/SURG/Code/UQpy/V3/RunModel/Matlab_Example/Matlab_Model_2020_05_12_04_41_237524_PM\n",
      "\n",
      "UQpy: The model files have been copied to the following directory for evaluation: \n",
      "/Users/MichaelShields/Documents/SURG/Code/UQpy/V3/RunModel/Matlab_Example/Matlab_Model_2020_05_12_04_41_237524_PM\n",
      "\n",
      "UQpy: All model evaluations will be executed from the following directory: \n",
      "/Users/MichaelShields/Documents/SURG/Code/UQpy/V3/RunModel/Matlab_Example/Matlab_Model_2020_05_12_04_41_237524_PM\n",
      "\n",
      "UQpy: The output function that will be run: read_output\n",
      "\n",
      "UQpy: Performing parallel execution of the third-party model.\n",
      "\n",
      "\n",
      "UQpy: Creating inputs for parallel execution of the third-party model.\n",
      "\n",
      "\n",
      "UQpy: Found 1 instance of variable: 'var1' in the input file.\n",
      "\n",
      "\n",
      "UQpy: Found 1 instance of variable: 'var11' in the input file.\n",
      "\n",
      "\n",
      "UQpy: Found 1 instance of variable: 'var111' in the input file.\n",
      "\n",
      "\n",
      "UQpy: Created input files for run 0 in the directory: \n",
      "/Users/MichaelShields/Documents/SURG/Code/UQpy/V3/RunModel/Matlab_Example/Matlab_Model_2020_05_12_04_41_237524_PM/run_0_2020_05_12_04_41_249099_PM/InputFiles\n",
      "\n",
      "UQpy: Created input files for run 1 in the directory: \n",
      "/Users/MichaelShields/Documents/SURG/Code/UQpy/V3/RunModel/Matlab_Example/Matlab_Model_2020_05_12_04_41_237524_PM/run_1_2020_05_12_04_41_249099_PM/InputFiles\n",
      "\n",
      "UQpy: Created input files for run 2 in the directory: \n",
      "/Users/MichaelShields/Documents/SURG/Code/UQpy/V3/RunModel/Matlab_Example/Matlab_Model_2020_05_12_04_41_237524_PM/run_2_2020_05_12_04_41_249099_PM/InputFiles\n",
      "\n",
      "UQpy: Created input files for run 3 in the directory: \n",
      "/Users/MichaelShields/Documents/SURG/Code/UQpy/V3/RunModel/Matlab_Example/Matlab_Model_2020_05_12_04_41_237524_PM/run_3_2020_05_12_04_41_249099_PM/InputFiles\n",
      "\n",
      "UQpy: Created input files for run 4 in the directory: \n",
      "/Users/MichaelShields/Documents/SURG/Code/UQpy/V3/RunModel/Matlab_Example/Matlab_Model_2020_05_12_04_41_237524_PM/run_4_2020_05_12_04_41_249099_PM/InputFiles\n",
      "\n",
      "UQpy: Executing the third-party model in parallel.\n",
      "\n",
      "\n",
      "UQpy: Collecting outputs from parallel execution of the third-party model.\n",
      "\n",
      "\n",
      "UQpy: Changing to the following directory for output processing:\n",
      "/Users/MichaelShields/Documents/SURG/Code/UQpy/V3/RunModel/Matlab_Example/Matlab_Model_2020_05_12_04_41_237524_PM/run_0_2020_05_12_04_41_249099_PM\n",
      "\n",
      "UQpy: Processing output from parallel execution of the third-party model run 0.\n",
      "\n",
      "\n",
      "UQpy: Changing back to the following model directory:\n",
      "/Users/MichaelShields/Documents/SURG/Code/UQpy/V3/RunModel/Matlab_Example/Matlab_Model_2020_05_12_04_41_237524_PM\n",
      "\n",
      "UQpy: Changing to the following directory for output processing:\n",
      "/Users/MichaelShields/Documents/SURG/Code/UQpy/V3/RunModel/Matlab_Example/Matlab_Model_2020_05_12_04_41_237524_PM/run_1_2020_05_12_04_41_249099_PM\n",
      "\n",
      "UQpy: Processing output from parallel execution of the third-party model run 1.\n",
      "\n",
      "\n",
      "UQpy: Changing back to the following model directory:\n",
      "/Users/MichaelShields/Documents/SURG/Code/UQpy/V3/RunModel/Matlab_Example/Matlab_Model_2020_05_12_04_41_237524_PM\n",
      "\n",
      "UQpy: Changing to the following directory for output processing:\n",
      "/Users/MichaelShields/Documents/SURG/Code/UQpy/V3/RunModel/Matlab_Example/Matlab_Model_2020_05_12_04_41_237524_PM/run_2_2020_05_12_04_41_249099_PM\n",
      "\n",
      "UQpy: Processing output from parallel execution of the third-party model run 2.\n",
      "\n",
      "\n",
      "UQpy: Changing back to the following model directory:\n",
      "/Users/MichaelShields/Documents/SURG/Code/UQpy/V3/RunModel/Matlab_Example/Matlab_Model_2020_05_12_04_41_237524_PM\n",
      "\n",
      "UQpy: Changing to the following directory for output processing:\n",
      "/Users/MichaelShields/Documents/SURG/Code/UQpy/V3/RunModel/Matlab_Example/Matlab_Model_2020_05_12_04_41_237524_PM/run_3_2020_05_12_04_41_249099_PM\n",
      "\n",
      "UQpy: Processing output from parallel execution of the third-party model run 3.\n",
      "\n",
      "\n",
      "UQpy: Changing back to the following model directory:\n",
      "/Users/MichaelShields/Documents/SURG/Code/UQpy/V3/RunModel/Matlab_Example/Matlab_Model_2020_05_12_04_41_237524_PM\n",
      "\n",
      "UQpy: Changing to the following directory for output processing:\n",
      "/Users/MichaelShields/Documents/SURG/Code/UQpy/V3/RunModel/Matlab_Example/Matlab_Model_2020_05_12_04_41_237524_PM/run_4_2020_05_12_04_41_249099_PM\n",
      "\n",
      "UQpy: Processing output from parallel execution of the third-party model run 4.\n",
      "\n",
      "\n",
      "UQpy: Changing back to the following model directory:\n",
      "/Users/MichaelShields/Documents/SURG/Code/UQpy/V3/RunModel/Matlab_Example/Matlab_Model_2020_05_12_04_41_237524_PM\n",
      "\n",
      "UQpy: Parallel execution of the third-party model complete.\n",
      "\n",
      "\n",
      "UQpy: Returning to the parent directory:\n",
      "/Users/MichaelShields/Documents/SURG/Code/UQpy/V3/RunModel/Matlab_Example\n",
      "\n",
      "Time for parallel execution:\n",
      "16.780308961868286\n",
      "\n",
      "The values retured from the Matlab simulation:\n",
      "[array(-2.2429), array(-1.2506), array(2.8015), array(-1.5019), array(-0.44504)]\n"
     ]
    }
   ],
   "source": [
    "if pick_model == 'scalar' or pick_model == 'all':\n",
    "    # Call to RunModel with samples as a list - Again we run the model while instantiating the RunModel object.\n",
    "    t = time.time()\n",
    "    m = RunModel(samples=x_mcs_list, ntasks=2, model_script='matlab_model_sum_scalar.py', \n",
    "                 input_template='sum_scalar.m', var_names=x_mcs.var_names, model_object_name=\"matlab\", \n",
    "                 output_script='process_matlab_output.py', output_object_name='read_output', resume=False, \n",
    "                 model_dir='Matlab_Model', verbose=True)\n",
    "    t_par_matlab = time.time() - t\n",
    "    print(\"\\nTime for parallel execution:\")\n",
    "    print(t_par_matlab)\n",
    "    print()\n",
    "    print(\"The values retured from the Matlab simulation:\")\n",
    "    print(m.qoi_list)"
   ]
  },
  {
   "cell_type": "markdown",
   "metadata": {},
   "source": [
    "## Example 2: Single tri-variate random variable\n",
    "In this example, we pass three random variables in as a trivariate random variable. Note that this is different from assigning three scalar random variables, which was be handled in Example 1.\n",
    "\n",
    "Again, we will pass the samples both as an ndarray and as a list. Recall that UQpy converts all samples into an ndarray of at least two dimensions internally."
   ]
  },
  {
   "cell_type": "markdown",
   "metadata": {},
   "source": [
    "### Restructure the samples\n",
    "To pass the samples in as a single tri-variate variable, we need reshape the samples from shape (5, 3) to shape (5, 1, 3)"
   ]
  },
  {
   "cell_type": "code",
   "execution_count": 6,
   "metadata": {},
   "outputs": [
    {
     "name": "stdout",
     "output_type": "stream",
     "text": [
      "Monte Carlo samples of three random variables from a standard normal distribution.\n",
      "Samples stored as an array:\n",
      "Data type: <class 'numpy.ndarray'>\n",
      "Number of samples: 5\n",
      "Dimensions of samples: (5, 1, 3)\n",
      "Samples\n",
      "[[[-0.74679896 -1.85084019  0.35476442]]\n",
      "\n",
      " [[-0.30325384  0.28302435 -1.23041921]]\n",
      "\n",
      " [[ 0.03381629  1.81485323  0.95281935]]\n",
      "\n",
      " [[-1.40742936 -0.31421532  0.21977934]]\n",
      "\n",
      " [[-1.06615923  0.06511483  0.55600455]]]\n",
      "\n",
      "Samples stored as a list:\n",
      "Data type: <class 'list'>\n",
      "Number of samples: 5\n",
      "Dimensions of samples: (5, 1, 3)\n",
      "Samples:\n",
      "[array([[-0.74679896, -1.85084019,  0.35476442]]), array([[-0.30325384,  0.28302435, -1.23041921]]), array([[0.03381629, 1.81485323, 0.95281935]]), array([[-1.40742936, -0.31421532,  0.21977934]]), array([[-1.06615923,  0.06511483,  0.55600455]])]\n"
     ]
    }
   ],
   "source": [
    "if pick_model == 'vector' or pick_model == 'all':\n",
    "    x_mcs_tri = x_mcs.samples.reshape(5, 1, 3)\n",
    "    x_mcs_tri_list = list(x_mcs_tri)\n",
    "\n",
    "    print(\"Monte Carlo samples of three random variables from a standard normal distribution.\")\n",
    "    print('Samples stored as an array:')\n",
    "    print('Data type:', type(x_mcs_tri))\n",
    "    print('Number of samples:', len(x_mcs_tri))\n",
    "    print('Dimensions of samples:', np.shape(x_mcs_tri))\n",
    "    print('Samples')\n",
    "    print(x_mcs_tri)\n",
    "    print()\n",
    "    print('Samples stored as a list:')\n",
    "    print('Data type:', type(x_mcs_tri_list))   \n",
    "    print('Number of samples:', len(x_mcs_tri_list))\n",
    "    print('Dimensions of samples:', np.shape(x_mcs_tri_list))\n",
    "    print('Samples:')\n",
    "    print(x_mcs_tri_list)"
   ]
  },
  {
   "cell_type": "markdown",
   "metadata": {},
   "source": [
    "### 2.1 Pass samples as ndarray, specify format in generated input file, serial execution, index samples in input_template  \n",
    "This examples uses the following files:\n",
    "- model_script = matlab_model_sum_vector_indexed.py\n",
    "- input_template = sum_vector_indexed.m\n",
    "- output_script = process_matlab_output.py"
   ]
  },
  {
   "cell_type": "code",
   "execution_count": 7,
   "metadata": {},
   "outputs": [
    {
     "name": "stdout",
     "output_type": "stream",
     "text": [
      "\n",
      "Time for serial execution:\n",
      "20.516951084136963\n",
      "\n",
      "The values returned from the Matlab simulation:\n",
      "[array(-2.2428), array(-1.2507), array(2.8015), array(-1.5018), array(-0.4451)]\n"
     ]
    }
   ],
   "source": [
    "if pick_model == 'vector' or pick_model == 'all':\n",
    "    # Call to RunModel - Here we run the model while instantiating the RunModel object. \n",
    "    # Notice that we do not specify var_names. This will default to a single variable with name x0. In this case,\n",
    "    # we will read them in by indexing in the input_template.\n",
    "    t = time.time()\n",
    "    m = RunModel(samples=x_mcs_tri, ntasks=1, model_script='matlab_model_sum_vector_indexed.py', \n",
    "                 input_template='sum_vector_indexed.m', model_object_name=\"matlab\", \n",
    "                 output_script='process_matlab_output.py', output_object_name='read_output', \n",
    "                 resume=False, model_dir='Matlab_Model', fmt=\"{:>10.4f}\")\n",
    "    t_ser_matlab = time.time() - t\n",
    "    print(\"\\nTime for serial execution:\")\n",
    "    print(t_ser_matlab)\n",
    "    print()\n",
    "    print(\"The values returned from the Matlab simulation:\")\n",
    "    print(m.qoi_list)"
   ]
  },
  {
   "cell_type": "markdown",
   "metadata": {},
   "source": [
    "### 2.2 Samples passed as list, no format specification, parallel execution, index samples\n",
    "This examples uses the following files:\n",
    "- model_script = matlab_model_sum_vector_indexed.py\n",
    "- input_template = sum_vector_indexed.m\n",
    "- output_script = process_matlab_output.py"
   ]
  },
  {
   "cell_type": "code",
   "execution_count": 8,
   "metadata": {},
   "outputs": [
    {
     "name": "stdout",
     "output_type": "stream",
     "text": [
      "\n",
      "Time for parallel execution:\n",
      "14.261127948760986\n",
      "\n",
      "The values returned from the Matlab simulation:\n",
      "[array(-2.2429), array(-1.2506), array(2.8015), array(-1.5019), array(-0.44504)]\n"
     ]
    }
   ],
   "source": [
    "if pick_model == 'vector' or pick_model == 'all':\n",
    "    # Call to RunModel - Here we run the model while instantiating the RunModel object. \n",
    "    # Notice that we do not specify var_names. This will default to a single variable with name x0. In this case,\n",
    "    # we will read them in by indexing in the input_template.\n",
    "    t = time.time()\n",
    "    m = RunModel(samples=x_mcs_tri_list, ntasks=2, model_script='matlab_model_sum_vector_indexed.py', \n",
    "                 input_template='sum_vector_indexed.m', model_object_name=\"matlab\", \n",
    "                 output_script='process_matlab_output.py', output_object_name='read_output', \n",
    "                 resume=False, model_dir='Matlab_Model')\n",
    "    t_ser_matlab = time.time() - t\n",
    "    print(\"\\nTime for parallel execution:\")\n",
    "    print(t_ser_matlab)\n",
    "    print()\n",
    "    print(\"The values returned from the Matlab simulation:\")\n",
    "    print(m.qoi_list)"
   ]
  },
  {
   "cell_type": "markdown",
   "metadata": {},
   "source": [
    "### 2.3 Samples passed as a ndarray, specify format in generated input file, serial execution, do not index samples\n",
    "This examples uses the following files:\n",
    "- model_script = matlab_model_sum_vector.py\n",
    "- input_template = sum_vector.m\n",
    "- output_script = process_matlab_output.py"
   ]
  },
  {
   "cell_type": "code",
   "execution_count": 9,
   "metadata": {},
   "outputs": [
    {
     "name": "stdout",
     "output_type": "stream",
     "text": [
      "\n",
      "Time for serial execution:\n",
      "20.39879012107849\n",
      "\n",
      "The values returned from the Matlab simulation:\n",
      "[array(-2.2428), array(-1.2507), array(2.8015), array(-1.5018), array(-0.4451)]\n"
     ]
    }
   ],
   "source": [
    "if pick_model == 'vector' or pick_model == 'all':\n",
    "    # Call to RunModel - Here we run the model while instantiating the RunModel object. \n",
    "    # Notice that we do not specify var_names. This will default to a single variable with name x0. In this case,\n",
    "    # we will read them in by indexing in the input_template.\n",
    "    t = time.time()\n",
    "    m = RunModel(samples=x_mcs_tri, ntasks=1, model_script='matlab_model_sum_vector.py', \n",
    "                 input_template='sum_vector.m', model_object_name=\"matlab\", \n",
    "                 output_script='process_matlab_output.py', output_object_name='read_output', \n",
    "                 resume=False, model_dir='Matlab_Model', fmt=\"{:>10.4f}\")\n",
    "    t_ser_matlab = time.time() - t\n",
    "    print(\"\\nTime for serial execution:\")\n",
    "    print(t_ser_matlab)\n",
    "    print()\n",
    "    print(\"The values returned from the Matlab simulation:\")\n",
    "    print(m.qoi_list)"
   ]
  },
  {
   "cell_type": "markdown",
   "metadata": {},
   "source": [
    "## Example 3: Passing a scalar and an array to RunModel\n",
    "In this example, we pass a single scalar random variable as well as an array into a Matlab model.\n",
    "\n",
    "Again, we will pass the samples both as an ndarray and as a list. Recall that UQpy converts all samples into an ndarray of at least two dimensions internally."
   ]
  },
  {
   "cell_type": "markdown",
   "metadata": {},
   "source": [
    "### Create the input samples to be passed"
   ]
  },
  {
   "cell_type": "code",
   "execution_count": 10,
   "metadata": {},
   "outputs": [
    {
     "name": "stdout",
     "output_type": "stream",
     "text": [
      "Monte Carlo samples of a single random variable from a standard normal distribution.\n",
      "Samples stored as an array:\n",
      "Data type: <class 'numpy.ndarray'>\n",
      "Number of samples: 5\n",
      "Dimensions of samples: (5, 1)\n",
      "Samples\n",
      "[[-1.0911675 ]\n",
      " [-1.24348188]\n",
      " [-0.52940159]\n",
      " [-0.14007396]\n",
      " [ 0.89363679]]\n",
      "\n",
      "Monte Carlo samples of a 3x3 matrix of standard normal random variables.\n",
      "Samples stored as an array:\n",
      "Data type: <class 'numpy.ndarray'>\n",
      "Number of samples: 5\n",
      "Dimensions of samples: (5, 3, 3)\n",
      "Samples\n",
      "[[[ 2.43776003  0.50860827 -1.18647499]\n",
      "  [-0.70974802  0.9531758   0.05124285]\n",
      "  [ 0.31737659 -0.01643037  0.3540809 ]]\n",
      "\n",
      " [[-1.17664068  0.47948661  0.7143797 ]\n",
      "  [ 0.4972078  -2.40460096  0.17213056]\n",
      "  [ 1.38865548 -0.35887271 -1.7663833 ]]\n",
      "\n",
      " [[ 0.5395257  -0.21784446  0.70241256]\n",
      "  [-0.1408846  -2.23095342 -0.37082248]\n",
      "  [ 0.83589334 -1.04612062  0.03417886]]\n",
      "\n",
      " [[ 1.1599544   0.25069637 -0.06270124]\n",
      "  [ 0.85182769  1.23558872  1.36936141]\n",
      "  [ 0.58127402 -0.24769763  0.7182468 ]]\n",
      "\n",
      " [[ 1.01756381 -1.50118836  1.35141999]\n",
      "  [ 0.95795628  0.20261266  0.71528879]\n",
      "  [-0.40414031  0.91376907  0.91350302]]]\n",
      "\n",
      "Combined samples with a scalar and a 3x3 matrix of standard normal random variables.\n",
      "Samples stored as a list:\n",
      "Data type: <class 'list'>\n",
      "Number of samples: 5\n",
      "Dimensions of samples: (5, 2)\n",
      "Samples\n",
      "[[array([-1.0911675]), array([[ 2.43776003,  0.50860827, -1.18647499],\n",
      "       [-0.70974802,  0.9531758 ,  0.05124285],\n",
      "       [ 0.31737659, -0.01643037,  0.3540809 ]])], [array([-1.24348188]), array([[-1.17664068,  0.47948661,  0.7143797 ],\n",
      "       [ 0.4972078 , -2.40460096,  0.17213056],\n",
      "       [ 1.38865548, -0.35887271, -1.7663833 ]])], [array([-0.52940159]), array([[ 0.5395257 , -0.21784446,  0.70241256],\n",
      "       [-0.1408846 , -2.23095342, -0.37082248],\n",
      "       [ 0.83589334, -1.04612062,  0.03417886]])], [array([-0.14007396]), array([[ 1.1599544 ,  0.25069637, -0.06270124],\n",
      "       [ 0.85182769,  1.23558872,  1.36936141],\n",
      "       [ 0.58127402, -0.24769763,  0.7182468 ]])], [array([0.89363679]), array([[ 1.01756381, -1.50118836,  1.35141999],\n",
      "       [ 0.95795628,  0.20261266,  0.71528879],\n",
      "       [-0.40414031,  0.91376907,  0.91350302]])]]\n",
      "\n",
      "Combined samples with a scalar and a 3x3 matrix of standard normal random variables.\n",
      "Samples stored as ndarray:\n",
      "Data type: <class 'numpy.ndarray'>\n",
      "Number of samples: 5\n",
      "Dimensions of samples: (5, 2)\n",
      "Samples\n",
      "[[array([-1.0911675])\n",
      "  array([[ 2.43776003,  0.50860827, -1.18647499],\n",
      "       [-0.70974802,  0.9531758 ,  0.05124285],\n",
      "       [ 0.31737659, -0.01643037,  0.3540809 ]])]\n",
      " [array([-1.24348188])\n",
      "  array([[-1.17664068,  0.47948661,  0.7143797 ],\n",
      "       [ 0.4972078 , -2.40460096,  0.17213056],\n",
      "       [ 1.38865548, -0.35887271, -1.7663833 ]])]\n",
      " [array([-0.52940159])\n",
      "  array([[ 0.5395257 , -0.21784446,  0.70241256],\n",
      "       [-0.1408846 , -2.23095342, -0.37082248],\n",
      "       [ 0.83589334, -1.04612062,  0.03417886]])]\n",
      " [array([-0.14007396])\n",
      "  array([[ 1.1599544 ,  0.25069637, -0.06270124],\n",
      "       [ 0.85182769,  1.23558872,  1.36936141],\n",
      "       [ 0.58127402, -0.24769763,  0.7182468 ]])]\n",
      " [array([0.89363679])\n",
      "  array([[ 1.01756381, -1.50118836,  1.35141999],\n",
      "       [ 0.95795628,  0.20261266,  0.71528879],\n",
      "       [-0.40414031,  0.91376907,  0.91350302]])]]\n",
      "\n"
     ]
    }
   ],
   "source": [
    "if pick_model == 'mixed' or pick_model =='vector' or pick_model == 'all':\n",
    "    # Call MCS to generate samples\n",
    "    # THIS WILL NEED TO BE REWRITTEN WITH DISTRIBUTION AND MCS UPDATES --------------------------------------------\n",
    "    # First generate the scalar random variable\n",
    "    x_mcs1 = MCS(dist_name=['Normal'], dist_params=[[0,1]], nsamples=5, var_names = ['var1']) \n",
    "    # Next generate a 3x3 random matrix\n",
    "    x_mcs2 = MCS(dist_name=['Normal','Normal','Normal'], dist_params=[[0,1],[0,1],[0,1]], nsamples=15)\n",
    "    x_mcs_array = x_mcs2.samples.reshape((5,3,3))\n",
    "    # -------------------------------------------------------------------------------------------------------------\n",
    "    \n",
    "    print(\"Monte Carlo samples of a single random variable from a standard normal distribution.\")\n",
    "    print('Samples stored as an array:')\n",
    "    print('Data type:', type(x_mcs1.samples))\n",
    "    print('Number of samples:', len(x_mcs1.samples))\n",
    "    print('Dimensions of samples:', np.shape(x_mcs1.samples))\n",
    "    print('Samples')\n",
    "    print(x_mcs1.samples)\n",
    "    print()\n",
    "    print(\"Monte Carlo samples of a 3x3 matrix of standard normal random variables.\")\n",
    "    print('Samples stored as an array:')\n",
    "    print('Data type:', type(x_mcs_array))\n",
    "    print('Number of samples:', len(x_mcs_array))\n",
    "    print('Dimensions of samples:', np.shape(x_mcs_array))\n",
    "    print('Samples')\n",
    "    print(x_mcs_array)\n",
    "    print()\n",
    "    \n",
    "    # Create a set of samples to be passed into RunModel\n",
    "    # Here we need to create the mixed samples such that each sample has a single scalar and a single 3x3 matrix.\n",
    "    # This data structure is essential to passing the input to UQpy correctly.\n",
    "    x_mixed = []\n",
    "    for i in range(5):\n",
    "        x_mixed.append([x_mcs1.samples[i], x_mcs_array[i]])\n",
    "        \n",
    "    print(\"Combined samples with a scalar and a 3x3 matrix of standard normal random variables.\")\n",
    "    print('Samples stored as a list:')\n",
    "    print('Data type:', type(x_mixed))\n",
    "    print('Number of samples:', len(x_mixed))\n",
    "    print('Dimensions of samples:', np.shape(x_mixed))\n",
    "    print('Samples')\n",
    "    print(x_mixed)\n",
    "    print()\n",
    "    \n",
    "    x_mixed_array = np.atleast_2d(np.asarray(x_mixed))\n",
    "    print(\"Combined samples with a scalar and a 3x3 matrix of standard normal random variables.\")\n",
    "    print('Samples stored as ndarray:')\n",
    "    print('Data type:', type(x_mixed_array))\n",
    "    print('Number of samples:', len(x_mixed_array))\n",
    "    print('Dimensions of samples:', np.shape(x_mixed_array))\n",
    "    print('Samples')\n",
    "    print(x_mixed_array)\n",
    "    print()\n",
    "    \n",
    "    # Notice that, in both the ndarray case and the list case, the samples have dimension (5,2). That is, there\n",
    "    # are five samples of two variables. The first variable is a scalar. The second variable is a 3x3 matrix."
   ]
  },
  {
   "cell_type": "markdown",
   "metadata": {},
   "source": [
    "### 3.1 Pass samples as ndarray, specify format in generated input file, serial execution, do not index samples in input_template \n",
    "This examples uses the following files:\n",
    "- model_script = matlab_model_det.py\n",
    "- input_template = prod_determinant.m\n",
    "- output_script = process_matlab_output.py"
   ]
  },
  {
   "cell_type": "code",
   "execution_count": 11,
   "metadata": {},
   "outputs": [
    {
     "name": "stdout",
     "output_type": "stream",
     "text": [
      "\n",
      "Time for serial execution:\n",
      "20.094779014587402\n",
      "\n",
      "The values returned from the Matlab simulation:\n",
      "[array(-1.4252), array(2.8308), array(-0.65087), array(-0.21398), array(2.2917)]\n"
     ]
    }
   ],
   "source": [
    "if pick_model == 'mixed' or pick_model == 'all':\n",
    "    # Call to RunModel - Here we run the model while instantiating the RunModel object. \n",
    "    # Notice that we do not specify var_names. This will default to two variables with names x0 and x1. In this \n",
    "    # case, x0 is a scalar and x1 is a 3x3 matrix. We will read the matrix in without indexing in the \n",
    "    # input_template.\n",
    "    t = time.time()\n",
    "    m = RunModel(samples=x_mixed_array, ntasks=1, model_script='matlab_model_det.py', \n",
    "                 input_template='prod_determinant.m', model_object_name=\"matlab\", \n",
    "                 output_script='process_matlab_output.py', output_object_name='read_output', \n",
    "                 resume=False, model_dir='Matlab_Model', fmt=\"{:>10.4f}\")\n",
    "    t_ser_matlab = time.time() - t\n",
    "    print(\"\\nTime for serial execution:\")\n",
    "    print(t_ser_matlab)\n",
    "    print()\n",
    "    print(\"The values returned from the Matlab simulation:\")\n",
    "    print(m.qoi_list)"
   ]
  },
  {
   "cell_type": "markdown",
   "metadata": {},
   "source": [
    "### 3.2 Pass samples as ndarray, specify format in generated input file, serial execution, index samples in input_template \n",
    "This examples uses the following files:\n",
    "- model_script = matlab_model_det_index.py\n",
    "- input_template = prod_determinant_index.m\n",
    "- output_script = process_matlab_output.py"
   ]
  },
  {
   "cell_type": "code",
   "execution_count": 12,
   "metadata": {},
   "outputs": [
    {
     "name": "stdout",
     "output_type": "stream",
     "text": [
      "\n",
      "Time for serial execution:\n",
      "21.296222925186157\n",
      "\n",
      "The values returned from the Matlab simulation:\n",
      "[array(-1.4252), array(2.8308), array(-0.65087), array(-0.21398), array(2.2917)]\n"
     ]
    }
   ],
   "source": [
    "if pick_model == 'mixed' or pick_model == 'all':\n",
    "    # Call to RunModel - Here we run the model while instantiating the RunModel object. \n",
    "    # Notice that we do not specify var_names. This will default to two variables with names x0 and x1. In this \n",
    "    # case, x0 is a scalar and x1 is a 3x3 matrix. We will read the matrix in with indexing in the \n",
    "    # input_template.\n",
    "    t = time.time()\n",
    "    m = RunModel(samples=x_mixed_array, ntasks=1, model_script='matlab_model_det_index.py', \n",
    "                 input_template='prod_determinant_index.m', model_object_name=\"matlab\", \n",
    "                 output_script='process_matlab_output.py', output_object_name='read_output', \n",
    "                 resume=False, model_dir='Matlab_Model', fmt=\"{:>10.4f}\")\n",
    "    t_ser_matlab = time.time() - t\n",
    "    print(\"\\nTime for serial execution:\")\n",
    "    print(t_ser_matlab)\n",
    "    print()\n",
    "    print(\"The values returned from the Matlab simulation:\")\n",
    "    print(m.qoi_list)"
   ]
  },
  {
   "cell_type": "markdown",
   "metadata": {},
   "source": [
    "### 3.3 Pass samples as list, do not specify format in generated input file, parallel execution, do not index samples in input_template \n",
    "This examples uses the following files:\n",
    "- model_script = matlab_model_det.py\n",
    "- input_template = prod_determinant.m\n",
    "- output_script = process_matlab_output.py"
   ]
  },
  {
   "cell_type": "code",
   "execution_count": 13,
   "metadata": {},
   "outputs": [
    {
     "name": "stdout",
     "output_type": "stream",
     "text": [
      "\n",
      "Time for serial execution:\n",
      "16.321665048599243\n",
      "\n",
      "The values returned from the Matlab simulation:\n",
      "[array(-1.425), array(2.8311), array(-0.65087), array(-0.21393), array(2.2917)]\n"
     ]
    }
   ],
   "source": [
    "if pick_model == 'mixed' or pick_model == 'all':\n",
    "    # Call to RunModel - Here we run the model while instantiating the RunModel object. \n",
    "    # Notice that we do not specify var_names. This will default to two variables with names x0 and x1. In this \n",
    "    # case, x0 is a scalar and x1 is a 3x3 matrix. We will read the matrix in without indexing in the \n",
    "    # input_template.\n",
    "    t = time.time()\n",
    "    m = RunModel(samples=x_mixed, ntasks=2, model_script='matlab_model_det.py', \n",
    "                 input_template='prod_determinant.m', model_object_name=\"matlab\", \n",
    "                 output_script='process_matlab_output.py', output_object_name='read_output', \n",
    "                 resume=False, model_dir='Matlab_Model')\n",
    "    t_ser_matlab = time.time() - t\n",
    "    print(\"\\nTime for serial execution:\")\n",
    "    print(t_ser_matlab)\n",
    "    print()\n",
    "    print(\"The values returned from the Matlab simulation:\")\n",
    "    print(m.qoi_list)\n",
    "    \n",
    "    # Notice that the solution changes slightly due to the increased precision by not specifying a fmt."
   ]
  },
  {
   "cell_type": "markdown",
   "metadata": {},
   "source": [
    "### 3.4 Pass samples as list, do not specify format in generated input file, parallel execution, index samples in input_template \n",
    "This examples uses the following files:\n",
    "- model_script = matlab_model_det_index.py\n",
    "- input_template = prod_determinant_index.m\n",
    "- output_script = process_matlab_output.py"
   ]
  },
  {
   "cell_type": "code",
   "execution_count": 14,
   "metadata": {},
   "outputs": [
    {
     "name": "stdout",
     "output_type": "stream",
     "text": [
      "\n",
      "Time for serial execution:\n",
      "19.296738862991333\n",
      "\n",
      "The values returned from the Matlab simulation:\n",
      "[array(-1.425), array(2.8311), array(-0.65087), array(-0.21393), array(2.2917)]\n"
     ]
    }
   ],
   "source": [
    "if pick_model == 'mixed' or pick_model == 'all':\n",
    "    # Call to RunModel - Here we run the model while instantiating the RunModel object. \n",
    "    # Notice that we do not specify var_names. This will default to two variables with names x0 and x1. In this \n",
    "    # case, x0 is a scalar and x1 is a 3x3 matrix. We will read the matrix in with indexing in the \n",
    "    # input_template.\n",
    "    t = time.time()\n",
    "    m = RunModel(samples=x_mixed, ntasks=2, model_script='matlab_model_det_index.py', \n",
    "                 input_template='prod_determinant_index.m', model_object_name=\"matlab\", \n",
    "                 output_script='process_matlab_output.py', output_object_name='read_output', \n",
    "                 resume=False, model_dir='Matlab_Model')\n",
    "    t_ser_matlab = time.time() - t\n",
    "    print(\"\\nTime for serial execution:\")\n",
    "    print(t_ser_matlab)\n",
    "    print()\n",
    "    print(\"The values returned from the Matlab simulation:\")\n",
    "    print(m.qoi_list)\n",
    "    \n",
    "    # Notice that the solution changes slightly due to the increased precision by not specifying a fmt."
   ]
  },
  {
   "cell_type": "markdown",
   "metadata": {},
   "source": [
    "### 3.5 Pass samples as ndarray, specify format in generated input file, serial execution, partially index samples in input_template \n",
    "This examples uses the following files:\n",
    "- model_script = matlab_model_det_partial.py\n",
    "- input_template = prod_determinant_partial.m\n",
    "- output_script = process_matlab_output.py"
   ]
  },
  {
   "cell_type": "code",
   "execution_count": 15,
   "metadata": {},
   "outputs": [
    {
     "name": "stdout",
     "output_type": "stream",
     "text": [
      "\n",
      "Time for serial execution:\n",
      "20.669279098510742\n",
      "\n",
      "The values returned from the Python simulation:\n",
      "[array(-1.4252), array(2.8308), array(-0.65087), array(-0.21398), array(2.2917)]\n"
     ]
    }
   ],
   "source": [
    "if pick_model == 'mixed' or pick_model == 'all':\n",
    "    # Call to RunModel - Here we run the model while instantiating the RunModel object. \n",
    "    # Notice that we do not specify var_names. This will default to two variables with names x0 and x1. In this \n",
    "    # case, x0 is a scalar and x1 is a 3x3 matrix. We will read the matrix in with indexing in the \n",
    "    # input_template.\n",
    "    t = time.time()\n",
    "    m = RunModel(samples=x_mixed_array, ntasks=1, model_script='matlab_model_det_partial.py', \n",
    "                 input_template='prod_determinant_partial.m', model_object_name=\"matlab\", \n",
    "                 output_script='process_matlab_output.py', output_object_name='read_output', \n",
    "                 resume=False, model_dir='Matlab_Model', fmt=\"{:>10.4f}\")\n",
    "    t_ser_matlab = time.time() - t\n",
    "    print(\"\\nTime for serial execution:\")\n",
    "    print(t_ser_matlab)\n",
    "    print()\n",
    "    print(\"The values returned from the Python simulation:\")\n",
    "    print(m.qoi_list)"
   ]
  },
  {
   "cell_type": "code",
   "execution_count": null,
   "metadata": {},
   "outputs": [],
   "source": []
  }
 ],
 "metadata": {
  "kernelspec": {
   "display_name": "Python 3",
   "language": "python",
   "name": "python3"
  },
  "language_info": {
   "codemirror_mode": {
    "name": "ipython",
    "version": 3
   },
   "file_extension": ".py",
   "mimetype": "text/x-python",
   "name": "python",
   "nbconvert_exporter": "python",
   "pygments_lexer": "ipython3",
   "version": "3.6.2"
  }
 },
 "nbformat": 4,
 "nbformat_minor": 2
}
