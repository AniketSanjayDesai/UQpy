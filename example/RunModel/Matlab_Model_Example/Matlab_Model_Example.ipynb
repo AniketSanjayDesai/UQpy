{
 "cells": [
  {
   "cell_type": "markdown",
   "metadata": {},
   "source": [
    "## Description"
   ]
  },
  {
   "cell_type": "markdown",
   "metadata": {},
   "source": [
    "This example performs a small Monte Carlo simulation, using UQpy's RunModel module and a Matlab model that takes the sum of Normal random variables.  \n",
    "\n",
    "Michael D. Shields  \n",
    "December 9, 2018"
   ]
  },
  {
   "cell_type": "markdown",
   "metadata": {},
   "source": [
    "## Required files"
   ]
  },
  {
   "cell_type": "markdown",
   "metadata": {},
   "source": [
    "To run this example, the following files must be present in the same directory as this Jupyter script:\n",
    "\n",
    "1) matlab_model.py  \n",
    "2) dummy_model.m   \n",
    "3) process_matlab_output.py   "
   ]
  },
  {
   "cell_type": "markdown",
   "metadata": {},
   "source": [
    "## Structure of files"
   ]
  },
  {
   "cell_type": "markdown",
   "metadata": {},
   "source": [
    "1) \"matlab_model.py\" is the model script. It contains the Python commands to run the Matlab model.     \n",
    "2) \"dummy_model.m\" is a template input file is used to create matlab input files (.m) files for each simulation. This text file has placeholders for placement of the sampled variables.   \n",
    "3) \"process_matlab_output.py\" is the output script. It is a Python script which processes the output of the Matlab simulations. "
   ]
  },
  {
   "cell_type": "code",
   "execution_count": 1,
   "metadata": {},
   "outputs": [],
   "source": [
    "from UQpy.SampleMethods import MCS\n",
    "from UQpy.RunModel import RunModel\n",
    "import os\n",
    "import time\n",
    "\n",
    "# Add MATLAB to $PATH - modify and use the command in the next line if necessary\n",
    "# os.system(\"export PATH=$PATH:'/Applications/MATLAB_R2018a.app/bin'\")"
   ]
  },
  {
   "cell_type": "markdown",
   "metadata": {},
   "source": [
    "## Sample generation"
   ]
  },
  {
   "cell_type": "code",
   "execution_count": 2,
   "metadata": {},
   "outputs": [
    {
     "name": "stdout",
     "output_type": "stream",
     "text": [
      "Three Monte Carlo samples from a trivariate standard normal distribution.\n",
      "[[ 0.24340696 -1.11754401 -0.9040655 ]\n",
      " [-0.16761792  0.56837827 -0.58250311]\n",
      " [ 0.66673336 -0.97727846 -0.48976606]]\n"
     ]
    }
   ],
   "source": [
    "# Call MCS to generate samples\n",
    "x_mcs = MCS(dist_name=['Normal','Normal','Normal'], dist_params=[[0,1],[0,1],[0,1]], nsamples=3, \n",
    "            var_names = ['var1', 'var2', 'var3']) \n",
    "\n",
    "print(\"Three Monte Carlo samples from a trivariate standard normal distribution.\")\n",
    "print(x_mcs.samples)"
   ]
  },
  {
   "cell_type": "markdown",
   "metadata": {},
   "source": [
    "## Calling RunModel in Serial"
   ]
  },
  {
   "cell_type": "code",
   "execution_count": 3,
   "metadata": {},
   "outputs": [
    {
     "name": "stdout",
     "output_type": "stream",
     "text": [
      "\n",
      "Time for serial execution:\n",
      "20.599793910980225\n",
      "The values retured from the Matlab simulation:\n",
      "[array(-1.7782), array(-0.18174), array(-0.80031)]\n"
     ]
    }
   ],
   "source": [
    "# Call to RunModel\n",
    "t = time.time()\n",
    "m = RunModel(samples=x_mcs.samples, ntasks=1, model_script='matlab_model.py', input_template='dummy_model.m',\n",
    "             var_names=x_mcs.var_names, model_object_name=\"matlab\", output_script='process_matlab_output.py',\n",
    "             output_object_name='read_output', resume=False)\n",
    "t_ser_matlab = time.time() - t\n",
    "print(\"\\nTime for serial execution:\")\n",
    "print(t_ser_matlab)\n",
    "\n",
    "print(\"The values retured from the Matlab simulation:\")\n",
    "print(m.qoi_list)"
   ]
  },
  {
   "cell_type": "markdown",
   "metadata": {},
   "source": [
    "## Calling RunModel in Parallel\n",
    "Note that GNU parallel must be installed for this to run."
   ]
  },
  {
   "cell_type": "code",
   "execution_count": 4,
   "metadata": {},
   "outputs": [
    {
     "name": "stdout",
     "output_type": "stream",
     "text": [
      "\n",
      "Time for parallel execution:\n",
      "8.463656902313232\n",
      "The values retured from the Matlab simulation:\n",
      "[array(-1.7782), array(-0.18174), array(-0.80031)]\n"
     ]
    }
   ],
   "source": [
    "# Call to RunModel\n",
    "t = time.time()\n",
    "m = RunModel(samples=x_mcs.samples, ntasks=4, model_script='matlab_model.py', input_template='dummy_model.m',\n",
    "             var_names=x_mcs.var_names, model_object_name=\"matlab\", output_script='process_matlab_output.py',\n",
    "             output_object_name='read_output', resume=False)\n",
    "t_ser_matlab = time.time() - t\n",
    "print(\"\\nTime for parallel execution:\")\n",
    "print(t_ser_matlab)\n",
    "\n",
    "print(\"The values retured from the Matlab simulation:\")\n",
    "print(m.qoi_list)"
   ]
  },
  {
   "cell_type": "code",
   "execution_count": null,
   "metadata": {},
   "outputs": [],
   "source": []
  }
 ],
 "metadata": {
  "kernelspec": {
   "display_name": "Python 3",
   "language": "python",
   "name": "python3"
  },
  "language_info": {
   "codemirror_mode": {
    "name": "ipython",
    "version": 3
   },
   "file_extension": ".py",
   "mimetype": "text/x-python",
   "name": "python",
   "nbconvert_exporter": "python",
   "pygments_lexer": "ipython3",
   "version": "3.7.4"
  }
 },
 "nbformat": 4,
 "nbformat_minor": 2
}
