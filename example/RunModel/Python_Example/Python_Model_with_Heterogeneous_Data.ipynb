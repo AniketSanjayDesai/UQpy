{
 "cells": [
  {
   "cell_type": "markdown",
   "metadata": {},
   "source": [
    "# RunModel with Heterogeneous Input: Python model execution\n",
    "\n",
    "The RunModel class is capable of passing input in different formats into a single computational model. This means that the samples passed into a model can be passed as:\n",
    "- floating point values\n",
    "- numpy arrays\n",
    "- lists \n",
    "- tuples\n",
    "- lists of other iterables\n",
    "- numpy arrays of other iterables\n",
    "- or any combination of the above\n",
    "\n",
    "In the examples below, we demonstrate the use of a Python computational model with inputs that are combinations of the above.\n",
    "\n",
    "Some notes on their use:\n",
    "1. UQpy converts all sample input to a numpy array with at least two dimensions. The first dimension, i.e. len(samples) must correspond to the number of samples being passed for model execution. The second dimension, i.e. len(samples[0]) must correspond to the number of variables that each sample possesses.\n",
    "2. Each individual sample, i.e. sample[j], may be composed of multiple data types -- with each variable having a different data type. For example, sample[j][k] may be a floating point value and sample[j][l] may be an array of arbitrary dimension.\n",
    "3. If a specific variable has multiple dimensions, the user may specify the index to be return in the input file. For example, the place holder for a variable x1 corresponding to sample[j][l] that is an array of shape (1,4) can be read as <x1[0, 3]>, which will return the final (0,3) component of samples[j][l].\n",
    "4. If the user does not specify the index for a multidimensional variable, then the entire multidimensional variable is flattened and written with comma delimiters.\n",
    "\n",
    "Michael D. Shields  \n",
    "29 April 2020"
   ]
  },
  {
   "cell_type": "markdown",
   "metadata": {},
   "source": [
    "### Python Model Summary\n",
    "Examples 1-2:\n",
    "The provided Matlab models take the sum of three random variables:  \n",
    "$s = \\sum_{i=1}^3 x_i$  \n",
    "$x_i \\sim N(0,1)$\n",
    "\n",
    "Example 3:\n",
    "The provided Matlab model takes the product of a random variable and the determinant of a random matrix:  \n",
    "$z = x \\det(Y)$  \n",
    "$x \\sim N(0,1)$  \n",
    "$y$ is a 3x3 matrix of standard normal random variables.\n",
    "\n",
    "The Python model may be provided as either a class or a function. The examples below explore both cases."
   ]
  },
  {
   "cell_type": "code",
   "execution_count": 1,
   "metadata": {},
   "outputs": [],
   "source": [
    "from UQpy.SampleMethods import MCS\n",
    "from UQpy.RunModel import RunModel\n",
    "import matplotlib.pyplot as plt\n",
    "import time\n",
    "import numpy as np"
   ]
  },
  {
   "cell_type": "markdown",
   "metadata": {},
   "source": [
    "### Pick which model to run\n",
    "Options:\n",
    "- 'all'\n",
    "- 'scalar'\n",
    "- 'vector'\n",
    "- 'mixed'\n",
    "- 'fixed'"
   ]
  },
  {
   "cell_type": "code",
   "execution_count": 2,
   "metadata": {},
   "outputs": [],
   "source": [
    "pick_model = 'all'"
   ]
  },
  {
   "cell_type": "markdown",
   "metadata": {},
   "source": [
    "## Example 1: Three scalar random variables\n",
    "In this example, we pass three scalar random variables. Note that this is different from assigning a single variable with three components, which will be handled in the following example. \n",
    "\n",
    "Here we will pass the samples both as an ndarray and as a list. Recall that UQpy converts all samples into an ndarray of at least two dimensions internally."
   ]
  },
  {
   "cell_type": "code",
   "execution_count": 3,
   "metadata": {},
   "outputs": [
    {
     "name": "stdout",
     "output_type": "stream",
     "text": [
      "Monte Carlo samples of three random variables from a standard normal distribution.\n",
      "Samples stored as an array:\n",
      "Data type: <class 'numpy.ndarray'>\n",
      "Number of samples: 5\n",
      "Dimensions of samples: (5, 3)\n",
      "Samples\n",
      "[[-0.74872205  1.27075369  0.25163963]\n",
      " [ 0.14681843  0.88266692  0.97283151]\n",
      " [-0.09694895 -0.4911442  -1.7552827 ]\n",
      " [ 0.24977597  0.09712931 -1.08294372]\n",
      " [-0.46119419 -1.50942848  0.64172376]]\n",
      "\n",
      "Samples stored as a list:\n",
      "Data type: <class 'list'>\n",
      "Number of samples: 5\n",
      "Dimensions of samples: (5, 3)\n",
      "Samples:\n",
      "[array([-0.74872205,  1.27075369,  0.25163963]), array([0.14681843, 0.88266692, 0.97283151]), array([-0.09694895, -0.4911442 , -1.7552827 ]), array([ 0.24977597,  0.09712931, -1.08294372]), array([-0.46119419, -1.50942848,  0.64172376])]\n"
     ]
    }
   ],
   "source": [
    "if pick_model == 'scalar' or pick_model =='vector' or pick_model == 'all':\n",
    "    # Call MCS to generate samples\n",
    "    # THIS WILL NEED TO BE REWRITTEN WITH DISTRIBUTION AND MCS UPDATES --------------------------------------------\n",
    "    x_mcs = MCS(dist_name=['Normal','Normal','Normal'], dist_params=[[0,1],[0,1],[0,1]], nsamples=5, \n",
    "                var_names = ['var1', 'var11', 'var111']) \n",
    "    # -------------------------------------------------------------------------------------------------------------\n",
    "\n",
    "    # UQpy returns samples as an ndarray. Convert them to a list for part 1.2\n",
    "    x_mcs_list = list(x_mcs.samples)\n",
    "    print(\"Monte Carlo samples of three random variables from a standard normal distribution.\")\n",
    "    print('Samples stored as an array:')\n",
    "    print('Data type:', type(x_mcs.samples))\n",
    "    print('Number of samples:', len(x_mcs.samples))\n",
    "    print('Dimensions of samples:', np.shape(x_mcs.samples))\n",
    "    print('Samples')\n",
    "    print(x_mcs.samples)\n",
    "    print()\n",
    "    print('Samples stored as a list:')\n",
    "    print('Data type:', type(x_mcs_list))   \n",
    "    print('Number of samples:', len(x_mcs_list))\n",
    "    print('Dimensions of samples:', np.shape(x_mcs_list))\n",
    "    print('Samples:')\n",
    "    print(x_mcs_list)"
   ]
  },
  {
   "cell_type": "markdown",
   "metadata": {},
   "source": [
    "### 1.1 Pass samples as ndarray, Python class called, serial execution  \n",
    "This examples uses the following files:\n",
    "- model_script = python_model.py"
   ]
  },
  {
   "cell_type": "code",
   "execution_count": 4,
   "metadata": {},
   "outputs": [
    {
     "name": "stdout",
     "output_type": "stream",
     "text": [
      "\n",
      "Time for serial execution:\n",
      "0.012399911880493164\n",
      "\n",
      "The values returned from the Matlab simulation:\n",
      "[0.7736712678997194, 2.0023168726271288, -2.3433758468404147, -0.7360384447587722, -1.3288989109053513]\n"
     ]
    }
   ],
   "source": [
    "if pick_model == 'scalar' or pick_model == 'all':\n",
    "    # Call to RunModel - Here we run the model while instantiating the RunModel object. \n",
    "    t = time.time()\n",
    "    m11 = RunModel(ntasks=1, model_script='python_model.py', model_object_name='SumRVs', model_dir='Python_Runs')\n",
    "    m11.run(samples=x_mcs.samples,)\n",
    "    t_ser_python = time.time() - t\n",
    "    print(\"\\nTime for serial execution:\")\n",
    "    print(t_ser_python)\n",
    "    print()\n",
    "    print(\"The values returned from the Matlab simulation:\")\n",
    "    print(m11.qoi_list)"
   ]
  },
  {
   "cell_type": "markdown",
   "metadata": {},
   "source": [
    "### 1.2 Pass samples as list, Python function called, parallel execution  \n",
    "This examples uses the following files:\n",
    "- model_script = python_model.py"
   ]
  },
  {
   "cell_type": "code",
   "execution_count": 5,
   "metadata": {},
   "outputs": [
    {
     "name": "stdout",
     "output_type": "stream",
     "text": [
      "\n",
      "Time for parallel execution:\n",
      "0.03223586082458496\n",
      "\n",
      "The values returned from the Matlab simulation:\n",
      "[array([0.77367127]), array([2.00231687]), array([-2.34337585]), array([-0.73603844]), array([-1.32889891])]\n"
     ]
    }
   ],
   "source": [
    "if pick_model == 'scalar' or pick_model == 'all':\n",
    "    # Call to RunModel - Here we run the model while instantiating the RunModel object. \n",
    "    t = time.time()\n",
    "    m12 = RunModel(samples=x_mcs_list, ntasks=2, model_script='python_model.py', \n",
    "                 model_object_name='sum_rvs', model_dir='Python_Runs')\n",
    "    t_par_python = time.time() - t\n",
    "    print(\"\\nTime for parallel execution:\")\n",
    "    print(t_par_python)\n",
    "    print()\n",
    "    print(\"The values returned from the Matlab simulation:\")\n",
    "    print(m12.qoi_list)"
   ]
  },
  {
   "cell_type": "markdown",
   "metadata": {},
   "source": [
    "## Example 2: Single tri-variate random variable\n",
    "In this example, we pass three random variables in as a trivariate random variable. Note that this is different from assigning three scalar random variables, which was be handled in Example 1.\n",
    "\n",
    "Again, we will pass the samples both as an ndarray and as a list. Recall that UQpy converts all samples into an ndarray of at least two dimensions internally."
   ]
  },
  {
   "cell_type": "markdown",
   "metadata": {},
   "source": [
    "### Restructure the samples\n",
    "To pass the samples in as a single tri-variate variable, we need reshape the samples from shape (5, 3) to shape (5, 1, 3)"
   ]
  },
  {
   "cell_type": "code",
   "execution_count": 6,
   "metadata": {},
   "outputs": [
    {
     "name": "stdout",
     "output_type": "stream",
     "text": [
      "Monte Carlo samples of three random variables from a standard normal distribution.\n",
      "Samples stored as an array:\n",
      "Data type: <class 'numpy.ndarray'>\n",
      "Number of samples: 5\n",
      "Dimensions of samples: (5, 1, 3)\n",
      "Samples\n",
      "[[[-0.74872205  1.27075369  0.25163963]]\n",
      "\n",
      " [[ 0.14681843  0.88266692  0.97283151]]\n",
      "\n",
      " [[-0.09694895 -0.4911442  -1.7552827 ]]\n",
      "\n",
      " [[ 0.24977597  0.09712931 -1.08294372]]\n",
      "\n",
      " [[-0.46119419 -1.50942848  0.64172376]]]\n",
      "\n",
      "Samples stored as a list:\n",
      "Data type: <class 'list'>\n",
      "Number of samples: 5\n",
      "Dimensions of samples: (5, 1, 3)\n",
      "Samples:\n",
      "[array([[-0.74872205,  1.27075369,  0.25163963]]), array([[0.14681843, 0.88266692, 0.97283151]]), array([[-0.09694895, -0.4911442 , -1.7552827 ]]), array([[ 0.24977597,  0.09712931, -1.08294372]]), array([[-0.46119419, -1.50942848,  0.64172376]])]\n"
     ]
    }
   ],
   "source": [
    "if pick_model == 'vector' or pick_model == 'all':\n",
    "    x_mcs_tri = x_mcs.samples.reshape(5, 1, 3)\n",
    "    x_mcs_tri_list = list(x_mcs_tri)\n",
    "\n",
    "    print(\"Monte Carlo samples of three random variables from a standard normal distribution.\")\n",
    "    print('Samples stored as an array:')\n",
    "    print('Data type:', type(x_mcs_tri))\n",
    "    print('Number of samples:', len(x_mcs_tri))\n",
    "    print('Dimensions of samples:', np.shape(x_mcs_tri))\n",
    "    print('Samples')\n",
    "    print(x_mcs_tri)\n",
    "    print()\n",
    "    print('Samples stored as a list:')\n",
    "    print('Data type:', type(x_mcs_tri_list))   \n",
    "    print('Number of samples:', len(x_mcs_tri_list))\n",
    "    print('Dimensions of samples:', np.shape(x_mcs_tri_list))\n",
    "    print('Samples:')\n",
    "    print(x_mcs_tri_list)"
   ]
  },
  {
   "cell_type": "markdown",
   "metadata": {},
   "source": [
    "### 2.1 Pass samples as ndarray, Python function called, serial execution\n",
    "This example uses the following files:\n",
    "- model_script = python_model.py"
   ]
  },
  {
   "cell_type": "code",
   "execution_count": 7,
   "metadata": {},
   "outputs": [
    {
     "name": "stdout",
     "output_type": "stream",
     "text": [
      "\n",
      "Time for serial execution:\n",
      "0.01606297492980957\n",
      "\n",
      "The values returned from the Matlab simulation:\n",
      "[array([0.77367127]), array([2.00231687]), array([-2.34337585]), array([-0.73603844]), array([-1.32889891])]\n"
     ]
    }
   ],
   "source": [
    "if pick_model == 'vector' or pick_model == 'all':\n",
    "    # Call to RunModel - Here we run the model while instantiating the RunModel object. \n",
    "    t = time.time()\n",
    "    m21 = RunModel(samples=x_mcs_tri, ntasks=1, model_script='python_model.py', \n",
    "                 model_object_name='sum_rvs_vec', model_dir='Python_Runs')\n",
    "    t_ser_python = time.time() - t\n",
    "    print(\"\\nTime for serial execution:\")\n",
    "    print(t_ser_python)\n",
    "    print()\n",
    "    print(\"The values returned from the Matlab simulation:\")\n",
    "    print(m21.qoi_list)"
   ]
  },
  {
   "cell_type": "markdown",
   "metadata": {},
   "source": [
    "### 2.2 Pass samples as list, Python class called, parallel execution\n",
    "This example uses the following files:\n",
    "- model_script = python_model.py"
   ]
  },
  {
   "cell_type": "code",
   "execution_count": 8,
   "metadata": {},
   "outputs": [
    {
     "name": "stdout",
     "output_type": "stream",
     "text": [
      "\n",
      "Time for parallel execution:\n",
      "0.03136897087097168\n",
      "\n",
      "The values returned from the Matlab simulation:\n",
      "[array([0.77367127]), array([2.00231687]), array([-2.34337585]), array([-0.73603844]), array([-1.32889891])]\n"
     ]
    }
   ],
   "source": [
    "if pick_model == 'vector' or pick_model == 'all':\n",
    "    # Call to RunModel - Here we run the model while instantiating the RunModel object. \n",
    "    t = time.time()\n",
    "    m22 = RunModel(samples=x_mcs_tri_list, ntasks=2, model_script='python_model.py', \n",
    "                 model_object_name='SumRVs', model_dir='Python_Runs')\n",
    "    t_par_python = time.time() - t\n",
    "    print(\"\\nTime for parallel execution:\")\n",
    "    print(t_par_python)\n",
    "    print()\n",
    "    print(\"The values returned from the Matlab simulation:\")\n",
    "    print(m22.qoi_list)"
   ]
  },
  {
   "cell_type": "markdown",
   "metadata": {},
   "source": [
    "## Example 3: Passing a scalar and an array to RunModel\n",
    "In this example, we pass a single scalar random variable as well as an array into a Matlab model.\n",
    "\n",
    "Again, we will pass the samples both as an ndarray and as a list. Recall that UQpy converts all samples into an ndarray of at least two dimensions internally."
   ]
  },
  {
   "cell_type": "code",
   "execution_count": 9,
   "metadata": {},
   "outputs": [
    {
     "name": "stdout",
     "output_type": "stream",
     "text": [
      "Monte Carlo samples of a single random variable from a standard normal distribution.\n",
      "Samples stored as an array:\n",
      "Data type: <class 'numpy.ndarray'>\n",
      "Number of samples: 5\n",
      "Dimensions of samples: (5, 1)\n",
      "Samples\n",
      "[[-0.45855936]\n",
      " [ 0.36754108]\n",
      " [ 1.44041493]\n",
      " [ 0.7546697 ]\n",
      " [ 1.7476449 ]]\n",
      "\n",
      "Monte Carlo samples of a 3x3 matrix of standard normal random variables.\n",
      "Samples stored as an array:\n",
      "Data type: <class 'numpy.ndarray'>\n",
      "Number of samples: 5\n",
      "Dimensions of samples: (5, 3, 3)\n",
      "Samples\n",
      "[[[ 0.55753922  2.34328819 -1.00092479]\n",
      "  [-0.43379101  1.84753919 -1.2077839 ]\n",
      "  [ 1.04777473 -1.67862715 -1.38296314]]\n",
      "\n",
      " [[-0.55290311  1.03915508 -0.02892851]\n",
      "  [ 1.75566362 -0.07591685 -1.23532293]\n",
      "  [-0.46088052  0.67969104  2.22905913]]\n",
      "\n",
      " [[-1.77331278 -0.14651258 -1.28718587]\n",
      "  [ 1.49193257  1.64814527 -0.226943  ]\n",
      "  [ 1.544142    1.07544422  0.42373174]]\n",
      "\n",
      " [[-1.15185765 -0.27227344  0.05375925]\n",
      "  [-0.59408261  1.36637931 -0.79731448]\n",
      "  [ 0.04376446  0.3029877  -1.09950494]]\n",
      "\n",
      " [[-2.13010581  0.36398522  0.34588439]\n",
      "  [-1.35521648  0.87214484  0.47646223]\n",
      "  [ 1.17198855 -0.50744154 -2.1023544 ]]]\n",
      "\n",
      "Combined samples with a scalar and a 3x3 matrix of standard normal random variables.\n",
      "Samples stored as a list:\n",
      "Data type: <class 'list'>\n",
      "Number of samples: 5\n",
      "Dimensions of samples: (5, 2)\n",
      "Samples\n",
      "[[array([-0.45855936]), array([[ 0.55753922,  2.34328819, -1.00092479],\n",
      "       [-0.43379101,  1.84753919, -1.2077839 ],\n",
      "       [ 1.04777473, -1.67862715, -1.38296314]])], [array([0.36754108]), array([[-0.55290311,  1.03915508, -0.02892851],\n",
      "       [ 1.75566362, -0.07591685, -1.23532293],\n",
      "       [-0.46088052,  0.67969104,  2.22905913]])], [array([1.44041493]), array([[-1.77331278, -0.14651258, -1.28718587],\n",
      "       [ 1.49193257,  1.64814527, -0.226943  ],\n",
      "       [ 1.544142  ,  1.07544422,  0.42373174]])], [array([0.7546697]), array([[-1.15185765, -0.27227344,  0.05375925],\n",
      "       [-0.59408261,  1.36637931, -0.79731448],\n",
      "       [ 0.04376446,  0.3029877 , -1.09950494]])], [array([1.7476449]), array([[-2.13010581,  0.36398522,  0.34588439],\n",
      "       [-1.35521648,  0.87214484,  0.47646223],\n",
      "       [ 1.17198855, -0.50744154, -2.1023544 ]])]]\n",
      "\n",
      "Combined samples with a scalar and a 3x3 matrix of standard normal random variables.\n",
      "Samples stored as ndarray:\n",
      "Data type: <class 'numpy.ndarray'>\n",
      "Number of samples: 5\n",
      "Dimensions of samples: (5, 2)\n",
      "Samples\n",
      "[[array([-0.45855936])\n",
      "  array([[ 0.55753922,  2.34328819, -1.00092479],\n",
      "       [-0.43379101,  1.84753919, -1.2077839 ],\n",
      "       [ 1.04777473, -1.67862715, -1.38296314]])]\n",
      " [array([0.36754108])\n",
      "  array([[-0.55290311,  1.03915508, -0.02892851],\n",
      "       [ 1.75566362, -0.07591685, -1.23532293],\n",
      "       [-0.46088052,  0.67969104,  2.22905913]])]\n",
      " [array([1.44041493])\n",
      "  array([[-1.77331278, -0.14651258, -1.28718587],\n",
      "       [ 1.49193257,  1.64814527, -0.226943  ],\n",
      "       [ 1.544142  ,  1.07544422,  0.42373174]])]\n",
      " [array([0.7546697])\n",
      "  array([[-1.15185765, -0.27227344,  0.05375925],\n",
      "       [-0.59408261,  1.36637931, -0.79731448],\n",
      "       [ 0.04376446,  0.3029877 , -1.09950494]])]\n",
      " [array([1.7476449])\n",
      "  array([[-2.13010581,  0.36398522,  0.34588439],\n",
      "       [-1.35521648,  0.87214484,  0.47646223],\n",
      "       [ 1.17198855, -0.50744154, -2.1023544 ]])]]\n",
      "\n"
     ]
    }
   ],
   "source": [
    "if pick_model == 'mixed' or pick_model =='vector' or pick_model == 'all':\n",
    "    # Call MCS to generate samples\n",
    "    # THIS WILL NEED TO BE REWRITTEN WITH DISTRIBUTION AND MCS UPDATES --------------------------------------------\n",
    "    # First generate the scalar random variable\n",
    "    x_mcs1 = MCS(dist_name=['Normal'], dist_params=[[0,1]], nsamples=5, var_names = ['var1']) \n",
    "    # Next generate a 3x3 random matrix\n",
    "    x_mcs2 = MCS(dist_name=['Normal','Normal','Normal'], dist_params=[[0,1],[0,1],[0,1]], nsamples=15)\n",
    "    x_mcs_array = x_mcs2.samples.reshape((5,3,3))\n",
    "    # -------------------------------------------------------------------------------------------------------------\n",
    "    \n",
    "    print(\"Monte Carlo samples of a single random variable from a standard normal distribution.\")\n",
    "    print('Samples stored as an array:')\n",
    "    print('Data type:', type(x_mcs1.samples))\n",
    "    print('Number of samples:', len(x_mcs1.samples))\n",
    "    print('Dimensions of samples:', np.shape(x_mcs1.samples))\n",
    "    print('Samples')\n",
    "    print(x_mcs1.samples)\n",
    "    print()\n",
    "    print(\"Monte Carlo samples of a 3x3 matrix of standard normal random variables.\")\n",
    "    print('Samples stored as an array:')\n",
    "    print('Data type:', type(x_mcs_array))\n",
    "    print('Number of samples:', len(x_mcs_array))\n",
    "    print('Dimensions of samples:', np.shape(x_mcs_array))\n",
    "    print('Samples')\n",
    "    print(x_mcs_array)\n",
    "    print()\n",
    "    \n",
    "    # Create a set of samples to be passed into RunModel\n",
    "    # Here we need to create the mixed samples such that each sample has a single scalar and a single 3x3 matrix.\n",
    "    # This data structure is essential to passing the input to UQpy correctly.\n",
    "    x_mixed = []\n",
    "    for i in range(5):\n",
    "        x_mixed.append([x_mcs1.samples[i], x_mcs_array[i]])\n",
    "        \n",
    "    print(\"Combined samples with a scalar and a 3x3 matrix of standard normal random variables.\")\n",
    "    print('Samples stored as a list:')\n",
    "    print('Data type:', type(x_mixed))\n",
    "    print('Number of samples:', len(x_mixed))\n",
    "    print('Dimensions of samples:', np.shape(x_mixed))\n",
    "    print('Samples')\n",
    "    print(x_mixed)\n",
    "    print()\n",
    "    \n",
    "    x_mixed_array = np.atleast_2d(np.asarray(x_mixed))\n",
    "    print(\"Combined samples with a scalar and a 3x3 matrix of standard normal random variables.\")\n",
    "    print('Samples stored as ndarray:')\n",
    "    print('Data type:', type(x_mixed_array))\n",
    "    print('Number of samples:', len(x_mixed_array))\n",
    "    print('Dimensions of samples:', np.shape(x_mixed_array))\n",
    "    print('Samples')\n",
    "    print(x_mixed_array)\n",
    "    print()\n",
    "    \n",
    "    # Notice that, in both the ndarray case and the list case, the samples have dimension (5,2). That is, there\n",
    "    # are five samples of two variables. The first variable is a scalar. The second variable is a 3x3 matrix."
   ]
  },
  {
   "cell_type": "markdown",
   "metadata": {},
   "source": [
    "### 3.1 Pass samples as ndarray, Python class called, serial execution \n",
    "This examples uses the following files:\n",
    "- model_script = python_model.py"
   ]
  },
  {
   "cell_type": "code",
   "execution_count": 10,
   "metadata": {},
   "outputs": [
    {
     "name": "stdout",
     "output_type": "stream",
     "text": [
      "\n",
      "Time for serial execution:\n",
      "0.0217740535736084\n",
      "\n",
      "The values returned from the Matlab simulation:\n",
      "[array([2.62174399]), array([-1.42578919]), array([-0.456174]), array([1.22760495]), array([4.26632608])]\n"
     ]
    }
   ],
   "source": [
    "if pick_model == 'mixed' or pick_model == 'all':\n",
    "    # Call to RunModel - Here we run the model while instantiating the RunModel object. \n",
    "    t = time.time()\n",
    "    m31 = RunModel(samples=x_mixed_array, ntasks=1, model_script='python_model.py', \n",
    "                 model_object_name='DetRVs', model_dir='Python_Runs', vec=False)\n",
    "    t_ser_python = time.time() - t\n",
    "    print(\"\\nTime for serial execution:\")\n",
    "    print(t_ser_python)\n",
    "    print()\n",
    "    print(\"The values returned from the Matlab simulation:\")\n",
    "    print(m31.qoi_list)"
   ]
  },
  {
   "cell_type": "markdown",
   "metadata": {},
   "source": [
    "### 3.2 Pass samples as list, Python function called, parallel execution \n",
    "This examples uses the following files:\n",
    "- model_script = python_model.py"
   ]
  },
  {
   "cell_type": "code",
   "execution_count": 11,
   "metadata": {},
   "outputs": [
    {
     "name": "stdout",
     "output_type": "stream",
     "text": [
      "\n",
      "Time for parallel execution:\n",
      "0.011741161346435547\n",
      "\n",
      "The values returned from the Matlab simulation:\n",
      "[array([2.62174399]), array([-1.42578919]), array([-0.456174]), array([1.22760495]), array([4.26632608])]\n"
     ]
    }
   ],
   "source": [
    "if pick_model == 'mixed' or pick_model == 'all':\n",
    "    # Call to RunModel - Here we run the model while instantiating the RunModel object. \n",
    "    # Note that the parallel model_object handles only one sample at a time.\n",
    "    t = time.time()\n",
    "    m32 = RunModel(samples=x_mixed, ntasks=1, model_script='python_model.py', \n",
    "                 model_object_name='det_rvs_par', model_dir='Python_Runs', vec=False)\n",
    "    t_par_python = time.time() - t\n",
    "    print(\"\\nTime for parallel execution:\")\n",
    "    print(t_par_python)\n",
    "    print()\n",
    "    print(\"The values returned from the Matlab simulation:\")\n",
    "    print(m32.qoi_list)"
   ]
  },
  {
   "cell_type": "markdown",
   "metadata": {},
   "source": [
    "## Example 4: Passing a fixed variable and an array of Random Variables to RunModel\n",
    "In this example, we pass a fixed value coefficient as well as an array of random variables into a Python model.\n",
    "\n",
    "Again, we will pass the samples both as an ndarray and as a list. Recall that UQpy converts all samples into an ndarray of at least two dimensions internally."
   ]
  },
  {
   "cell_type": "code",
   "execution_count": 12,
   "metadata": {},
   "outputs": [
    {
     "name": "stdout",
     "output_type": "stream",
     "text": [
      "Constant Coefficient:\n",
      "2.5\n",
      "\n",
      "Monte Carlo samples of a 3x3 matrix of standard normal random variables.\n",
      "Samples stored as an array:\n",
      "Data type: <class 'numpy.ndarray'>\n",
      "Number of samples: 5\n",
      "Dimensions of samples: (5, 3, 3)\n",
      "Samples\n",
      "[[[ 0.55753922  2.34328819 -1.00092479]\n",
      "  [-0.43379101  1.84753919 -1.2077839 ]\n",
      "  [ 1.04777473 -1.67862715 -1.38296314]]\n",
      "\n",
      " [[-0.55290311  1.03915508 -0.02892851]\n",
      "  [ 1.75566362 -0.07591685 -1.23532293]\n",
      "  [-0.46088052  0.67969104  2.22905913]]\n",
      "\n",
      " [[-1.77331278 -0.14651258 -1.28718587]\n",
      "  [ 1.49193257  1.64814527 -0.226943  ]\n",
      "  [ 1.544142    1.07544422  0.42373174]]\n",
      "\n",
      " [[-1.15185765 -0.27227344  0.05375925]\n",
      "  [-0.59408261  1.36637931 -0.79731448]\n",
      "  [ 0.04376446  0.3029877  -1.09950494]]\n",
      "\n",
      " [[-2.13010581  0.36398522  0.34588439]\n",
      "  [-1.35521648  0.87214484  0.47646223]\n",
      "  [ 1.17198855 -0.50744154 -2.1023544 ]]]\n",
      "\n",
      "3x3 matrix of standard normal random variables.\n",
      "Samples stored as ndarray:\n",
      "Data type: <class 'list'>\n",
      "Number of samples: 5\n",
      "Dimensions of samples: (5, 3, 3)\n",
      "Samples\n",
      "[array([[ 0.55753922,  2.34328819, -1.00092479],\n",
      "       [-0.43379101,  1.84753919, -1.2077839 ],\n",
      "       [ 1.04777473, -1.67862715, -1.38296314]]), array([[-0.55290311,  1.03915508, -0.02892851],\n",
      "       [ 1.75566362, -0.07591685, -1.23532293],\n",
      "       [-0.46088052,  0.67969104,  2.22905913]]), array([[-1.77331278, -0.14651258, -1.28718587],\n",
      "       [ 1.49193257,  1.64814527, -0.226943  ],\n",
      "       [ 1.544142  ,  1.07544422,  0.42373174]]), array([[-1.15185765, -0.27227344,  0.05375925],\n",
      "       [-0.59408261,  1.36637931, -0.79731448],\n",
      "       [ 0.04376446,  0.3029877 , -1.09950494]]), array([[-2.13010581,  0.36398522,  0.34588439],\n",
      "       [-1.35521648,  0.87214484,  0.47646223],\n",
      "       [ 1.17198855, -0.50744154, -2.1023544 ]])]\n",
      "\n"
     ]
    }
   ],
   "source": [
    "if pick_model == 'mixed' or pick_model == 'all':\n",
    "    # Call MCS to generate samples\n",
    "    x = 2.5\n",
    "    \n",
    "    print('Constant Coefficient:')\n",
    "    print(x)\n",
    "    print()\n",
    "    \n",
    "    print(\"Monte Carlo samples of a 3x3 matrix of standard normal random variables.\")\n",
    "    print('Samples stored as an array:')\n",
    "    print('Data type:', type(x_mcs_array))\n",
    "    print('Number of samples:', len(x_mcs_array))\n",
    "    print('Dimensions of samples:', np.shape(x_mcs_array))\n",
    "    print('Samples')\n",
    "    print(x_mcs_array)\n",
    "    print()\n",
    "    \n",
    "    x_mcs_list = list(x_mcs_array)\n",
    "\n",
    "    print(\"3x3 matrix of standard normal random variables.\")\n",
    "    print('Samples stored as ndarray:')\n",
    "    print('Data type:', type(x_mcs_list))\n",
    "    print('Number of samples:', len(x_mcs_list))\n",
    "    print('Dimensions of samples:', np.shape(x_mcs_list))\n",
    "    print('Samples')\n",
    "    print(x_mcs_list)\n",
    "    print()\n",
    "    \n",
    "    # Notice that, in both the ndarray case and the list case, the samples have dimension (5,2). That is, there\n",
    "    # are five samples of two variables. The first variable is a scalar. The second variable is a 3x3 matrix."
   ]
  },
  {
   "cell_type": "markdown",
   "metadata": {},
   "source": [
    "### 4.1 Pass samples as ndarray, Python class called, serial execution \n",
    "This examples uses the following files:\n",
    "- model_script = python_model.py"
   ]
  },
  {
   "cell_type": "code",
   "execution_count": 13,
   "metadata": {},
   "outputs": [
    {
     "name": "stdout",
     "output_type": "stream",
     "text": [
      "\n",
      "Time for serial execution:\n",
      "0.013948917388916016\n",
      "\n",
      "The values returned from the Matlab simulation:\n",
      "[-14.29337298443281, -9.698161956313964, -0.7917406072915002, 4.066696182412885, 6.102964755267562]\n"
     ]
    }
   ],
   "source": [
    "if pick_model == 'mixed' or pick_model == 'all':\n",
    "    # Call to RunModel - Here we run the model while instantiating the RunModel object. \n",
    "    t = time.time()\n",
    "    m41 = RunModel(samples=x_mcs_array, ntasks=1, model_script='python_model.py', \n",
    "                 model_object_name='det_rvs_fixed', model_dir='Python_Runs', vec=False, coeff=x)\n",
    "    t_ser_python = time.time() - t\n",
    "    print(\"\\nTime for serial execution:\")\n",
    "    print(t_ser_python)\n",
    "    print()\n",
    "    print(\"The values returned from the Matlab simulation:\")\n",
    "    print(m41.qoi_list)"
   ]
  },
  {
   "cell_type": "markdown",
   "metadata": {},
   "source": [
    "### 4.2 Pass samples as list, Python class called, serial execution \n",
    "This examples uses the following files:\n",
    "- model_script = python_model.py"
   ]
  },
  {
   "cell_type": "code",
   "execution_count": 14,
   "metadata": {},
   "outputs": [
    {
     "name": "stdout",
     "output_type": "stream",
     "text": [
      "\n",
      "Time for serial execution:\n",
      "0.011161088943481445\n",
      "\n",
      "The values returned from the Matlab simulation:\n",
      "[-14.29337298443281, -9.698161956313964, -0.7917406072915002, 4.066696182412885, 6.102964755267562]\n"
     ]
    }
   ],
   "source": [
    "if pick_model == 'mixed' or pick_model == 'all':\n",
    "    # Call to RunModel - Here we run the model while instantiating the RunModel object. \n",
    "    t = time.time()\n",
    "    m42 = RunModel(samples=x_mcs_list, ntasks=1, model_script='python_model.py', \n",
    "                 model_object_name='det_rvs_fixed', model_dir='Python_Runs', vec=False, coeff=x)\n",
    "    t_ser_python = time.time() - t\n",
    "    print(\"\\nTime for serial execution:\")\n",
    "    print(t_ser_python)\n",
    "    print()\n",
    "    print(\"The values returned from the Matlab simulation:\")\n",
    "    print(m42.qoi_list)"
   ]
  },
  {
   "cell_type": "code",
   "execution_count": null,
   "metadata": {},
   "outputs": [],
   "source": []
  }
 ],
 "metadata": {
  "kernelspec": {
   "display_name": "Python 3",
   "language": "python",
   "name": "python3"
  },
  "language_info": {
   "codemirror_mode": {
    "name": "ipython",
    "version": 3
   },
   "file_extension": ".py",
   "mimetype": "text/x-python",
   "name": "python",
   "nbconvert_exporter": "python",
   "pygments_lexer": "ipython3",
   "version": "3.6.2"
  }
 },
 "nbformat": 4,
 "nbformat_minor": 2
}
