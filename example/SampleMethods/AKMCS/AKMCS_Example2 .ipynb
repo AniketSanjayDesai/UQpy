{
 "cells": [
  {
   "cell_type": "markdown",
   "metadata": {},
   "source": [
    "# Active Kriging-Monte Carlo Simulation Example 2"
   ]
  },
  {
   "cell_type": "markdown",
   "metadata": {},
   "source": [
    "Author: Katiana Kontolati \\\n",
    "Date: May 25, 2020"
   ]
  },
  {
   "cell_type": "markdown",
   "metadata": {},
   "source": [
    "In this example, Monte Carlo Sampling is used to generate samples from Uniform distribution and new samples are generated adaptively, using EIF (Expected Improvement Function) as the learning criteria."
   ]
  },
  {
   "cell_type": "markdown",
   "metadata": {},
   "source": [
    "## Branin-Hoo function\n",
    "\n",
    "### Decription:\n",
    "\n",
    ">  - Dimensions: 2\n",
    ">  - This function is usually evaluated on the square $x_1 \\in [-5, 10], \\ x_2 \\in [0, 15]$\n",
    ">  - The function has two local minima and one global minimum\n",
    ">  - Reference: Forrester, A., Sobester, A., & Keane, A. (2008). Engineering design via surrogate modelling: a practical guide. Wiley.\n",
    "\n",
    "> $\\displaystyle f(x) = a(x_2-bx_1^2 + cx_1 -r)^2 + s(1-t)\\cos(x_1) + s + 5x_1$\n",
    "> <br>\n",
    "> <br>\n",
    "> where the recommended values of a, b, c, r, s and t are: $a = 1,\\ b = 5.1/(4\\pi^2),\\ c = 5/\\pi, \\ r = 6, \\ s = 10, \\ t = 1/(8\\pi)$\n",
    "\n",
    "<img src=\"branin.png\" alt=\"branin.png\" height=\"350\" width=\"400\" align=left>"
   ]
  },
  {
   "cell_type": "markdown",
   "metadata": {},
   "source": [
    "Import the necessary libraries. Here we import standard libraries such as numpy, matplotlib and other necessary library for plots, but also need to import the MCS, AKMCS, Kriging and RunModel class from UQpy."
   ]
  },
  {
   "cell_type": "code",
   "execution_count": 1,
   "metadata": {},
   "outputs": [
    {
     "name": "stdout",
     "output_type": "stream",
     "text": [
      "Populating the interactive namespace from numpy and matplotlib\n"
     ]
    }
   ],
   "source": [
    "%pylab inline\n",
    "from UQpy.Surrogates import Kriging\n",
    "from UQpy.SampleMethods import MCS, AKMCS\n",
    "from UQpy.RunModel import RunModel\n",
    "from UQpy.Distributions import Uniform\n",
    "from BraninHoo import function\n",
    "from matplotlib.ticker import LinearLocator, FormatStrFormatter\n",
    "import time"
   ]
  },
  {
   "cell_type": "markdown",
   "metadata": {},
   "source": [
    "Using UQpy MCS class to generate samples for two random variables, which are uniformly distributed"
   ]
  },
  {
   "cell_type": "code",
   "execution_count": 2,
   "metadata": {},
   "outputs": [],
   "source": [
    "marginals = [Uniform(loc=-5, scale=15), Uniform(loc=0, scale=15)]\n",
    "x = MCS(dist_object=marginals, nsamples=20)"
   ]
  },
  {
   "cell_type": "markdown",
   "metadata": {},
   "source": [
    "RunModel class is used to define an object to evaluate the model at sample points."
   ]
  },
  {
   "cell_type": "code",
   "execution_count": 3,
   "metadata": {},
   "outputs": [],
   "source": [
    "rmodel = RunModel(model_script='BraninHoo.py', vec=False)"
   ]
  },
  {
   "cell_type": "markdown",
   "metadata": {},
   "source": [
    "Krig class defines an object to generate an surrogate model for a given set of data."
   ]
  },
  {
   "cell_type": "code",
   "execution_count": 4,
   "metadata": {},
   "outputs": [],
   "source": [
    "K = Kriging(reg_model='Linear', corr_model='Exponential', corr_model_params=np.array([1, 1]), nopt=10)"
   ]
  },
  {
   "cell_type": "markdown",
   "metadata": {},
   "source": [
    "Choose an appropriate learning function."
   ]
  },
  {
   "cell_type": "code",
   "execution_count": 5,
   "metadata": {},
   "outputs": [],
   "source": [
    "learning_function = 'EIF'"
   ]
  },
  {
   "cell_type": "markdown",
   "metadata": {},
   "source": [
    "AKMCS class is used to generate new sample using 'U-function' as active learning function."
   ]
  },
  {
   "cell_type": "code",
   "execution_count": 6,
   "metadata": {},
   "outputs": [],
   "source": [
    "start_time = time.time()\n",
    "a = AKMCS(runmodel_object=rmodel, samples=x.samples, krig_object=K, nlearn=10**3, n_add=1, \n",
    "          learning_function=learning_function, dist_object=marginals)\n",
    "a.run(nsamples=50)\n",
    "elapsed_time = time.time() - start_time"
   ]
  },
  {
   "cell_type": "markdown",
   "metadata": {},
   "source": [
    "Visualize initial and new samples on top of the Branin-Hoo surface."
   ]
  },
  {
   "cell_type": "code",
   "execution_count": 7,
   "metadata": {},
   "outputs": [
    {
     "data": {
      "text/plain": [
       "<matplotlib.legend.Legend at 0x11fa87b50>"
      ]
     },
     "execution_count": 7,
     "metadata": {},
     "output_type": "execute_result"
    },
    {
     "data": {
      "image/png": "[encoded data removed]",
      "text/plain": [
       "<Figure size 432x288 with 2 Axes>"
      ]
     },
     "metadata": {
      "needs_background": "light"
     },
     "output_type": "display_data"
    }
   ],
   "source": [
    "num = 200\n",
    "xlist = np.linspace(-6, 11, num)\n",
    "ylist = np.linspace(-1, 16, num)\n",
    "X, Y = np.meshgrid(xlist, ylist)\n",
    "\n",
    "Z = np.zeros((num,num))\n",
    "for i in range(num):\n",
    "    for j in range(num):\n",
    "        tem = np.array([[X[i,j],Y[i,j]]])\n",
    "        Z[i,j] = function(tem)\n",
    "\n",
    "fig,ax=plt.subplots(1,1)\n",
    "cp = ax.contourf(X, Y, Z,10)\n",
    "xlabel('x1'); ylabel('x2')\n",
    "fig.colorbar(cp)\n",
    "nd = x.nsamples\n",
    "scatter(a.samples[nd:, 0], a.samples[nd:, 1], color='pink', label='New samples')\n",
    "scatter(x.samples[:nd, 0], x.samples[:nd, 1], color='Red', label='Initial samples')\n",
    "title('Branin-Hoo function'); legend()"
   ]
  }
 ],
 "metadata": {
  "kernelspec": {
   "display_name": "Python 3",
   "language": "python",
   "name": "python3"
  },
  "language_info": {
   "codemirror_mode": {
    "name": "ipython",
    "version": 3
   },
   "file_extension": ".py",
   "mimetype": "text/x-python",
   "name": "python",
   "nbconvert_exporter": "python",
   "pygments_lexer": "ipython3",
   "version": "3.7.7"
  }
 },
 "nbformat": 4,
 "nbformat_minor": 4
}
