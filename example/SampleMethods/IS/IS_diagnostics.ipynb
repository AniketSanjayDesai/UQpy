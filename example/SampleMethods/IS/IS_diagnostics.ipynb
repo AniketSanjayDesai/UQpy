{
 "cells": [
  {
   "cell_type": "markdown",
   "metadata": {},
   "source": [
    "# Diagnostics for importance sampling\n",
    "\n",
    "This notebook illustrates the use of some simple diagnostics for Importance Sampling. For IS, in extreme settings only a few samples may have a significant weight, yielding poor approximations of the target pdf $p(x)$. A popular diagnostics is the Effective Sample Size (ESS), which is theoretically defined as the number of independent samples generated directly form the target distribution that are required to obtain an estimator with same variance as the one obtained from IS. Heuristically, ESS approximates how many i.i.d. samples, drawn from the target, are equivalent to $N$ weighted samples drawn from the IS or MCMC approximation. An approximation of the ESS is given by [1]:\n",
    "$$ ESS = \\frac{1}{\\sum \\tilde{w}^2} $$\n",
    "where $\\tilde{w}$ are the normalized weights.\n",
    "\n",
    "[1] *Sequential Monte Carlo Methods in Practice*, A. Doucet, N. de Freitas, and N. Gordon, 2001, Springer, New York"
   ]
  },
  {
   "cell_type": "code",
   "execution_count": 1,
   "metadata": {},
   "outputs": [],
   "source": [
    "from UQpy.Distributions import Uniform, JointInd\n",
    "from UQpy.SampleMethods import IS\n",
    "import time\n",
    "import matplotlib.pyplot as plt\n",
    "import numpy as np"
   ]
  },
  {
   "cell_type": "code",
   "execution_count": 2,
   "metadata": {},
   "outputs": [],
   "source": [
    "def log_Rosenbrock(x, param):\n",
    "     return (-(100*(x[:, 1]-x[:, 0]**2)**2+(1-x[:, 0])**2)/param)"
   ]
  },
  {
   "cell_type": "code",
   "execution_count": 3,
   "metadata": {},
   "outputs": [
    {
     "name": "stdout",
     "output_type": "stream",
     "text": [
      "{'loc_0': -8, 'scale_0': 16, 'loc_1': -10, 'scale_1': 60}\n"
     ]
    }
   ],
   "source": [
    "proposal = JointInd([Uniform(loc=-8, scale=16), Uniform(loc=-10, scale=60)])\n",
    "print(proposal.get_params())"
   ]
  },
  {
   "cell_type": "code",
   "execution_count": 4,
   "metadata": {},
   "outputs": [],
   "source": [
    "w = IS(log_pdf_target=log_Rosenbrock, args_target=(20, ), nsamples=5000, proposal=proposal)"
   ]
  },
  {
   "cell_type": "markdown",
   "metadata": {},
   "source": [
    "### Look at distribution of weights"
   ]
  },
  {
   "cell_type": "code",
   "execution_count": 8,
   "metadata": {},
   "outputs": [
    {
     "name": "stdout",
     "output_type": "stream",
     "text": [
      "max_weight = 0.028758023564391163, min_weight = 0.0 \n",
      "\n"
     ]
    },
    {
     "data": {
      "image/png": "[encoded data removed]",
      "text/plain": [
       "<Figure size 576x216 with 1 Axes>"
      ]
     },
     "metadata": {
      "needs_background": "light"
     },
     "output_type": "display_data"
    }
   ],
   "source": [
    "print('max_weight = {}, min_weight = {} \\n'.format(max(w.weights), min(w.weights)))\n",
    "\n",
    "fig, ax = plt.subplots(figsize=(8, 3))\n",
    "ax.scatter(w.weights, np.zeros((np.size(w.weights), )), s=w.weights * 600, marker='o')\n",
    "ax.set_xlabel('weights')\n",
    "ax.set_title('Normalized weights out of importance sampling')\n",
    "ax.tick_params(which='both', left=False, labelleft=False) # labels along the bottom edge are off\n",
    "plt.show(fig)"
   ]
  },
  {
   "cell_type": "markdown",
   "metadata": {},
   "source": [
    "### Compute the effective sample size"
   ]
  },
  {
   "cell_type": "code",
   "execution_count": 6,
   "metadata": {},
   "outputs": [
    {
     "name": "stdout",
     "output_type": "stream",
     "text": [
      "Effective sample size is ne=62.89155366504611, out of a total number of samples=5000 \n",
      "\n"
     ]
    }
   ],
   "source": [
    "effective_sample_size = 1. / np.sum(w.weights ** 2, axis=0)\n",
    "\n",
    "print('Effective sample size is ne={}, out of a total number of samples={} \\n'.\n",
    "      format(effective_sample_size, np.size(w.weights)))"
   ]
  }
 ],
 "metadata": {
  "kernelspec": {
   "display_name": "Python (UQpy)",
   "language": "python",
   "name": "uqpy"
  },
  "language_info": {
   "codemirror_mode": {
    "name": "ipython",
    "version": 3
   },
   "file_extension": ".py",
   "mimetype": "text/x-python",
   "name": "python",
   "nbconvert_exporter": "python",
   "pygments_lexer": "ipython3",
   "version": "3.6.6"
  }
 },
 "nbformat": 4,
 "nbformat_minor": 2
}
