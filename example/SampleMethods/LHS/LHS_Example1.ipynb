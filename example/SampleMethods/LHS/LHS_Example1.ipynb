{
 "cells": [
  {
   "cell_type": "markdown",
   "metadata": {},
   "source": [
    "# Latin Hypercube Sampling using UQpy\n",
    "\n",
    "Author: Dimitris G. Giovanis,  \n",
    "Date: May 13, 2020  \n",
    "UQpy Version 3.0"
   ]
  },
  {
   "cell_type": "code",
   "execution_count": 1,
   "metadata": {},
   "outputs": [],
   "source": [
    "#Import the necessary libraries. Here we import standard libraries such as numpy and matplotlib, \n",
    "# but also need to import the LHS class from UQpy.\n",
    "from UQpy.SampleMethods import LHS\n",
    "import numpy as np\n",
    "import matplotlib.pyplot as plt\n",
    "import time"
   ]
  },
  {
   "cell_type": "code",
   "execution_count": 2,
   "metadata": {},
   "outputs": [
    {
     "name": "stdout",
     "output_type": "stream",
     "text": [
      "UQpy: Running Latin Hypercube sampling...\n",
      "UQpy: Achieved minimum correlation of  0.004685288818897407\n",
      "Successful execution of LHS design.\n"
     ]
    },
    {
     "data": {
      "image/png": "[encoded data removed]",
      "text/plain": [
       "<Figure size 432x288 with 1 Axes>"
      ]
     },
     "metadata": {
      "needs_background": "light"
     },
     "output_type": "display_data"
    },
    {
     "name": "stdout",
     "output_type": "stream",
     "text": [
      "UQpy: Running Latin Hypercube sampling...\n",
      "UQpy: Achieved maximum distance of  0.4395920987619376\n",
      "Successful execution of LHS design.\n"
     ]
    },
    {
     "data": {
      "image/png": "[encoded data removed]",
      "text/plain": [
       "<Figure size 432x288 with 1 Axes>"
      ]
     },
     "metadata": {
      "needs_background": "light"
     },
     "output_type": "display_data"
    },
    {
     "name": "stdout",
     "output_type": "stream",
     "text": [
      "UQpy: Running Latin Hypercube sampling...\n",
      "Successful execution of LHS design.\n"
     ]
    },
    {
     "data": {
      "image/png": "[encoded data removed]",
      "text/plain": [
       "<Figure size 432x288 with 1 Axes>"
      ]
     },
     "metadata": {
      "needs_background": "light"
     },
     "output_type": "display_data"
    },
    {
     "name": "stdout",
     "output_type": "stream",
     "text": [
      "UQpy: Running Latin Hypercube sampling...\n",
      "Successful execution of LHS design.\n"
     ]
    },
    {
     "data": {
      "image/png": "[encoded data removed]",
      "text/plain": [
       "<Figure size 432x288 with 1 Axes>"
      ]
     },
     "metadata": {
      "needs_background": "light"
     },
     "output_type": "display_data"
    }
   ],
   "source": [
    "# Import the necessary Distributions from Distribution class to create the Distribution object\n",
    "# We are going to run LHS for two uniform U(0,1) random variables.\n",
    "from UQpy.Distributions import Uniform\n",
    "dist1 = Uniform(loc=0., scale=1.)\n",
    "dist2 = Uniform(loc=0., scale=1.)\n",
    "\n",
    "x1a = LHS(dist_object=[dist1, dist2], criterion='correlate', nsamples=5, verbose=True)\n",
    "\n",
    "fig, ax = plt.subplots()\n",
    "plt.title('correlate-LHS design')\n",
    "plt.scatter(x1a.samples[:, 0], x1a.samples[:, 1])\n",
    "ax.set_yticks([0.0, 0.2, 0.4, 0.6, 0.8, 1.0])\n",
    "ax.set_xticks([0.0, 0.2, 0.4, 0.6, 0.8, 1.0])\n",
    "ax.yaxis.grid(True)\n",
    "ax.xaxis.grid(True)\n",
    "plt.ylim(0, 1)\n",
    "plt.xlim(0, 1)\n",
    "plt.show()\n",
    "\n",
    "\n",
    "x1b = LHS(dist_object=[dist1, dist2], criterion='maximin', nsamples=5, verbose=True)\n",
    "\n",
    "\n",
    "fig, ax = plt.subplots()\n",
    "plt.title('maximin-LHS design')\n",
    "plt.scatter(x1b.samples[:, 0], x1b.samples[:, 1])\n",
    "ax.set_yticks([0.0, 0.2, 0.4, 0.6, 0.8, 1.0])\n",
    "ax.set_xticks([0.0, 0.2, 0.4, 0.6, 0.8, 1.0])\n",
    "ax.yaxis.grid(True)\n",
    "ax.xaxis.grid(True)\n",
    "plt.ylim(0, 1)\n",
    "plt.xlim(0, 1)\n",
    "plt.show()\n",
    "\n",
    "x1c = LHS(dist_object=[dist1, dist2], nsamples=5, verbose=True)\n",
    "\n",
    "fig, ax = plt.subplots()\n",
    "plt.title('random-LHS design')\n",
    "plt.scatter(x1c.samples[:, 0], x1c.samples[:, 1])\n",
    "ax.set_yticks([0.0, 0.2, 0.4, 0.6, 0.8, 1.0])\n",
    "ax.set_xticks([0.0, 0.2, 0.4, 0.6, 0.8, 1.0])\n",
    "ax.yaxis.grid(True)\n",
    "ax.xaxis.grid(True)\n",
    "plt.ylim(0, 1)\n",
    "plt.xlim(0, 1)\n",
    "plt.show()\n",
    "\n",
    "\n",
    "x1d = LHS(dist_object=[dist1, dist2], criterion='centered', nsamples=5, verbose=True)\n",
    "\n",
    "\n",
    "fig, ax = plt.subplots()\n",
    "plt.title('centered-LHS design')\n",
    "plt.scatter(x1d.samples[:, 0], x1d.samples[:, 1])\n",
    "ax.set_yticks([0.0, 0.2, 0.4, 0.6, 0.8, 1.0])\n",
    "ax.set_xticks([0.0, 0.2, 0.4, 0.6, 0.8, 1.0])\n",
    "ax.yaxis.grid(True)\n",
    "ax.xaxis.grid(True)\n",
    "plt.ylim(0, 1)\n",
    "plt.xlim(0, 1)\n",
    "plt.show()"
   ]
  },
  {
   "cell_type": "code",
   "execution_count": 3,
   "metadata": {},
   "outputs": [
    {
     "name": "stdout",
     "output_type": "stream",
     "text": [
      "UQpy: Running Latin Hypercube sampling...\n",
      "Successful execution of LHS design.\n",
      "LHS design: [[-0.28534707  0.63758072]\n",
      " [ 0.63436438  0.10706263]\n",
      " [ 0.11190219  0.4468521 ]\n",
      " [ 1.27026152  0.96987346]\n",
      " [-0.94700092  0.24210127]]\n",
      "Transformed samples: [[0.38768913 0.        ]\n",
      " [0.73707847 0.63436438]\n",
      " [0.54454952 0.11190219]\n",
      " [0.89800425 1.        ]\n",
      " [0.17181916 0.        ]]\n"
     ]
    }
   ],
   "source": [
    "from UQpy.Distributions import Uniform, Normal\n",
    "dist1 = Normal(loc=0., scale=1.)\n",
    "dist2 = Uniform(loc=0., scale=1.)\n",
    "\n",
    "x2a = LHS(dist_object=[dist1, dist2], criterion='random', nsamples=5, verbose=True)\n",
    "print('LHS design:', x2a.samples)\n",
    "\n",
    "\n",
    "x2a.transform_u01()\n",
    "print('Transformed samples:', x2a.samplesU01)"
   ]
  },
  {
   "cell_type": "code",
   "execution_count": 10,
   "metadata": {},
   "outputs": [
    {
     "name": "stdout",
     "output_type": "stream",
     "text": [
      "UQpy: Running Latin Hypercube sampling...\n",
      "Successful execution of LHS design.\n",
      "[[0.1 0.3]\n",
      " [0.3 0.7]\n",
      " [0.7 0.9]\n",
      " [0.9 0.5]\n",
      " [0.5 0.1]]\n",
      "UQpy: Running Latin Hypercube sampling...\n",
      "Successful execution of LHS design.\n",
      "[[0.9 0.3]\n",
      " [0.7 0.7]\n",
      " [0.3 0.5]\n",
      " [0.5 0.9]\n",
      " [0.1 0.1]]\n"
     ]
    }
   ],
   "source": [
    "# Run LHS for a user-defined criterion and metric\n",
    "#def distance(x):\n",
    "#    return x+1\n",
    "\n",
    "def criterion():\n",
    "    nsamples = 5\n",
    "    dimension = 2\n",
    "    cut = np.linspace(0, 1, nsamples + 1)\n",
    "    a = cut[:nsamples]\n",
    "    b = cut[1:nsamples + 1]\n",
    "\n",
    "    samples = np.zeros([nsamples, dimension])\n",
    "    centers = (a + b) / 2\n",
    "\n",
    "    for i in range(dimension):\n",
    "        samples[:, i] = np.random.permutation(centers)\n",
    "    return samples\n",
    "\n",
    "dist1 = Uniform(loc=0., scale=1.)\n",
    "dist2 = Uniform(loc=0., scale=1.)\n",
    "x1e = LHS(dist_object=[dist1, dist2], nsamples=5, criterion=criterion, verbose=True)\n",
    "print(x1e.samples)\n",
    "\n",
    "x1d = LHS(dist_object=[dist1, dist2], criterion='centered', nsamples=5, verbose=True)\n",
    "print(x1d.samples)"
   ]
  },
  {
   "cell_type": "code",
   "execution_count": 11,
   "metadata": {},
   "outputs": [
    {
     "name": "stdout",
     "output_type": "stream",
     "text": [
      "UQpy: Running Latin Hypercube sampling...\n",
      "UQpy: Achieved maximum distance of  0.43900518015822365\n",
      "Successful execution of LHS design.\n",
      "[[ 4.40978278e-01  3.23989630e+01]\n",
      " [ 2.34888738e+00  9.48435747e+01]\n",
      " [ 5.25059146e+00  2.25244684e+02]\n",
      " [ 2.68144847e+00  1.04006480e+03]\n",
      " [-1.29478888e+00  1.60789090e+02]]\n",
      "[[0.21783942 0.06402038]\n",
      " [0.56924161 0.32715922]\n",
      " [0.94795022 0.66172929]\n",
      " [0.6333444  0.97423493]\n",
      " [0.0497385  0.53191856]]\n"
     ]
    }
   ],
   "source": [
    "# We are going to run LHS for a Joint distribution.\n",
    "from UQpy.Distributions import Normal, Lognormal, JointInd\n",
    "marginals = [Normal(loc=2., scale=2.), Lognormal(s=1., loc=0., scale=np.exp(5))]\n",
    "dist = JointInd(marginals=marginals)\n",
    "\n",
    "x2 = LHS(dist_object=dist, nsamples=5, criterion='maximin', verbose=True)\n",
    "x2.transform_u01()\n",
    "print(x2.samples)\n",
    "print(x2.samplesU01)"
   ]
  },
  {
   "cell_type": "code",
   "execution_count": null,
   "metadata": {},
   "outputs": [],
   "source": []
  }
 ],
 "metadata": {
  "kernelspec": {
   "display_name": "Python 3",
   "language": "python",
   "name": "python3"
  },
  "language_info": {
   "codemirror_mode": {
    "name": "ipython",
    "version": 3
   },
   "file_extension": ".py",
   "mimetype": "text/x-python",
   "name": "python",
   "nbconvert_exporter": "python",
   "pygments_lexer": "ipython3",
   "version": "3.7.4"
  }
 },
 "nbformat": 4,
 "nbformat_minor": 2
}
