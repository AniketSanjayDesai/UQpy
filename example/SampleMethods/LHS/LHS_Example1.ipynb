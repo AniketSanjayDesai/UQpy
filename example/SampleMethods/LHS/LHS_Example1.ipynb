{
 "cells": [
  {
   "cell_type": "markdown",
   "metadata": {},
   "source": [
    "# Latin Hypercube Sampling using UQpy\n",
    "\n",
    "Author: Dimitris G. Giovanis,  \n",
    "Date: May 13, 2020  \n",
    "UQpy Version 3.0"
   ]
  },
  {
   "cell_type": "code",
   "execution_count": 1,
   "metadata": {},
   "outputs": [],
   "source": [
    "#Import the necessary libraries. Here we import standard libraries such as numpy and matplotlib, \n",
    "# but also need to import the LHS class from UQpy.\n",
    "from UQpy.SampleMethods import LHS\n",
    "import numpy as np\n",
    "import matplotlib.pyplot as plt\n",
    "import time"
   ]
  },
  {
   "cell_type": "code",
   "execution_count": 2,
   "metadata": {},
   "outputs": [
    {
     "name": "stdout",
     "output_type": "stream",
     "text": [
      "UQpy: Running Latin Hypercube sampling...\n",
      "UQpy: Achieved maximum distance of  0.38026766226135317\n",
      "Successful execution of LHS design.\n",
      "[[0.25722787 0.08462129]\n",
      " [0.13929384 0.53696595]\n",
      " [0.44537029 0.8784235 ]\n",
      " [0.94389379 0.69618638]\n",
      " [0.71026295 0.39615284]]\n"
     ]
    },
    {
     "data": {
      "image/png": "[encoded data removed]",
      "text/plain": [
       "<Figure size 432x288 with 1 Axes>"
      ]
     },
     "metadata": {
      "needs_background": "light"
     },
     "output_type": "display_data"
    },
    {
     "name": "stdout",
     "output_type": "stream",
     "text": [
      "UQpy: Running Latin Hypercube sampling...\n",
      "UQpy: Achieved maximum distance of  0.3821122886110247\n",
      "Successful execution of LHS design.\n",
      "[[0.39404767 0.38442459]\n",
      " [0.70942058 0.09454745]\n",
      " [0.47601208 0.80675642]\n",
      " [0.84344089 0.4523859 ]\n",
      " [0.06952978 0.62235505]]\n"
     ]
    },
    {
     "data": {
      "image/png": "[encoded data removed]",
      "text/plain": [
       "<Figure size 432x288 with 1 Axes>"
      ]
     },
     "metadata": {
      "needs_background": "light"
     },
     "output_type": "display_data"
    },
    {
     "name": "stdout",
     "output_type": "stream",
     "text": [
      "UQpy: Running Latin Hypercube sampling...\n",
      "Successful execution of LHS design.\n",
      "[[0.55875577 0.40494539]\n",
      " [0.72488394 0.622208  ]\n",
      " [0.99508209 0.15177718]\n",
      " [0.24604942 0.20212401]\n",
      " [0.06466696 0.90762988]]\n"
     ]
    },
    {
     "data": {
      "image/png": "[encoded data removed]",
      "text/plain": [
       "<Figure size 432x288 with 1 Axes>"
      ]
     },
     "metadata": {
      "needs_background": "light"
     },
     "output_type": "display_data"
    },
    {
     "name": "stdout",
     "output_type": "stream",
     "text": [
      "UQpy: Running Latin Hypercube sampling...\n",
      "Successful execution of LHS design.\n"
     ]
    },
    {
     "data": {
      "image/png": "[encoded data removed]",
      "text/plain": [
       "<Figure size 432x288 with 1 Axes>"
      ]
     },
     "metadata": {
      "needs_background": "light"
     },
     "output_type": "display_data"
    },
    {
     "name": "stdout",
     "output_type": "stream",
     "text": [
      "[[0.3 0.5]\n",
      " [0.1 0.9]\n",
      " [0.7 0.7]\n",
      " [0.9 0.1]\n",
      " [0.5 0.3]]\n"
     ]
    }
   ],
   "source": [
    "# Import the necessary Distributions from Distribution class to create the Distribution object\n",
    "# We are going to run LHS for two uniform U(0,1) random variables.\n",
    "from UQpy.Distributions import Uniform\n",
    "dist1 = Uniform(loc=0., scale=1.)\n",
    "dist2 = Uniform(loc=0., scale=1.)\n",
    "\n",
    "x1a = LHS(dist_object=[dist1, dist2], criterion='maximin', random_state=np.random.RandomState(123), nsamples=5, verbose=True)\n",
    "print(x1a.samples)\n",
    "\n",
    "fig, ax = plt.subplots()\n",
    "plt.title('correlate-LHS design')\n",
    "plt.scatter(x1a.samples[:, 0], x1a.samples[:, 1])\n",
    "ax.set_yticks([0.0, 0.2, 0.4, 0.6, 0.8, 1.0])\n",
    "ax.set_xticks([0.0, 0.2, 0.4, 0.6, 0.8, 1.0])\n",
    "ax.yaxis.grid(True)\n",
    "ax.xaxis.grid(True)\n",
    "plt.ylim(0, 1)\n",
    "plt.xlim(0, 1)\n",
    "plt.show()\n",
    "\n",
    "\n",
    "\n",
    "x1b = LHS(dist_object=[dist1, dist2], criterion='maximin',  nsamples=5, verbose=True)\n",
    "print(x1b.samples)\n",
    "\n",
    "fig, ax = plt.subplots()\n",
    "plt.title('maximin-LHS design')\n",
    "plt.scatter(x1b.samples[:, 0], x1b.samples[:, 1])\n",
    "ax.set_yticks([0.0, 0.2, 0.4, 0.6, 0.8, 1.0])\n",
    "ax.set_xticks([0.0, 0.2, 0.4, 0.6, 0.8, 1.0])\n",
    "ax.yaxis.grid(True)\n",
    "ax.xaxis.grid(True)\n",
    "plt.ylim(0, 1)\n",
    "plt.xlim(0, 1)\n",
    "plt.show()\n",
    "\n",
    "\n",
    "x1c = LHS(dist_object=[dist1, dist2], nsamples=5, random_state=np.random.RandomState(789), verbose=True)\n",
    "print(x1c.samples)\n",
    "\n",
    "fig, ax = plt.subplots()\n",
    "plt.title('random-LHS design')\n",
    "plt.scatter(x1c.samples[:, 0], x1c.samples[:, 1])\n",
    "ax.set_yticks([0.0, 0.2, 0.4, 0.6, 0.8, 1.0])\n",
    "ax.set_xticks([0.0, 0.2, 0.4, 0.6, 0.8, 1.0])\n",
    "ax.yaxis.grid(True)\n",
    "ax.xaxis.grid(True)\n",
    "plt.ylim(0, 1)\n",
    "plt.xlim(0, 1)\n",
    "plt.show()\n",
    "\n",
    "\n",
    "x1d = LHS(dist_object=[dist1, dist2], criterion='centered',  nsamples=5, verbose=True)\n",
    "\n",
    "fig, ax = plt.subplots()\n",
    "plt.title('centered-LHS design')\n",
    "plt.scatter(x1d.samples[:, 0], x1d.samples[:, 1])\n",
    "ax.set_yticks([0.0, 0.2, 0.4, 0.6, 0.8, 1.0])\n",
    "ax.set_xticks([0.0, 0.2, 0.4, 0.6, 0.8, 1.0])\n",
    "ax.yaxis.grid(True)\n",
    "ax.xaxis.grid(True)\n",
    "plt.ylim(0, 1)\n",
    "plt.xlim(0, 1)\n",
    "plt.show()\n",
    "\n",
    "print(x1d.samples)"
   ]
  },
  {
   "cell_type": "code",
   "execution_count": null,
   "metadata": {},
   "outputs": [],
   "source": [
    "from UQpy.Distributions import Uniform, Normal\n",
    "dist1 = Normal(loc=0., scale=1.)\n",
    "dist2 = Uniform(loc=0., scale=1.)\n",
    "\n",
    "x2a = LHS(dist_object=[dist1, dist2], criterion='centered', random_state=np.random.RandomState(45), nsamples=5, verbose=True)\n",
    "print('LHS design:', x2a.samples)"
   ]
  },
  {
   "cell_type": "code",
   "execution_count": null,
   "metadata": {},
   "outputs": [],
   "source": [
    "# Run LHS for a user-defined criterion and metric\n",
    "#def distance(x):\n",
    "#    return x+1\n",
    "from scipy.spatial.distance import pdist\n",
    "\n",
    "def criterion(samples):\n",
    "    lhs_samples = np.zeros_like(samples)\n",
    "    for j in range(samples.shape[1]):\n",
    "        order = np.random.permutation(samples.shape[0])\n",
    "        lhs_samples[:, j] = samples[order, j]\n",
    "    return lhs_samples\n",
    "\n",
    "dist1 = Uniform(loc=0., scale=1.)\n",
    "dist2 = Uniform(loc=0., scale=1.)\n",
    "\n",
    "x1e = LHS(dist_object=[dist1, dist2], nsamples=5, random_state=np.random.RandomState(123), metric=pdist, criterion=criterion, verbose=True)\n",
    "print(x1e.samples)\n",
    "\n",
    "x1d = LHS(dist_object=[dist1, dist2], nsamples=5, verbose=True)\n",
    "print(x1d.samples)"
   ]
  },
  {
   "cell_type": "code",
   "execution_count": null,
   "metadata": {},
   "outputs": [],
   "source": [
    "# We are going to run LHS for a Joint distribution.\n",
    "from UQpy.Distributions import Normal, Lognormal, JointInd\n",
    "marginals = [Normal(loc=2., scale=2.), Lognormal(s=1., loc=0., scale=np.exp(5))]\n",
    "dist = JointInd(marginals=marginals)\n",
    "\n",
    "x2 = LHS(dist_object=dist, nsamples=5, criterion='maximin', random_state=np.random.RandomState(123), verbose=True)\n",
    "print(x2.samples)"
   ]
  },
  {
   "cell_type": "code",
   "execution_count": null,
   "metadata": {},
   "outputs": [],
   "source": []
  }
 ],
 "metadata": {
  "kernelspec": {
   "display_name": "Python 3",
   "language": "python",
   "name": "python3"
  },
  "language_info": {
   "codemirror_mode": {
    "name": "ipython",
    "version": 3
   },
   "file_extension": ".py",
   "mimetype": "text/x-python",
   "name": "python",
   "nbconvert_exporter": "python",
   "pygments_lexer": "ipython3",
   "version": "3.7.4"
  }
 },
 "nbformat": 4,
 "nbformat_minor": 2
}
