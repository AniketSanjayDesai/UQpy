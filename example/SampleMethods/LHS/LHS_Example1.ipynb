{
 "cells": [
  {
   "cell_type": "markdown",
   "metadata": {},
   "source": [
    "# Latin Hypercube Sampling using UQpy\n",
    "\n",
    "Author: Dimitris G. Giovanis,  \n",
    "Date: May 13, 2020  \n",
    "UQpy Version 3.0"
   ]
  },
  {
   "cell_type": "code",
   "execution_count": 21,
   "metadata": {},
   "outputs": [],
   "source": [
    "#Import the necessary libraries. Here we import standard libraries such as numpy and matplotlib, \n",
    "# but also need to import the LHS class from UQpy.\n",
    "from UQpy.SampleMethods import LHS\n",
    "import numpy as np\n",
    "import matplotlib.pyplot as plt\n",
    "import time"
   ]
  },
  {
   "cell_type": "code",
   "execution_count": 28,
   "metadata": {},
   "outputs": [
    {
     "name": "stdout",
     "output_type": "stream",
     "text": [
      "UQpy: Running Latin Hypercube sampling...\n",
      "UQpy: Achieved minimum correlation of  0.020266296950062084\n",
      "Successful execution of LHS design.\n",
      "[[0.50702828 0.87562419]\n",
      " [0.68459465 0.79731598]\n",
      " [0.83150672 0.02381394]\n",
      " [0.09074553 0.28987038]\n",
      " [0.20432937 0.40798261]]\n"
     ]
    },
    {
     "data": {
      "image/png": "[encoded data removed]",
      "text/plain": [
       "<Figure size 432x288 with 1 Axes>"
      ]
     },
     "metadata": {
      "needs_background": "light"
     },
     "output_type": "display_data"
    },
    {
     "name": "stdout",
     "output_type": "stream",
     "text": [
      "UQpy: Running Latin Hypercube sampling...\n",
      "UQpy: Achieved maximum distance of  0.41781674148017794\n",
      "Successful execution of LHS design.\n",
      "[[0.7695294  0.11010594]\n",
      " [0.31117192 0.25360422]\n",
      " [0.07743904 0.67663881]\n",
      " [0.40282876 0.93873108]\n",
      " [0.98438397 0.5980478 ]]\n"
     ]
    },
    {
     "data": {
      "image/png": "[encoded data removed]",
      "text/plain": [
       "<Figure size 432x288 with 1 Axes>"
      ]
     },
     "metadata": {
      "needs_background": "light"
     },
     "output_type": "display_data"
    },
    {
     "name": "stdout",
     "output_type": "stream",
     "text": [
      "UQpy: Running Latin Hypercube sampling...\n",
      "Successful execution of LHS design.\n",
      "[[0.94389379 0.08462129]\n",
      " [0.13929384 0.69618638]\n",
      " [0.71026295 0.8784235 ]\n",
      " [0.44537029 0.39615284]\n",
      " [0.25722787 0.53696595]]\n"
     ]
    },
    {
     "data": {
      "image/png": "[encoded data removed]",
      "text/plain": [
       "<Figure size 432x288 with 1 Axes>"
      ]
     },
     "metadata": {
      "needs_background": "light"
     },
     "output_type": "display_data"
    },
    {
     "name": "stdout",
     "output_type": "stream",
     "text": [
      "UQpy: Running Latin Hypercube sampling...\n",
      "Successful execution of LHS design.\n"
     ]
    },
    {
     "data": {
      "image/png": "[encoded data removed]",
      "text/plain": [
       "<Figure size 432x288 with 1 Axes>"
      ]
     },
     "metadata": {
      "needs_background": "light"
     },
     "output_type": "display_data"
    },
    {
     "name": "stdout",
     "output_type": "stream",
     "text": [
      "[[0.1 0.1]\n",
      " [0.9 0.9]\n",
      " [0.3 0.3]\n",
      " [0.5 0.5]\n",
      " [0.7 0.7]]\n"
     ]
    }
   ],
   "source": [
    "# Import the necessary Distributions from Distribution class to create the Distribution object\n",
    "# We are going to run LHS for two uniform U(0,1) random variables.\n",
    "from UQpy.Distributions import Uniform\n",
    "dist1 = Uniform(loc=0., scale=1.)\n",
    "dist2 = Uniform(loc=0., scale=1.)\n",
    "\n",
    "x1a = LHS(dist_object=[dist1, dist2], criterion='correlate', random_state=np.random.RandomState(123), nsamples=5, verbose=True)\n",
    "print(x1a.samples)\n",
    "\n",
    "fig, ax = plt.subplots()\n",
    "plt.title('correlate-LHS design')\n",
    "plt.scatter(x1a.samples[:, 0], x1a.samples[:, 1])\n",
    "ax.set_yticks([0.0, 0.2, 0.4, 0.6, 0.8, 1.0])\n",
    "ax.set_xticks([0.0, 0.2, 0.4, 0.6, 0.8, 1.0])\n",
    "ax.yaxis.grid(True)\n",
    "ax.xaxis.grid(True)\n",
    "plt.ylim(0, 1)\n",
    "plt.xlim(0, 1)\n",
    "plt.show()\n",
    "\n",
    "\n",
    "\n",
    "x1b = LHS(dist_object=[dist1, dist2], criterion='maximin', random_state=np.random.RandomState(123),  nsamples=5, verbose=True)\n",
    "print(x1b.samples)\n",
    "\n",
    "fig, ax = plt.subplots()\n",
    "plt.title('maximin-LHS design')\n",
    "plt.scatter(x1b.samples[:, 0], x1b.samples[:, 1])\n",
    "ax.set_yticks([0.0, 0.2, 0.4, 0.6, 0.8, 1.0])\n",
    "ax.set_xticks([0.0, 0.2, 0.4, 0.6, 0.8, 1.0])\n",
    "ax.yaxis.grid(True)\n",
    "ax.xaxis.grid(True)\n",
    "plt.ylim(0, 1)\n",
    "plt.xlim(0, 1)\n",
    "plt.show()\n",
    "\n",
    "\n",
    "x1c = LHS(dist_object=[dist1, dist2], nsamples=5, random_state=np.random.RandomState(123), verbose=True)\n",
    "print(x1c.samples)\n",
    "\n",
    "fig, ax = plt.subplots()\n",
    "plt.title('random-LHS design')\n",
    "plt.scatter(x1c.samples[:, 0], x1c.samples[:, 1])\n",
    "ax.set_yticks([0.0, 0.2, 0.4, 0.6, 0.8, 1.0])\n",
    "ax.set_xticks([0.0, 0.2, 0.4, 0.6, 0.8, 1.0])\n",
    "ax.yaxis.grid(True)\n",
    "ax.xaxis.grid(True)\n",
    "plt.ylim(0, 1)\n",
    "plt.xlim(0, 1)\n",
    "plt.show()\n",
    "\n",
    "\n",
    "x1d = LHS(dist_object=[dist1, dist2], criterion='centered', random_state=np.random.RandomState(123),  nsamples=5, verbose=True)\n",
    "\n",
    "fig, ax = plt.subplots()\n",
    "plt.title('centered-LHS design')\n",
    "plt.scatter(x1d.samples[:, 0], x1d.samples[:, 1])\n",
    "ax.set_yticks([0.0, 0.2, 0.4, 0.6, 0.8, 1.0])\n",
    "ax.set_xticks([0.0, 0.2, 0.4, 0.6, 0.8, 1.0])\n",
    "ax.yaxis.grid(True)\n",
    "ax.xaxis.grid(True)\n",
    "plt.ylim(0, 1)\n",
    "plt.xlim(0, 1)\n",
    "plt.show()\n",
    "\n",
    "x1d.transform_u01()\n",
    "print(x1d.samplesU01)"
   ]
  },
  {
   "cell_type": "code",
   "execution_count": 20,
   "metadata": {},
   "outputs": [
    {
     "name": "stdout",
     "output_type": "stream",
     "text": [
      "UQpy: Running Latin Hypercube sampling...\n",
      "Successful execution of LHS design.\n",
      "LHS design: [[ 0.55415307  0.69618638]\n",
      " [-0.13736717  0.8784235 ]\n",
      " [-1.08349747  0.08462129]\n",
      " [-0.65191542  0.39615284]\n",
      " [ 1.58832701  0.53696595]]\n"
     ]
    }
   ],
   "source": [
    "from UQpy.Distributions import Uniform, Normal\n",
    "dist1 = Normal(loc=0., scale=1.)\n",
    "dist2 = Uniform(loc=0., scale=1.)\n",
    "\n",
    "x2a = LHS(dist_object=[dist1, dist2], criterion='random', random_state=np.random.RandomState(123), nsamples=5, verbose=True)\n",
    "print('LHS design:', x2a.samples)"
   ]
  },
  {
   "cell_type": "code",
   "execution_count": 29,
   "metadata": {},
   "outputs": [
    {
     "name": "stdout",
     "output_type": "stream",
     "text": [
      "UQpy: Running Latin Hypercube sampling...\n",
      "Successful execution of LHS design.\n",
      "[[0.7 0.3]\n",
      " [0.3 0.1]\n",
      " [0.5 0.7]\n",
      " [0.1 0.5]\n",
      " [0.9 0.9]]\n",
      "UQpy: Running Latin Hypercube sampling...\n",
      "Successful execution of LHS design.\n",
      "[[0.7 0.3]\n",
      " [0.9 0.1]\n",
      " [0.5 0.5]\n",
      " [0.3 0.7]\n",
      " [0.1 0.9]]\n"
     ]
    }
   ],
   "source": [
    "# Run LHS for a user-defined criterion and metric\n",
    "#def distance(x):\n",
    "#    return x+1\n",
    "\n",
    "def criterion():\n",
    "    nsamples = 5\n",
    "    dimension = 2\n",
    "    cut = np.linspace(0, 1, nsamples + 1)\n",
    "    a = cut[:nsamples]\n",
    "    b = cut[1:nsamples + 1]\n",
    "\n",
    "    samples = np.zeros([nsamples, dimension])\n",
    "    centers = (a + b) / 2\n",
    "\n",
    "    for i in range(dimension):\n",
    "        samples[:, i] = np.random.permutation(centers)\n",
    "    return samples\n",
    "\n",
    "dist1 = Uniform(loc=0., scale=1.)\n",
    "dist2 = Uniform(loc=0., scale=1.)\n",
    "x1e = LHS(dist_object=[dist1, dist2], nsamples=5, random_state=np.random.RandomState(123), criterion=criterion, verbose=True)\n",
    "print(x1e.samples)\n",
    "\n",
    "x1d = LHS(dist_object=[dist1, dist2], criterion='centered', random_state=np.random.RandomState(123), nsamples=5, verbose=True)\n",
    "print(x1d.samples)"
   ]
  },
  {
   "cell_type": "code",
   "execution_count": 16,
   "metadata": {},
   "outputs": [
    {
     "name": "stdout",
     "output_type": "stream",
     "text": [
      "UQpy: Running Latin Hypercube sampling...\n",
      "UQpy: Achieved maximum distance of  0.4383842384455112\n",
      "Successful execution of LHS design.\n",
      "[[   6.55622833   28.37843148]\n",
      " [   3.23983111 1296.89712203]\n",
      " [   1.90999744   64.56955818]\n",
      " [  -2.16337928  116.64492606]\n",
      " [   1.32300004  284.04803232]]\n",
      "[[0.98864011 0.04902612]\n",
      " [0.73234331 0.98491038]\n",
      " [0.48205314 0.20263197]\n",
      " [0.01868541 0.40482968]\n",
      " [0.36749322 0.74187714]]\n"
     ]
    }
   ],
   "source": [
    "# We are going to run LHS for a Joint distribution.\n",
    "from UQpy.Distributions import Normal, Lognormal, JointInd\n",
    "marginals = [Normal(loc=2., scale=2.), Lognormal(s=1., loc=0., scale=np.exp(5))]\n",
    "dist = JointInd(marginals=marginals)\n",
    "\n",
    "x2 = LHS(dist_object=dist, nsamples=5, criterion='maximin', random_state=np.random.RandomState(123), verbose=True)\n",
    "x2.transform_u01()\n",
    "print(x2.samples)\n",
    "print(x2.samplesU01)"
   ]
  },
  {
   "cell_type": "code",
   "execution_count": null,
   "metadata": {},
   "outputs": [],
   "source": []
  }
 ],
 "metadata": {
  "kernelspec": {
   "display_name": "Python 3",
   "language": "python",
   "name": "python3"
  },
  "language_info": {
   "codemirror_mode": {
    "name": "ipython",
    "version": 3
   },
   "file_extension": ".py",
   "mimetype": "text/x-python",
   "name": "python",
   "nbconvert_exporter": "python",
   "pygments_lexer": "ipython3",
   "version": "3.7.4"
  }
 },
 "nbformat": 4,
 "nbformat_minor": 2
}
