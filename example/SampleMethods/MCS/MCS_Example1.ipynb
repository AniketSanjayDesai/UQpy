{
 "cells": [
  {
   "cell_type": "markdown",
   "metadata": {},
   "source": [
    "# Monte Carlo sampling using UQpy\n",
    "\n",
    "Author: Dimitris G. Giovanis,  \n",
    "Date: May 13, 2020  \n",
    "UQpy Version 3.0"
   ]
  },
  {
   "cell_type": "code",
   "execution_count": 1,
   "metadata": {},
   "outputs": [],
   "source": [
    "#Import the necessary libraries. Here we import standard libraries such as numpy and matplotlib, \n",
    "# but also need to import the MCS class from UQpy.\n",
    "from UQpy.SampleMethods import MCS\n",
    "import numpy as np\n",
    "import matplotlib.pyplot as plt\n",
    "import time"
   ]
  },
  {
   "cell_type": "code",
   "execution_count": 7,
   "metadata": {},
   "outputs": [
    {
     "name": "stdout",
     "output_type": "stream",
     "text": [
      "UQpy: Running Monte Carlo Sampling.\n",
      "UQpy: Monte Carlo Sampling Complete.\n",
      "\n",
      "[[-1.0856306   1.65143654]\n",
      " [ 0.99734545 -2.42667924]\n",
      " [ 0.2829785  -0.42891263]\n",
      " [-1.50629471  1.26593626]\n",
      " [-0.57860025 -0.8667404 ]]\n",
      "UQpy: Running Monte Carlo Sampling.\n",
      "UQpy: Monte Carlo Sampling Complete.\n",
      "[[-1.0856306   1.65143654]\n",
      " [ 0.99734545 -2.42667924]\n",
      " [ 0.2829785  -0.42891263]\n",
      " [-1.50629471  1.26593626]\n",
      " [-0.57860025 -0.8667404 ]\n",
      " [ 0.66698806 -0.77761941]\n",
      " [ 0.02581308  0.94863382]]\n",
      "[[0.13882123 0.95067527]\n",
      " [0.84070157 0.00761886]\n",
      " [0.61140334 0.3339934 ]\n",
      " [0.06599577 0.89723205]\n",
      " [0.28142947 0.19304213]\n",
      " [0.74761012 0.21839671]\n",
      " [0.51029679 0.82859656]]\n"
     ]
    },
    {
     "data": {
      "image/png": "[encoded data removed]",
      "text/plain": [
       "<Figure size 432x288 with 1 Axes>"
      ]
     },
     "metadata": {
      "needs_background": "light"
     },
     "output_type": "display_data"
    },
    {
     "data": {
      "image/png": "[encoded data removed]",
      "text/plain": [
       "<Figure size 432x288 with 1 Axes>"
      ]
     },
     "metadata": {
      "needs_background": "light"
     },
     "output_type": "display_data"
    },
    {
     "data": {
      "image/png": "[encoded data removed]",
      "text/plain": [
       "<Figure size 432x288 with 1 Axes>"
      ]
     },
     "metadata": {
      "needs_background": "light"
     },
     "output_type": "display_data"
    },
    {
     "name": "stdout",
     "output_type": "stream",
     "text": [
      "UQpy: Running Monte Carlo Sampling.\n",
      "UQpy: Monte Carlo Sampling Complete.\n",
      "\n",
      "MCS extended samples:\n",
      "[[-1.0856306   1.65143654]\n",
      " [ 0.99734545 -2.42667924]\n",
      " [ 0.2829785  -0.42891263]\n",
      " [-1.50629471  1.26593626]\n",
      " [-0.57860025 -0.8667404 ]\n",
      " [ 0.66698806 -0.77761941]\n",
      " [ 0.02581308  0.94863382]\n",
      " [-0.67888615  1.49138963]\n",
      " [-0.09470897 -0.638902  ]]\n",
      "\n",
      "MCS transformed samples:\n",
      "[[0.13882123 0.95067527]\n",
      " [0.84070157 0.00761886]\n",
      " [0.61140334 0.3339934 ]\n",
      " [0.06599577 0.89723205]\n",
      " [0.28142947 0.19304213]\n",
      " [0.74761012 0.21839671]\n",
      " [0.51029679 0.82859656]\n",
      " [0.248605   0.93207038]\n",
      " [0.462273   0.26144334]]\n"
     ]
    }
   ],
   "source": [
    "# Import the necessary Distributions from Distribution class to create the Distribution object\n",
    "# We are going to run MCS for two  standard normal N(0,1) random variables. We set the random_state in order\n",
    "# to reproduce the results.\n",
    "from UQpy.Distributions import Normal\n",
    "dist1 = Normal(loc=0., scale=1.)\n",
    "dist2 = Normal(loc=0., scale=1.)\n",
    "\n",
    "x = MCS(dist_object=[dist1,dist2], nsamples=5, random_state=np.random.RandomState(123),  verbose=True)\n",
    "print()\n",
    "print(x.samples)\n",
    "\n",
    "x.run(nsamples=2, random_state=np.random.RandomState(23))\n",
    "print(x.samples)\n",
    "\n",
    "x.transform_u01()\n",
    "print(x.samplesU01)\n",
    "\n",
    "#plot the samples\n",
    "fig, ax = plt.subplots()\n",
    "plt.title('MC sampling')\n",
    "plt.scatter(x.samples[:, 0], x.samples[:, 1], marker='o')\n",
    "ax.yaxis.grid(True)\n",
    "ax.xaxis.grid(True)\n",
    "plt.show()\n",
    "\n",
    "fig, ax = plt.subplots()\n",
    "plt.title('Histogram:parameter #1')\n",
    "plt.hist(x.samples[:, 0])\n",
    "ax.yaxis.grid(True)\n",
    "ax.xaxis.grid(True)\n",
    "\n",
    "fig, ax = plt.subplots()\n",
    "plt.title('Histogram:parameter #2')\n",
    "plt.hist(x.samples[:, 1])\n",
    "ax.yaxis.grid(True)\n",
    "ax.xaxis.grid(True)\n",
    "plt.show()\n",
    "\n",
    "# Use the MCS.run method in order to add 2 samples in the existing ones.\n",
    "x.run(nsamples=2)\n",
    "print()\n",
    "print('MCS extended samples:')\n",
    "print(x.samples)\n",
    "\n",
    "# Use the MCS.transform_u01 method in order transform the samples to the Uniform [0,1] space.\n",
    "x.transform_u01()\n",
    "print()\n",
    "print('MCS transformed samples:')\n",
    "print(x.samplesU01)\n"
   ]
  },
  {
   "cell_type": "code",
   "execution_count": 3,
   "metadata": {},
   "outputs": [
    {
     "name": "stdout",
     "output_type": "stream",
     "text": [
      "UQpy: Running Monte Carlo Sampling.\n",
      "UQpy: Monte Carlo Sampling Complete.\n",
      "\n",
      "[[ 2.21206564  1.21635688]\n",
      " [-0.09732382  2.8152297 ]\n",
      " [-1.30600471  4.1038246 ]\n",
      " [ 0.50407636  2.54147535]\n",
      " [ 1.61407521  1.54649951]]\n"
     ]
    },
    {
     "data": {
      "image/png": "[encoded data removed]",
      "text/plain": [
       "<Figure size 432x288 with 1 Axes>"
      ]
     },
     "metadata": {
      "needs_background": "light"
     },
     "output_type": "display_data"
    },
    {
     "name": "stdout",
     "output_type": "stream",
     "text": [
      "UQpy: Running Monte Carlo Sampling.\n",
      "UQpy: Monte Carlo Sampling Complete.\n",
      "\n",
      "MCS extended samples: [[ 2.21206564  1.21635688]\n",
      " [-0.09732382  2.8152297 ]\n",
      " [-1.30600471  4.1038246 ]\n",
      " [ 0.50407636  2.54147535]\n",
      " [ 1.61407521  1.54649951]\n",
      " [ 4.74349145 -0.05303308]\n",
      " [ 3.26378416  1.58681057]]\n"
     ]
    },
    {
     "ename": "ValueError",
     "evalue": "UQpy: All Distributions must have a cdf method.",
     "output_type": "error",
     "traceback": [
      "\u001b[0;31m---------------------------------------------------------------------------\u001b[0m",
      "\u001b[0;31mValueError\u001b[0m                                Traceback (most recent call last)",
      "\u001b[0;32m<ipython-input-3-9b0989fd8b4b>\u001b[0m in \u001b[0;36m<module>\u001b[0;34m\u001b[0m\n\u001b[1;32m     22\u001b[0m \u001b[0;34m\u001b[0m\u001b[0m\n\u001b[1;32m     23\u001b[0m \u001b[0;31m# Use the MCS.transform_u01 method in order transform the samples to the Uniform [0,1] space.\u001b[0m\u001b[0;34m\u001b[0m\u001b[0;34m\u001b[0m\u001b[0;34m\u001b[0m\u001b[0m\n\u001b[0;32m---> 24\u001b[0;31m \u001b[0mx1\u001b[0m\u001b[0;34m.\u001b[0m\u001b[0mtransform_u01\u001b[0m\u001b[0;34m(\u001b[0m\u001b[0;34m)\u001b[0m\u001b[0;34m\u001b[0m\u001b[0;34m\u001b[0m\u001b[0m\n\u001b[0m",
      "\u001b[0;32m~/PythonProjects/UQpy/src/UQpy/SampleMethods.py\u001b[0m in \u001b[0;36mtransform_u01\u001b[0;34m(self)\u001b[0m\n\u001b[1;32m    239\u001b[0m                 \u001b[0mself\u001b[0m\u001b[0;34m.\u001b[0m\u001b[0msamplesU01\u001b[0m \u001b[0;34m=\u001b[0m \u001b[0mzi\u001b[0m\u001b[0;34m\u001b[0m\u001b[0;34m\u001b[0m\u001b[0m\n\u001b[1;32m    240\u001b[0m             \u001b[0;32melse\u001b[0m\u001b[0;34m:\u001b[0m\u001b[0;34m\u001b[0m\u001b[0;34m\u001b[0m\u001b[0m\n\u001b[0;32m--> 241\u001b[0;31m                 \u001b[0;32mraise\u001b[0m \u001b[0mValueError\u001b[0m\u001b[0;34m(\u001b[0m\u001b[0;34m'UQpy: All Distributions must have a cdf method.'\u001b[0m\u001b[0;34m)\u001b[0m\u001b[0;34m\u001b[0m\u001b[0;34m\u001b[0m\u001b[0m\n\u001b[0m\u001b[1;32m    242\u001b[0m \u001b[0;34m\u001b[0m\u001b[0m\n\u001b[1;32m    243\u001b[0m         \u001b[0;32melif\u001b[0m \u001b[0misinstance\u001b[0m\u001b[0;34m(\u001b[0m\u001b[0mself\u001b[0m\u001b[0;34m.\u001b[0m\u001b[0mdist_object\u001b[0m\u001b[0;34m,\u001b[0m \u001b[0mlist\u001b[0m\u001b[0;34m)\u001b[0m \u001b[0;32mand\u001b[0m \u001b[0mself\u001b[0m\u001b[0;34m.\u001b[0m\u001b[0mlist\u001b[0m \u001b[0;32mis\u001b[0m \u001b[0;32mTrue\u001b[0m\u001b[0;34m:\u001b[0m\u001b[0;34m\u001b[0m\u001b[0;34m\u001b[0m\u001b[0m\n",
      "\u001b[0;31mValueError\u001b[0m: UQpy: All Distributions must have a cdf method."
     ]
    }
   ],
   "source": [
    "# We are going to run MCS for a multivariate normal distribution random variables.\n",
    "from UQpy.Distributions import MVNormal\n",
    "dist = MVNormal(mean=[1., 2.], cov=[[4., -0.9], [-0.9, 1.]])\n",
    "\n",
    "x1 = MCS(dist_object=dist, nsamples=5, random_state=np.random.RandomState(456),  verbose=True)\n",
    "print()\n",
    "print(x1.samples)\n",
    "\n",
    "\n",
    "#plot the samples\n",
    "fig, ax = plt.subplots()\n",
    "plt.title('MC sampling')\n",
    "plt.scatter(x1.samples[:, 0], x1.samples[:, 1], marker='o')\n",
    "ax.yaxis.grid(True)\n",
    "ax.xaxis.grid(True)\n",
    "plt.show()\n",
    "\n",
    "# Use the MCS.run method in order to add 2 samples in the existing ones.\n",
    "x1.run(nsamples=2)\n",
    "print()\n",
    "print('MCS extended samples:', x1.samples)\n",
    "\n",
    "# Use the MCS.transform_u01 method in order transform the samples to the Uniform [0,1] space.\n",
    "x1.transform_u01()"
   ]
  },
  {
   "cell_type": "code",
   "execution_count": 5,
   "metadata": {},
   "outputs": [
    {
     "name": "stdout",
     "output_type": "stream",
     "text": [
      "UQpy: Running Monte Carlo Sampling.\n",
      "UQpy: Monte Carlo Sampling Complete.\n",
      "\n",
      "MCS samples: [[array([-1.1081114]) array([2.9781381 , 1.51253378])]\n",
      " [array([-0.72571863]) array([1.96173102, 0.89589751])]\n",
      " [array([0.52280433]) array([-0.91034353,  3.25303316])]\n",
      " [array([1.2344419]) array([-1.75177129,  2.37998095])]\n",
      " [array([0.09689585]) array([1.43288471, 1.1029768 ])]]\n",
      "5\n",
      "2\n",
      "\n",
      "MVNormal samples: [[ 2.9781381   1.51253378]\n",
      " [ 1.96173102  0.89589751]\n",
      " [-0.91034353  3.25303316]\n",
      " [-1.75177129  2.37998095]\n",
      " [ 1.43288471  1.1029768 ]]\n",
      "UQpy: Running Monte Carlo Sampling.\n",
      "UQpy: Monte Carlo Sampling Complete.\n",
      "\n",
      "MCS extended samples: [[array([-1.1081114]) array([2.9781381 , 1.51253378])]\n",
      " [array([-0.72571863]) array([1.96173102, 0.89589751])]\n",
      " [array([0.52280433]) array([-0.91034353,  3.25303316])]\n",
      " [array([1.2344419]) array([-1.75177129,  2.37998095])]\n",
      " [array([0.09689585]) array([1.43288471, 1.1029768 ])]\n",
      " [array([-1.75326594]) array([3.37476301, 2.48107982])]\n",
      " [array([0.26386684]) array([4.51310267, 1.47752039])]]\n"
     ]
    }
   ],
   "source": [
    "# We are going to run MCS for a multivariate normal distribution and a standard normal distribution.\n",
    "x2 = MCS(dist_object=[dist1, dist], nsamples=5, random_state=np.random.RandomState(789),  verbose=True)\n",
    "print()\n",
    "print('MCS samples:', x2.samples)\n",
    "\n",
    "print(len(x2.samples))\n",
    "print(len(x2.samples[0]))\n",
    "\n",
    "# Extract samples for the multivariate distribution \n",
    "samples = np.zeros(shape=(len(x2.samples), len(x2.samples[1])))\n",
    "for i in range(len(x2.samples)):\n",
    "    samples[i, :] = x2.samples[i][1]\n",
    "print()\n",
    "print('MVNormal samples:', samples)\n",
    "\n",
    "# Use the MCS.run method in order to add 2 samples in the existing ones.\n",
    "x2.run(nsamples=2)\n",
    "print()\n",
    "print('MCS extended samples:', x2.samples)"
   ]
  },
  {
   "cell_type": "code",
   "execution_count": null,
   "metadata": {},
   "outputs": [],
   "source": [
    "# Draw samples from a continuous and discrete distribution\n",
    "from UQpy.Distributions import Binomial\n",
    "dist3 = Binomial(n=5, p=0.4)\n",
    "x3 = MCS(dist_object=[dist1, dist3], nsamples=5, verbose=True)\n",
    "\n",
    "print()\n",
    "print('MCS samples:', x3.samples)"
   ]
  },
  {
   "cell_type": "code",
   "execution_count": null,
   "metadata": {},
   "outputs": [],
   "source": []
  }
 ],
 "metadata": {
  "kernelspec": {
   "display_name": "Python 3",
   "language": "python",
   "name": "python3"
  },
  "language_info": {
   "codemirror_mode": {
    "name": "ipython",
    "version": 3
   },
   "file_extension": ".py",
   "mimetype": "text/x-python",
   "name": "python",
   "nbconvert_exporter": "python",
   "pygments_lexer": "ipython3",
   "version": "3.7.4"
  }
 },
 "nbformat": 4,
 "nbformat_minor": 2
}
