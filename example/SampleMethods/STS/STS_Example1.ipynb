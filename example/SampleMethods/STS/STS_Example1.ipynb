{
 "cells": [
  {
   "cell_type": "markdown",
   "metadata": {},
   "source": [
    "# Stratified Sampling - Example 1"
   ]
  },
  {
   "cell_type": "markdown",
   "metadata": {},
   "source": [
    "- Author: Michael D. Shields\n",
    "- Date: June 04, 2018"
   ]
  },
  {
   "cell_type": "markdown",
   "metadata": {},
   "source": [
    "In this example, the stratified sampling method is employed to generate samples from an exponential distribution. The method illustrates various aspects of the UQpy.SampleMethods.STS class."
   ]
  },
  {
   "cell_type": "markdown",
   "metadata": {},
   "source": [
    "Import the necessary libraries. Here we import standard libraries such as numpy and matplotlib, but also need to import the STS class from UQpy.SampleMethods."
   ]
  },
  {
   "cell_type": "code",
   "execution_count": 1,
   "metadata": {},
   "outputs": [],
   "source": [
    "from UQpy.SampleMethods import STS\n",
    "from UQpy.Distributions import Exponential\n",
    "import numpy as np\n",
    "import matplotlib.pyplot as plt\n",
    "import time\n",
    "from scipy.stats import expon"
   ]
  },
  {
   "cell_type": "markdown",
   "metadata": {},
   "source": [
    "Run STS for 25 samples.\n",
    "\n",
    "- 2 dimensions\n",
    "- Five strata in each dimension\n",
    "- Exponential distribution with location parameter = 1 and scale parameter = 1.\n",
    "\n",
    "Create a distribution object."
   ]
  },
  {
   "cell_type": "code",
   "execution_count": 2,
   "metadata": {},
   "outputs": [],
   "source": [
    "marginals = [Exponential(loc=1., scale=1.), Exponential(loc=1., scale=1.)]"
   ]
  },
  {
   "cell_type": "markdown",
   "metadata": {},
   "source": [
    "Run stratified sampling"
   ]
  },
  {
   "cell_type": "code",
   "execution_count": 3,
   "metadata": {},
   "outputs": [],
   "source": [
    "x_sts = STS(dist_object=marginals, sts_design=[5, 5], stype='Rectangular')"
   ]
  },
  {
   "cell_type": "markdown",
   "metadata": {},
   "source": [
    "Plot the resulting stratified samples and the boundaries of the strata in the U(0,1) space."
   ]
  },
  {
   "cell_type": "code",
   "execution_count": 4,
   "metadata": {},
   "outputs": [
    {
     "data": {
      "image/png": "[encoded data removed]",
      "text/plain": [
       "<Figure size 432x288 with 1 Axes>"
      ]
     },
     "metadata": {
      "needs_background": "light"
     },
     "output_type": "display_data"
    }
   ],
   "source": [
    "fig, ax = plt.subplots()\n",
    "plt.title('Stratified Sample - U(0,1)')\n",
    "plt.scatter(x_sts.samplesU01[:, 0], x_sts.samplesU01[:, 1])\n",
    "ax.set_yticks([0.0, 0.2, 0.4, 0.6, 0.8, 1.0])\n",
    "ax.set_xticks([0.0, 0.2, 0.4, 0.6, 0.8, 1.0])\n",
    "ax.yaxis.grid(True)\n",
    "ax.xaxis.grid(True)\n",
    "plt.ylim(0, 1)\n",
    "plt.xlim(0, 1)\n",
    "plt.show()"
   ]
  },
  {
   "cell_type": "code",
   "execution_count": 5,
   "metadata": {
    "scrolled": false
   },
   "outputs": [
    {
     "name": "stdout",
     "output_type": "stream",
     "text": [
      "[0.04 0.04 0.04 0.04 0.04 0.04 0.04 0.04 0.04 0.04 0.04 0.04 0.04 0.04\n",
      " 0.04 0.04 0.04 0.04 0.04 0.04 0.04 0.04 0.04 0.04 0.04]\n"
     ]
    }
   ],
   "source": [
    "print(x_sts.strata.weights)"
   ]
  },
  {
   "cell_type": "markdown",
   "metadata": {},
   "source": [
    "Plot the resulting stratified exponential samples and the boundaries of the strata in the exponential space."
   ]
  },
  {
   "cell_type": "code",
   "execution_count": 6,
   "metadata": {},
   "outputs": [
    {
     "data": {
      "image/png": "[encoded data removed]",
      "text/plain": [
       "<Figure size 432x288 with 1 Axes>"
      ]
     },
     "metadata": {
      "needs_background": "light"
     },
     "output_type": "display_data"
    }
   ],
   "source": [
    "fig, ax = plt.subplots()\n",
    "plt.title('Stratified Sample - Exponential')\n",
    "plt.scatter(x_sts.samples[:, 0], x_sts.samples[:, 1])\n",
    "ax.set_yticks([1.0, expon.ppf(0.2,1,1), expon.ppf(0.4,1,1), expon.ppf(0.6,1,1), expon.ppf(0.8,1,1), expon.ppf(0.99,1,1)])\n",
    "ax.set_xticks([1.0, expon.ppf(0.2,1,1), expon.ppf(0.4,1,1), expon.ppf(0.6,1,1), expon.ppf(0.8,1,1), expon.ppf(0.99,1,1)])\n",
    "ax.yaxis.grid(True)\n",
    "ax.xaxis.grid(True)\n",
    "plt.ylim(1, expon.ppf(0.99,1,1))\n",
    "plt.xlim(1, expon.ppf(0.99,1,1))\n",
    "plt.show()"
   ]
  },
  {
   "cell_type": "code",
   "execution_count": 7,
   "metadata": {
    "scrolled": true
   },
   "outputs": [
    {
     "name": "stdout",
     "output_type": "stream",
     "text": [
      "[[1.1046046 1.149205 ]\n",
      " [1.3271354 1.0882121]\n",
      " [1.7895046 1.134928 ]\n",
      " [2.0501513 1.1396655]\n",
      " [3.4379516 1.1082894]\n",
      " [1.1092254 1.2271737]\n",
      " [1.4473504 1.448369 ]\n",
      " [1.7658951 1.4767463]\n",
      " [2.5555592 1.3415883]\n",
      " [2.9460711 1.4973416]\n",
      " [1.0323298 1.6531138]\n",
      " [1.4634078 1.5263857]\n",
      " [1.6880698 1.7482996]\n",
      " [2.2238412 1.9085815]\n",
      " [2.6349554 1.7756693]\n",
      " [1.0633186 2.228785 ]\n",
      " [1.3969818 2.1127286]\n",
      " [1.6788785 2.0579395]\n",
      " [2.115786  2.0956044]\n",
      " [2.6750734 2.2801242]\n",
      " [1.2063692 2.8582487]\n",
      " [1.3848265 3.5674212]\n",
      " [1.7008646 4.9561024]\n",
      " [1.9567969 3.3877058]\n",
      " [2.7700105 6.4620595]]\n"
     ]
    }
   ],
   "source": [
    "print(x_sts.samples)"
   ]
  }
 ],
 "metadata": {
  "kernelspec": {
   "display_name": "Python 3",
   "language": "python",
   "name": "python3"
  },
  "language_info": {
   "codemirror_mode": {
    "name": "ipython",
    "version": 3
   },
   "file_extension": ".py",
   "mimetype": "text/x-python",
   "name": "python",
   "nbconvert_exporter": "python",
   "pygments_lexer": "ipython3",
   "version": "3.6.5"
  }
 },
 "nbformat": 4,
 "nbformat_minor": 2
}
