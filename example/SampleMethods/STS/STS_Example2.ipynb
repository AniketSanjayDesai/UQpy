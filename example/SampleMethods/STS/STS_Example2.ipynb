{
 "cells": [
  {
   "cell_type": "markdown",
   "metadata": {},
   "source": [
    "# Stratified Sampling - Example 2"
   ]
  },
  {
   "cell_type": "markdown",
   "metadata": {},
   "source": [
    "- Author: Michael D. Shields\n",
    "- Date: June 05, 2018"
   ]
  },
  {
   "cell_type": "markdown",
   "metadata": {},
   "source": [
    "In this example, the stratified sampling method is employed to generate samples from an exponential distribution with strata defined by a text file. The method illustrates stratified sampling for cases where the space is not divided equally in all dimensions."
   ]
  },
  {
   "cell_type": "markdown",
   "metadata": {},
   "source": [
    "Import the necessary libraries. Here we import standard libraries such as numpy and matplotlib, but also need to import the STS class from UQpy.SampleMethods."
   ]
  },
  {
   "cell_type": "code",
   "execution_count": 1,
   "metadata": {},
   "outputs": [],
   "source": [
    "from UQpy.SampleMethods import STS\n",
    "from UQpy.Distributions import Exponential\n",
    "import numpy as np\n",
    "import matplotlib.pyplot as plt\n",
    "import time\n",
    "from scipy.stats import expon"
   ]
  },
  {
   "cell_type": "markdown",
   "metadata": {},
   "source": [
    "Run STS for 25 samples.\n",
    "\n",
    "- 2 dimensions\n",
    "- Five strata in each dimension\n",
    "- Exponential distribution with location parameter = 1 and scale parameter = 1.\n",
    "\n",
    "Create a distribution object."
   ]
  },
  {
   "cell_type": "code",
   "execution_count": 2,
   "metadata": {},
   "outputs": [],
   "source": [
    "marginals = [Exponential(loc=1., scale=1.), Exponential(loc=1., scale=1.)]"
   ]
  },
  {
   "cell_type": "markdown",
   "metadata": {},
   "source": [
    "Run stratified sampling"
   ]
  },
  {
   "cell_type": "code",
   "execution_count": 3,
   "metadata": {},
   "outputs": [],
   "source": [
    "x_sts = STS(dist_object=marginals, input_file='strata.txt', stype='Rectangular')"
   ]
  },
  {
   "cell_type": "markdown",
   "metadata": {},
   "source": [
    "Plot the resulting stratified samples and the boundaries of the strata in the U(0,1) space."
   ]
  },
  {
   "cell_type": "code",
   "execution_count": 4,
   "metadata": {},
   "outputs": [
    {
     "data": {
      "image/png": "[encoded data removed]",
      "text/plain": [
       "<Figure size 432x288 with 1 Axes>"
      ]
     },
     "metadata": {
      "needs_background": "light"
     },
     "output_type": "display_data"
    }
   ],
   "source": [
    "fig, ax = plt.subplots()\n",
    "plt.title('Stratified Sample - U(0,1)')\n",
    "plt.scatter(x_sts.samplesU01[:, 0], x_sts.samplesU01[:, 1])\n",
    "plt.plot([0.0, 0.5, 0.5, 0.0],[0.0, 0.0, 0.333, 0.333],'b')\n",
    "plt.plot([0.0, 0.5, 0.5, 0.0],[0.333, 0.333, 0.667, 0.667],'b')\n",
    "plt.plot([0.0, 0.5, 0.5, 0.0],[0.667, 0.667, 1.0, 1.0],'b')\n",
    "plt.plot([0.5, 1.0, 1.0, 0.5],[0.0, 0.0, 0.5, 0.5],'b')\n",
    "plt.plot([0.5, 0.75, 0.75, 0.5],[0.5, 0.5, 1.0, 1.0],'b')\n",
    "ax.set_yticks([0.0, 0.2, 0.4, 0.6, 0.8, 1.0])\n",
    "ax.set_xticks([0.0, 0.2, 0.4, 0.6, 0.8, 1.0])\n",
    "ax.yaxis.grid(True)\n",
    "ax.xaxis.grid(True)\n",
    "plt.ylim(0, 1)\n",
    "plt.xlim(0, 1)\n",
    "plt.show()"
   ]
  },
  {
   "cell_type": "code",
   "execution_count": 5,
   "metadata": {},
   "outputs": [
    {
     "name": "stdout",
     "output_type": "stream",
     "text": [
      "[0.166665 0.166665 0.166665 0.25     0.125    0.125   ]\n"
     ]
    }
   ],
   "source": [
    "print(x_sts.strata.weights)"
   ]
  },
  {
   "cell_type": "markdown",
   "metadata": {},
   "source": [
    "Plot the resulting stratified exponential samples and the boundaries of the strata in the exponential space."
   ]
  },
  {
   "cell_type": "code",
   "execution_count": 6,
   "metadata": {},
   "outputs": [
    {
     "data": {
      "image/png": "[encoded data removed]",
      "text/plain": [
       "<Figure size 432x288 with 1 Axes>"
      ]
     },
     "metadata": {
      "needs_background": "light"
     },
     "output_type": "display_data"
    }
   ],
   "source": [
    "fig, ax = plt.subplots()\n",
    "plt.title('Stratified Sample - Exponential')\n",
    "plt.scatter(x_sts.samples[:, 0], x_sts.samples[:, 1])\n",
    "plt.plot(expon.ppf([0.0, 0.5, 0.5, 0.0],1,1),expon.ppf([0.0, 0.0, 0.333, 0.333],1,1),'b')\n",
    "plt.plot(expon.ppf([0.0, 0.5, 0.5, 0.0],1,1),expon.ppf([0.333, 0.333, 0.667, 0.667],1,1),'b')\n",
    "plt.plot(expon.ppf([0.0, 0.5, 0.5, 0.0],1,1),expon.ppf([0.667, 0.667, 0.99, 1.0],1,1),'b')\n",
    "plt.plot(expon.ppf([0.5, 1.0, 0.99, 0.5],1,1),expon.ppf([0.0, 0.0, 0.5, 0.5],1,1),'b')\n",
    "plt.plot(expon.ppf([0.5, 0.75, 0.75, 0.5],1,1),expon.ppf([0.5, 0.5, 0.99, 0.99],1,1),'b')\n",
    "ax.yaxis.grid(True)\n",
    "ax.xaxis.grid(True)\n",
    "plt.ylim(1, expon.ppf(0.99,1,1))\n",
    "plt.xlim(1, expon.ppf(0.99,1,1))\n",
    "plt.show()"
   ]
  },
  {
   "cell_type": "code",
   "execution_count": 7,
   "metadata": {},
   "outputs": [
    {
     "name": "stdout",
     "output_type": "stream",
     "text": [
      "[[1.4619405 1.0864989]\n",
      " [1.5058151 1.6326723]\n",
      " [1.4355725 2.3026705]\n",
      " [3.114136  1.4411759]\n",
      " [2.125149  2.2984886]\n",
      " [2.992351  3.0743039]]\n"
     ]
    }
   ],
   "source": [
    "print(x_sts.samples)"
   ]
  }
 ],
 "metadata": {
  "kernelspec": {
   "display_name": "Python 3",
   "language": "python",
   "name": "python3"
  },
  "language_info": {
   "codemirror_mode": {
    "name": "ipython",
    "version": 3
   },
   "file_extension": ".py",
   "mimetype": "text/x-python",
   "name": "python",
   "nbconvert_exporter": "python",
   "pygments_lexer": "ipython3",
   "version": "3.6.5"
  }
 },
 "nbformat": 4,
 "nbformat_minor": 2
}
