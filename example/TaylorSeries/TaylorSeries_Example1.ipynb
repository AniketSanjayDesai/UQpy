{
 "cells": [
  {
   "cell_type": "markdown",
   "metadata": {},
   "source": [
    "## Taylor Series examples\n",
    "\n",
    "Created by: Dimitris Giovanis, 23/3/2019\n"
   ]
  },
  {
   "cell_type": "markdown",
   "metadata": {},
   "source": [
    "The first-order reliability methods (FORM), as stated by its name, utilizes a first-order Taylor series expansions for the performance function in a standard normal probability space to derive probability of failure estimates. Consider a model in standard normal space  with performance function $g(\\textbf{U})$. The FORM approximates\n",
    "the performance function by:\n",
    "\n",
    "$g(\\textbf{U})  \\approx L(\\textbf{U}) = g(\\textbf{u}^\\star) + \\nabla g(\\textbf{u}^\\star)(\\textbf{U}-\\textbf{u}^\\star)^T$\n",
    "\n",
    "\n",
    "where $\\textbf{u}^\\star$ is the point around which the series is expanded and its typically called the design point (needs to be found) and it corresponds to the point on the line  $g(\\textbf{U})=0$ with the highest probability. $\\nabla g(\\textbf{u}^\\star)$ is the gradient of $g(\\textbf{U})$ evaluated at $\\textbf{u}^\\star$."
   ]
  },
  {
   "cell_type": "markdown",
   "metadata": {},
   "source": [
    "The benchmark problem is a simple structural reliability problem\n",
    "defined in a two-dimensional parameter space consisting of a resistance $R$ and a stress $S$. The failure happens\n",
    "when the stress is higher than the resistance, leading to the following limit-state function:\n",
    "\n",
    "$ \\textbf{X}=\\{R, S\\}$\n",
    "\n",
    "$g(\\textbf{X}) = R - S$\n",
    "\n",
    "The two random variables are independent  and  distributed\n",
    "according to:\n",
    "\n",
    "$R \\sim N(200, 20)$\n",
    "\n",
    "$S \\sim N(150, 10)$"
   ]
  },
  {
   "cell_type": "code",
   "execution_count": 1,
   "metadata": {},
   "outputs": [],
   "source": [
    "#from platform import python_version\n",
    "#print(python_version())\n",
    "\n",
    "import numpy as np\n",
    "from UQpy.Reliability import TaylorSeries\n",
    "from UQpy.RunModel import RunModel\n",
    "import matplotlib.pyplot as plt\n",
    "from UQpy.RunModel import RunModel"
   ]
  },
  {
   "cell_type": "code",
   "execution_count": 2,
   "metadata": {},
   "outputs": [
    {
     "ename": "IndexError",
     "evalue": "index 1 is out of bounds for axis 0 with size 1",
     "output_type": "error",
     "traceback": [
      "\u001b[0;31m---------------------------------------------------------------------------\u001b[0m",
      "\u001b[0;31mIndexError\u001b[0m                                Traceback (most recent call last)",
      "\u001b[0;32m<ipython-input-2-f8a41c195212>\u001b[0m in \u001b[0;36m<module>\u001b[0;34m\u001b[0m\n\u001b[1;32m      5\u001b[0m \u001b[0mx\u001b[0m \u001b[0;34m=\u001b[0m \u001b[0mMCS\u001b[0m\u001b[0;34m(\u001b[0m\u001b[0mdist_name\u001b[0m\u001b[0;34m=\u001b[0m\u001b[0;34m[\u001b[0m\u001b[0;34m'normal'\u001b[0m\u001b[0;34m,\u001b[0m \u001b[0;34m'normal'\u001b[0m\u001b[0;34m]\u001b[0m\u001b[0;34m,\u001b[0m \u001b[0mdist_params\u001b[0m\u001b[0;34m=\u001b[0m\u001b[0;34m[\u001b[0m\u001b[0;34m[\u001b[0m\u001b[0;36m200\u001b[0m\u001b[0;34m,\u001b[0m \u001b[0;36m20\u001b[0m\u001b[0;34m]\u001b[0m\u001b[0;34m,\u001b[0m \u001b[0;34m[\u001b[0m\u001b[0;36m150\u001b[0m\u001b[0;34m,\u001b[0m \u001b[0;36m10\u001b[0m\u001b[0;34m]\u001b[0m\u001b[0;34m]\u001b[0m\u001b[0;34m,\u001b[0m \u001b[0mnsamples\u001b[0m\u001b[0;34m=\u001b[0m\u001b[0mN\u001b[0m\u001b[0;34m)\u001b[0m\u001b[0;34m.\u001b[0m\u001b[0msamples\u001b[0m\u001b[0;34m\u001b[0m\u001b[0;34m\u001b[0m\u001b[0m\n\u001b[1;32m      6\u001b[0m \u001b[0mRunModelObject\u001b[0m \u001b[0;34m=\u001b[0m \u001b[0mRunModel\u001b[0m\u001b[0;34m(\u001b[0m\u001b[0mmodel_script\u001b[0m\u001b[0;34m=\u001b[0m\u001b[0;34m'pfn.py'\u001b[0m\u001b[0;34m,\u001b[0m\u001b[0mmodel_object_name\u001b[0m\u001b[0;34m=\u001b[0m\u001b[0;34m\"example1\"\u001b[0m\u001b[0;34m)\u001b[0m\u001b[0;34m\u001b[0m\u001b[0;34m\u001b[0m\u001b[0m\n\u001b[0;32m----> 7\u001b[0;31m \u001b[0mRunModelObject\u001b[0m\u001b[0;34m.\u001b[0m\u001b[0mrun\u001b[0m\u001b[0;34m(\u001b[0m\u001b[0mx\u001b[0m\u001b[0;34m)\u001b[0m\u001b[0;34m\u001b[0m\u001b[0;34m\u001b[0m\u001b[0m\n\u001b[0m\u001b[1;32m      8\u001b[0m \u001b[0my\u001b[0m \u001b[0;34m=\u001b[0m \u001b[0mnp\u001b[0m\u001b[0;34m.\u001b[0m\u001b[0marray\u001b[0m\u001b[0;34m(\u001b[0m\u001b[0mRunModelObject\u001b[0m\u001b[0;34m.\u001b[0m\u001b[0mqoi_list\u001b[0m\u001b[0;34m)\u001b[0m\u001b[0;34m\u001b[0m\u001b[0;34m\u001b[0m\u001b[0m\n\u001b[1;32m      9\u001b[0m \u001b[0midx\u001b[0m \u001b[0;34m=\u001b[0m \u001b[0msum\u001b[0m\u001b[0;34m(\u001b[0m\u001b[0mi\u001b[0m \u001b[0;34m<=\u001b[0m \u001b[0;36m0.0\u001b[0m \u001b[0;32mfor\u001b[0m \u001b[0mi\u001b[0m \u001b[0;32min\u001b[0m \u001b[0my\u001b[0m\u001b[0;34m)\u001b[0m\u001b[0;34m\u001b[0m\u001b[0;34m\u001b[0m\u001b[0m\n",
      "\u001b[0;32m~/PythonProjects/UQpy/src/UQpy/RunModel.py\u001b[0m in \u001b[0;36mrun\u001b[0;34m(self, samples, append_samples)\u001b[0m\n\u001b[1;32m    337\u001b[0m             \u001b[0;31m# Run the serial execution or parallel execution depending on ntasks\u001b[0m\u001b[0;34m\u001b[0m\u001b[0;34m\u001b[0m\u001b[0;34m\u001b[0m\u001b[0m\n\u001b[1;32m    338\u001b[0m             \u001b[0;32mif\u001b[0m \u001b[0mself\u001b[0m\u001b[0;34m.\u001b[0m\u001b[0mntasks\u001b[0m \u001b[0;34m==\u001b[0m \u001b[0;36m1\u001b[0m\u001b[0;34m:\u001b[0m\u001b[0;34m\u001b[0m\u001b[0;34m\u001b[0m\u001b[0m\n\u001b[0;32m--> 339\u001b[0;31m                 \u001b[0mself\u001b[0m\u001b[0;34m.\u001b[0m\u001b[0m_serial_python_execution\u001b[0m\u001b[0;34m(\u001b[0m\u001b[0;34m)\u001b[0m\u001b[0;34m\u001b[0m\u001b[0;34m\u001b[0m\u001b[0m\n\u001b[0m\u001b[1;32m    340\u001b[0m             \u001b[0;32melse\u001b[0m\u001b[0;34m:\u001b[0m\u001b[0;34m\u001b[0m\u001b[0;34m\u001b[0m\u001b[0m\n\u001b[1;32m    341\u001b[0m                 \u001b[0mself\u001b[0m\u001b[0;34m.\u001b[0m\u001b[0m_parallel_python_execution\u001b[0m\u001b[0;34m(\u001b[0m\u001b[0;34m)\u001b[0m\u001b[0;34m\u001b[0m\u001b[0;34m\u001b[0m\u001b[0m\n",
      "\u001b[0;32m~/PythonProjects/UQpy/src/UQpy/RunModel.py\u001b[0m in \u001b[0;36m_serial_python_execution\u001b[0;34m(self)\u001b[0m\n\u001b[1;32m    474\u001b[0m                 \u001b[0;31m# self.model_output = eval(self.model_object_name + '(self.samples[i])')\u001b[0m\u001b[0;34m\u001b[0m\u001b[0;34m\u001b[0m\u001b[0;34m\u001b[0m\u001b[0m\n\u001b[1;32m    475\u001b[0m             \u001b[0;32mif\u001b[0m \u001b[0mlen\u001b[0m\u001b[0;34m(\u001b[0m\u001b[0mself\u001b[0m\u001b[0;34m.\u001b[0m\u001b[0mpython_kwargs\u001b[0m\u001b[0;34m)\u001b[0m \u001b[0;34m==\u001b[0m \u001b[0;36m0\u001b[0m\u001b[0;34m:\u001b[0m\u001b[0;34m\u001b[0m\u001b[0;34m\u001b[0m\u001b[0m\n\u001b[0;32m--> 476\u001b[0;31m                 \u001b[0mself\u001b[0m\u001b[0;34m.\u001b[0m\u001b[0mmodel_output\u001b[0m \u001b[0;34m=\u001b[0m \u001b[0meval\u001b[0m\u001b[0;34m(\u001b[0m\u001b[0mself\u001b[0m\u001b[0;34m.\u001b[0m\u001b[0mmodel_object_name\u001b[0m \u001b[0;34m+\u001b[0m \u001b[0;34m'(sample_to_send)'\u001b[0m\u001b[0;34m)\u001b[0m\u001b[0;34m\u001b[0m\u001b[0;34m\u001b[0m\u001b[0m\n\u001b[0m\u001b[1;32m    477\u001b[0m             \u001b[0;32melse\u001b[0m\u001b[0;34m:\u001b[0m\u001b[0;34m\u001b[0m\u001b[0;34m\u001b[0m\u001b[0m\n\u001b[1;32m    478\u001b[0m                 \u001b[0mself\u001b[0m\u001b[0;34m.\u001b[0m\u001b[0mmodel_output\u001b[0m \u001b[0;34m=\u001b[0m \u001b[0meval\u001b[0m\u001b[0;34m(\u001b[0m\u001b[0mself\u001b[0m\u001b[0;34m.\u001b[0m\u001b[0mmodel_object_name\u001b[0m \u001b[0;34m+\u001b[0m \u001b[0;34m'(sample_to_send, **self.python_kwargs)'\u001b[0m\u001b[0;34m)\u001b[0m\u001b[0;34m\u001b[0m\u001b[0;34m\u001b[0m\u001b[0m\n",
      "\u001b[0;32m~/PythonProjects/UQpy/src/UQpy/RunModel.py\u001b[0m in \u001b[0;36m<module>\u001b[0;34m\u001b[0m\n",
      "\u001b[0;32m~/PythonProjects/UQpy/example/TaylorSeries/pfn.py\u001b[0m in \u001b[0;36mexample1\u001b[0;34m(samples)\u001b[0m\n\u001b[1;32m      3\u001b[0m     \u001b[0;31m# g(X) = R - S\u001b[0m\u001b[0;34m\u001b[0m\u001b[0;34m\u001b[0m\u001b[0;34m\u001b[0m\u001b[0m\n\u001b[1;32m      4\u001b[0m     \u001b[0mR\u001b[0m \u001b[0;34m=\u001b[0m \u001b[0msamples\u001b[0m\u001b[0;34m[\u001b[0m\u001b[0;36m0\u001b[0m\u001b[0;34m]\u001b[0m\u001b[0;34m\u001b[0m\u001b[0;34m\u001b[0m\u001b[0m\n\u001b[0;32m----> 5\u001b[0;31m     \u001b[0mS\u001b[0m \u001b[0;34m=\u001b[0m \u001b[0msamples\u001b[0m\u001b[0;34m[\u001b[0m\u001b[0;36m1\u001b[0m\u001b[0;34m]\u001b[0m\u001b[0;34m\u001b[0m\u001b[0;34m\u001b[0m\u001b[0m\n\u001b[0m\u001b[1;32m      6\u001b[0m     \u001b[0;32mreturn\u001b[0m \u001b[0mR\u001b[0m\u001b[0;34m-\u001b[0m\u001b[0mS\u001b[0m\u001b[0;34m\u001b[0m\u001b[0;34m\u001b[0m\u001b[0m\n\u001b[1;32m      7\u001b[0m \u001b[0;34m\u001b[0m\u001b[0m\n",
      "\u001b[0;31mIndexError\u001b[0m: index 1 is out of bounds for axis 0 with size 1"
     ]
    }
   ],
   "source": [
    "# Monte Carlo simulation\n",
    "\n",
    "from UQpy.SampleMethods import MCS\n",
    "N = 100000\n",
    "x = MCS(dist_name=['normal', 'normal'], dist_params=[[200, 20], [150, 10]], nsamples=N).samples\n",
    "RunModelObject = RunModel(model_script='pfn.py',model_object_name=\"example1\")\n",
    "RunModelObject.run(x)\n",
    "y = np.array(RunModelObject.qoi_list)\n",
    "idx = sum(i <= 0.0 for i in y)\n",
    "pf_mcs = idx/N\n",
    "print(pf_mcs)"
   ]
  },
  {
   "cell_type": "code",
   "execution_count": null,
   "metadata": {},
   "outputs": [],
   "source": [
    "corr = np.array([[1.0, 0.0], [0.0, 1.0]])\n",
    "RunModelObject = RunModel(model_script='pfn.py',model_object_name=\"example1\") \n",
    "Q = TaylorSeries(dimension=2, corr=corr, model=RunModelObject, dist_name=['normal', 'normal'], dist_params=[[200, 20], [150, 10]], n_iter=100, df_step=0.01, df_method='forward')\n",
    "Q.form()"
   ]
  },
  {
   "cell_type": "code",
   "execution_count": null,
   "metadata": {},
   "outputs": [],
   "source": [
    "# print results\n",
    "print('Design point in standard normal space: %s' % Q.DesignPoint_U)\n",
    "print('Design point in original space: %s' % Q.DesignPoint_X)\n",
    "print('Hasofer-Lind reliability index: %s' % Q.HL_beta)\n",
    "print('FORM probability of failure: %s' % Q.Prob_FORM)\n",
    "print('FORM function: %s' % Q.g_record)\n",
    "print('FORM gradient: %s' % Q.dg_record)\n",
    "print('FORM x points: %s' % Q.x_record)\n",
    "print('FORM u points: %s' % Q.u_record)\n",
    "print('FORM alpha points: %s' % Q.alpha_record)"
   ]
  },
  {
   "cell_type": "code",
   "execution_count": null,
   "metadata": {},
   "outputs": [],
   "source": [
    "# Supporting function\n",
    "def multivariate_gaussian(pos, mu, Sigma):\n",
    "    n = mu.shape[0]\n",
    "    Sigma_det = np.linalg.det(Sigma)\n",
    "    Sigma_inv = np.linalg.inv(Sigma)\n",
    "    N = np.sqrt((2*np.pi)**n * Sigma_det)\n",
    "    fac = np.einsum('...k,kl,...l->...', pos-mu, Sigma_inv, pos-mu)\n",
    "    return np.exp(-fac / 2) / N\n",
    "\n",
    "N = 60\n",
    "XX = np.linspace(150, 250, N)\n",
    "YX = np.linspace(120, 180, N)\n",
    "XX, YX = np.meshgrid(XX, YX)\n",
    "\n",
    "XU = np.linspace(-3, 3, N)\n",
    "YU = np.linspace(-3, 3, N)\n",
    "XU, YU = np.meshgrid(XU, YU)\n",
    "\n",
    "# Mean vector and covariance matrix in the original space\n",
    "parameters = [[200, 20], [150, 10]]\n",
    "mu_X = np.array([parameters[0][0], parameters[1][0]])\n",
    "Sigma_X = np.array([[ parameters[0][1]**2 , 0.0], [0.0,  parameters[1][1]**2]])\n",
    "\n",
    "# Mean vector and covariance matrix in the ostandard normal space\n",
    "mu_U = np.array([0., 0.])\n",
    "Sigma_U = np.array([[ 1. , 0.0], [0.0,  1]])\n",
    "\n",
    "# Pack X and Y into a single 3-dimensional array for the original space\n",
    "posX = np.empty(XX.shape + (2,))\n",
    "posX[:, :, 0] = XX\n",
    "posX[:, :, 1] = YX\n",
    "ZX = multivariate_gaussian(posX, mu_X, Sigma_X)\n",
    "\n",
    "# Pack X and Y into a single 3-dimensional array for the standard normal space\n",
    "posU = np.empty(XU.shape + (2,))\n",
    "posU[:, :, 0] = XU\n",
    "posU[:, :, 1] = YU\n",
    "ZU = multivariate_gaussian(posU, mu_U, Sigma_U)\n",
    "\n",
    "\n",
    "# Figure 4a\n",
    "plt.figure()\n",
    "plt.rcParams[\"figure.figsize\"] = (12, 12)\n",
    "plt.rcParams.update({'font.size': 22})\n",
    "plt.plot(parameters[0][0],parameters[1][0],'r.') \n",
    "plt.plot([0, 200],[0, 200], 'k', Linewidth=5)\n",
    "plt.plot(Q.DesignPoint_X[0][0], Q.DesignPoint_X[0][1],'bo',markersize=12)\n",
    "plt.contour(XX, YX, ZX, levels=20)\n",
    "plt.xlabel(r'$X_1$')\n",
    "plt.ylabel(r'$X_2$')\n",
    "plt.text(170, 182, '$X_1 - X_2=0$',\n",
    "         rotation=45,\n",
    "         horizontalalignment='center',\n",
    "         verticalalignment='top',\n",
    "         multialignment='center')\n",
    "plt.ylim([120, 200])\n",
    "plt.xlim([130, 240])\n",
    "plt.grid()\n",
    "plt.title('Original space')    \n",
    "plt.axes().set_aspect('equal', 'box')\n",
    "plt.show()\n",
    "\n",
    "# Figure 4b\n",
    "plt.figure()\n",
    "plt.rcParams[\"figure.figsize\"] = (12, 12)\n",
    "plt.rcParams.update({'font.size': 22})      \n",
    "plt.plot([0, Q.DesignPoint_U[0][0]],[0, Q.DesignPoint_U[0][1]], 'b', Linewidth=2)   \n",
    "plt.plot([0, -3],[5, -1], 'k', Linewidth=5)\n",
    "plt.plot(Q.DesignPoint_U[0][0], Q.DesignPoint_U[0][1],'bo',markersize=12)\n",
    "plt.contour(XU, YU, ZU, levels=20)\n",
    "plt.axhline(0, color='black')\n",
    "plt.axvline(0, color='black')\n",
    "plt.plot(0,0,'r.')\n",
    "\n",
    "plt.xlabel(r'$U_1$')\n",
    "plt.ylabel(r'$U_2$')\n",
    "plt.text(-1.0, 1.1, '$U^\\star$=({:1.2f}, {:1.2f})'.format(-2.0, 1.0),\n",
    "         rotation=0,\n",
    "         horizontalalignment='center',\n",
    "         verticalalignment='top',\n",
    "         multialignment='center')\n",
    "\n",
    "plt.text(-2.1, 2.05, '$20U_1 - 10U_2 + 50=0$',\n",
    "         rotation=63,\n",
    "         horizontalalignment='center',\n",
    "         verticalalignment='top',\n",
    "         multialignment='center')\n",
    "\n",
    "plt.text(-1.5, 0.7, r'$\\overrightarrow{\\beta}$',\n",
    "         rotation=0,\n",
    "         horizontalalignment='center',\n",
    "         verticalalignment='top',\n",
    "         multialignment='center')\n",
    "\n",
    "plt.text(0.02, -0.2, '({:1.1f}, {:1.1f})'.format(0.0, 0.0))\n",
    "plt.ylim([-1, 3])\n",
    "plt.xlim([-3.5, 2])\n",
    "plt.grid()\n",
    "plt.title('Standard Normal space')    \n",
    "plt.axes().set_aspect('equal', 'box')\n",
    "plt.show()"
   ]
  },
  {
   "cell_type": "markdown",
   "metadata": {},
   "source": [
    "## Example #2"
   ]
  },
  {
   "cell_type": "markdown",
   "metadata": {},
   "source": [
    "In the second example we have the limit state to be a linear function of two ($d$=2) independent Gaussian random variables\n",
    "\n",
    "$g(\\textbf{U}) = -\\frac{1}{\\sqrt{d}}\\sum_{i=1}^{d} u_i + \\beta$\n",
    "\n",
    "\n",
    "The probability of failure in this case is $P(F) ≈ 10^{−3}$ for $\\beta$ = 3.0902"
   ]
  },
  {
   "cell_type": "code",
   "execution_count": null,
   "metadata": {},
   "outputs": [],
   "source": [
    "RunModelObject2 = RunModel(model_script='pfn.py',model_object_name=\"example2\")\n",
    "Z = TaylorSeries(dimension=2, model=RunModelObject2, dist_name=['normal', 'normal'], dist_params=[[0, 1], [0, 1]])\n",
    "Z.form()"
   ]
  },
  {
   "cell_type": "code",
   "execution_count": null,
   "metadata": {},
   "outputs": [],
   "source": [
    "# print results\n",
    "print('Design point in standard normal space: %s' % Z.DesignPoint_U)\n",
    "print('Design point in original space: %s' % Z.DesignPoint_X)\n",
    "print('Hasofer-Lind reliability index: %s' % Z.HL_beta)\n",
    "print('FORM probability of failure: %s' % Z.Prob_FORM)\n",
    "print('FORM function: %s' % Z.g_record)\n",
    "print('FORM gradient: %s' % Z.dg_record)\n",
    "print('FORM x points: %s' % Z.x_record)\n",
    "print('FORM u points: %s' % Z.u_record)\n",
    "print('FORM alpha points: %s' % Z.alpha_record)"
   ]
  },
  {
   "cell_type": "code",
   "execution_count": null,
   "metadata": {},
   "outputs": [],
   "source": [
    "# Figure 4b\n",
    "plt.figure()\n",
    "plt.rcParams[\"figure.figsize\"] = (12, 12)\n",
    "plt.rcParams.update({'font.size': 22}) \n",
    "plt.plot([0, Z.DesignPoint_U[0][0]],[0, Z.DesignPoint_U[0][1]], Linewidth=2)                \n",
    "plt.plot(Z.DesignPoint_U[0][0], Z.DesignPoint_U[0][1],'bo',markersize=12)\n",
    "plt.contour(XU, YU, ZU, levels=20)\n",
    "plt.axhline(0, color='black')\n",
    "plt.axvline(0, color='black')\n",
    "plt.plot(0,0,'r.')\n",
    "\n",
    "plt.xlabel(r'$U_1$')\n",
    "plt.ylabel(r'$U_2$')\n",
    "plt.text(2.3, 2.4, '$U^\\star$=({:1.2f}, {:1.2f})'.format(2.18, 2.18),\n",
    "         rotation=0,\n",
    "         horizontalalignment='center',\n",
    "         verticalalignment='top',\n",
    "         multialignment='center')\n",
    "\n",
    "plt.text(1.0, 0.9, r'$\\overrightarrow{\\beta}$',\n",
    "         rotation=0,\n",
    "         horizontalalignment='center',\n",
    "         verticalalignment='top',\n",
    "         multialignment='center')\n",
    "\n",
    "plt.text(0.02, -0.2, '({:1.1f}, {:1.1f})'.format(0.0, 0.0))\n",
    "plt.ylim([-1, 3])\n",
    "plt.xlim([-1, 3])\n",
    "plt.grid()\n",
    "plt.title('Standard Normal space')    \n",
    "plt.axes().set_aspect('equal', 'box')\n",
    "plt.show()"
   ]
  },
  {
   "cell_type": "markdown",
   "metadata": {},
   "source": [
    "## Example 3"
   ]
  },
  {
   "cell_type": "markdown",
   "metadata": {},
   "source": [
    "In the third example we have the limit state to be a linear function of three ($d$=3) independent Gaussian random variables\n",
    "\n",
    "$g(X_1, X_2, X_3) = 6.2X_1 -X_2X_3^2$\n",
    "\n",
    "$\\mu_{X_1}=20, \\mu_{X_2}=5, \\mu_{X_3}=4$\n",
    "\n",
    "$\\sigma_{X_1}=3.5, \\sigma_{X_2}=0.8, \\sigma_{X_3}=0.4$\n",
    "\n",
    "The probability of failure in this case is $P_f ≈ 0.079$ for $\\beta$ = 1.413"
   ]
  },
  {
   "cell_type": "code",
   "execution_count": null,
   "metadata": {},
   "outputs": [],
   "source": [
    "corr = np.array([[1.0, 0.0, 0.0],[0.0, 1.0, 0.0], [0.0,0.0, 1.0]])\n",
    "RunModelObject = RunModel(model_script='pfn.py',model_object_name=\"example3\") \n",
    "Q0 = TaylorSeries(dimension=3, corr=corr, model=RunModelObject, dist_name=['normal', 'normal', 'normal'], dist_params=[[20, 3.5], [5, 0.8], [4, 0.4]], n_iter=100, df_step=0.0001, df_method='forward')\n",
    "Q0.form()"
   ]
  },
  {
   "cell_type": "code",
   "execution_count": null,
   "metadata": {},
   "outputs": [],
   "source": [
    "# print results\n",
    "print('Design point in standard normal space: %s' % Q0.DesignPoint_U)\n",
    "print('Design point in original space: %s' % Q0.DesignPoint_X)\n",
    "print('Hasofer-Lind reliability index: %s' % Q0.HL_beta)\n",
    "print('FORM probability of failure: %s' % Q0.Prob_FORM)\n",
    "print('FORM function: %s' % Q0.g_record)\n",
    "print('FORM gradient: %s' % Q0.dg_record)\n",
    "print('FORM x points: %s' % Q0.x_record)\n",
    "print('FORM u points: %s' % Q0.u_record)\n",
    "print('FORM alpha points: %s' % Q0.alpha_record)"
   ]
  },
  {
   "cell_type": "code",
   "execution_count": null,
   "metadata": {},
   "outputs": [],
   "source": []
  }
 ],
 "metadata": {
  "kernelspec": {
   "display_name": "Python 3",
   "language": "python",
   "name": "python3"
  },
  "language_info": {
   "codemirror_mode": {
    "name": "ipython",
    "version": 3
   },
   "file_extension": ".py",
   "mimetype": "text/x-python",
   "name": "python",
   "nbconvert_exporter": "python",
   "pygments_lexer": "ipython3",
   "version": "3.7.4"
  }
 },
 "nbformat": 4,
 "nbformat_minor": 2
}
