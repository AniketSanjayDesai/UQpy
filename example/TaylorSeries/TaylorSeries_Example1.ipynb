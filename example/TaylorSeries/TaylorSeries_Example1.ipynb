{
 "cells": [
  {
   "cell_type": "markdown",
   "metadata": {},
   "source": [
    "## Taylor Series example #1\n",
    "\n",
    "Created by: Dimitris Giovanis\n"
   ]
  },
  {
   "cell_type": "markdown",
   "metadata": {},
   "source": [
    "The benchmark problem is a simple structural reliability problem\n",
    "defined in a two-dimensional parameter space consisting of a resistance $R$ and a stress $S$. The failure happens\n",
    "when the stress is higher than the resistance, leading to the following limit-state function:\n",
    "\n",
    "$ \\textbf{X}=\\{R, S\\}$\n",
    "\n",
    "$g(\\textbf{X}) = R - S$"
   ]
  },
  {
   "cell_type": "markdown",
   "metadata": {},
   "source": [
    " The two random variables are independent  and  distributed\n",
    "according to:\n",
    "\n",
    "$R \\sim N(5, 0.8)$\n",
    "\n",
    "$S \\sim N(2, 0.6)$"
   ]
  },
  {
   "cell_type": "markdown",
   "metadata": {},
   "source": [
    "## FORM"
   ]
  },
  {
   "cell_type": "code",
   "execution_count": 16,
   "metadata": {
    "collapsed": true
   },
   "outputs": [],
   "source": [
    "import numpy as np\n",
    "from UQpy.Reliability import TaylorSeries"
   ]
  },
  {
   "cell_type": "code",
   "execution_count": 17,
   "metadata": {},
   "outputs": [
    {
     "name": "stdout",
     "output_type": "stream",
     "text": [
      "Running FORM...\n",
      "UQpy: Computing Nataf correlation distortion...\n",
      "UQpy: Done.\n",
      "UQpy: Computing Nataf correlation distortion...\n",
      "UQpy: Done.\n",
      "UQpy: Computing Nataf correlation distortion...\n",
      "UQpy: Done.\n"
     ]
    }
   ],
   "source": [
    "Z = TaylorSeries(method='FORM', dimension=2, dist_name=['normal', 'normal'], dist_params=[[5.0, 0.8], [2.0, 0.6]],\n",
    "                 algorithm='HL', model_script='pfn.py',model_object_name=\"run_python_model\")"
   ]
  },
  {
   "cell_type": "code",
   "execution_count": 18,
   "metadata": {},
   "outputs": [
    {
     "name": "stdout",
     "output_type": "stream",
     "text": [
      "Design point in standard normal space: [-2.4  1.8]\n",
      "Design point in original space: [[ 3.08  3.08]]\n",
      "Hasofer-Lind reliability index: 3.0\n",
      "FORM probability of failure: 0.00134989803163\n",
      "FORM model evaluations: 6\n"
     ]
    }
   ],
   "source": [
    "# print results\n",
    "print('Design point in standard normal space: %s' % Z.DesignPoint_Z)\n",
    "print('Design point in original space: %s' % Z.DesignPoint_X)\n",
    "print('Hasofer-Lind reliability index: %s' % Z.HL_beta)\n",
    "print('FORM probability of failure: %s' % Z.Prob_FORM)\n",
    "print('FORM model evaluations: %s' % Z.iterations)"
   ]
  },
  {
   "cell_type": "markdown",
   "metadata": {},
   "source": [
    "## SORM"
   ]
  },
  {
   "cell_type": "code",
   "execution_count": 19,
   "metadata": {},
   "outputs": [
    {
     "name": "stdout",
     "output_type": "stream",
     "text": [
      "Running SORM...\n",
      "UQpy: Computing Nataf correlation distortion...\n",
      "UQpy: Done.\n",
      "UQpy: Computing Nataf correlation distortion...\n",
      "UQpy: Done.\n",
      "UQpy: Computing Nataf correlation distortion...\n",
      "UQpy: Done.\n"
     ]
    }
   ],
   "source": [
    "Z = TaylorSeries(method='SORM', dimension=2, dist_name=['normal', 'normal'], dist_params=[[6.0, 0.4], [3.0, 0.5]],\n",
    "                 algorithm='HL', model_script='pfn.py',model_object_name=\"run_python_model\")"
   ]
  },
  {
   "cell_type": "code",
   "execution_count": 20,
   "metadata": {},
   "outputs": [
    {
     "name": "stdout",
     "output_type": "stream",
     "text": [
      "Design point in standard normal space: [-2.92682927  3.65853659]\n",
      "Design point in original space: [[ 4.82926829  4.82926829]]\n",
      "Hasofer-Lind reliability index: 4.68521285666\n",
      "FORM probability of failure: 1.39834565373e-06\n",
      "SORM probability of failure: 1.39834565373e-06\n",
      "SORM model evaluations: 11\n"
     ]
    }
   ],
   "source": [
    "# print results\n",
    "print('Design point in standard normal space: %s' % Z.DesignPoint_Z)\n",
    "print('Design point in original space: %s' % Z.DesignPoint_X)\n",
    "print('Hasofer-Lind reliability index: %s' % Z.HL_beta)\n",
    "print('FORM probability of failure: %s' % Z.Prob_FORM)\n",
    "print('SORM probability of failure: %s' % Z.Prob_SORM)\n",
    "print('SORM model evaluations: %s' % Z.iterations)"
   ]
  },
  {
   "cell_type": "code",
   "execution_count": null,
   "metadata": {
    "collapsed": true
   },
   "outputs": [],
   "source": []
  }
 ],
 "metadata": {
  "kernelspec": {
   "display_name": "Python 3",
   "language": "python",
   "name": "python3"
  },
  "language_info": {
   "codemirror_mode": {
    "name": "ipython",
    "version": 3
   },
   "file_extension": ".py",
   "mimetype": "text/x-python",
   "name": "python",
   "nbconvert_exporter": "python",
   "pygments_lexer": "ipython3",
   "version": "3.6.2"
  }
 },
 "nbformat": 4,
 "nbformat_minor": 2
}
