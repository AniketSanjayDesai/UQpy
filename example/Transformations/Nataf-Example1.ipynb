{
 "cells": [
  {
   "cell_type": "markdown",
   "metadata": {},
   "source": [
    "## Nataf - Example 1\n",
    "\n",
    "Author: Dimitris Giovanis"
   ]
  },
  {
   "cell_type": "code",
   "execution_count": 1,
   "metadata": {},
   "outputs": [],
   "source": [
    "from UQpy.SampleMethods import MCS\n",
    "from UQpy.Transformations import Nataf\n",
    "from UQpy.Distributions import Distribution\n",
    "import numpy as np\n",
    "import matplotlib.pyplot as plt"
   ]
  },
  {
   "cell_type": "code",
   "execution_count": 2,
   "metadata": {},
   "outputs": [
    {
     "name": "stdout",
     "output_type": "stream",
     "text": [
      "UQpy: Running Monte Carlo Sampling.\n",
      "UQpy: Monte Carlo Sampling Complete.\n"
     ]
    },
    {
     "data": {
      "image/png": "[encoded data removed]",
      "text/plain": [
       "<Figure size 432x288 with 1 Axes>"
      ]
     },
     "metadata": {
      "needs_background": "light"
     },
     "output_type": "display_data"
    }
   ],
   "source": [
    "# Example 1a: Nataf transformation\n",
    "from UQpy.Distributions import Gamma, Lognormal\n",
    "dist1 = Gamma(4.0, loc=0.0, scale=1.0)\n",
    "dist2 = Lognormal(s=2., loc=0., scale=np.exp(1))\n",
    "\n",
    "x = MCS(dist_object=[dist1,dist2], nsamples=1000, random_state=5,   verbose=True)\n",
    "\n",
    "# Plot the initial samples\n",
    "plt.figure()\n",
    "plt.title('non-Gaussian random variables')\n",
    "plt.scatter(x.samples[:, 0], x.samples[:, 1])\n",
    "plt.grid(True)\n",
    "plt.xlabel('$X_1$')\n",
    "plt.ylabel('$X_2$')\n",
    "plt.show()"
   ]
  },
  {
   "cell_type": "code",
   "execution_count": 3,
   "metadata": {},
   "outputs": [
    {
     "name": "stdout",
     "output_type": "stream",
     "text": [
      "UQpy: Initializing Iterative Translation Approximation Method (ITAM)\n",
      "UQpy: Computing Nataf correlation distortion...\n",
      "UQpy: Done.\n",
      "['UQpy: ITAM iteration number ', 1]\n",
      "['UQpy: Current error, ', 0.2998816935848832]\n",
      "UQpy: Computing Nataf correlation distortion...\n",
      "UQpy: Done.\n",
      "['UQpy: ITAM iteration number ', 2]\n",
      "['UQpy: Current error, ', 0.12392056822736769]\n",
      "UQpy: Computing Nataf correlation distortion...\n",
      "UQpy: Done.\n",
      "['UQpy: ITAM iteration number ', 3]\n",
      "['UQpy: Current error, ', 0.034768508290895866]\n",
      "UQpy: Computing Nataf correlation distortion...\n",
      "UQpy: Done.\n",
      "['UQpy: ITAM iteration number ', 4]\n",
      "['UQpy: Current error, ', 0.008431574777820142]\n",
      "UQpy: Computing Nataf correlation distortion...\n",
      "UQpy: Done.\n",
      "['UQpy: ITAM iteration number ', 5]\n",
      "['UQpy: Current error, ', 0.0021221219429043356]\n",
      "UQpy: Computing Nataf correlation distortion...\n",
      "UQpy: Done.\n",
      "['UQpy: ITAM iteration number ', 6]\n",
      "['UQpy: Current error, ', 0.0005292009872665013]\n",
      "UQpy: ITAM Done.\n",
      "Distorted correlation matrix [[1.         0.86261522]\n",
      " [0.86261522 1.        ]]\n"
     ]
    },
    {
     "ename": "AttributeError",
     "evalue": "'list' object has no attribute 'shape'",
     "output_type": "error",
     "traceback": [
      "\u001b[0;31m---------------------------------------------------------------------------\u001b[0m",
      "\u001b[0;31mAttributeError\u001b[0m                            Traceback (most recent call last)",
      "\u001b[0;32m<ipython-input-3-29bd00bfa9fe>\u001b[0m in \u001b[0;36m<module>\u001b[0;34m\u001b[0m\n\u001b[1;32m      4\u001b[0m \u001b[0;34m\u001b[0m\u001b[0m\n\u001b[1;32m      5\u001b[0m \u001b[0mprint\u001b[0m\u001b[0;34m(\u001b[0m\u001b[0;34m'Distorted correlation matrix'\u001b[0m\u001b[0;34m,\u001b[0m \u001b[0my\u001b[0m\u001b[0;34m.\u001b[0m\u001b[0mcorr_z\u001b[0m\u001b[0;34m)\u001b[0m\u001b[0;34m\u001b[0m\u001b[0;34m\u001b[0m\u001b[0m\n\u001b[0;32m----> 6\u001b[0;31m \u001b[0mprint\u001b[0m\u001b[0;34m(\u001b[0m\u001b[0my\u001b[0m\u001b[0;34m.\u001b[0m\u001b[0mJxy\u001b[0m\u001b[0;34m.\u001b[0m\u001b[0mshape\u001b[0m\u001b[0;34m)\u001b[0m\u001b[0;34m\u001b[0m\u001b[0;34m\u001b[0m\u001b[0m\n\u001b[0m",
      "\u001b[0;31mAttributeError\u001b[0m: 'list' object has no attribute 'shape'"
     ]
    }
   ],
   "source": [
    "from UQpy.Transformations import Nataf\n",
    "Rho = np.array([[1.0, 0.3], [0.3, 1.0]])\n",
    "y = Nataf(dist_object=[dist1,dist2], samples_x=np.array([20, 7]).reshape(1, -1), corr_x=Rho)\n",
    "\n",
    "print('Distorted correlation matrix', y.corr_z)\n",
    "print(y.Jxy.shape)"
   ]
  },
  {
   "cell_type": "code",
   "execution_count": null,
   "metadata": {},
   "outputs": [],
   "source": [
    "#plt.figure()\n",
    "#plt.title('Correlated standard normal samples')\n",
    "#plt.scatter(y.samples_y[:, 0], y.samples_y[:, 1])\n",
    "#plt.grid(True)\n",
    "#plt.xlabel('$Z_1$')\n",
    "#plt.ylabel('$Z_2$')\n",
    "#plt.show()\n",
    "\n",
    "#print(x.samples)\n",
    "\n",
    "plt.figure()\n",
    "plt.title('Uncorrelated standard normal samples')\n",
    "plt.scatter(y.samples_y[:, 0], y.samples_y[:, 1])\n",
    "plt.grid(True)\n",
    "plt.xlabel('$U_1$')\n",
    "plt.ylabel('$U_2$')\n",
    "plt.show()"
   ]
  },
  {
   "cell_type": "code",
   "execution_count": null,
   "metadata": {},
   "outputs": [],
   "source": [
    "from UQpy.Transformations import InvNataf\n",
    "\n",
    "w = InvNataf(dist_object=[dist1,dist2], samples_y=y.samples_y, corr_z=y.corr_z)\n",
    "\n",
    "print('Distorted correlation matrix', w.corr_x)"
   ]
  },
  {
   "cell_type": "code",
   "execution_count": null,
   "metadata": {},
   "outputs": [],
   "source": [
    "plt.figure()\n",
    "plt.title('Random samples')\n",
    "plt.scatter(w.samples_x[:, 0], w.samples_x[:, 1])\n",
    "plt.grid(True)\n",
    "plt.xlabel('$X_1$')\n",
    "plt.ylabel('$X_2$')\n",
    "plt.show()\n"
   ]
  },
  {
   "cell_type": "code",
   "execution_count": null,
   "metadata": {},
   "outputs": [],
   "source": [
    "w3 = np.zeros(10)\n",
    "rho = np.linspace(-0.999, 0.999, 10)\n",
    "for i in range(10):\n",
    "    Rho1 = np.array([[1.0, rho[i]], [rho[i], 1.0]])\n",
    "    ww = Nataf.distortion_x_to_z([dist1,dist2], Rho1)\n",
    "    w3[i] = ww[0, 1]\n",
    "    print(i)\n",
    "\n",
    "plt.plot(w3, rho)\n",
    "plt.plot(rho, rho)\n",
    "plt.show()"
   ]
  },
  {
   "cell_type": "code",
   "execution_count": null,
   "metadata": {},
   "outputs": [],
   "source": [
    "x2 = MCS(dist_object=dist1, nsamples=1000, random_state=2,  verbose=True)\n",
    "y2 = Nataf(dist_object=dist1, samples_x=x2.samples)"
   ]
  },
  {
   "cell_type": "code",
   "execution_count": null,
   "metadata": {},
   "outputs": [],
   "source": [
    "y3 = InvNataf(dist_object=dist1, samples_y=y2.samples_y)\n",
    "print(y3.samples_x)"
   ]
  },
  {
   "cell_type": "code",
   "execution_count": null,
   "metadata": {},
   "outputs": [],
   "source": [
    "from UQpy.Distributions import Normal, Lognormal, JointInd\n",
    "marginals = [Normal(loc=2., scale=2.), \n",
    "             Lognormal(s=1., loc=0., scale=np.exp(5))]\n",
    "\n",
    "\n",
    "dist = JointInd(marginals=marginals)\n",
    "x1 = MCS(dist_object=dist, nsamples=1000,  verbose=True)\n",
    "\n",
    "# Plot the initial samples\n",
    "plt.figure()\n",
    "plt.title('Random samples')\n",
    "plt.scatter(x1.samples[:, 0], x1.samples[:, 1])\n",
    "plt.grid(True)\n",
    "plt.xlabel('$X_1$')\n",
    "plt.ylabel('$X_2$')\n",
    "plt.show()\n",
    "\n",
    "y1 = Nataf(dist_object=dist, samples_x=x1.samples, beta=1.0, itam_error1=0.001,\n",
    "                 itam_error2=0.01)\n",
    "\n",
    "plt.figure()\n",
    "plt.title('Standard normal samples')\n",
    "plt.scatter(y1.samples_y[:, 0], y1.samples_y[:, 1])\n",
    "plt.grid(True)\n",
    "plt.xlabel('$U_1$')\n",
    "plt.ylabel('$U_2$')\n",
    "plt.show()"
   ]
  },
  {
   "cell_type": "code",
   "execution_count": null,
   "metadata": {},
   "outputs": [],
   "source": [
    "# Calculate correlation distortion for the transformation of two random variables from normal to lognormal.\n",
    "# Compute the correlation distortion at various values of Gaussian correlation.\n",
    "\n",
    "N = 20\n",
    "w4 = np.zeros(N)\n",
    "rho = np.linspace(-0.999, 0.999, N)\n",
    "for i in range(N):\n",
    "    Rho1 = np.array([[1.0, rho[i]], [rho[i], 1.0]])\n",
    "    ww = Inverse.distortion_z_to_x(dist_object=[dist1,dist2], cov=Rho1)\n",
    "    w4[i] = ww[0, 1]\n",
    "\n",
    "plt.plot(rho, w4)\n",
    "plt.plot(rho, rho)\n",
    "plt.show()"
   ]
  },
  {
   "cell_type": "code",
   "execution_count": null,
   "metadata": {},
   "outputs": [],
   "source": [
    "from UQpy.Distributions import Gamma, Lognormal\n",
    "dist1 = Gamma(4.0, loc=0.0, scale=1.0)\n",
    "dist2 = Lognormal(s=2., loc=0., scale=np.exp(1))\n",
    "\n",
    "x = MCS(dist_object=[dist1,dist2], nsamples=5, random_state=[4, 5],   verbose=True)\n",
    "print(x.samples)"
   ]
  },
  {
   "cell_type": "code",
   "execution_count": null,
   "metadata": {},
   "outputs": [],
   "source": [
    "Rho = np.array([[1.0, 0.8], [0.8, 1.0]])\n",
    "print(Rho)\n",
    "q = InvNataf(dist_object=[dist1,dist2], samples_y=y1.samples_y, corr_z=Rho)"
   ]
  },
  {
   "cell_type": "code",
   "execution_count": null,
   "metadata": {},
   "outputs": [],
   "source": [
    "plt.figure()\n",
    "plt.title('Standard normal samples')\n",
    "plt.scatter(q.samples_x[:, 0], q.samples_x[:, 1])\n",
    "plt.grid(True)\n",
    "plt.xlabel('$X_1$')\n",
    "plt.ylabel('$X_2$')\n",
    "plt.show()"
   ]
  },
  {
   "cell_type": "code",
   "execution_count": null,
   "metadata": {},
   "outputs": [],
   "source": [
    "plt.figure()\n",
    "plt.title('Standard normal samples')\n",
    "plt.scatter(q.samples_x[:, 0], q.samples_x[:, 1])\n",
    "plt.grid(True)\n",
    "plt.xlabel('$X_1$')\n",
    "plt.ylabel('$X_2$')\n",
    "plt.show()"
   ]
  },
  {
   "cell_type": "code",
   "execution_count": null,
   "metadata": {},
   "outputs": [],
   "source": []
  }
 ],
 "metadata": {
  "kernelspec": {
   "display_name": "Python 3",
   "language": "python",
   "name": "python3"
  },
  "language_info": {
   "codemirror_mode": {
    "name": "ipython",
    "version": 3
   },
   "file_extension": ".py",
   "mimetype": "text/x-python",
   "name": "python",
   "nbconvert_exporter": "python",
   "pygments_lexer": "ipython3",
   "version": "3.7.4"
  }
 },
 "nbformat": 4,
 "nbformat_minor": 2
}
