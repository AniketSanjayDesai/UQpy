{
 "cells": [
  {
   "cell_type": "markdown",
   "metadata": {},
   "source": [
    "## Nataf - Example 1\n",
    "\n",
    "Author: Dimitris Giovanis"
   ]
  },
  {
   "cell_type": "code",
   "execution_count": 1,
   "metadata": {},
   "outputs": [],
   "source": [
    "from UQpy.SampleMethods import MCS\n",
    "from UQpy.Transformations import Nataf\n",
    "from UQpy.SampleMethods import MCS\n",
    "import numpy as np\n",
    "import matplotlib.pyplot as plt"
   ]
  },
  {
   "cell_type": "code",
   "execution_count": null,
   "metadata": {},
   "outputs": [],
   "source": [
    "R = np.array([[1.0, 0.5], [0.5, 1.0]])\n",
    "dist_name=['Normal', 'Normal'] \n",
    "dist_params=[[200, 20], [150, 10]]\n",
    "Y = Nataf(corr=R, dist_name=dist_name, dist_params=dist_params, dimension=2)\n",
    "x = np.array([200, 150])\n",
    "Y.run(x.reshape(1, -1))\n",
    "print(Y.jacobian_x_to_u)"
   ]
  },
  {
   "cell_type": "code",
   "execution_count": null,
   "metadata": {},
   "outputs": [],
   "source": [
    "# Example 1: \n",
    "#In this example, the  Nataf class is used in order to transform \n",
    "#1000 samples of 2 uncorrelated standard normal variables to a lognormal and a gamma distribution.\n",
    "#The example illustrates the transformation for samples drawn using the MCS class and for samples specified \n",
    "#as a  array.\n",
    "\n",
    "x1 = MCS(dist_name=['Normal', 'Normal'], dist_params=[[0, 1], [0, 1]], nsamples=1000)\n",
    "\n",
    "# Plot the initial samples\n",
    "plt.figure()\n",
    "plt.title('Initial standard normal samples')\n",
    "plt.scatter(x1.samples[:, 0], x1.samples[:, 1])\n",
    "plt.grid(True)\n",
    "plt.xlabel('$U_1$')\n",
    "plt.ylabel('$U_2$')\n",
    "plt.show()"
   ]
  },
  {
   "cell_type": "code",
   "execution_count": null,
   "metadata": {},
   "outputs": [],
   "source": [
    "from UQpy.Transformations import Nataf\n"
   ]
  },
  {
   "cell_type": "code",
   "execution_count": null,
   "metadata": {},
   "outputs": [],
   "source": [
    "x_ng2 = Nataf(input_samples = x1.samples, corr = np.eye(2), dimension=2, dist_name=['gamma', 'Lognormal'], dist_params=[[4, 0, 1], [2, 0, 1]])\n",
    "x_ng2.inverse()\n",
    "\n",
    "\n",
    "plt.figure()\n",
    "plt.title('Non-Gaussian samples (Input provided as array)')\n",
    "plt.scatter(x_ng2.samples[:, 0], x_ng2.samples[:, 1])\n",
    "plt.grid(True)\n",
    "plt.xlabel('$X_1$')\n",
    "plt.ylabel('$X_2$')\n",
    "plt.show()"
   ]
  },
  {
   "cell_type": "code",
   "execution_count": null,
   "metadata": {},
   "outputs": [],
   "source": []
  }
 ],
 "metadata": {
  "kernelspec": {
   "display_name": "Python 3",
   "language": "python",
   "name": "python3"
  },
  "language_info": {
   "codemirror_mode": {
    "name": "ipython",
    "version": 3
   },
   "file_extension": ".py",
   "mimetype": "text/x-python",
   "name": "python",
   "nbconvert_exporter": "python",
   "pygments_lexer": "ipython3",
   "version": "3.7.4"
  }
 },
 "nbformat": 4,
 "nbformat_minor": 2
}
